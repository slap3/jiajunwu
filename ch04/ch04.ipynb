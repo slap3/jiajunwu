{
 "cells": [
  {
   "cell_type": "markdown",
   "id": "08f4321d-d32a-4a90-bfc7-e923f316b2f8",
   "metadata": {},
   "source": [
    "<table style=\"width:100%\">\n",
    "<tr>\n",
    "<td style=\"vertical-align:middle; text-align:left;\">\n",
    "<font size=\"2\">\n",
    "Supplementary code for the <a href=\"http://mng.bz/orYv\">Build a Large Language Model From Scratch</a> book by <a href=\"https://sebastianraschka.com\">Sebastian Raschka</a><br>\n",
    "<br>Code repository: <a href=\"https://github.com/rasbt/LLMs-from-scratch\">https://github.com/rasbt/LLMs-from-scratch</a>\n",
    "</font>\n",
    "</td>\n",
    "<td style=\"vertical-align:middle; text-align:left;\">\n",
    "<a href=\"http://mng.bz/orYv\"><img src=\"https://sebastianraschka.com/images/LLMs-from-scratch-images/cover-small.webp\" width=\"100px\"></a>\n",
    "</td>\n",
    "</tr>\n",
    "</table>"
   ]
  },
  {
   "cell_type": "markdown",
   "id": "ce9295b2-182b-490b-8325-83a67c4a001d",
   "metadata": {},
   "source": [
    "# Chapter 4: Implementing a GPT model from Scratch To Generate Text "
   ]
  },
  {
   "cell_type": "code",
   "execution_count": 1,
   "id": "f9eac223-a125-40f7-bacc-bd0d890450c7",
   "metadata": {},
   "outputs": [
    {
     "name": "stdout",
     "output_type": "stream",
     "text": [
      "matplotlib version: 3.9.0\n",
      "torch version: 2.4.0\n",
      "tiktoken version: 0.7.0\n"
     ]
    }
   ],
   "source": [
    "from importlib.metadata import version\n",
    "\n",
    "import matplotlib\n",
    "import tiktoken\n",
    "import torch\n",
    "\n",
    "print(\"matplotlib version:\", version(\"matplotlib\"))\n",
    "print(\"torch version:\", version(\"torch\"))\n",
    "print(\"tiktoken version:\", version(\"tiktoken\"))"
   ]
  },
  {
   "cell_type": "markdown",
   "id": "e7da97ed-e02f-4d7f-b68e-a0eba3716e02",
   "metadata": {},
   "source": [
    "- In this chapter, we implement a GPT-like LLM architecture; the next chapter will focus on training this LLM"
   ]
  },
  {
   "cell_type": "markdown",
   "id": "7d4f11e0-4434-4979-9dee-e1207df0eb01",
   "metadata": {},
   "source": [
    "<img src=\"https://sebastianraschka.com/images/LLMs-from-scratch-images/ch04_compressed/01.webp\" width=\"500px\">"
   ]
  },
  {
   "cell_type": "markdown",
   "id": "53fe99ab-0bcf-4778-a6b5-6db81fb826ef",
   "metadata": {},
   "source": [
    "## 4.1 Coding an LLM architecture"
   ]
  },
  {
   "cell_type": "markdown",
   "id": "ad72d1ff-d82d-4e33-a88e-3c1a8831797b",
   "metadata": {},
   "source": [
    "- Chapter 1 discussed models like GPT and Llama, which generate words sequentially and are based on the decoder part of the original transformer architecture\n",
    "- Therefore, these LLMs are often referred to as \"decoder-like\" LLMs\n",
    "- Compared to conventional deep learning models, LLMs are larger, mainly due to their vast number of parameters, not the amount of code\n",
    "- We'll see that many elements are repeated in an LLM's architecture"
   ]
  },
  {
   "cell_type": "markdown",
   "id": "5c5213e9-bd1c-437e-aee8-f5e8fb717251",
   "metadata": {},
   "source": [
    "<img src=\"https://sebastianraschka.com/images/LLMs-from-scratch-images/ch04_compressed/02.webp\" width=\"400px\">"
   ]
  },
  {
   "cell_type": "markdown",
   "id": "0d43f5e2-fb51-434a-b9be-abeef6b98d99",
   "metadata": {},
   "source": [
    "- In previous chapters, we used small embedding dimensions for token inputs and outputs for ease of illustration, ensuring they fit on a single page\n",
    "- In this chapter, we consider embedding and model sizes akin to a small GPT-2 model\n",
    "- We'll specifically code the architecture of the smallest GPT-2 model (124 million parameters), as outlined in Radford et al.'s [Language Models are Unsupervised Multitask Learners](https://cdn.openai.com/better-language-models/language_models_are_unsupervised_multitask_learners.pdf) (note that the initial report lists it as 117M parameters, but this was later corrected in the model weight repository)\n",
    "- Chapter 6 will show how to load pretrained weights into our implementation, which will be compatible with model sizes of 345, 762, and 1542 million parameters"
   ]
  },
  {
   "cell_type": "markdown",
   "id": "21baa14d-24b8-4820-8191-a2808f7fbabc",
   "metadata": {},
   "source": [
    "- Configuration details for the 124 million parameter GPT-2 model include:"
   ]
  },
  {
   "cell_type": "code",
   "execution_count": 2,
   "id": "5ed66875-1f24-445d-add6-006aae3c5707",
   "metadata": {},
   "outputs": [],
   "source": [
    "GPT_CONFIG_124M = {\n",
    "    \"vocab_size\": 50257,    # Vocabulary size\n",
    "    \"context_length\": 1024, # Context length\n",
    "    \"emb_dim\": 768,         # Embedding dimension\n",
    "    \"n_heads\": 12,          # Number of attention heads\n",
    "    \"n_layers\": 12,         # Number of layers\n",
    "    \"drop_rate\": 0.1,       # Dropout rate\n",
    "    \"qkv_bias\": False       # Query-Key-Value bias\n",
    "}"
   ]
  },
  {
   "cell_type": "markdown",
   "id": "c12fcd28-d210-4c57-8be6-06cfcd5d73a4",
   "metadata": {},
   "source": [
    "- We use short variable names to avoid long lines of code later\n",
    "- `\"vocab_size\"` indicates a vocabulary size of 50,257 words, supported by the BPE tokenizer discussed in Chapter 2\n",
    "- `\"context_length\"` represents the model's maximum input token count, as enabled by positional embeddings covered in Chapter 2\n",
    "- `\"emb_dim\"` is the embedding size for token inputs, converting each input token into a 768-dimensional vector\n",
    "- `\"n_heads\"` is the number of attention heads in the multi-head attention mechanism implemented in Chapter 3\n",
    "- `\"n_layers\"` is the number of transformer blocks within the model, which we'll implement in upcoming sections\n",
    "- `\"drop_rate\"` is the dropout mechanism's intensity, discussed in Chapter 3; 0.1 means dropping 10% of hidden units during training to mitigate overfitting\n",
    "- `\"qkv_bias\"` decides if the `Linear` layers in the multi-head attention mechanism (from Chapter 3) should include a bias vector when computing query (Q), key (K), and value (V) tensors; we'll disable this option, which is standard practice in modern LLMs; however, we'll revisit this later when loading pretrained GPT-2 weights from OpenAI into our reimplementation in chapter 5"
   ]
  },
  {
   "cell_type": "markdown",
   "id": "4adce779-857b-4418-9501-12a7f3818d88",
   "metadata": {},
   "source": [
    "<img src=\"https://sebastianraschka.com/images/LLMs-from-scratch-images/ch04_compressed/03.webp\" width=\"500px\">"
   ]
  },
  {
   "cell_type": "code",
   "execution_count": 3,
   "id": "619c2eed-f8ea-4ff5-92c3-feda0f29b227",
   "metadata": {},
   "outputs": [],
   "source": [
    "import torch\n",
    "import torch.nn as nn\n",
    "class DummyGPTModel(nn.Module):\n",
    "    def __init__(self, cfg):\n",
    "        \"\"\"\n",
    "        构造函数，用于初始化DummyGPTModel类的实例\n",
    "        :param cfg: 配置字典，包含模型的各种参数设置，如词汇表大小、嵌入维度、上下文长度、Dropout概率、Transformer块数量等\n",
    "        \"\"\"\n",
    "        super().__init__()\n",
    "        # 创建词嵌入层，将输入的词汇索引转换为对应的词向量\n",
    "        self.tok_emb = nn.Embedding(cfg[\"vocab_size\"], cfg[\"emb_dim\"])\n",
    "        # 词汇表大小，即模型能处理的不同词汇的数量\n",
    "        # 词向量的维度，决定了每个词向量的特征表示长度\n",
    "        # 创建位置嵌入层，为输入序列中的每个位置添加位置信息\n",
    "        self.pos_emb = nn.Embedding(cfg[\"context_length\"], cfg[\"emb_dim\"])\n",
    "        # 模型能处理的输入序列的最大长度\n",
    "        # 与词向量维度相同，以便能与词向量相加\n",
    "        # 创建Dropout层，用于在训练过程中随机丢弃一些神经元的输出，防止过拟合\n",
    "        self.drop_emb = nn.Dropout(cfg[\"drop_rate\"])\n",
    "        # Dropout概率，指定了每个元素被丢弃的概率\n",
    "        # 使用占位符创建Transformer块序列，目前这些块只是简单占位，实际功能未实现\n",
    "        self.trf_blocks = nn.Sequential(\n",
    "            *[DummyTransformerBlock(cfg) for _ in range(cfg[\"n_layers\"])])\n",
    "        # 循环创建指定数量（由cfg[\"n_layers\"]指定）的DummyTransformerBlock实例，并组合成序列\n",
    "        # 每个DummyTransformerBlock目前只是一个简单占位符，后续需完善其功能以实现真正的Transformer块操作\n",
    "        # 使用占位符创建层归一化模块，目前只是简单占位，实际功能未实现\n",
    "        self.final_norm = DummyLayerNorm(cfg[\"emb_dim\"])\n",
    "        # 用于在模型最后对输入进行层归一化处理，虽目前只是占位，但完整模型中可提高训练稳定性和性能\n",
    "        # 创建线性输出层，将经过前面处理后的向量转换为与词汇表大小相同维度的向量，用于预测下一个词汇的概率分布\n",
    "        self.out_head = nn.Linear(\n",
    "            cfg[\"emb_dim\"], cfg[\"vocab_size\"], bias=False\n",
    "        )\n",
    "        # 输入维度为cfg[\"emb_dim\"]，输出维度为cfg[\"vocab_si\n",
    "    def forward(self, in_idx):\n",
    "        \"\"\"\n",
    "        前向传播函数，定义数据在模型中的流动和计算过程\n",
    "        :param in_idx: 输入的词汇索引张量，形状为(batch_size, seq_len)，batch_size是批处理大小，seq_len是序列长度\n",
    "        :return: 预测得到的下一个词汇的概率分布向量，用于后续计算损失、评估模型等操作\n",
    "        \"\"\"\n",
    "        batch_size, seq_len = in_idx.shape\n",
    "        # 通过词嵌入层将输入的词汇索引转换为对应的词向量\n",
    "        tok_embeds = self.tok_emb(in_idx)\n",
    "        # 通过位置嵌入层为输入序列中的每个位置生成位置向量\n",
    "        pos_embeds = self.pos_emb(torch.arange(seq_len, device=in_idx.device))\n",
    "        # 将词向量和位置向量相加，得到包含词汇信息和位置信息的综合向量\n",
    "        x = tok_embeds + pos_embeds\n",
    "        # 对综合向量进行Dropout操作，随机丢弃一些神经元的输出\n",
    "        x = self.drop_emb(x)\n",
    "        # 将向量传入由多个DummyTransformerBlock组成的序列模块中进行处理，目前只是简单传递输入\n",
    "        x = self.trf_blocks(x)\n",
    "        # 将经过DummyTransformerBlock处理后的向量传入DummyLayerNorm实例进行层归一化操作，目前也是简单传递输入\n",
    "        x = self.final_norm(x)\n",
    "        # 将经过前面一系列处理后的向量传入线性输出层，转换为与词汇表大小相同维度的向量\n",
    "        logits = self.out_head(x)\n",
    "        return logits\n",
    "# 定义一个简单的占位符类，用于表示Transformer块，目前该类的功能未实现，只是简单返回输入\n",
    "class DummyTransformerBlock(nn.Module):\n",
    "    def __init__(self, cfg):\n",
    "        \"\"\"\n",
    "        构造函数，用于初始化DummyTransformerBlock类的实例\n",
    "        :param cfg: 配置字典，包含模型的各种参数设置，虽然目前该类未使用这些参数，但完整实现时可能会用到\n",
    "        \"\"\"\n",
    "        super().__init__()\n",
    "    def forward(self, x):"
   ]
  },
  {
   "cell_type": "markdown",
   "id": "9665e8ab-20ca-4100-b9b9-50d9bdee33be",
   "metadata": {},
   "source": [
    "<img src=\"https://sebastianraschka.com/images/LLMs-from-scratch-images/ch04_compressed/04.webp?123\" width=\"500px\">"
   ]
  },
  {
   "cell_type": "code",
   "execution_count": 4,
   "id": "794b6b6c-d36f-411e-a7db-8ac566a87fee",
   "metadata": {},
   "outputs": [
    {
     "name": "stdout",
     "output_type": "stream",
     "text": [
      "tensor([[6109, 3626, 6100,  345],\n",
      "        [6109, 1110, 6622,  257]])\n"
     ]
    }
   ],
   "source": [
    "import tiktoken\n",
    "import torch\n",
    "# 获取tiktoken库中名为\"gpt2\"的编码方式对应的编码器\n",
    "tokenizer = tiktoken.get_encoding(\"gpt2\")\n",
    "# 创建一个空列表，用于存储后续经过编码并转换为张量的文本数据\n",
    "batch = []\n",
    "# 定义第一段文本内容\n",
    "txt1 = \"Every effort moves you\"\n",
    "# 定义第二段文本内容\n",
    "txt2 = \"Every day holds a\"\n",
    "# 使用tokenizer对第一段文本txt1进行编码，将文本转换为对应的编码序列（通常是整数序列）\n",
    "# 然后将编码后的序列转换为PyTorch的张量，并添加到batch列表中\n",
    "batch.append(torch.tensor(tokenizer.encode(txt1)))\n",
    "# 使用tokenizer对第二段文本txt2进行编码，同样将编码后的序列转换为张量，并添加到batch列表中\n",
    "batch.append(torch.tensor(tokenizer.encode(txt2)))\n",
    "# 将batch列表中的张量沿着指定维度dim=0进行堆叠操作\n",
    "# 这样就将两个单独的文本张量组合成了一个批量的张量，方便后续进行批量处理（比如同时输入到模型中进行处理等）\n",
    "batch = torch.stack(batch, dim=0)\n",
    "# 打印出经过堆叠操作后的batch张量，查看其具体内容和形状等信息\n",
    "print(batch)"
   ]
  },
  {
   "cell_type": "code",
   "execution_count": 5,
   "id": "009238cd-0160-4834-979c-309710986bb0",
   "metadata": {},
   "outputs": [
    {
     "name": "stdout",
     "output_type": "stream",
     "text": [
      "Output shape: torch.Size([2, 4, 50257])\n",
      "tensor([[[-1.2034,  0.3201, -0.7130,  ..., -1.5548, -0.2390, -0.4667],\n",
      "         [-0.1192,  0.4539, -0.4432,  ...,  0.2392,  1.3469,  1.2430],\n",
      "         [ 0.5307,  1.6720, -0.4695,  ...,  1.1966,  0.0111,  0.5835],\n",
      "         [ 0.0139,  1.6754, -0.3388,  ...,  1.1586, -0.0435, -1.0400]],\n",
      "\n",
      "        [[-1.0908,  0.1798, -0.9484,  ..., -1.6047,  0.2439, -0.4530],\n",
      "         [-0.7860,  0.5581, -0.0610,  ...,  0.4835, -0.0077,  1.6621],\n",
      "         [ 0.3567,  1.2698, -0.6398,  ..., -0.0162, -0.1296,  0.3717],\n",
      "         [-0.2407, -0.7349, -0.5102,  ...,  2.0057, -0.3694,  0.1814]]],\n",
      "       grad_fn=<UnsafeViewBackward0>)\n"
     ]
    }
   ],
   "source": [
    "torch.manual_seed(123)\n",
    "# 创建DummyGPTModel类的实例，传入GPT_CONFIG_124M配置字典作为参数\n",
    "model = DummyGPTModel(GPT_CONFIG_124M)\n",
    "# 将之前准备好的batch张量（它是经过编码和堆叠后的文本数据张量）传入model的前向传播函数中\n",
    "# 模型会根据其内部定义的计算逻辑（包括词嵌入、位置嵌入、可能的Transformer块处理、层归一化以及输出层等操作，虽然部分是占位符）对输入数据进行处理，并返回预测得到的下一个词汇的概率分布向量\n",
    "logits = model(batch)\n",
    "# 打印出预测结果logits的形状，通常其形状为(batch_size, vocab_size)\n",
    "# 其中batch_size是输入数据的批处理大小，vocab_size是模型的词汇表大小\n",
    "# 这个形状表示了对于每个输入文本在batch中的每个位置，模型预测出的下一个词汇是词汇表中每个词汇的概率分布情况\n",
    "print(\"Output shape:\", logits.shape)\n",
    "# 打印出预测结果logits的具体内容，即具体的概率值矩阵\n",
    "# 每一行对应一个输入文本在batch中的情况，每一列对应词汇表中的一个词汇，矩阵中的值表示相应的概率\n",
    "print(logits)"
   ]
  },
  {
   "cell_type": "markdown",
   "id": "f8fad0fe-895d-4493-9e48-962e2d46c66f",
   "metadata": {},
   "source": [
    "---\n",
    "\n",
    "**Note**\n",
    "\n",
    "- If you are running this code on Windows or Linux, the resulting values above may look like as follows:\n",
    "    \n",
    "```\n",
    "Output shape: torch.Size([2, 4, 50257])\n",
    "tensor([[[-0.9289,  0.2748, -0.7557,  ..., -1.6070,  0.2702, -0.5888],\n",
    "         [-0.4476,  0.1726,  0.5354,  ..., -0.3932,  1.5285,  0.8557],\n",
    "         [ 0.5680,  1.6053, -0.2155,  ...,  1.1624,  0.1380,  0.7425],\n",
    "         [ 0.0447,  2.4787, -0.8843,  ...,  1.3219, -0.0864, -0.5856]],\n",
    "\n",
    "        [[-1.5474, -0.0542, -1.0571,  ..., -1.8061, -0.4494, -0.6747],\n",
    "         [-0.8422,  0.8243, -0.1098,  ..., -0.1434,  0.2079,  1.2046],\n",
    "         [ 0.1355,  1.1858, -0.1453,  ...,  0.0869, -0.1590,  0.1552],\n",
    "         [ 0.1666, -0.8138,  0.2307,  ...,  2.5035, -0.3055, -0.3083]]],\n",
    "       grad_fn=<UnsafeViewBackward0>)\n",
    "```\n",
    "\n",
    "- Since these are just random numbers, this is not a reason for concern, and you can proceed with the remainder of the chapter without issues\n",
    "\n",
    "---"
   ]
  },
  {
   "cell_type": "markdown",
   "id": "f8332a00-98da-4eb4-b882-922776a89917",
   "metadata": {},
   "source": [
    "## 4.2 Normalizing activations with layer normalization"
   ]
  },
  {
   "cell_type": "markdown",
   "id": "066cfb81-d59b-4d95-afe3-e43cf095f292",
   "metadata": {},
   "source": [
    "- Layer normalization, also known as LayerNorm ([Ba et al. 2016](https://arxiv.org/abs/1607.06450)), centers the activations of a neural network layer around a mean of 0 and normalizes their variance to 1\n",
    "- This stabilizes training and enables faster convergence to effective weights\n",
    "- Layer normalization is applied both before and after the multi-head attention module within the transformer block, which we will implement later; it's also applied before the final output layer"
   ]
  },
  {
   "cell_type": "markdown",
   "id": "314ac47a-69cc-4597-beeb-65bed3b5910f",
   "metadata": {},
   "source": [
    "<img src=\"https://sebastianraschka.com/images/LLMs-from-scratch-images/ch04_compressed/05.webp\" width=\"400px\">"
   ]
  },
  {
   "cell_type": "markdown",
   "id": "5ab49940-6b35-4397-a80e-df8d092770a7",
   "metadata": {},
   "source": [
    "- Let's see how layer normalization works by passing a small input sample through a simple neural network layer:"
   ]
  },
  {
   "cell_type": "code",
   "execution_count": 6,
   "id": "79e1b463-dc3f-44ac-9cdb-9d5b6f64eb9d",
   "metadata": {},
   "outputs": [
    {
     "name": "stdout",
     "output_type": "stream",
     "text": [
      "tensor([[0.2260, 0.3470, 0.0000, 0.2216, 0.0000, 0.0000],\n",
      "        [0.2133, 0.2394, 0.0000, 0.5198, 0.3297, 0.0000]],\n",
      "       grad_fn=<ReluBackward0>)\n"
     ]
    }
   ],
   "source": [
    "torch.manual_seed(123)\n",
    "# 创建2个训练示例，每个示例具有5个维度（特征）\n",
    "# torch.randn函数用于生成服从标准正态分布的随机张量。这里生成的张量形状为(2, 5)，表示有2个样本，每个样本有5个特征维度。\n",
    "batch_example = torch.randn(2, 5) \n",
    "# 创建一个Sequential序列容器，其中包含两个神经网络层：\n",
    "# 第一个是线性层nn.Linear(5, 6)，它将输入的5维特征向量映射为6维的输出向量。\n",
    "# 第二个是ReLU激活函数层nn.ReLU()，它会对线性层的输出进行非线性变换，将小于0的值变为0，大于等于0的值保持不变。\n",
    "layer = nn.Sequential(nn.Linear(5, 6), nn.ReLU())\n",
    "# 将生成的训练示例batch_example传入创建好的神经网络层序列layer中进行前向传播计算。\n",
    "# 数据会先经过线性层进行线性变换，然后再经过ReLU激活函数层进行非线性变换，最终得到输出结果out。\n",
    "out = layer(batch_example)\n",
    "# 打印出经过神经网络层处理后的输出结果out，以便查看具体的计算结果。\n",
    "print(out)"
   ]
  },
  {
   "cell_type": "markdown",
   "id": "8fccc29e-71fc-4c16-898c-6137c6ea5d2e",
   "metadata": {},
   "source": [
    "- Let's compute the mean and variance for each of the 2 inputs above:"
   ]
  },
  {
   "cell_type": "code",
   "execution_count": 7,
   "id": "9888f79e-8e69-44aa-8a19-cd34292adbf5",
   "metadata": {},
   "outputs": [
    {
     "name": "stdout",
     "output_type": "stream",
     "text": [
      "Mean:\n",
      " tensor([[0.1324],\n",
      "        [0.2170]], grad_fn=<MeanBackward1>)\n",
      "Variance:\n",
      " tensor([[0.0231],\n",
      "        [0.0398]], grad_fn=<VarBackward0>)\n"
     ]
    }
   ],
   "source": [
    "mean = out.mean(dim=-1, keepdim=True)\n",
    "# 计算输出结果out在最后一个维度（dim=-1）上的方差，并保持维度不变（keepdim=True）\n",
    "# 同样是对每个样本分别计算其在最后一个维度上的方差\n",
    "# 方差是用来衡量一组数据的离散程度的统计量，这里通过计算每个样本在6维输出向量的每个维度上的方差，来了解数据在各个维度上的分布情况\n",
    "# 计算得到的方差结果var的形状也会保持与原输出结果out相同的维度结构，只是在最后一个维度上变为1，比如若out的形状是(2, 6)，则var的形状就是(2, 1)\n",
    "var = out.var(dim=-1, keepdim=True)\n",
    "# 打印出计算得到的均值结果，以便查看每个样本在最后一个维度上的平均情况\n",
    "print(\"Mean:\\n\", mean)\n",
    "# 打印出计算得到的方差结果，以便查看每个样本在最后一个维度上的方差情况，从而了解数据在各个维度上的离散程度\n",
    "print(\"Variance:\\n\", var)"
   ]
  },
  {
   "cell_type": "markdown",
   "id": "052eda3e-b395-48c4-acd4-eb8083bab958",
   "metadata": {},
   "source": [
    "- The normalization is applied to each of the two inputs (rows) independently; using dim=-1 applies the calculation across the last dimension (in this case, the feature dimension) instead of the row dimension"
   ]
  },
  {
   "cell_type": "markdown",
   "id": "570db83a-205c-4f6f-b219-1f6195dde1a7",
   "metadata": {},
   "source": [
    "<img src=\"https://sebastianraschka.com/images/LLMs-from-scratch-images/ch04_compressed/06.webp\" width=\"400px\">"
   ]
  },
  {
   "cell_type": "markdown",
   "id": "9f8ecbc7-eb14-4fa1-b5d0-7e1ff9694f99",
   "metadata": {},
   "source": [
    "- Subtracting the mean and dividing by the square-root of the variance (standard deviation) centers the inputs to have a mean of 0 and a variance of 1 across the column (feature) dimension:"
   ]
  },
  {
   "cell_type": "code",
   "execution_count": 8,
   "id": "9a1d1bb9-3341-4c9a-bc2a-d2489bf89cda",
   "metadata": {},
   "outputs": [
    {
     "name": "stdout",
     "output_type": "stream",
     "text": [
      "Normalized layer outputs:\n",
      " tensor([[ 0.6159,  1.4126, -0.8719,  0.5872, -0.8719, -0.8719],\n",
      "        [-0.0189,  0.1121, -1.0876,  1.5173,  0.5647, -1.0876]],\n",
      "       grad_fn=<DivBackward0>)\n",
      "Mean:\n",
      " tensor([[-5.9605e-08],\n",
      "        [ 1.9868e-08]], grad_fn=<MeanBackward1>)\n",
      "Variance:\n",
      " tensor([[1.0000],\n",
      "        [1.0000]], grad_fn=<VarBackward0>)\n"
     ]
    }
   ],
   "source": [
    "import torch\n",
    "import torch.nn as nn\n",
    "torch.manual_seed(123)\n",
    "# create 2 training examples with 5 dimensions (features) each\n",
    "batch_example = torch.randn(2, 5)\n",
    "layer = nn.Sequential(nn.Linear(5, 6), nn.ReLU())\n",
    "out = layer(batch_example)\n",
    "mean = out.mean(dim=-1, keepdim=True)\n",
    "var = out.var(dim=-1, keepdim=True)\n",
    "# 对经过神经网络层处理后的输出结果out进行归一化操作\n",
    "# 首先将out减去其在最后一个维度上的均值mean，实现数据在均值上的中心化\n",
    "# 然后再除以torch.sqrt(var)，即方差var的平方根，使得数据在每个维度上的标准差变为1\n",
    "# 这样就完成了对输出结果out的归一化处理，得到归一化后的输出out_norm\n",
    "# 归一化操作有助于提高模型的训练稳定性和收敛速度等，使得不同维度的数据具有相似的尺度，减少数据分布差异对模型训练的影响\n",
    "out_norm = (out - mean) / torch.sqrt(var)\n",
    "print(\"Normalized layer outputs:\\n\", out_norm)\n",
    "# 再次计算归一化后输出out_norm在最后一个维度（dim=-1）上的均值，并保持维度不变（keepdim=True）\n",
    "# 目的是查看经过归一化操作后，数据在新的分布下每个样本在最后一个维度上的平均情况\n",
    "mean = out_norm.mean(dim=-1, keepdim=True)\n",
    "print(\"Mean:\\n\", mean)\n",
    "# 再次计算归一化后输出out_norm在最后一个维度（dim=-1）上的方差，并保持维度不变（keepdim=True）\n",
    "# 目的是查看经过归一化操作后，数据在新的分布下每个样本在最后一个维度上的方差情况，以了解归一化对数据离散程度的影响\n",
    "var = out_norm.var(dim=-1, keepdim=True)\n",
    "print(\"Variance:\\n\", var)"
   ]
  },
  {
   "cell_type": "markdown",
   "id": "ac62b90c-7156-4979-9a79-ce1fb92969c1",
   "metadata": {},
   "source": [
    "- Each input is centered at 0 and has a unit variance of 1; to improve readability, we can disable PyTorch's scientific notation:"
   ]
  },
  {
   "cell_type": "code",
   "execution_count": 9,
   "id": "3e06c34b-c68a-4b36-afbe-b30eda4eca39",
   "metadata": {},
   "outputs": [
    {
     "name": "stdout",
     "output_type": "stream",
     "text": [
      "Mean:\n",
      " tensor([[    -0.0000],\n",
      "        [     0.0000]], grad_fn=<MeanBackward1>)\n",
      "Variance:\n",
      " tensor([[1.0000],\n",
      "        [1.0000]], grad_fn=<VarBackward0>)\n"
     ]
    }
   ],
   "source": [
    "# 设置PyTorch的打印选项，将科学计数法模式设置为False\n",
    "torch.set_printoptions(sci_mode=False)\n",
    "# 打印计算得到的均值\n",
    "print(\"Mean:\\n\", mean)\n",
    "# 打印计算得到的方差\n",
    "print(\"Variance:\\n\", var)"
   ]
  },
  {
   "cell_type": "markdown",
   "id": "944fb958-d4ed-43cc-858d-00052bb6b31a",
   "metadata": {},
   "source": [
    "- Above, we normalized the features of each input\n",
    "- Now, using the same idea, we can implement a `LayerNorm` class:"
   ]
  },
  {
   "cell_type": "code",
   "execution_count": 10,
   "id": "3333a305-aa3d-460a-bcce-b80662d464d9",
   "metadata": {},
   "outputs": [],
   "source": [
    "import torch\n",
    "import torch.nn as nn\n",
    "# 定义一个名为LayerNorm的类，它继承自nn.Module，用于实现层归一化操作\n",
    "class LayerNorm(nn.Module):\n",
    "    def __init__(self, emb_dim):\n",
    "        \"\"\"\n",
    "        类的初始化方法\n",
    "        Args:\n",
    "            emb_dim (int): 嵌入维度的大小，用于确定需要初始化的参数维度\n",
    "        \"\"\"\n",
    "        super().__init__()\n",
    "        # 一个很小的数，用于防止在计算方差时出现除以零的情况，增加数值稳定性\n",
    "        self.eps = 1e-5\n",
    "        # 定义可学习的缩放参数，形状为(emb_dim,)，初始化为全1的张量，并且会在训练过程中自动更新\n",
    "        self.scale = nn.Parameter(torch.ones(emb_dim))\n",
    "        # 定义可学习的偏移参数，形状为(emb_dim,)，初始化为全0的张量，并且会在训练过程中自动更新\n",
    "        self.shift = nn.Parameter(torch.zeros(emb_dim))\n",
    "    def forward(self, x):\n",
    "        \"\"\"\n",
    "        前向传播方法，用于执行层归一化的计算\n",
    "        Args:\n",
    "            x (torch.Tensor): 输入的张量，形状通常为(batch_size, sequence_length, emb_dim) 等\n",
    "        Returns:\n",
    "            torch.Tensor: 经过层归一化和缩放、偏移调整后的输出张量\n",
    "        \"\"\"\n",
    "        # 计算输入张量x在最后一个维度上的均值，keepdim=True表示保持维度不变，以便后续的广播操作\n",
    "        mean = x.mean(dim=-1, keepdim=True)\n",
    "        # 计算输入张量x在最后一个维度上的方差，unbiased=False表示使用有偏估计的方差计算方式，keepdim=True同样是为了保持维度不变\n",
    "        var = x.var(dim=-1, keepdim=True, unbiased=False)\n",
    "        # 进行归一化操作，将x减去均值后除以方差加eps的平方根，得到归一化后的张量norm_x\n",
    "        norm_x = (x - mean) / torch.sqrt(var + self.eps)\n",
    "        # 将归一化后的张量norm_x乘以可学习的缩放参数self.scale，再加上可学习的偏移参数self.shift，得到最终的输出\n",
    "        return self.scale * norm_x + self.shift"
   ]
  },
  {
   "cell_type": "markdown",
   "id": "e56c3908-7544-4808-b8cb-5d0a55bcca72",
   "metadata": {},
   "source": [
    "**Scale and shift**\n",
    "\n",
    "- Note that in addition to performing the normalization by subtracting the mean and dividing by the variance, we added two trainable parameters, a `scale` and a `shift` parameter\n",
    "- The initial `scale` (multiplying by 1) and `shift` (adding 0) values don't have any effect; however, `scale` and `shift` are trainable parameters that the LLM automatically adjusts during training if it is determined that doing so would improve the model's performance on its training task\n",
    "- This allows the model to learn appropriate scaling and shifting that best suit the data it is processing\n",
    "- Note that we also add a smaller value (`eps`) before computing the square root of the variance; this is to avoid division-by-zero errors if the variance is 0\n",
    "\n",
    "**Biased variance**\n",
    "- In the variance calculation above, setting `unbiased=False` means using the formula $\\frac{\\sum_i (x_i - \\bar{x})^2}{n}$ to compute the variance where n is the sample size (here, the number of features or columns); this formula does not include Bessel's correction (which uses `n-1` in the denominator), thus providing a biased estimate of the variance \n",
    "- For LLMs, where the embedding dimension `n` is very large, the difference between using n and `n-1`\n",
    " is negligible\n",
    "- However, GPT-2 was trained with a biased variance in the normalization layers, which is why we also adopted this setting for compatibility reasons with the pretrained weights that we will load in later chapters\n",
    "\n",
    "- Let's now try out `LayerNorm` in practice:"
   ]
  },
  {
   "cell_type": "code",
   "execution_count": 11,
   "id": "23b1000a-e613-4b43-bd90-e54deed8d292",
   "metadata": {},
   "outputs": [],
   "source": [
    "# 创建一个LayerNorm的实例ln，传入的嵌入维度emb_dim设置为5\n",
    "ln = LayerNorm(emb_dim=5)\n",
    "# 使用创建好的LayerNorm实例ln对batch_example进行层归一化操作，得到经过层归一化后的输出结果out_ln\n",
    "out_ln = ln(batch_example)"
   ]
  },
  {
   "cell_type": "code",
   "execution_count": 12,
   "id": "94c12de2-1cab-46e0-a099-e2e470353bff",
   "metadata": {},
   "outputs": [
    {
     "name": "stdout",
     "output_type": "stream",
     "text": [
      "Mean:\n",
      " tensor([[    -0.0000],\n",
      "        [     0.0000]], grad_fn=<MeanBackward1>)\n",
      "Variance:\n",
      " tensor([[1.0000],\n",
      "        [1.0000]], grad_fn=<VarBackward0>)\n"
     ]
    }
   ],
   "source": [
    "# 计算经过层归一化后的输出张量out_ln在最后一个维度上的均值\n",
    "# dim=-1表示沿着最后一个维度进行计算，keepdim=True表示保持维度不变，以便后续可能的操作（如广播等）\n",
    "mean = out_ln.mean(dim=-1, keepdim=True)\n",
    "# 计算经过层归一化后的输出张量out_ln在最后一个维度上的方差\n",
    "# dim=-1表示沿着最后一个维度进行计算，unbiased=False表示使用有偏估计的方差计算方式，keepdim=True表示保持维度不变\n",
    "var = out_ln.var(dim=-1, unbiased=False, keepdim=True)\n",
    "# 打印计算得到的均值\n",
    "print(\"Mean:\\n\", mean)\n",
    "# 打印计算得到的方差\n",
    "print(\"Variance:\\n\", var)"
   ]
  },
  {
   "cell_type": "markdown",
   "id": "e136cfc4-7c89-492e-b120-758c272bca8c",
   "metadata": {},
   "source": [
    "<img src=\"https://sebastianraschka.com/images/LLMs-from-scratch-images/ch04_compressed/07.webp\" width=\"400px\">"
   ]
  },
  {
   "cell_type": "markdown",
   "id": "11190e7d-8c29-4115-824a-e03702f9dd54",
   "metadata": {},
   "source": [
    "## 4.3 Implementing a feed forward network with GELU activations"
   ]
  },
  {
   "cell_type": "markdown",
   "id": "b0585dfb-f21e-40e5-973f-2f63ad5cb169",
   "metadata": {},
   "source": [
    "- In this section, we implement a small neural network submodule that is used as part of the transformer block in LLMs\n",
    "- We start with the activation function\n",
    "- In deep learning, ReLU (Rectified Linear Unit) activation functions are commonly used due to their simplicity and effectiveness in various neural network architectures\n",
    "- In LLMs, various other types of activation functions are used beyond the traditional ReLU; two notable examples are GELU (Gaussian Error Linear Unit) and SwiGLU (Swish-Gated Linear Unit)\n",
    "- GELU and SwiGLU are more complex, smooth activation functions incorporating Gaussian and sigmoid-gated linear units, respectively, offering better performance for deep learning models, unlike the simpler, piecewise linear function of ReLU"
   ]
  },
  {
   "cell_type": "markdown",
   "id": "7d482ce7-e493-4bfc-a820-3ea99f564ebc",
   "metadata": {},
   "source": [
    "- GELU ([Hendrycks and Gimpel 2016](https://arxiv.org/abs/1606.08415)) can be implemented in several ways; the exact version is defined as GELU(x)=x⋅Φ(x), where Φ(x) is the cumulative distribution function of the standard Gaussian distribution.\n",
    "- In practice, it's common to implement a computationally cheaper approximation: $\\text{GELU}(x) \\approx 0.5 \\cdot x \\cdot \\left(1 + \\tanh\\left[\\sqrt{\\frac{2}{\\pi}} \\cdot \\left(x + 0.044715 \\cdot x^3\\right)\\right]\\right)\n",
    "$ (the original GPT-2 model was also trained with this approximation)"
   ]
  },
  {
   "cell_type": "code",
   "execution_count": 13,
   "id": "f84694b7-95f3-4323-b6d6-0a73df278e82",
   "metadata": {},
   "outputs": [],
   "source": [
    "# 定义一个名为GELU的类，它继承自nn.Module，用于实现高斯误差线性单元（GELU）激活函数\n",
    "class GELU(nn.Module):\n",
    "    def __init__(self):\n",
    "        \"\"\"\n",
    "        类的初始化方法，在这个例子中，GELU激活函数不需要额外的初始化参数，所以这里只是调用父类的初始化方法\n",
    "        \"\"\"\n",
    "        super().__init__()\n",
    "    def forward(self, x):\n",
    "        \"\"\"\n",
    "        前向传播方法，用于对输入的张量x应用GELU激活函数\n",
    "        Args:\n",
    "            x (torch.Tensor): 输入的张量，可以是任意形状，例如(batch_size, input_dim)等\n",
    "        Returns:\n",
    "            torch.TTensor: 经过GELU激活函数处理后的输出张量，形状与输入张量x相同\n",
    "        \"\"\"\n",
    "        # 首先计算括号内的表达式，即计算sqrt(2/pi) * (x + 0.044715 * x^3)\n",
    "        inner_expression = torch.sqrt(torch.tensor(2.0 / torch.pi)) * (x + 0.044715 * torch.pow(x, 3))\n",
    "        # 然后对inner_expression应用tanh函数\n",
    "        tanh_result = torch.tanh(inner_expression)\n",
    "        # 最后按照GELU激活函数的公式，计算0.5 * x * (1 + tanh_result)并返回作为输出\n",
    "        return 0.5 * x * (1 + tanh_result)"
   ]
  },
  {
   "cell_type": "code",
   "execution_count": 14,
   "id": "fc5487d2-2576-4118-80a7-56c4caac2e71",
   "metadata": {},
   "outputs": [
    {
     "data": {
      "image/png": "[encoded data removed]",
      "text/plain": [
       "<Figure size 800x300 with 2 Axes>"
      ]
     },
     "metadata": {},
     "output_type": "display_data"
    }
   ],
   "source": [
    "# 创建GELU类的实例，用于后续计算GELU激活函数的输出\n",
    "gelu, relu = GELU(), nn.ReLU()\n",
    "# 生成一些示例数据，通过torch.linspace创建一个从-3到3均匀分布的一维张量，包含100个数据点\n",
    "# 这个张量将作为输入传递给激活函数来生成对应的输出\n",
    "x = torch.linspace(-3, 3, 100)\n",
    "# 分别将生成的示例数据x传入gelu和relu实例的forward方法（通过调用实例本身的方式，如gelu(x)）\n",
    "# 得到经过GELU激活函数和ReLU激活函数处理后的输出结果y_gelu和y_relu\n",
    "y_gelu, y_relu = gelu(x), relu(x)\n",
    "# 创建一个新的图形对象，设置图形的大小为宽8单位、高3单位\n",
    "plt.figure(figsize=(8, 3))\n",
    "# 使用enumerate函数同时遍历两个列表（[y_gelu, y_relu]和[\"GELU\", \"ReLU\"]）\n",
    "# i是索引值，从1开始；(y, label)是对应列表中的元素对，y是激活函数的输出，label是对应的激活函数名称\n",
    "for i, (y, label) in enumerate(zip([y_gelu, y_relu], [\"GELU\", \"ReLU\"]), 1):\n",
    "    # 在1行2列的子图布局中，选择第i个子图进行绘制操作\n",
    "    plt.subplot(1, 2, i)\n",
    "    # 在当前子图中绘制输入数据x和对应的激活函数输出y的关系曲线\n",
    "    plt.plot(x, y)\n",
    "    # 设置当前子图的标题，格式为\"{激活函数名称} activation function\"\n",
    "    plt.title(f\"{label} activation function\")\n",
    "    # 设置当前子图的x轴标签为\"x\"\n",
    "    plt.xlabel(\"x\")\n",
    "    # 设置当前子图的y轴标签为\"{激活函数名称}(x)\"\n",
    "    plt.ylabel(f\"{label}(x)\")\n",
    "    # 在当前子图中显示网格线，以便更清晰地观察曲线\n",
    "    plt.grid(True)\n",
    "# 自动调整子图的布局，使它们之间的间距更加合理，避免图形元素相互重叠\n",
    "plt.tight_layout()\n",
    "# 显示绘制好的图形\n",
    "plt.show()"
   ]
  },
  {
   "cell_type": "markdown",
   "id": "1cd01662-14cb-43fd-bffd-2d702813de2d",
   "metadata": {},
   "source": [
    "- As we can see, ReLU is a piecewise linear function that outputs the input directly if it is positive; otherwise, it outputs zero\n",
    "- GELU is a smooth, non-linear function that approximates ReLU but with a non-zero gradient for negative values (except at approximately -0.75)\n",
    "\n",
    "- Next, let's implement the small neural network module, `FeedForward`, that we will be using in the LLM's transformer block later:"
   ]
  },
  {
   "cell_type": "code",
   "execution_count": 15,
   "id": "9275c879-b148-4579-a107-86827ca14d4d",
   "metadata": {},
   "outputs": [],
   "source": [
    "import torch\n",
    "import torch.nn as nn\n",
    "# 定义一个名为FeedForward的类，它继承自nn.Module，用于实现前馈神经网络模块\n",
    "class FeedForward(nn.Module):\n",
    "    def __init__(self, cfg):\n",
    "        \"\"\"\n",
    "        类的初始化方法\n",
    "        Args:\n",
    "            cfg (dict): 一个配置字典，包含了构建前馈神经网络所需的参数信息，比如嵌入维度等\n",
    "        \"\"\"\n",
    "        super().__init__()\n",
    "        # 使用nn.Sequential容器来按顺序组合多个神经网络层，形成一个前馈神经网络的结构\n",
    "        self.layers = nn.Sequential(\n",
    "            # 定义第一个全连接层，输入维度为配置字典中指定的嵌入维度cfg[\"emb_dim\"]，输出维度为嵌入维度的4倍\n",
    "            nn.Linear(cfg[\"emb_dim\"], 4 * cfg[\"emb_dim\"]),\n",
    "            # 实例化GELU激活函数类，用于在第一个全连接层之后添加非线性变换\n",
    "            GELU(),\n",
    "            # 定义第二个全连接层，输入维度为第一个全连接层输出的4倍cfg[\"emb_dim\"]，输出维度为配置字典中指定的嵌入维度cfg[\"emb_dim\"]\n",
    "            # 这样就实现了将输入维度经过中间的变换后又恢复到原始的嵌入维度\n",
    "            nn.Linear(4 * cfg[\"emb_dim\"], cfg[\"emb_dim\"]),\n",
    "        )\n",
    "    def forward(self, x):\n",
    "        \"\"\"\n",
    "        前向传播方法，用于执行前馈神经网络的计算\n",
    "        Args:\n",
    "            x (torch.Tensor): 输入的张量，其维度应该与配置字典中指定的嵌入维度相匹配，例如形状可能是(batch_size, emb_dim)等\n",
    "        Returns:\n",
    "            torch.Tensor: 经过前馈神经网络处理后的输出张量，其维度与输入张量x的维度相同（除了可能经过非线性变换后的数值变化）\n",
    "        \"\"\"\n",
    "        return self.layers(x)"
   ]
  },
  {
   "cell_type": "code",
   "execution_count": 16,
   "id": "7c4976e2-0261-418e-b042-c5be98c2ccaf",
   "metadata": {},
   "outputs": [
    {
     "name": "stdout",
     "output_type": "stream",
     "text": [
      "768\n"
     ]
    }
   ],
   "source": [
    "# 通过字典的键\"emb_dim\"来获取对应的值，也就是获取GPT模型在124M配置下的嵌入维度的值，并将其打印出来\n",
    "print(GPT_CONFIG_124M[\"emb_dim\"])"
   ]
  },
  {
   "cell_type": "markdown",
   "id": "fdcaacfa-3cfc-4c9e-b668-b71a2753145a",
   "metadata": {},
   "source": [
    "<img src=\"https://sebastianraschka.com/images/LLMs-from-scratch-images/ch04_compressed/09.webp?12\" width=\"400px\">"
   ]
  },
  {
   "cell_type": "code",
   "execution_count": 17,
   "id": "928e7f7c-d0b1-499f-8d07-4cadb428a6f9",
   "metadata": {},
   "outputs": [
    {
     "name": "stdout",
     "output_type": "stream",
     "text": [
      "torch.Size([2, 3, 768])\n"
     ]
    }
   ],
   "source": [
    "# 创建一个FeedForward类的实例ffn，将GPT_CONFIG_124M作为参数传递给构造函数\n",
    "# FeedForward类会根据GPT_CONFIG_124M中的配置信息（例如嵌入维度等相关参数）来初始化其内部的神经网络层结构\n",
    "ffn = FeedForward(GPT_CONFIG_124M)\n",
    "# 生成一个形状为[batch_size, num_token, emb_size]的随机张量x\n",
    "# 这里指定batch_size为2，表示有两批数据；num_token为3，可理解为每个批次中有3个“标记”（具体含义取决于应用场景）；emb_size为768，即嵌入维度为768\n",
    "# 这个随机张量x将作为输入传递给前面创建的ffn实例，用于在其内部的前馈神经网络中进行处理\n",
    "x = torch.rand(2, 3, 768)\n",
    "# 将生成的随机输入张量x传递给ffn实例的forward方法进行处理\n",
    "# 也就是让x通过ffn内部构建的前馈神经网络结构（包含线性层、激活函数等）进行计算，得到经过该网络处理后的输出结果out\n",
    "out = ffn(x)\n",
    "# 打印输出结果out的形状，通过查看形状可以了解经过ffn前馈神经网络处理后，张量的维度是否发生了变化以及具体的维度情况\n",
    "# 这有助于我们进一步分析数据在网络中的流动和处理效果\n",
    "print(out.shape)"
   ]
  },
  {
   "cell_type": "markdown",
   "id": "8f8756c5-6b04-443b-93d0-e555a316c377",
   "metadata": {},
   "source": [
    "<img src=\"https://sebastianraschka.com/images/LLMs-from-scratch-images/ch04_compressed/10.webp\" width=\"400px\">"
   ]
  },
  {
   "cell_type": "markdown",
   "id": "e5da2a50-04f4-4388-af23-ad32e405a972",
   "metadata": {},
   "source": [
    "<img src=\"https://sebastianraschka.com/images/LLMs-from-scratch-images/ch04_compressed/11.webp\" width=\"400px\">"
   ]
  },
  {
   "cell_type": "markdown",
   "id": "4ffcb905-53c7-4886-87d2-4464c5fecf89",
   "metadata": {},
   "source": [
    "## 4.4 Adding shortcut connections"
   ]
  },
  {
   "cell_type": "markdown",
   "id": "ffae416c-821e-4bfa-a741-8af4ba5db00e",
   "metadata": {},
   "source": [
    "- Next, let's talk about the concept behind shortcut connections, also called skip or residual connections\n",
    "- Originally, shortcut connections were proposed in deep networks for computer vision (residual networks) to mitigate vanishing gradient problems\n",
    "- A shortcut connection creates an alternative shorter path for the gradient to flow through the network\n",
    "- This is achieved by adding the output of one layer to the output of a later layer, usually skipping one or more layers in between\n",
    "- Let's illustrate this idea with a small example network:\n",
    "\n",
    "<img src=\"https://sebastianraschka.com/images/LLMs-from-scratch-images/ch04_compressed/12.webp?123\" width=\"400px\">"
   ]
  },
  {
   "cell_type": "markdown",
   "id": "14cfd241-a32e-4601-8790-784b82f2f23e",
   "metadata": {},
   "source": [
    "- In code, it looks like this:"
   ]
  },
  {
   "cell_type": "code",
   "execution_count": 18,
   "id": "05473938-799c-49fd-86d4-8ed65f94fee6",
   "metadata": {},
   "outputs": [],
   "source": [
    "# 定义一个名为ExampleDeepNeuralNetwork的类，它继承自nn.Module，用于构建一个示例的深度神经网络\n",
    "class ExampleDeepNeuralNetwork(nn.Module):\n",
    "    def __init__(self, layer_sizes, use_shortcut):\n",
    "        \"\"\"\n",
    "        类的初始化方法\n",
    "        Args:\n",
    "            layer_sizes (list): 一个包含整数的列表，指定了神经网络各层的输入和输出维度大小。\n",
    "            例如，[input_size, hidden_size_1, hidden_size_2, hidden_size_3, hidden_size_4, output_size]\n",
    "            use_shortcut (bool): 一个布尔值，用于决定是否在网络中使用shortcut连接（残差连接）。\n",
    "        \"\"\"\n",
    "        super().__init__()\n",
    "        self.use_shortcut = use_shortcut\n",
    "        # 使用nn.ModuleList来存储神经网络的各个层，每个层由一个nn.Sequential容器组成，\n",
    "        # 其中包含一个线性层（nn.Linear）和一个GELU激活函数（GELU）\n",
    "        self.layers = nn.ModuleList([\n",
    "            nn.Sequential(nn.Linear(layer_sizes[0], layer_sizes[1]), GELU()),\n",
    "            nn.Sequential(nn.Linear(layer_sizes[1], layer_sizes[2]), GELU()),\n",
    "            nn.Sequential(nn.Linear(layer_sizes[2], layer_sizes[3]), GELU()),\n",
    "            nn.Sequential(nn.Linear(layers_sizes[3], layer_sizes[4]), GELU()),\n",
    "            nn.Sequential(nn.Linear(layer_sizes[4], layer_sizes[5]), GELU())\n",
    "        ])\n",
    "    def forward(self, x):\n",
    "        \"\"\"\n",
    "        前向传播方法，用于执行深度神经网络的计算\n",
    "        Args:\n",
    "            x (torch.Tensor): 输入的张量，其维度应该与layer_sizes[0]指定的输入维度相匹配。\n",
    "        Returns:\n",
    "            torch.Tensor: 经过深度神经网络处理后的输出张量。\n",
    "        \"\"\"\n",
    "        for layer in self.layers:\n",
    "            # 计算当前层的输出\n",
    "            layer_output = layer(x)\n",
    "            # 检查是否可以应用shortcut连接（残差连接）\n",
    "            if self.use_shortcut and x.shape == layer_output.shape:\n",
    "                x = x + layer_output\n",
    "            else:\n",
    "                x = layer_output\n",
    "\n",
    "        return x\n",
    "def print_gradients(model, x):\n",
    "    \"\"\"\n",
    "    该函数用于计算并打印给定模型在输入数据x下的权重梯度的均值绝对值。\n",
    "    Args:\n",
    "        model (nn.Module): 一个已经定义好的神经网络模型，例如ExampleDeepNeuralNetwork的实例。\n",
    "        x (torch.Tensor): 输入的张量，其维度应该与模型的输入维度要求相匹配。\n",
    "    \"\"\"\n",
    "    # 前向传播\n",
    "    output = model(x)\n",
    "    # 定义目标张量，这里简单地设置为一个值为0的二维张量，形状为[[0.]]\n",
    "    target = torch.tensor([[0.]])\n",
    "    # 根据输出和目标之间的接近程度计算损失，这里使用均方误差损失函数（MSELoss）\n",
    "    loss = nn.MSELoss()\n",
    "    loss = loss(output, target)\n",
    "    # 进行反向传播，以计算模型参数的梯度\n",
    "    loss.backward()\n",
    "    for name, param in model.named_parameters():\n",
    "        if 'weight' in name:\n",
    "            # 打印权重的平均绝对梯度，通过取梯度的绝对值并计算其均值，再获取其具体的值（item()）来实现\n",
    "            print(f\"{name} has gradient mean of {param.grad.abs().mean().item()}\")"
   ]
  },
  {
   "cell_type": "markdown",
   "id": "b39bf277-b3db-4bb1-84ce-7a20caff1011",
   "metadata": {},
   "source": [
    "- Let's print the gradient values first **without** shortcut connections:"
   ]
  },
  {
   "cell_type": "code",
   "execution_count": 19,
   "id": "c75f43cc-6923-4018-b980-26023086572c",
   "metadata": {},
   "outputs": [
    {
     "name": "stdout",
     "output_type": "stream",
     "text": [
      "layers.0.0.weight has gradient mean of 0.00020173587836325169\n",
      "layers.1.0.weight has gradient mean of 0.00012011159560643137\n",
      "layers.2.0.weight has gradient mean of 0.0007152039906941354\n",
      "layers.3.0.weight has gradient mean of 0.0013988736318424344\n",
      "layers.4.0.weight has gradient mean of 0.005049645435065031\n"
     ]
    }
   ],
   "source": [
    "layer_sizes = [3, 3, 3, 3, 3, 1]  \n",
    "sample_input = torch.tensor([[1., 0., -1.]])\n",
    "torch.manual_seed(123)\n",
    "model_without_shortcut = ExampleDeepNeuralNetwork(\n",
    "    layer_sizes, use_shortcut=False\n",
    ")\n",
    "print_gradients(model_without_shortcut, sample_input)"
   ]
  },
  {
   "cell_type": "markdown",
   "id": "837fd5d4-7345-4663-97f5-38f19dfde621",
   "metadata": {},
   "source": [
    "- Next, let's print the gradient values **with** shortcut connections:"
   ]
  },
  {
   "cell_type": "code",
   "execution_count": 20,
   "id": "11b7c0c2-f9dd-4dd5-b096-a05c48c5f6d6",
   "metadata": {},
   "outputs": [
    {
     "name": "stdout",
     "output_type": "stream",
     "text": [
      "layers.0.0.weight has gradient mean of 0.22169792652130127\n",
      "layers.1.0.weight has gradient mean of 0.20694106817245483\n",
      "layers.2.0.weight has gradient mean of 0.32896995544433594\n",
      "layers.3.0.weight has gradient mean of 0.2665732204914093\n",
      "layers.4.0.weight has gradient mean of 1.3258540630340576\n"
     ]
    }
   ],
   "source": [
    "import torch\n",
    "import torch.nn as nn\n",
    "layer_sizes = [3, 3, 3, 3, 3, 1]\n",
    "sample_input = torch.tensor([[1., 0., -1.]])\n",
    "# 设置随机种子为123，以便在后续涉及随机操作（如模型参数初始化等）时能复现结果\n",
    "torch.manual_seed(123)\n",
    "# 创建一个ExampleDeepNeuralNetwork类的实例，传入layer_sizes列表和use_shortcut=False\n",
    "# 表示创建一个不使用shortcut连接（残差连接）的深度神经网络模型\n",
    "model_without_shortcut = ExampleDeepNeuralNetwork(\n",
    "    layer_sizes, use_shortcut=False\n",
    ")\n",
    "# 调用print_gradients函数，传入创建好的不使用shortcut连接的模型实例和示例输入张量\n",
    "# 该函数会进行前向传播、计算损失、反向传播并打印出模型权重参数的平均绝对梯度\n",
    "print_gradients(model_without_shortcut, sample_input)"
   ]
  },
  {
   "cell_type": "markdown",
   "id": "79ff783a-46f0-49c5-a7a9-26a525764b6e",
   "metadata": {},
   "source": [
    "    - As we can see based on the output above, shortcut connections prevent the gradients from vanishing in the early layers (towards `layer.0`)\n",
    "    - We will use this concept of a shortcut connection next when we implement a transformer block"
   ]
  },
  {
   "cell_type": "markdown",
   "id": "cae578ca-e564-42cf-8635-a2267047cdff",
   "metadata": {},
   "source": [
    "## 4.5 Connecting attention and linear layers in a transformer block"
   ]
  },
  {
   "cell_type": "markdown",
   "id": "a3daac6f-6545-4258-8f2d-f45a7394f429",
   "metadata": {},
   "source": [
    "- In this section, we now combine the previous concepts into a so-called transformer block\n",
    "- A transformer block combines the causal multi-head attention module from the previous chapter with the linear layers, the feed forward neural network we implemented in an earlier section\n",
    "- In addition, the transformer block also uses dropout and shortcut connections"
   ]
  },
  {
   "cell_type": "code",
   "execution_count": 21,
   "id": "0e1e8176-e5e3-4152-b1aa-0bbd7891dfd9",
   "metadata": {},
   "outputs": [],
   "source": [
    "from previous_chapters import MultiHeadAttention\n",
    "import torch\n",
    "import torch.nn as nn\n",
    "# 定义一个名为TransformerBlock的类，它继承自nn.Module，用于构建Transformer模块\n",
    "class TransformerBlock(nn.Module):\n",
    "    def __init__(self, cfg):\n",
    "        \"\"\"\n",
    "        类的初始化方法\n",
    "        Args:\n",
    "            cfg (dict): 一个配置字典，包含了构建Transformer模块所需的各种参数，如嵌入维度、上下文长度、头的数量、丢弃率、查询-键-值偏差等。\n",
    "        \"\"\"\n",
    "        super().__init__()\n",
    "        # 创建一个MultiHeadAttention实例，用于实现多头注意力机制\n",
    "        # 根据配置字典cfg中的参数来初始化多头注意力机制的输入维度（d_in）、输出维度（d_out）、上下文长度（context_length）、\n",
    "        # 头的数量（num_heads）、丢弃率（dropout）和查询-键-值偏差（qkv_bias）等属性\n",
    "        self.att = MultiHeadAttention(\n",
    "            d_in=cfg[\"emb_dim\"],\n",
    "            d_out=cfg[\"emb_dim\"],\n",
    "            context_length=cfg[\"context_length\"],\n",
    "            num_heads=cfg[\"n_heads\"],\n",
    "            dropout=cfg[\"drop_rate\"],\n",
    "            qkv_bias=cfg[\"qkv_bias\"])\n",
    "        # 创建一个FeedForward实例，用于实现前馈神经网络\n",
    "        # 根据配置字典cfg中的参数来初始化前馈神经网络的相关参数，如嵌入维度等\n",
    "        self.ff = FeedForward(cfg)\n",
    "        # 创建一个LayerNorm实例，用于对输入进行层归一化操作\n",
    "        # 根据配置字典cfg中的参数来初始化层归一化的嵌入维度\n",
    "        self.norm1 = LayerNorm(cfg[\"emb_dim\"])\n",
    "        # 创建另一个LayerNorm实例，用于对输入进行层归一化操作\n",
    "        # 根据配置字典cfg中的参数来初始化层归一化的嵌入维度\n",
    "        self.norm2 = LayerNorm(cfg[\"emb_dim\"])\n",
    "        # 创建一个Dropout实例，用于在训练过程中以一定的丢弃率随机丢弃一些神经元的输出，防止过拟合\n",
    "        # 根据配置字典cfg中的参数来初始化丢弃率\n",
    "        self.drop_shortcut = nn.Dropout(cfg[\"drop_rate\"])\n",
    "    def forward(self, x):\n",
    "        \"\"\"\n",
    "        前向传播方法，用于执行Transformer模块的计算\n",
    "        Args:\n",
    "            x (torch.Tensor): 输入的张量，其形状通常为[batch_size, num_tokens, emb_size]，其中batch_size表示批次大小，\n",
    "            num_tokens表示每个批次中的标记数量，emb_size表示嵌入维度。\n",
    "        Returns:\n",
    "            torch.Tensor: 经过Transformer模块处理后的输出张量，其形状与输入张量x相同。\n",
    "        \"\"\"\n",
    "        # 保存输入张量x作为shortcut连接（残差连接）的原始输入，以便后续添加回来\n",
    "        shortcut = x\n",
    "        # 对输入张量x进行层归一化操作，使用self.norm1实例进行层归一化\n",
    "        x = self.norm1(x)\n",
    "        # 将经过层归一化后的x传入self.att实例（即多头注意力机制）进行处理，得到处理后的张量x\n",
    "        x = self.att(x)  # Shape [batch_size, num_tokens, emb_size]\n",
    "        # 对经过多头注意力机制处理后的x应用Dropout操作，以一定的丢弃率随机丢弃一些神经元的输出\n",
    "        x = self.drop_shortcut(x)\n",
    "        # 将经过Dropout操作后的x与原始输入shortcut相加，实现shortcut连接（残差连接），得到更新后的x\n",
    "        x = x + shortcut  # Add the original input back\n",
    "        # 再次保存当前的x作为下一个shortcut连接（残差连接）的原始输入，以便后续添加回来\n",
    "        shortcut = x\n",
    "        # 对当前的x进行层归一化操作，使用self.norm2实例进行层归一化\n",
    "        x = self.norm2(x)\n",
    "        # 将经过层归一化后的x传入self.ff实例（即前馈神经网络）进行处理，得到处理后的张量x\n",
    "        x = self.ff(x)\n",
    "        # 对经过前馈神经网络处理后的x应用Dropout操作，以一定的丢弃率随机丢弃一些神经元的输出\n",
    "        x = self.drop_shortcut(x)\n",
    "        # 将经过Dropout操作后的x与原始输入shortcut相加，实现shortcut连接（残差连接），得到最终更新后的x\n",
    "        x = x + shortcut  # Add the original input back\n",
    "        return x"
   ]
  },
  {
   "cell_type": "markdown",
   "id": "36b64d16-94a6-4d13-8c85-9494c50478a9",
   "metadata": {},
   "source": [
    "<img src=\"https://sebastianraschka.com/images/LLMs-from-scratch-images/ch04_compressed/13.webp?1\" width=\"400px\">"
   ]
  },
  {
   "cell_type": "markdown",
   "id": "54d2d375-87bd-4153-9040-63a1e6a2b7cb",
   "metadata": {},
   "source": [
    "- Suppose we have 2 input samples with 6 tokens each, where each token is a 768-dimensional embedding vector; then this transformer block applies self-attention, followed by linear layers, to produce an output of similar size\n",
    "- You can think of the output as an augmented version of the context vectors we discussed in the previous chapter"
   ]
  },
  {
   "cell_type": "code",
   "execution_count": 22,
   "id": "3fb45a63-b1f3-4b08-b525-dafbc8228405",
   "metadata": {},
   "outputs": [
    {
     "name": "stdout",
     "output_type": "stream",
     "text": [
      "Input shape: torch.Size([2, 4, 768])\n",
      "Output shape: torch.Size([2, 4, 768])\n"
     ]
    }
   ],
   "source": [
    "torch.manual_seed(123)\n",
    "# 生成一个形状为[batch_size, num_tokens, emb_dim]的随机张量x\n",
    "# 其中batch_size为2，表示有两批数据；num_tokens为4，表示每批数据中有4个“标记”（具体含义取决于应用场景）；emb_dim为768，表示嵌入维度为768\n",
    "x = torch.rand(2, 4, 768)  \n",
    "# 创建一个TransformerBlock类的实例block，传入GPT_CONFIG_124M作为配置参数\n",
    "# 该实例将根据GPT_CONFIG_124M中的配置信息来构建内部的多头注意力机制、前馈神经网络等组件\n",
    "block = TransformerBlock(GPT_CONFIG_124M)\n",
    "# 将生成的随机张量x传入block实例的forward方法（通过调用block(x)）进行处理\n",
    "# 得到经过TransformerBlock模块处理后的输出结果output\n",
    "output = block(x)\n",
    "# 打印输入张量x的形状，以便查看原始输入数据的维度情况\n",
    "print(\"Input shape:\", x.shape)\n",
    "# 打印输出结果output的形状，通过对比输入和输出的形状，可以了解数据在经过TransformerBlock模块处理后维度是否发生变化以及具体的变化情况\n",
    "print(\"Output shape:\", output.shape)"
   ]
  },
  {
   "cell_type": "markdown",
   "id": "8f9e4ee4-cf23-4583-b1fd-317abb4fcd13",
   "metadata": {},
   "source": [
    "<img src=\"https://sebastianraschka.com/images/LLMs-from-scratch-images/ch04_compressed/14.webp?1\" width=\"400px\">"
   ]
  },
  {
   "cell_type": "markdown",
   "id": "46618527-15ac-4c32-ad85-6cfea83e006e",
   "metadata": {},
   "source": [
    "## 4.6 Coding the GPT model"
   ]
  },
  {
   "cell_type": "markdown",
   "id": "dec7d03d-9ff3-4ca3-ad67-01b67c2f5457",
   "metadata": {},
   "source": [
    "- We are almost there: now let's plug in the transformer block into the architecture we coded at the very beginning of this chapter so that we obtain a usable GPT architecture\n",
    "- Note that the transformer block is repeated multiple times; in the case of the smallest 124M GPT-2 model, we repeat it 12 times:"
   ]
  },
  {
   "cell_type": "markdown",
   "id": "9b7b362d-f8c5-48d2-8ebd-722480ac5073",
   "metadata": {},
   "source": [
    "<img src=\"https://sebastianraschka.com/images/LLMs-from-scratch-images/ch04_compressed/15.webp\" width=\"400px\">"
   ]
  },
  {
   "cell_type": "markdown",
   "id": "324e4b5d-ed89-4fdf-9a52-67deee0593bc",
   "metadata": {},
   "source": [
    "- The corresponding code implementation, where `cfg[\"n_layers\"] = 12`:"
   ]
  },
  {
   "cell_type": "code",
   "execution_count": 23,
   "id": "c61de39c-d03c-4a32-8b57-f49ac3834857",
   "metadata": {},
   "outputs": [],
   "source": [
    "# 定义一个名为GPTModel的类，它继承自nn.Module，用于构建GPT模型\n",
    "class GPTModel(nn.Module):\n",
    "    def __init__(self, cfg):\n",
    "        \"\"\"\n",
    "        类的初始化方法\n",
    "        Args:\n",
    "            cfg (dict): 一个配置字典，包含了构建GPT模型所需的各种参数，如词汇表大小、嵌入维度、上下文长度、层数、丢弃率等。\n",
    "        \"\"\"\n",
    "        super().__init__()\n",
    "        # 创建一个词嵌入层（nn.Embedding），用于将输入的词汇索引转换为对应的嵌入向量\n",
    "        # 根据配置字典cfg中的词汇表大小（vocab_size）和嵌入维度（emb_dim）来初始化词嵌入层的参数\n",
    "        self.tok_emb = nn.Embedding(cfg[\"vocab_size\"], cfg[\"emb_dim\"])\n",
    "        # 创建一个位置嵌入层（nn.Embedding），用于为每个位置生成对应的嵌入向量\n",
    "        # 根据配置字典cfg中的上下文长度（context_length）和嵌入维度（emb_dim）来初始化位置嵌入层的参数\n",
    "        self.pos_emb = nn.Embedding(cfg[\"context_length\"], cfg[\"emb_dim\"])\n",
    "        # 创建一个Dropout实例，用于在训练过程中以一定的丢弃率随机丢弃一些神经元的输出，防止过拟合\n",
    "        # 根据配置字典cfg中的丢弃率（drop_rate）来初始化Dropout的参数\n",
    "        self.drop_emb = nn.Dropout(cfg[\"drop_rate\"])\n",
    "        # 使用nn.Sequential容器和列表推导式创建一个包含多个TransformerBlock实例的序列\n",
    "        # 根据配置字典cfg中的层数（n_layers）来确定创建的TransformerBlock实例的数量\n",
    "        # 每个TransformerBlock实例都将根据cfg中的配置信息来构建内部的多头注意力机制、前馈神经网络等组件\n",
    "        self.trf_blocks = nn.Sequential(\n",
    "            *[TransformerBlock(cfg) for _ in range(cfg[\"n_layers\"])])\n",
    "        # 创建一个LayerNorm实例，用于对输入进行层归一化操作\n",
    "        # 根据配置字典cfg中的嵌入维度（emb_dim）来初始化层归一化的参数\n",
    "        self.final_norm = LayerNorm(cfg[\"emph_dim\"])\n",
    "        # 创建一个线性输出层（nn.Linear），用于将经过处理后的嵌入向量转换为词汇表大小维度的输出向量，以便预测下一个词汇\n",
    "        # 根据配置字典cfg中的嵌入维度（emb_dim）和词汇表大小（vocab_size）来初始化线性输出层的参数，并且设置偏差为False\n",
    "        self.out_head = nn.Linear(\n",
    "            cfg[\"emb_dim\"], cfg[\"vocab_size\"], bias=False\n",
    "        )\n",
    "    def forward(self, in_idx):\n",
    "        \"\"\"\n",
    "        前向传播方法，用于执行GPT模型的计算\n",
    "        Args:\n",
    "            in_idx (int): 输入的词汇索引张量，其形状通常为[batch_size, seq_len]，其中batch_size表示批次大小，\n",
    "            seq_len表示序列长度。\n",
    "        Returns:\n",
    "            torch.Tensor: 经过GPT模型处理后的输出张量，其形状通常为[batch_size, seq_len, vocab_size]，用于预测下一个词汇的概率分布。\n",
    "        \"\"\"\n",
    "        batch_size, seq_len = in_idx.shape\n",
    "        # 将输入的词汇索引张量in_idx传入词嵌入层self.tok_emb进行处理，得到对应的词嵌入向量tok_embeds\n",
    "        tok_embeds = self.tok_emb(in_idx)\n",
    "        # 使用torch.arange生成一个从0到seq_len - 1的张量，作为位置索引，并将其传入位置嵌入层self.pos_emb进行处理，得到对应的位置嵌入向量pos_embeds\n",
    "        pos_embeds = self.pos_emb(torch.arange(seq_len, device=in_idx.device))\n",
    "        # 将词嵌入向量tok_embeds和位置嵌入向量pos_embeds相加，得到组合后的嵌入向量x，其形状为[batch_size, num_tokens, emb_size]\n",
    "        x = tok_embeds + pos_embeds  \n",
    "        # 对组合后的嵌入向量x应用Dropout操作，以一定的丢弃率随机丢弃一些神经元的输出\n",
    "        x = self.drop_emb(x)\n",
    "        # 将经过Dropout操作后的x传入由多个TransformerBlock实例组成的序列self.trf_blocks进行处理，得到处理后的向量x\n",
    "        x = self.trf_blocks(x)\n",
    "        # 对经过TransformerBlock序列处理后的x应用层归一化操作，使用self.final_norm实例进行层归一化\n",
    "        x = self.final_norm(x)\n",
    "        # 将经过层归一化后的x传入线性输出层self.out_head进行处理，得到预测下一个词汇的输出向量logits\n",
    "        logits = self.out_head(x)\n",
    "        return logits"
   ]
  },
  {
   "cell_type": "markdown",
   "id": "2750270f-c45d-4410-8767-a6adbd05d5c3",
   "metadata": {},
   "source": [
    "- Using the configuration of the 124M parameter model, we can now instantiate this GPT model with random initial weights as follows:"
   ]
  },
  {
   "cell_type": "code",
   "execution_count": 24,
   "id": "ef94fd9c-4e9d-470d-8f8e-dd23d1bb1f64",
   "metadata": {},
   "outputs": [
    {
     "name": "stdout",
     "output_type": "stream",
     "text": [
      "Input batch:\n",
      " tensor([[6109, 3626, 6100,  345],\n",
      "        [6109, 1110, 6622,  257]])\n",
      "\n",
      "Output shape: torch.Size([2, 4, 50257])\n",
      "tensor([[[ 0.3613,  0.4222, -0.0711,  ...,  0.3483,  0.4661, -0.2838],\n",
      "         [-0.1792, -0.5660, -0.9485,  ...,  0.0477,  0.5181, -0.3168],\n",
      "         [ 0.7120,  0.0332,  0.1085,  ...,  0.1018, -0.4327, -0.2553],\n",
      "         [-1.0076,  0.3418, -0.1190,  ...,  0.7195,  0.4023,  0.0532]],\n",
      "\n",
      "        [[-0.2564,  0.0900,  0.0335,  ...,  0.2659,  0.4454, -0.6806],\n",
      "         [ 0.1230,  0.3653, -0.2074,  ...,  0.7705,  0.2710,  0.2246],\n",
      "         [ 1.0558,  1.0318, -0.2800,  ...,  0.6936,  0.3205, -0.3178],\n",
      "         [-0.1565,  0.3926,  0.3288,  ...,  1.2630, -0.1858,  0.0388]]],\n",
      "       grad_fn=<UnsafeViewBackward0>)\n"
     ]
    }
   ],
   "source": [
    "torch.manual_seed(123)\n",
    "# 创建一个GPTModel类的实例model，传入GPT_CONFIG_124M作为配置参数\n",
    "# 该实例将根据GPT_CONFIG_124M中的配置信息来构建内部的词嵌入层、位置嵌入层、TransformerBlock等组件，从而形成一个完整的GPT模型\n",
    "model = GPTModel(GPT_CONFIG_124M)\n",
    "# 将输入的batch数据传入model实例的forward方法（通过调用model(batch)）进行处理\n",
    "# 得到经过GPT模型处理后的输出结果out\n",
    "out = model(batch)\n",
    "# 打印输入的batch数据，以便查看原始输入数据的内容\n",
    "print(\"Input batch:\\n\", batch)\n",
    "# 打印输出结果out的形状，通过对比输入batch的形状和输出的形状，可以了解数据在经过GPT模型处理后维度是否发生变化以及具体的变化情况\n",
    "print(\"\\nOutput shape:\", out.shape)\n",
    "# 打印输出结果out的具体内容，以便进一步查看经过GPT模型处理后得到的数据情况\n",
    "print(out)"
   ]
  },
  {
   "cell_type": "markdown",
   "id": "6d616e7a-568b-4921-af29-bd3f4683cd2e",
   "metadata": {},
   "source": [
    "- We will train this model in the next chapter\n",
    "- However, a quick note about its size: we previously referred to it as a 124M parameter model; we can double check this number as follows:"
   ]
  },
  {
   "cell_type": "code",
   "execution_count": 25,
   "id": "84fb8be4-9d3b-402b-b3da-86b663aac33a",
   "metadata": {},
   "outputs": [
    {
     "name": "stdout",
     "output_type": "stream",
     "text": [
      "Total number of parameters: 163,009,536\n"
     ]
    }
   ],
   "source": [
    "# 计算模型model中所有可学习参数的总数。这里通过遍历模型的所有参数（model.parameters()），\n",
    "# 对于每个参数p，使用numel()方法获取其元素个数（即参数的数量），然后将所有参数的数量相加\n",
    "total_params = sum(p.numel() for p in model.parameters())\n",
    "# 打印出模型的总参数数量，使用格式化字符串将数字按照千分位分隔的形式进行输出，以便更清晰地查看较大的数字\n",
    "print(f\"Total number of parameters: {total_params:,}\")"
   ]
  },
  {
   "cell_type": "markdown",
   "id": "b67d13dd-dd01-4ba6-a2ad-31ca8a9fd660",
   "metadata": {},
   "source": [
    "- As we see above, this model has 163M, not 124M parameters; why?\n",
    "- In the original GPT-2 paper, the researchers applied weight tying, which means that they reused the token embedding layer (`tok_emb`) as the output layer, which means setting `self.out_head.weight = self.tok_emb.weight`\n",
    "- The token embedding layer projects the 50,257-dimensional one-hot encoded input tokens to a 768-dimensional embedding representation\n",
    "- The output layer projects 768-dimensional embeddings back into a 50,257-dimensional representation so that we can convert these back into words (more about that in the next section)\n",
    "- So, the embedding and output layer have the same number of weight parameters, as we can see based on the shape of their weight matrices\n",
    "- However, a quick note about its size: we previously referred to it as a 124M parameter model; we can double check this number as follows:"
   ]
  },
  {
   "cell_type": "code",
   "execution_count": 26,
   "id": "e3b43233-e9b8-4f5a-b72b-a263ec686982",
   "metadata": {},
   "outputs": [
    {
     "name": "stdout",
     "output_type": "stream",
     "text": [
      "Token embedding layer shape: torch.Size([50257, 768])\n",
      "Output layer shape: torch.Size([50257, 768])\n"
     ]
    }
   ],
   "source": [
    "# 打印词嵌入层（token embedding layer）的权重形状。\n",
    "# 模型中的model.tok_emb是一个nn.Embedding实例，其weight属性存储着词嵌入层的权重张量。\n",
    "# 通过访问该权重张量的形状，可以了解到词嵌入层中权重矩阵的维度信息，\n",
    "print(\"Token embedding layer shape:\", model.tok_emb.weight.shape)\n",
    "# 打印输出层（output layer）的权重形状。\n",
    "# 模型中的model.out_head是一个nn.Linear实例，其weight属性存储着输出层的权重张量。\n",
    "# 通过访问该权重张量的形状，可以了解到输出层中权重矩阵的维度信息，\n",
    "# 比如输入维度（这里通常是嵌入维度）和输出维度（这里通常是词汇表大小）等相关情况。\n",
    "print(\"Output layer shape:\", model.out_head.weight.shape)"
   ]
  },
  {
   "cell_type": "markdown",
   "id": "f02259f6-6f79-4c89-a866-4ebeae1c3289",
   "metadata": {},
   "source": [
    "- In the original GPT-2 paper, the researchers reused the token embedding matrix as an output matrix\n",
    "- Correspondingly, if we subtracted the number of parameters of the output layer, we'd get a 124M parameter model:"
   ]
  },
  {
   "cell_type": "code",
   "execution_count": 27,
   "id": "95a22e02-50d3-48b3-a4e0-d9863343c164",
   "metadata": {},
   "outputs": [
    {
     "name": "stdout",
     "output_type": "stream",
     "text": [
      "Number of trainable parameters considering weight tying: 124,412,160\n"
     ]
    }
   ],
   "source": [
    "# 计算考虑权重绑定（weight tying）后的可训练参数数量。\n",
    "# 在原始的GPT-2中存在将词嵌入矩阵复用为输出矩阵的情况（即权重绑定），这里通过先获取模型的总参数数量（total_params），\n",
    "# 然后减去输出层（model.out_head）的所有参数数量（通过遍历输出层的参数并累加其元素个数，即sum(p.numel() for p in model.out_head.parameters())），\n",
    "# 得到的结果就是考虑了权重绑定后的可训练参数数量，记为total_params_gpt2。\n",
    "total_params_gpt2 =  total_params - sum(p.numel() for p in model.out_head.parameters())\n",
    "# 打印出考虑权重绑定后的可训练参数数量，使用格式化字符串将数字按照千分位分隔的形式进行输出，以便更清晰地查看较大的数字。\n",
    "print(f\"Number of trainable parameters considering weight tying: {total_params_gpt2:,}\")"
   ]
  },
  {
   "cell_type": "markdown",
   "id": "40b03f80-b94c-46e7-9d42-d0df399ff3db",
   "metadata": {},
   "source": [
    "- In practice, I found it easier to train the model without weight-tying, which is why we didn't implement it here\n",
    "- However, we will revisit and apply this weight-tying idea later when we load the pretrained weights in chapter 5\n",
    "- Lastly, we can compute the memory requirements of the model as follows, which can be a helpful reference point:"
   ]
  },
  {
   "cell_type": "code",
   "execution_count": 28,
   "id": "5131a752-fab8-4d70-a600-e29870b33528",
   "metadata": {},
   "outputs": [
    {
     "name": "stdout",
     "output_type": "stream",
     "text": [
      "Total size of the model: 621.83 MB\n"
     ]
    }
   ],
   "source": [
    "# Calculate the total size in bytes (assuming float32, 4 bytes per parameter)\n",
    "# 计算模型参数的总大小（以字节为单位）。这里假设模型的参数数据类型为float32，\n",
    "# 而float32类型的每个参数占用4字节的存储空间。所以通过将模型的总参数数量（total_params）\n",
    "# 乘以每个参数占用的字节数（4），就可以得到模型参数的总字节数（total_size_bytes）。\n",
    "total_size_bytes = total_params * 4\n",
    "# Convert to megabytes\n",
    "# 将总字节数转换为兆字节（MB）。因为1兆字节等于1024 * 1024字节，所以通过将总字节数（total_size_bytes）\n",
    "# 除以1024 * 1024，就可以得到以兆字节为单位的模型大小（total_size_mb）。\n",
    "total_size_mb = total_size_bytes / (1024 * 1024)\n",
    "# 打印出模型的总大小，以兆字节为单位，并保留两位小数，以便更清晰、准确地展示模型的大小信息。\n",
    "print(f\"Total size of the model: {total_size_mb:.2f} MB\")"
   ]
  },
  {
   "cell_type": "markdown",
   "id": "309a3be4-c20a-4657-b4e0-77c97510b47c",
   "metadata": {},
   "source": [
    "- Exercise: you can try the following other configurations, which are referenced in the [GPT-2 paper](https://scholar.google.com/citations?view_op=view_citation&hl=en&user=dOad5HoAAAAJ&citation_for_view=dOad5HoAAAAJ:YsMSGLbcyi4C), as well.\n",
    "\n",
    "    - **GPT2-small** (the 124M configuration we already implemented):\n",
    "        - \"emb_dim\" = 768\n",
    "        - \"n_layers\" = 12\n",
    "        - \"n_heads\" = 12\n",
    "\n",
    "    - **GPT2-medium:**\n",
    "        - \"emb_dim\" = 1024\n",
    "        - \"n_layers\" = 24\n",
    "        - \"n_heads\" = 16\n",
    "    \n",
    "    - **GPT2-large:**\n",
    "        - \"emb_dim\" = 1280\n",
    "        - \"n_layers\" = 36\n",
    "        - \"n_heads\" = 20\n",
    "    \n",
    "    - **GPT2-XL:**\n",
    "        - \"emb_dim\" = 1600\n",
    "        - \"n_layers\" = 48\n",
    "        - \"n_heads\" = 25"
   ]
  },
  {
   "cell_type": "markdown",
   "id": "da5d9bc0-95ab-45d4-9378-417628d86e35",
   "metadata": {},
   "source": [
    "## 4.7 Generating text"
   ]
  },
  {
   "cell_type": "markdown",
   "id": "48da5deb-6ee0-4b9b-8dd2-abed7ed65172",
   "metadata": {},
   "source": [
    "- LLMs like the GPT model we implemented above are used to generate one word at a time"
   ]
  },
  {
   "cell_type": "markdown",
   "id": "caade12a-fe97-480f-939c-87d24044edff",
   "metadata": {},
   "source": [
    "<img src=\"https://sebastianraschka.com/images/LLMs-from-scratch-images/ch04_compressed/16.webp\" width=\"400px\">"
   ]
  },
  {
   "cell_type": "markdown",
   "id": "a7061524-a3bd-4803-ade6-2e3b7b79ac13",
   "metadata": {},
   "source": [
    "- The following `generate_text_simple` function implements greedy decoding, which is a simple and fast method to generate text\n",
    "- In greedy decoding, at each step, the model chooses the word (or token) with the highest probability as its next output (the highest logit corresponds to the highest probability, so we technically wouldn't even have to compute the softmax function explicitly)\n",
    "- In the next chapter, we will implement a more advanced `generate_text` function\n",
    "- The figure below depicts how the GPT model, given an input context, generates the next word token"
   ]
  },
  {
   "cell_type": "markdown",
   "id": "7ee0f32c-c18c-445e-b294-a879de2aa187",
   "metadata": {},
   "source": [
    "<img src=\"https://sebastianraschka.com/images/LLMs-from-scratch-images/ch04_compressed/17.webp\" width=\"600px\">"
   ]
  },
  {
   "cell_type": "code",
   "execution_count": 29,
   "id": "c9b428a9-8764-4b36-80cd-7d4e00595ba6",
   "metadata": {},
   "outputs": [],
   "source": [
    "import torch\n",
    "\n",
    "\n",
    "def generate_text_simple(model, idx, max_new_tokens, context_size):\n",
    "    \"\"\"\n",
    "    简单生成文本的函数。\n",
    "    该函数基于给定的模型，根据当前上下文索引逐步生成新的文本标记，直到达到指定的新标记生成数量。\n",
    "    Args:\n",
    "        model (nn.Module): 已经训练好的模型，例如GPT相关模型等，用于根据输入的上下文生成预测结果。\n",
    "        idx (torch.Tensor): 当前上下文的索引张量，形状为(batch, n_tokens)，其中batch表示批次大小，n_tokens表示当前上下文中的标记数量，\n",
    "                           这些索引对应着词汇表中的词汇。\n",
    "        max_new_tokens (int): 要生成的新标记的最大数量，即生成文本的长度限制。\n",
    "        context_size (int): 模型所支持的上下文大小，用于确定在生成过程中实际使用多少个先前的标记作为上下文。\n",
    "    Returns:\n",
    "        torch.Tensor: 返回一个形状为(batch, n_tokens + max_new_tokens)的张量，包含了原始的上下文索引以及生成的新标记索引，\n",
    "                      后续可根据该索引张量转换为实际的文本内容。\n",
    "    \"\"\"\n",
    "    # idx是当前上下文中索引的(batch, n_tokens)数组\n",
    "    for _ in range(max_new_tokens):\n",
    "        # 如果当前上下文的标记数量超过了模型支持的上下文大小，就对当前上下文进行裁剪\n",
    "        # 例如，如果语言模型（LLM）只支持5个标记的上下文，而当前上下文大小是10，那么就只使用最后5个标记作为上下文\n",
    "        idx_cond = idx[:, -context_size:]\n",
    "        # 获取预测结果\n",
    "        with torch.no_grad():  # 在不计算梯度的情况下，因为这里只是生成文本，不需要进行反向传播来更新模型参数\n",
    "            logits = model(idx_cond)\n",
    "        # 只聚焦于最后一个时间步的预测结果\n",
    "        # 原本形状为(batch, n_tokens, vocab_size)的预测结果，经过这一步变为(batch, vocab_size)\n",
    "        logits = logits[:, -1, :]\n",
    "        # 应用softmax函数来获取每个词汇的概率分布\n",
    "        probas = torch.softmax(logits, dim=-1)  # 得到的概率分布形状为(batch, vocab_size)\n",
    "        # 获取词汇表中具有最高概率值的词汇的索引\n",
    "        idx_next = torch.argmax(probas, dim=-1, keepdim=True)  # 得到的索引形状为(batch, 1)\n",
    "        # 将采样得到的索引追加到正在生成的序列后面\n",
    "        idx = torch.cat((idx, idx_next), dim=1)  # 追加后的idx形状变为(batch, n_tokens + 1)\n",
    "    return idx"
   ]
  },
  {
   "cell_type": "markdown",
   "id": "6515f2c1-3cc7-421c-8d58-cc2f563b7030",
   "metadata": {},
   "source": [
    "- The `generate_text_simple` above implements an iterative process, where it creates one token at a time\n",
    "\n",
    "<img src=\"https://sebastianraschka.com/images/LLMs-from-scratch-images/ch04_compressed/18.webp\" width=\"600px\">"
   ]
  },
  {
   "cell_type": "markdown",
   "id": "f682eac4-f9bd-438b-9dec-6b1cc7bc05ce",
   "metadata": {},
   "source": [
    "- Let's prepare an input example:"
   ]
  },
  {
   "cell_type": "code",
   "execution_count": 30,
   "id": "3d7e3e94-df0f-4c0f-a6a1-423f500ac1d3",
   "metadata": {},
   "outputs": [
    {
     "name": "stdout",
     "output_type": "stream",
     "text": [
      "encoded: [15496, 11, 314, 716]\n",
      "encoded_tensor.shape: torch.Size([1, 4])\n"
     ]
    }
   ],
   "source": [
    "# 定义起始上下文文本\n",
    "start_context = \"Hello, I am\"\n",
    "# 使用分词器对起始上下文文本进行编码操作，将文本转换为对应的编码形式（通常是一系列的整数索引，对应词汇表中的词汇）\n",
    "encoded = tokenizer.encode(start_context)\n",
    "print(\"encoded:\", encoded)\n",
    "# 将编码后的结果转换为PyTorch张量，并在第0维上增加一个维度，使其形状变为 (1, n) 的形式，其中n是编码后的长度\n",
    "# 这样做通常是为了使其符合模型输入的批次维度要求\n",
    "encoded_tensor = torch.tensor(encoded).unsqueeze(0)\n",
    "print(\"encoded_tensor.shape:\", encoded_tensor.shape)"
   ]
  },
  {
   "cell_type": "code",
   "execution_count": 31,
   "id": "a72a9b60-de66-44cf-b2f9-1e638934ada4",
   "metadata": {},
   "outputs": [
    {
     "name": "stdout",
     "output_type": "stream",
     "text": [
      "Output: tensor([[15496,    11,   314,   716, 27018, 24086, 47843, 30961, 42348,  7267]])\n",
      "Output length: 10\n"
     ]
    }
   ],
   "source": [
    "# 将模型设置为评估模式，在评估模式下，模型中的Dropout层等随机操作会被禁用，以保证模型输出的一致性和可重复性\n",
    "model.eval()  \n",
    "# 调用generate_text_simple函数来生成文本，传入以下参数：\n",
    "# - model：已经训练好的模型实例，这里就是前面定义的用于生成文本的模型（如GPT相关模型）\n",
    "# - idx：作为起始上下文的编码张量，形状为 (1, n)，这里的n是起始上下文经过分词器编码后的长度，它作为生成文本的初始输入\n",
    "# - max_new_tokens：要生成的新标记的最大数量，这里设置为6，表示在起始上下文的基础上再生成6个新的标记来组成一段更长的文本\n",
    "# - context_size：模型所支持的上下文长度，这里使用GPT_CONFIG_124M配置字典中的\"context_length\"值作为上下文长度，它决定了在生成过程中模型能参考的先前标记的数量\n",
    "out = generate_text_simple(\n",
    "    model=model,\n",
    "    idx=encoded_tensor, \n",
    "    max_new_tokens=6, \n",
    "    context_size=GPT_CONFIG_124M[\"context_length\"]\n",
    ")\n",
    "# 打印生成文本的输出结果，这里的输出结果是一个张量，包含了起始上下文的编码以及生成的新标记的编码\n",
    "print(\"Output:\", out)\n",
    "# 打印生成文本的输出结果的长度，这里是取输出结果张量中第一个元素（因为批次大小为1）的长度，也就是整个输出的编码长度，\n",
    "# 它等于起始上下文编码长度加上生成的新标记的数量\n",
    "print(\"Output length:\", len(out[0]))"
   ]
  },
  {
   "cell_type": "markdown",
   "id": "1d131c00-1787-44ba-bec3-7c145497b2c3",
   "metadata": {},
   "source": [
    "- Remove batch dimension and convert back into text:"
   ]
  },
  {
   "cell_type": "code",
   "execution_count": 32,
   "id": "053d99f6-5710-4446-8d52-117fb34ea9f6",
   "metadata": {},
   "outputs": [
    {
     "name": "stdout",
     "output_type": "stream",
     "text": [
      "Hello, I am Featureiman Byeswickattribute argue\n"
     ]
    }
   ],
   "source": [
    "# 使用分词器对生成文本的输出结果进行解码操作。\n",
    "# 首先，通过out.squeeze(0)将输出结果张量的第0维（批次维度，因为批次大小为1，所以可以去除这一维）进行压缩，得到一个一维张量。\n",
    "# 然后，通过tolist()方法将这个一维张量转换为Python列表形式。\n",
    "# 最后，将这个列表形式的编码传递给tokenizer.decode()方法，将其解码为人类可读的文本形式，得到的结果存储在decoded_text变量中。\n",
    "decoded_text = tokenizer.decode(out.squeeze(0).tolist())\n",
    "# 打印出解码后的文本内容，以便查看通过模型生成并经过解码后的最终文本呈现效果。\n",
    "print(decoded_text)"
   ]
  },
  {
   "cell_type": "markdown",
   "id": "9a894003-51f6-4ccc-996f-3b9c7d5a1d70",
   "metadata": {},
   "source": [
    "- Note that the model is untrained; hence the random output texts above\n",
    "- We will train the model in the next chapter"
   ]
  },
  {
   "cell_type": "markdown",
   "id": "a35278b6-9e5c-480f-83e5-011a1173648f",
   "metadata": {},
   "source": [
    "## Summary and takeaways\n",
    "\n",
    "- See the [./gpt.py](./gpt.py) script, a self-contained script containing the GPT model we implement in this Jupyter notebook\n",
    "- You can find the exercise solutions in [./exercise-solutions.ipynb](./exercise-solutions.ipynb)"
   ]
  }
 ],
 "metadata": {
  "kernelspec": {
   "display_name": "Python 3 (ipykernel)",
   "language": "python",
   "name": "python3"
  },
  "language_info": {
   "codemirror_mode": {
    "name": "ipython",
    "version": 3
   },
   "file_extension": ".py",
   "mimetype": "text/x-python",
   "name": "python",
   "nbconvert_exporter": "python",
   "pygments_lexer": "ipython3",
   "version": "3.11.4"
  }
 },
 "nbformat": 4,
 "nbformat_minor": 5
}
