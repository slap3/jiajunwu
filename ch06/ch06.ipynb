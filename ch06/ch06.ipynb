{
 "cells": [
  {
   "cell_type": "markdown",
   "id": "c024bfa4-1a7a-4751-b5a1-827225a3478b",
   "metadata": {
    "id": "c024bfa4-1a7a-4751-b5a1-827225a3478b"
   },
   "source": [
    "<table style=\"width:100%\">\n",
    "<tr>\n",
    "<td style=\"vertical-align:middle; text-align:left;\">\n",
    "<font size=\"2\">\n",
    "Supplementary code for the <a href=\"http://mng.bz/orYv\">Build a Large Language Model From Scratch</a> book by <a href=\"https://sebastianraschka.com\">Sebastian Raschka</a><br>\n",
    "<br>Code repository: <a href=\"https://github.com/rasbt/LLMs-from-scratch\">https://github.com/rasbt/LLMs-from-scratch</a>\n",
    "</font>\n",
    "</td>\n",
    "<td style=\"vertical-align:middle; text-align:left;\">\n",
    "<a href=\"http://mng.bz/orYv\"><img src=\"https://sebastianraschka.com/images/LLMs-from-scratch-images/cover-small.webp\" width=\"100px\"></a>\n",
    "</td>\n",
    "</tr>\n",
    "</table>"
   ]
  },
  {
   "cell_type": "markdown",
   "id": "bfabadb8-5935-45ff-b39c-db7a29012129",
   "metadata": {
    "id": "bfabadb8-5935-45ff-b39c-db7a29012129"
   },
   "source": [
    "# Chapter 6: Finetuning for Text Classification"
   ]
  },
  {
   "cell_type": "code",
   "execution_count": 1,
   "id": "5b7e01c2-1c84-4f2a-bb51-2e0b74abda90",
   "metadata": {
    "colab": {
     "base_uri": "https://localhost:8080/"
    },
    "id": "5b7e01c2-1c84-4f2a-bb51-2e0b74abda90",
    "outputId": "9495f150-9d79-4910-d6e7-6c0d9aae4a41"
   },
   "outputs": [
    {
     "name": "stdout",
     "output_type": "stream",
     "text": [
      "matplotlib version: 3.9.0\n",
      "numpy version: 1.26.4\n",
      "tiktoken version: 0.7.0\n",
      "torch version: 2.4.0\n",
      "tensorflow version: 2.16.1\n",
      "pandas version: 2.2.2\n"
     ]
    }
   ],
   "source": [
    "from importlib.metadata import version\n",
    "\n",
    "pkgs = [\"matplotlib\",\n",
    "        \"numpy\",\n",
    "        \"tiktoken\",\n",
    "        \"torch\",\n",
    "        \"tensorflow\", # For OpenAI's pretrained weights\n",
    "        \"pandas\"      # Dataset loading\n",
    "       ]\n",
    "for p in pkgs:\n",
    "    print(f\"{p} version: {version(p)}\")"
   ]
  },
  {
   "cell_type": "markdown",
   "id": "a445828a-ff10-4efa-9f60-a2e2aed4c87d",
   "metadata": {},
   "source": [
    "<img src=\"https://sebastianraschka.com/images/LLMs-from-scratch-images/ch06_compressed/chapter-overview.webp\" width=500px>"
   ]
  },
  {
   "cell_type": "markdown",
   "id": "3a84cf35-b37f-4c15-8972-dfafc9fadc1c",
   "metadata": {
    "id": "3a84cf35-b37f-4c15-8972-dfafc9fadc1c"
   },
   "source": [
    "## 6.1 Different categories of finetuning"
   ]
  },
  {
   "cell_type": "markdown",
   "id": "ede3d731-5123-4f02-accd-c670ce50a5a3",
   "metadata": {
    "id": "ede3d731-5123-4f02-accd-c670ce50a5a3"
   },
   "source": [
    "- No code in this section"
   ]
  },
  {
   "cell_type": "markdown",
   "id": "ac45579d-d485-47dc-829e-43be7f4db57b",
   "metadata": {},
   "source": [
    "- The most common ways to finetune language models are instruction-finetuning and classification finetuning\n",
    "- Instruction-finetuning, depicted below, is the topic of the next chapter"
   ]
  },
  {
   "cell_type": "markdown",
   "id": "6c29ef42-46d9-43d4-8bb4-94974e1665e4",
   "metadata": {},
   "source": [
    "<img src=\"https://sebastianraschka.com/images/LLMs-from-scratch-images/ch06_compressed/instructions.webp\" width=500px>"
   ]
  },
  {
   "cell_type": "markdown",
   "id": "a7f60321-95b8-46a9-97bf-1d07fda2c3dd",
   "metadata": {},
   "source": [
    "- Classification finetuning, the topic of this chapter, is a procedure you may already be familiar with if you have a background in machine learning -- it's similar to training a convolutional network to classify handwritten digits, for example\n",
    "- In classification finetuning, we have a specific number of class labels (for example, \"spam\" and \"not spam\") that the model can output\n",
    "- A classification finetuned model can only predict classes it has seen during training (for example, \"spam\" or \"not spam\"), whereas an instruction-finetuned model can usually perform many tasks\n",
    "- We can think of a classification-finetuned model as a very specialized model; in practice, it is much easier to create a specialized model than a generalist model that performs well on many different tasks"
   ]
  },
  {
   "cell_type": "markdown",
   "id": "0b37a0c4-0bb1-4061-b1fe-eaa4416d52c3",
   "metadata": {},
   "source": [
    "<img src=\"https://sebastianraschka.com/images/LLMs-from-scratch-images/ch06_compressed/spam-non-spam.webp\" width=500px>"
   ]
  },
  {
   "cell_type": "markdown",
   "id": "8c7017a2-32aa-4002-a2f3-12aac293ccdf",
   "metadata": {
    "id": "8c7017a2-32aa-4002-a2f3-12aac293ccdf"
   },
   "source": [
    "## 6.2 Preparing the dataset"
   ]
  },
  {
   "cell_type": "markdown",
   "id": "5f628975-d2e8-4f7f-ab38-92bb868b7067",
   "metadata": {},
   "source": [
    "<img src=\"https://sebastianraschka.com/images/LLMs-from-scratch-images/ch06_compressed/overview-1.webp\" width=500px>"
   ]
  },
  {
   "cell_type": "markdown",
   "id": "9fbd459f-63fa-4d8c-8499-e23103156c7d",
   "metadata": {
    "id": "9fbd459f-63fa-4d8c-8499-e23103156c7d"
   },
   "source": [
    "- This section prepares the dataset we use for classification finetuning\n",
    "- We use a dataset consisting of spam and non-spam text messages to finetune the LLM to classify them\n",
    "- First, we download and unzip the dataset"
   ]
  },
  {
   "cell_type": "code",
   "execution_count": 2,
   "id": "def7c09b-af9c-4216-90ce-5e67aed1065c",
   "metadata": {
    "colab": {
     "base_uri": "https://localhost:8080/"
    },
    "id": "def7c09b-af9c-4216-90ce-5e67aed1065c",
    "outputId": "424e4423-f623-443c-ab9e-656f9e867559"
   },
   "outputs": [
    {
     "name": "stdout",
     "output_type": "stream",
     "text": [
      "File downloaded and saved as sms_spam_collection/SMSSpamCollection.tsv\n"
     ]
    }
   ],
   "source": [
    "import urllib.request\n",
    "import zipfile\n",
    "import os\n",
    "from pathlib import Path\n",
    "import pandas as pd\n",
    "\n",
    "# 定义要下载的文件的URL地址，这里是一个包含短信垃圾短信数据集的压缩文件链接\n",
    "url = \"https://archive.ics.uci.edu/static/public/228/sms+spam+collection.zip\"\n",
    "# 定义下载后保存的压缩文件的路径\n",
    "zip_path = \"sms_spam_collection.zip\"\n",
    "# 定义解压后文件保存的路径\n",
    "extracted_path = \"sms_spam_collection\"\n",
    "# 定义数据文件（解压后包含短信数据的TSV文件）的完整路径，通过Path对象拼接路径得到\n",
    "data_file_path = Path(extracted_path) / \"SMSSpamCollection.tsv\"\n",
    "\n",
    "def download_and_unzip_spam_data(url, zip_path, extracted_path, data_file_path):\n",
    "    \"\"\"\n",
    "    此函数用于从指定的URL下载一个压缩文件，然后将其解压到指定的路径，并将解压后的文件重命名为带有.tsv扩展名的文件。\n",
    "\n",
    "    参数:\n",
    "    - url: 要下载的文件的URL地址。\n",
    "    - zip_path: 下载后保存的压缩文件的路径。\n",
    "    - extracted_path: 解压后文件保存的路径。\n",
    "    - data_file_path: 数据文件（解压后包含短信数据的TSV文件）的完整路径。\n",
    "\n",
    "    无返回值，但会在控制台打印相关的操作信息，如文件是否已存在、下载和解压完成后的保存路径等。\n",
    "    \"\"\"\n",
    "    # 如果数据文件已经存在，就打印提示信息并直接返回，不再进行下载和解压操作\n",
    "    if data_file_path.exists():\n",
    "        print(f\"{data_file_path} already exists. Skipping download and extraction.\")\n",
    "        return\n",
    "\n",
    "    # 下载文件的操作\n",
    "    with urllib.request.urlopen(url) as response:\n",
    "        # 以二进制写入模式打开要保存的文件\n",
    "        with open(zip_path, \"wb\") as out_file:\n",
    "            # 将从URL读取到的内容写入到本地文件中\n",
    "            out_file.write(response.read())\n",
    "\n",
    "    # 解压文件的操作\n",
    "    with zipfile.ZipFile(zip_path, \"r\") as zip_ref:\n",
    "        # 将压缩文件中的所有内容解压到指定的路径下\n",
    "        zip_ref.extractall(extracted_path)\n",
    "\n",
    "    # 将解压后的文件重命名为带有.tsv扩展名的文件\n",
    "    original_file_path = Path(extracted_path) / \"SMSSpamCollection\"\n",
    "    os.rename(original_file_path, data_file_path)\n",
    "\n",
    "    print(f\"File downloaded and saved as {data_file_path}\")\n",
    "\n",
    "\n",
    "# 调用download_and_unzip_spam_data函数，传入相关参数，执行下载、解压和重命名等操作\n",
    "download_and_unzip_spam_data(url, zip_path, extracted_path, data_file_path)\n",
    "\n",
    "# 使用pandas库的read_csv函数读取刚刚处理好的TSV文件，将其转换为一个DataFrame对象\n",
    "# sep=\"\\t\"表示文件是用制表符（\\t）作为分隔符的\n",
    "# header=None表示文件中没有表头，需要我们自己指定列名\n",
    "# names=[\"Label\", \"Text\"]指定了两列的列名，分别为\"Label\"（表示短信是否为垃圾短信的标签）和\"Text\"（表示短信的文本内容）\n",
    "df = pd.read_csv(data_file_path, sep=\"\\t\", header=None, names=[\"Label\", \"Text\"])\n",
    "\n",
    "# 最后将读取到的DataFrame对象打印出来，展示数据的基本情况，包括行数、列数以及具体的数据内容等\n",
    "df"
   ]
  },
  {
   "cell_type": "markdown",
   "id": "6aac2d19-06d0-4005-916b-0bd4b1ee50d1",
   "metadata": {
    "id": "6aac2d19-06d0-4005-916b-0bd4b1ee50d1"
   },
   "source": [
    "- The dataset is saved as a tab-separated text file, which we can load into a pandas DataFrame"
   ]
  },
  {
   "cell_type": "code",
   "execution_count": 3,
   "id": "da0ed4da-ac31-4e4d-8bdd-2153be4656a4",
   "metadata": {
    "colab": {
     "base_uri": "https://localhost:8080/",
     "height": 423
    },
    "id": "da0ed4da-ac31-4e4d-8bdd-2153be4656a4",
    "outputId": "a16c5cde-d341-4887-a93f-baa9bec542ab"
   },
   "outputs": [
    {
     "data": {
      "text/html": [
       "<div>\n",
       "<style scoped>\n",
       "    .dataframe tbody tr th:only-of-type {\n",
       "        vertical-align: middle;\n",
       "    }\n",
       "\n",
       "    .dataframe tbody tr th {\n",
       "        vertical-align: top;\n",
       "    }\n",
       "\n",
       "    .dataframe thead th {\n",
       "        text-align: right;\n",
       "    }\n",
       "</style>\n",
       "<table border=\"1\" class=\"dataframe\">\n",
       "  <thead>\n",
       "    <tr style=\"text-align: right;\">\n",
       "      <th></th>\n",
       "      <th>Label</th>\n",
       "      <th>Text</th>\n",
       "    </tr>\n",
       "  </thead>\n",
       "  <tbody>\n",
       "    <tr>\n",
       "      <th>0</th>\n",
       "      <td>ham</td>\n",
       "      <td>Go until jurong point, crazy.. Available only ...</td>\n",
       "    </tr>\n",
       "    <tr>\n",
       "      <th>1</th>\n",
       "      <td>ham</td>\n",
       "      <td>Ok lar... Joking wif u oni...</td>\n",
       "    </tr>\n",
       "    <tr>\n",
       "      <th>2</th>\n",
       "      <td>spam</td>\n",
       "      <td>Free entry in 2 a wkly comp to win FA Cup fina...</td>\n",
       "    </tr>\n",
       "    <tr>\n",
       "      <th>3</th>\n",
       "      <td>ham</td>\n",
       "      <td>U dun say so early hor... U c already then say...</td>\n",
       "    </tr>\n",
       "    <tr>\n",
       "      <th>4</th>\n",
       "      <td>ham</td>\n",
       "      <td>Nah I don't think he goes to usf, he lives aro...</td>\n",
       "    </tr>\n",
       "    <tr>\n",
       "      <th>...</th>\n",
       "      <td>...</td>\n",
       "      <td>...</td>\n",
       "    </tr>\n",
       "    <tr>\n",
       "      <th>5567</th>\n",
       "      <td>spam</td>\n",
       "      <td>This is the 2nd time we have tried 2 contact u...</td>\n",
       "    </tr>\n",
       "    <tr>\n",
       "      <th>5568</th>\n",
       "      <td>ham</td>\n",
       "      <td>Will ü b going to esplanade fr home?</td>\n",
       "    </tr>\n",
       "    <tr>\n",
       "      <th>5569</th>\n",
       "      <td>ham</td>\n",
       "      <td>Pity, * was in mood for that. So...any other s...</td>\n",
       "    </tr>\n",
       "    <tr>\n",
       "      <th>5570</th>\n",
       "      <td>ham</td>\n",
       "      <td>The guy did some bitching but I acted like i'd...</td>\n",
       "    </tr>\n",
       "    <tr>\n",
       "      <th>5571</th>\n",
       "      <td>ham</td>\n",
       "      <td>Rofl. Its true to its name</td>\n",
       "    </tr>\n",
       "  </tbody>\n",
       "</table>\n",
       "<p>5572 rows × 2 columns</p>\n",
       "</div>"
      ],
      "text/plain": [
       "     Label                                               Text\n",
       "0      ham  Go until jurong point, crazy.. Available only ...\n",
       "1      ham                      Ok lar... Joking wif u oni...\n",
       "2     spam  Free entry in 2 a wkly comp to win FA Cup fina...\n",
       "3      ham  U dun say so early hor... U c already then say...\n",
       "4      ham  Nah I don't think he goes to usf, he lives aro...\n",
       "...    ...                                                ...\n",
       "5567  spam  This is the 2nd time we have tried 2 contact u...\n",
       "5568   ham               Will ü b going to esplanade fr home?\n",
       "5569   ham  Pity, * was in mood for that. So...any other s...\n",
       "5570   ham  The guy did some bitching but I acted like i'd...\n",
       "5571   ham                         Rofl. Its true to its name\n",
       "\n",
       "[5572 rows x 2 columns]"
      ]
     },
     "execution_count": 3,
     "metadata": {},
     "output_type": "execute_result"
    }
   ],
   "source": [
    "import pandas as pd\n",
    "\n",
    "# 使用pandas库的read_csv函数来读取之前处理好并确定路径的短信数据集文件（data_file_path所指向的文件）。\n",
    "# read_csv函数是pandas中用于读取逗号分隔值（CSV）格式文件的常用函数，在这里也可以用来读取以制表符（\\t）分隔的文件。\n",
    "\n",
    "# 参数解释：\n",
    "# - sep=\"\\t\"：指定文件的分隔符为制表符（\\t），因为我们的数据集文件是用制表符来分隔每一行中的不同数据项的。\n",
    "# - header=None：表示该文件没有自带的表头行，即文件第一行就是实际的数据内容，而不是列名信息。\n",
    "# - names=[\"Label\", \"Text\"]：由于文件没有表头，我们在这里手动指定了两列的列名，分别为\"Label\"和\"Text\"。\"Label\"列预计用于存储短信是否为垃圾短信的标签信息，\"Text\"列则用于存储短信的具体文本内容。\n",
    "\n",
    "df = pd.read_csv(data_file_path, sep=\"\\t\", header=None, names=[\"Label\", \"Text\"])\n",
    "\n",
    "# 将读取到的数据存储在名为df的DataFrame对象中。DataFrame是pandas库中用于处理二维表格数据的核心数据结构，它类似于电子表格或数据库表，具有行和列，可以方便地进行各种数据操作和分析。\n",
    "\n",
    "# 最后再次输出df，这一步主要是为了在控制台展示读取到的数据内容，以便直观地查看数据集的基本情况，比如查看数据的行数、列数，以及具体的短信文本内容和对应的标签等信息。\n",
    "df"
   ]
  },
  {
   "cell_type": "markdown",
   "id": "e7b6e631-4f0b-4aab-82b9-8898e6663109",
   "metadata": {
    "id": "e7b6e631-4f0b-4aab-82b9-8898e6663109"
   },
   "source": [
    "- When we check the class distribution, we see that the data contains \"ham\" (i.e., \"not spam\") much more frequently than \"spam\""
   ]
  },
  {
   "cell_type": "code",
   "execution_count": 4,
   "id": "495a5280-9d7c-41d4-9719-64ab99056d4c",
   "metadata": {
    "colab": {
     "base_uri": "https://localhost:8080/"
    },
    "id": "495a5280-9d7c-41d4-9719-64ab99056d4c",
    "outputId": "761e0482-43ba-4f46-f4b7-6774dae51b38"
   },
   "outputs": [
    {
     "name": "stdout",
     "output_type": "stream",
     "text": [
      "Label\n",
      "ham     4825\n",
      "spam     747\n",
      "Name: count, dtype: int64\n"
     ]
    }
   ],
   "source": [
    "print(df[\"Label\"].value_counts())"
   ]
  },
  {
   "cell_type": "markdown",
   "id": "f773f054-0bdc-4aad-bbf6-397621bf63db",
   "metadata": {
    "id": "f773f054-0bdc-4aad-bbf6-397621bf63db"
   },
   "source": [
    "- For simplicity, and because we prefer a small dataset for educational purposes anyway (it will make it possible to finetune the LLM faster), we subsample (undersample) the dataset so that it contains 747 instances from each class\n",
    "- (Next to undersampling, there are several other ways to deal with class balances, but they are out of the scope of a book on LLMs; you can find examples and more information in the [`imbalanced-learn` user guide](https://imbalanced-learn.org/stable/user_guide.html))"
   ]
  },
  {
   "cell_type": "code",
   "execution_count": 5,
   "id": "7be4a0a2-9704-4a96-b38f-240339818688",
   "metadata": {
    "colab": {
     "base_uri": "https://localhost:8080/"
    },
    "id": "7be4a0a2-9704-4a96-b38f-240339818688",
    "outputId": "396dc415-cb71-4a88-e85d-d88201c6d73f"
   },
   "outputs": [
    {
     "name": "stdout",
     "output_type": "stream",
     "text": [
      "Label\n",
      "ham     747\n",
      "spam    747\n",
      "Name: count, dtype: int64\n"
     ]
    }
   ],
   "source": [
    "def create_balanced_dataset(df):\n",
    "    \n",
    "    # Count the instances of \"spam\"\n",
    "    num_spam = df[df[\"Label\"] == \"spam\"].shape[0]\n",
    "    \n",
    "    # Randomly sample \"ham\" instances to match the number of \"spam\" instances\n",
    "    ham_subset = df[df[\"Label\"] == \"ham\"].sample(num_spam, random_state=123)\n",
    "    \n",
    "    # Combine ham \"subset\" with \"spam\"\n",
    "    balanced_df = pd.concat([ham_subset, df[df[\"Label\"] == \"spam\"]])\n",
    "\n",
    "    return balanced_df\n",
    "\n",
    "balanced_df = create_balanced_dataset(df)\n",
    "print(balanced_df[\"Label\"].value_counts())"
   ]
  },
  {
   "cell_type": "markdown",
   "id": "d3fd2f5a-06d8-4d30-a2e3-230b86c559d6",
   "metadata": {
    "id": "d3fd2f5a-06d8-4d30-a2e3-230b86c559d6"
   },
   "source": [
    "- Next, we change the string class labels \"ham\" and \"spam\" into integer class labels 0 and 1:"
   ]
  },
  {
   "cell_type": "code",
   "execution_count": 6,
   "id": "c1b10c3d-5d57-42d0-8de8-cf80a06f5ffd",
   "metadata": {
    "id": "c1b10c3d-5d57-42d0-8de8-cf80a06f5ffd"
   },
   "outputs": [],
   "source": [
    "balanced_df[\"Label\"] = balanced_df[\"Label\"].map({\"ham\": 0, \"spam\": 1})"
   ]
  },
  {
   "cell_type": "markdown",
   "id": "5715e685-35b4-4b45-a86c-8a8694de9d6f",
   "metadata": {
    "id": "5715e685-35b4-4b45-a86c-8a8694de9d6f"
   },
   "source": [
    "- Let's now define a function that randomly divides the dataset into training, validation, and test subsets"
   ]
  },
  {
   "cell_type": "code",
   "execution_count": 7,
   "id": "uQl0Psdmx15D",
   "metadata": {
    "id": "uQl0Psdmx15D"
   },
   "outputs": [],
   "source": [
    "def random_split(df, train_frac, validation_frac):\n",
    "    \"\"\"\n",
    "    此函数用于将输入的DataFrame按照指定的比例随机划分为训练集、验证集和测试集。\n",
    "\n",
    "    参数:\n",
    "    - df: 要进行划分的原始DataFrame对象，包含了待划分的数据。\n",
    "    - train_frac: 训练集所占的比例，是一个介于0到1之间的小数，表示训练集在整个数据集中所占的份额。\n",
    "    - validation_frac: 验证集所占的比例，同样是一个介于0到1之间的小数，表示验证集在整个数据集中所占的份额。\n",
    "\n",
    "    返回值:\n",
    "    - train_df, validation_df, test_df: 分别返回划分好的训练集、验证集和测试集对应的DataFrame对象。\n",
    "    \"\"\"\n",
    "\n",
    "    # 对整个DataFrame进行随机打乱操作\n",
    "    # sample(frac=1)表示按照100%的比例对DataFrame进行随机抽样，实际上就是打乱了DataFrame中数据的顺序\n",
    "    # random_state=123用于设置随机种子，这样可以保证每次运行此函数时，只要随机种子不变，得到的打乱结果是相同的，便于重现实验结果\n",
    "    # reset_index(drop=True)用于重置索引，将打乱后的DataFrame的索引重新设置为从0开始的连续整数，并且丢弃原来的索引\n",
    "    df = df.sample(frac=1, random_state=123).reset_index(drop=True)\n",
    "\n",
    "    # 计算划分训练集、验证集和测试集的索引位置\n",
    "\n",
    "    # 计算训练集结束的索引位置，通过将DataFrame的总长度乘以训练集所占的比例，然后取整得到\n",
    "    train_end = int(len(df) * train_frac)\n",
    "\n",
    "    # 计算验证集结束的索引位置，先计算出训练集的结束索引，再加上通过将DataFrame的总长度乘以验证集所占的比例并取整得到的值\n",
    "    validation_end = train_end + int(len(df) * validation_frac)\n",
    "\n",
    "    # 根据计算出的索引位置对DataFrame进行划分\n",
    "\n",
    "    # 选取从开始到训练集结束索引位置的数据作为训练集，切片操作df[:train_end]实现了这一点\n",
    "    train_df = df[:train_end]\n",
    "\n",
    "    # 选取从训练集结束索引位置到验证集结束索引位置的数据作为验证集，切片操作df[train_end:validation_end]实现了这一点\n",
    "    validation_df = df[train_end:validation_end]\n",
    "\n",
    "    # 选取从验证集结束索引位置到DataFrame末尾的数据作为测试集，切片操作df[validation_end:]实现了这一点\n",
    "    test_df = df[validation_end:]\n",
    "\n",
    "    return train_df, validation_df, test_df\n",
    "\n",
    "\n",
    "# 调用random_split函数，将balanced_df按照训练集占0.7、验证集占0.1的比例进行划分\n",
    "# 这里隐含的测试集比例为0.2，因为整个数据集按照比例划分后，剩下的部分就是测试集所占的份额\n",
    "train_df, validation_df, test_df = random_split(balanced_df, 0.7, 0.1)\n",
    "\n",
    "# 将划分好的训练集保存为名为\"train.csv\"的文件，设置index=None表示不保存索引列，只保存数据内容\n",
    "train_df.to_csv(\"train.csv\", index=None)\n",
    "\n",
    "# 将划分好的验证集保存为名为\"validation.csv\"的文件，同样设置index=None不保存索引列\n",
    "validation_df.to_csv(\"validation.csv\", index=None)\n",
    "\n",
    "# 将划分好的测试集保存为名为\"test.csv\"的文件，也设置index=None不保存索引列\n",
    "test_df.to_csv(\"test.csv\", index=None)"
   ]
  },
  {
   "cell_type": "markdown",
   "id": "a8d7a0c5-1d5f-458a-b685-3f49520b0094",
   "metadata": {},
   "source": [
    "## 6.3 Creating data loaders"
   ]
  },
  {
   "cell_type": "markdown",
   "id": "7126108a-75e7-4862-b0fb-cbf59a18bb6c",
   "metadata": {
    "id": "7126108a-75e7-4862-b0fb-cbf59a18bb6c"
   },
   "source": [
    "- Note that the text messages have different lengths; if we want to combine multiple training examples in a batch, we have to either\n",
    "  1. truncate all messages to the length of the shortest message in the dataset or batch\n",
    "  2. pad all messages to the length of the longest message in the dataset or batch\n",
    "\n",
    "- We choose option 2 and pad all messages to the longest message in the dataset\n",
    "- For that, we use `<|endoftext|>` as a padding token, as discussed in chapter 2"
   ]
  },
  {
   "cell_type": "markdown",
   "id": "0829f33f-1428-4f22-9886-7fee633b3666",
   "metadata": {},
   "source": [
    "<img src=\"https://sebastianraschka.com/images/LLMs-from-scratch-images/ch06_compressed/pad-input-sequences.webp?123\" width=500px>"
   ]
  },
  {
   "cell_type": "code",
   "execution_count": 8,
   "id": "74c3c463-8763-4cc0-9320-41c7eaad8ab7",
   "metadata": {
    "colab": {
     "base_uri": "https://localhost:8080/"
    },
    "id": "74c3c463-8763-4cc0-9320-41c7eaad8ab7",
    "outputId": "b5b48439-32c8-4b37-cca2-c9dc8fa86563"
   },
   "outputs": [
    {
     "name": "stdout",
     "output_type": "stream",
     "text": [
      "[50256]\n"
     ]
    }
   ],
   "source": [
    "import tiktoken\n",
    "\n",
    "tokenizer = tiktoken.get_encoding(\"gpt2\")\n",
    "print(tokenizer.encode(\"<|endoftext|>\", allowed_special={\"<|endoftext|>\"}))"
   ]
  },
  {
   "cell_type": "markdown",
   "id": "04f582ff-68bf-450e-bd87-5fb61afe431c",
   "metadata": {
    "id": "04f582ff-68bf-450e-bd87-5fb61afe431c"
   },
   "source": [
    "- The `SpamDataset` class below identifies the longest sequence in the training dataset and adds the padding token to the others to match that sequence length"
   ]
  },
  {
   "cell_type": "code",
   "execution_count": 9,
   "id": "d7791b52-af18-4ac4-afa9-b921068e383e",
   "metadata": {
    "id": "d7791b52-af18-4ac4-afa9-b921068e383e"
   },
   "outputs": [],
   "source": [
    "import torch\n",
    "from torch.utils.data import Dataset\n",
    "import pandas as pd\n",
    "\n",
    "\n",
    "class SpamDataset(Dataset):\n",
    "    \"\"\"\n",
    "    SpamDataset类是一个自定义的数据集类，用于处理短信垃圾短信分类任务中的数据。\n",
    "    它继承自PyTorch的Dataset类，以便能够与PyTorch的数据加载器（DataLoader）等工具配合使用。\n",
    "\n",
    "    该数据集类的主要功能是读取包含短信文本和标签的CSV文件，对短信文本进行分词编码、截断和填充等预处理操作，\n",
    "    然后能够根据索引提供单个数据样本（包括编码后的短信文本和对应的标签），并返回数据集的大小。\n",
    "    \"\"\"\n",
    "\n",
    "    def __init__(self, csv_file, tokenizer, max_length=None, pad_token_id=50256):\n",
    "        \"\"\"\n",
    "        类的初始化方法，用于设置数据集的相关属性和进行数据预处理。\n",
    "\n",
    "        参数:\n",
    "        - csv_file: 包含短信数据的CSV文件的路径，该文件应包含两列，一列是短信的文本内容（\"Text\"列），另一列是短信是否为垃圾短信的标签（\"Label\"列）。\n",
    "        - tokenizer: 分词器对象，用于对短信文本进行分词和编码操作，将文本转换为模型可处理的编码形式。\n",
    "        - max_length: 可选参数，用于指定短信编码序列的最大长度。如果未指定（即None），则会自动计算数据集中最长的编码序列长度作为最大长度。\n",
    "        - pad_token_id: 填充标记的ID，用于在短信编码序列长度不足最大长度时进行填充，使其达到最大长度，默认值为50256。\n",
    "        \"\"\"\n",
    "        # 读取CSV文件并将数据存储在self.data属性中，self.data是一个DataFrame对象，包含了短信文本和标签信息\n",
    "        self.data = pd.read_csv(csv_file)\n",
    "\n",
    "        # 对数据集中的每条短信文本进行分词和编码操作\n",
    "        # 使用tokenizer的encode方法对每条短信的文本内容进行处理，将其转换为编码形式，\n",
    "        # 并将所有编码后的短信文本存储在self.encoded_texts列表中\n",
    "        self.encoded_texts = [\n",
    "            tokenizer.encode(text) for text in self.data[\"Text\"]\n",
    "        ]\n",
    "\n",
    "        if max_length is None:\n",
    "            # 如果未指定最大长度，调用_longest_encoded_length方法来计算数据集中最长的编码序列长度，\n",
    "            # 并将其设置为self.max_length属性的值，即自动确定最大长度\n",
    "            self.max_length = self._longest_encoded_length()\n",
    "        else:\n",
    "            # 如果指定了最大长度，将其赋值给self.max_length属性\n",
    "            self.max_length = max_length\n",
    "            # 对于长度超过最大长度的编码序列，进行截断操作，只保留前max_length个编码元素\n",
    "            self.encoded_texts = [\n",
    "                encoded_text[:self.max_length]\n",
    "                for encoded_text in self.encoded_texts\n",
    "                ]\n",
    "\n",
    "        # 对编码后的短信文本进行填充操作，使所有短信编码序列的长度都达到self.max_length\n",
    "        # 通过在编码序列末尾添加填充标记（pad_token_id）来实现填充，添加的填充标记数量为self.max_length减去编码序列的原始长度\n",
    "        self.encoded_texts = [\n",
    "            encoded_text + [pad_token_id] * (self.max_length - len(encoded_text))\n",
    "            for encoded_text in self.encoded_texts\n",
    "            ]\n",
    "\n",
    "    def __getitem__(self, index):\n",
    "        \"\"\"\n",
    "        根据给定的索引获取数据集中的单个数据样本。\n",
    "\n",
    "        参数:\n",
    "        - index: 要获取的数据样本的索引。\n",
    "\n",
    "        返回值:\n",
    "        - 返回一个包含编码后的短信文本和对应的标签的元组。\n",
    "        编码后的短信文本是一个torch.tensor类型的张量，数据类型为torch.long；对应的标签也是一个torch.tensor类型的张量，数据类型为torch.long。\n",
    "        \"\"\"\n",
    "        # 根据索引获取编码后的短信文本\n",
    "        encoded = self.encoded_texts[index]\n",
    "        # 根据索引从self.data中获取对应的短信标签\n",
    "        label = self.data.iloc[index][\"Label\"]\n",
    "        return (\n",
    "            torch.tensor(encoded, dtype=torch.long),\n",
    "            torch.tensor(label, dtype=torch.long)\n",
    "        )\n",
    "\n",
    "    def __len__(self):\n",
    "        \"\"\"\n",
    "        返回数据集的大小，即数据集中包含的数据样本数量。\n",
    "\n",
    "        返回值:\n",
    "        - 返回一个整数，表示数据集的大小，其值等于self.data中包含的行数，也就是短信数据的数量。\n",
    "        \"\"\"\n",
    "        return len(self.data)\n",
    "\n",
    "    def _longest_encoded_length(self):\n",
    "        \"\"\"\n",
    "        计算数据集中最长的编码序列长度的私有方法。\n",
    "\n",
    "        返回值:\n",
    "        - 返回一个整数，表示数据集中最长的编码序列长度。\n",
    "        \"\"\"\n",
    "        max_length = 0\n",
    "        for encoded_text in self.encoded_texts:\n",
    "            encoded_length = len(encoded_text)\n",
    "            if encoded_length > max_length:\n",
    "                max_length = encoded_length\n",
    "        return max_length"
   ]
  },
  {
   "cell_type": "code",
   "execution_count": 10,
   "id": "uzj85f8ou82h",
   "metadata": {
    "colab": {
     "base_uri": "https://localhost:8080/"
    },
    "id": "uzj85f8ou82h",
    "outputId": "d08f1cf0-c24d-445f-a3f8-793532c3716f"
   },
   "outputs": [
    {
     "name": "stdout",
     "output_type": "stream",
     "text": [
      "120\n"
     ]
    }
   ],
   "source": [
    "train_dataset = SpamDataset(\n",
    "    csv_file=\"train.csv\",\n",
    "    max_length=None,\n",
    "    tokenizer=tokenizer\n",
    ")\n",
    "\n",
    "print(train_dataset.max_length)"
   ]
  },
  {
   "cell_type": "markdown",
   "id": "15bdd932-97eb-4b88-9cf9-d766ea4c3a60",
   "metadata": {},
   "source": [
    "- We also pad the validation and test set to the longest training sequence\n",
    "- Note that validation and test set samples that are longer than the longest training example are being truncated via `encoded_text[:self.max_length]` in the `SpamDataset` code\n",
    "- This behavior is entirely optional, and it would also work well if we set `max_length=None` in both the validation and test set cases"
   ]
  },
  {
   "cell_type": "code",
   "execution_count": 11,
   "id": "bb0c502d-a75e-4248-8ea0-196e2b00c61e",
   "metadata": {
    "id": "bb0c502d-a75e-4248-8ea0-196e2b00c61e"
   },
   "outputs": [],
   "source": [
    "val_dataset = SpamDataset(\n",
    "    csv_file=\"validation.csv\",\n",
    "    max_length=train_dataset.max_length,\n",
    "    tokenizer=tokenizer\n",
    ")\n",
    "test_dataset = SpamDataset(\n",
    "    csv_file=\"test.csv\",\n",
    "    max_length=train_dataset.max_length,\n",
    "    tokenizer=tokenizer\n",
    ")"
   ]
  },
  {
   "cell_type": "markdown",
   "id": "20170d89-85a0-4844-9887-832f5d23432a",
   "metadata": {},
   "source": [
    "- Next, we use the dataset to instantiate the data loaders, which is similar to creating the data loaders in previous chapters"
   ]
  },
  {
   "cell_type": "markdown",
   "id": "64bcc349-205f-48f8-9655-95ff21f5e72f",
   "metadata": {},
   "source": [
    "<img src=\"https://sebastianraschka.com/images/LLMs-from-scratch-images/ch06_compressed/batch.webp\" width=500px>"
   ]
  },
  {
   "cell_type": "code",
   "execution_count": 12,
   "id": "8681adc0-6f02-4e75-b01a-a6ab75d05542",
   "metadata": {
    "colab": {
     "base_uri": "https://localhost:8080/"
    },
    "id": "8681adc0-6f02-4e75-b01a-a6ab75d05542",
    "outputId": "3266c410-4fdb-4a8c-a142-7f707e2525ab"
   },
   "outputs": [],
   "source": [
    "from torch.utils.data import DataLoader\n",
    "\n",
    "# 设置用于数据加载的工作进程数量为0，即不使用多进程来加载数据，数据加载将在主线程中进行。\n",
    "# 当num_workers为0时，数据加载相对简单直接，但在处理大规模数据时可能会比较慢。\n",
    "# 如果设置为大于0的值，例如num_workers = 4，就会启用4个工作进程来并行加载数据，可加快数据加载速度，但可能会占用更多系统资源。\n",
    "num_workers = 0\n",
    "# 设置每个批次的数据样本数量为8，即每次从数据集中取出8个数据样本组成一个批次，用于后续的模型训练、评估等操作。\n",
    "batch_size = 8\n",
    "\n",
    "# 设置随机种子为123，这一步很重要，因为在后续涉及到数据加载过程中的随机操作（如shuffle=True时的数据集打乱操作）时，\n",
    "# 设置相同的随机种子可以保证每次运行程序都能得到相同的随机结果，便于调试和重现实验结果。\n",
    "torch.manual_seed(123)\n",
    "\n",
    "# 使用DataLoader类创建训练数据加载器train_loader，用于按批次加载训练数据集train_dataset。\n",
    "train_loader = DataLoader(\n",
    "    # 指定要加载的数据集为之前已经准备好的训练数据集train_dataset。\n",
    "    dataset=train_dataset,\n",
    "    # 设置每个批次的大小为batch_size，即每次加载8个数据样本作为一个批次。\n",
    "    batch_size=batch_size,\n",
    "    # 设置为True，表示在每个 epoch（训练轮次）开始前，会对训练数据集进行随机打乱操作，这样可以使模型在不同轮次训练中以不同顺序接触到数据，有助于提高模型的泛化能力。\n",
    "    shuffle=True,\n",
    "    # 设置用于数据加载的工作进程数量为num_workers，这里是0，即不使用多进程加载数据。\n",
    "    num_workers=num_workers,\n",
    "    # 设置为True，表示如果最后一个批次的样本数量不足batch_size，就丢弃这个批次。\n",
    "    # 这样做的好处是可以保证每个批次的大小都是固定的batch_size，方便后续的模型训练操作，例如在计算损失函数等时，批次大小固定会更便于处理。\n",
    "    drop_last=True,\n",
    ")\n",
    "\n",
    "# 使用DataLoader类创建验证数据加载器val_loader，用于按批次加载验证数据集val_dataset。\n",
    "val_loader = DataLoader(\n",
    "    dataset=val_dataset,\n",
    "    batch_size=batch_size,\n",
    "    num_workers=num_workers,\n",
    "    drop_last=False,\n",
    ")\n",
    "\n",
    "# 使用DataLoader类创建测试数据加载器test_loader，用于按批次加载测试数据集test_dataset。\n",
    "test_loader = DataLoader(\n",
    "    dataset=test_dataset,\n",
    "    batch_size=batch_size,\n",
    "    num_workers=num_workers,\n",
    "    drop_last=False,\n",
    ")"
   ]
  },
  {
   "cell_type": "markdown",
   "id": "ab7335db-e0bb-4e27-80c5-eea11e593a57",
   "metadata": {},
   "source": [
    "- As a verification step, we iterate through the data loaders and ensure that the batches contain 8 training examples each, where each training example consists of 120 tokens"
   ]
  },
  {
   "cell_type": "code",
   "execution_count": 13,
   "id": "4dee6882-4c3a-4964-af15-fa31f86ad047",
   "metadata": {},
   "outputs": [
    {
     "name": "stdout",
     "output_type": "stream",
     "text": [
      "Train loader:\n",
      "Input batch dimensions: torch.Size([8, 120])\n",
      "Label batch dimensions torch.Size([8])\n"
     ]
    }
   ],
   "source": [
    "print(\"Train loader:\")\n",
    "for input_batch, target_batch in train_loader:\n",
    "    pass\n",
    "\n",
    "print(\"Input batch dimensions:\", input_batch.shape)\n",
    "print(\"Label batch dimensions\", target_batch.shape)"
   ]
  },
  {
   "cell_type": "markdown",
   "id": "5cdd7947-7039-49bf-8a5e-c0a2f4281ca1",
   "metadata": {},
   "source": [
    "- Lastly, let's print the total number of batches in each dataset"
   ]
  },
  {
   "cell_type": "code",
   "execution_count": 14,
   "id": "IZfw-TYD2zTj",
   "metadata": {
    "colab": {
     "base_uri": "https://localhost:8080/"
    },
    "id": "IZfw-TYD2zTj",
    "outputId": "6934bbf2-9797-4fbe-d26b-1a246e18c2fb"
   },
   "outputs": [
    {
     "name": "stdout",
     "output_type": "stream",
     "text": [
      "130 training batches\n",
      "19 validation batches\n",
      "38 test batches\n"
     ]
    }
   ],
   "source": [
    "print(f\"{len(train_loader)} training batches\")\n",
    "print(f\"{len(val_loader)} validation batches\")\n",
    "print(f\"{len(test_loader)} test batches\")"
   ]
  },
  {
   "cell_type": "markdown",
   "id": "d1c4f61a-5f5d-4b3b-97cf-151b617d1d6c",
   "metadata": {
    "id": "d1c4f61a-5f5d-4b3b-97cf-151b617d1d6c"
   },
   "source": [
    "## 6.4 Initializing a model with pretrained weights"
   ]
  },
  {
   "cell_type": "markdown",
   "id": "97e1af8b-8bd1-4b44-8b8b-dc031496e208",
   "metadata": {},
   "source": [
    "- In this section, we initialize the pretrained model we worked with in the previous chapter\n",
    "\n",
    "<img src=\"https://sebastianraschka.com/images/LLMs-from-scratch-images/ch06_compressed/overview-2.webp\" width=500px>"
   ]
  },
  {
   "cell_type": "code",
   "execution_count": 15,
   "id": "2992d779-f9fb-4812-a117-553eb790a5a9",
   "metadata": {
    "id": "2992d779-f9fb-4812-a117-553eb790a5a9"
   },
   "outputs": [],
   "source": [
    "# 选择要使用的模型名称，这里选择了\"gpt2-small (124M)\"，后续会根据这个选择来配置相应的模型参数。\n",
    "CHOOSE_MODEL = \"gpt2-small (124M)\"\n",
    "# 定义输入提示文本，该文本将作为模型生成后续内容的起始输入，这里是\"Every effort moves\"。\n",
    "INPUT_PROMPT = \"Every effort moves\"\n",
    "\n",
    "# 定义基础配置字典，包含了一些模型的通用配置参数。\n",
    "BASE_CONFIG = {\n",
    "    # 词汇表大小，这里设置为50257，表示模型所能处理的词汇数量。\n",
    "    \"vocab_size\": 50257,\n",
    "    # 上下文长度，即模型在处理文本时能够考虑的前后文的最大长度，这里设置为1024。\n",
    "    \"context_length\": 1024,\n",
    "    # 丢弃率，用于在模型训练过程中的Dropout操作，这里设置为0.0，表示不进行丢弃操作（即关闭Dropout）。\n",
    "    \"drop_rate\": 0.0,\n",
    "    # 查询 - 键 - 值（Query - Key - Value）是否有偏置，这里设置为True，表示启用QKV偏置。\n",
    "    \"qkv_bias\": True\n",
    "}\n",
    "\n",
    "# 定义一个字典，存储不同规模的GPT2模型的特定配置参数，每个键是模型名称，对应的值是一个包含该模型特定参数的字典。\n",
    "model_configs = {\n",
    "    \"gpt2-small (124M)\": {\"emb_dim\": 768, \"n_layers\": 12, \"n_heads\": 12},\n",
    "    \"gpt2-medium (355M)\": {\"emb_dim\": 1024, \"n_layers\": 24, \"n_heads\": 16},\n",
    "    \"gpt2-large (774M)\": {\"emb_dim\": 1280, \"n_layers\": 36, \"n_heads\": 20},\n",
    "    \"gpt2-xl (1558M)\": {\"emb_dim\": 1600, \"n_layers\": 48, \"n_heads\": 25},\n",
    "}\n",
    "\n",
    "# 将根据选择的模型名称（CHOOSE_MODEL）对应的特定配置参数更新到基础配置字典BASE_CONFIG中。\n",
    "# 这样，BASE_CONFIG就包含了所选模型的完整配置信息，包括通用配置和特定配置。\n",
    "BASE_CONFIG.update(model_configs[CHOOSE_MODEL])\n",
    "\n",
    "# 进行断言检查，确保训练数据集的最大长度不超过模型的上下文长度。\n",
    "# 如果训练数据集的最大长度超过了模型的上下文长度，就会抛出异常，并给出相应的提示信息，告知用户需要重新初始化数据集，设置合适的最大长度。\n",
    "assert train_dataset.max_length <= BASE_CONFIG[\"context_length\"], (\n",
    "    f\"Dataset length {train_dataset.max_length} exceeds model's context \"\n",
    "    f\"length {BASE_CONFIG['context_length']}. Reinitialize data sets with \"\n",
    "    f\"`max_length={BASE_CONFIG['context_length']}`\"\n",
    ")"
   ]
  },
  {
   "cell_type": "code",
   "execution_count": 16,
   "id": "022a649a-44f5-466c-8a8e-326c063384f5",
   "metadata": {
    "colab": {
     "base_uri": "https://localhost:8080/"
    },
    "id": "022a649a-44f5-466c-8a8e-326c063384f5",
    "outputId": "7091e401-8442-4f47-a1d9-ecb42a1ef930"
   },
   "outputs": [
    {
     "name": "stderr",
     "output_type": "stream",
     "text": [
      "checkpoint: 100%|███████████████████████████| 77.0/77.0 [00:00<00:00, 24.2kiB/s]\n",
      "encoder.json: 100%|███████████████████████| 1.04M/1.04M [00:00<00:00, 2.53MiB/s]\n",
      "hparams.json: 100%|█████████████████████████| 90.0/90.0 [00:00<00:00, 37.4kiB/s]\n",
      "model.ckpt.data-00000-of-00001: 100%|███████| 498M/498M [00:24<00:00, 20.7MiB/s]\n",
      "model.ckpt.index: 100%|████████████████████| 5.21k/5.21k [00:00<00:00, 924kiB/s]\n",
      "model.ckpt.meta: 100%|██████████████████████| 471k/471k [00:00<00:00, 1.89MiB/s]\n",
      "vocab.bpe: 100%|████████████████████████████| 456k/456k [00:00<00:00, 1.79MiB/s]\n"
     ]
    }
   ],
   "source": [
    "from gpt_download import download_and_load_gpt2\n",
    "from previous_chapters import GPTModel, load_weights_into_gpt\n",
    "\n",
    "model_size = CHOOSE_MODEL.split(\" \")[-1].lstrip(\"(\").rstrip(\")\")\n",
    "settings, params = download_and_load_gpt2(model_size=model_size, models_dir=\"gpt2\")\n",
    "\n",
    "model = GPTModel(BASE_CONFIG)\n",
    "load_weights_into_gpt(model, params)\n",
    "model.eval();"
   ]
  },
  {
   "cell_type": "markdown",
   "id": "ab8e056c-abe0-415f-b34d-df686204259e",
   "metadata": {},
   "source": [
    "- To ensure that the model was loaded correctly, let's double-check that it generates coherent text"
   ]
  },
  {
   "cell_type": "code",
   "execution_count": 17,
   "id": "d8ac25ff-74b1-4149-8dc5-4c429d464330",
   "metadata": {},
   "outputs": [
    {
     "name": "stdout",
     "output_type": "stream",
     "text": [
      "Every effort moves you forward.\n",
      "\n",
      "The first step is to understand the importance of your work\n"
     ]
    }
   ],
   "source": [
    "# 从之前定义的模块previous_chapters中导入以下三个函数：\n",
    "# - generate_text_simple：用于根据给定的模型、输入索引序列以及相关参数生成新的文本标记（token）序列，并返回生成后的索引序列。\n",
    "# - text_to_token_ids：用于将输入的文本通过指定的分词器（tokenizer）转换为对应的标记（token）索引序列。\n",
    "# - token_ids_to_text：用于将标记索引序列通过指定的分词器转换回文本形式。\n",
    "from previous_chapters import (\n",
    "    generate_text_simple,\n",
    "    text_to_token_ids,\n",
    "    token_ids_to_text\n",
    ")\n",
    "# 定义一个起始文本，该文本将作为输入提供给模型，用于生成后续的文本内容，这里定义为\"Every effort moves you\"。\n",
    "text_1 = \"Every effort moves you\"\n",
    "# 调用generate_text_simple函数来生成新的文本标记序列。\n",
    "# 传入以下参数：\n",
    "# - model：已配置好的模型对象，该模型将基于输入的起始文本生成后续的文本标记。\n",
    "# - idx：通过text_to_token_ids函数将起始文本text_1转换为标记索引序列，并作为生成新标记的起始输入序列提供给模型。\n",
    "# - max_new_tokens：指定要生成的新标记的最大数量为15，即生成的后续文本大致由这15个新标记组成（具体长度可能会因遇到结束标记等情况提前结束生成）。\n",
    "# - context_size：从之前定义的BASE_CONFIG配置字典中获取上下文长度的值，用于在生成新标记时确定考虑的先前标记的数量，这与模型的输入要求和生成逻辑相关。\n",
    "token_ids = generate_text_simple(\n",
    "    model=model,\n",
    "    idx=text_to_token_ids(text_1, tokenizer),\n",
    "    max_new_tokens=15,\n",
    "    context_size=BASE_CONFIG[\"context_length\"]\n",
    ")\n",
    "# 将生成的标记索引序列通过token_ids_to_text函数转换回文本形式，并打印输出结果，以便查看基于起始文本和模型生成的具体文本内容。\n",
    "print(token_ids_to_text(token_ids, tokenizer))"
   ]
  },
  {
   "cell_type": "markdown",
   "id": "69162550-6a02-4ece-8db1-06c71d61946f",
   "metadata": {},
   "source": [
    "- Before we finetune the model as a classifier, let's see if the model can perhaps already classify spam messages via prompting"
   ]
  },
  {
   "cell_type": "code",
   "execution_count": 18,
   "id": "94224aa9-c95a-4f8a-a420-76d01e3a800c",
   "metadata": {},
   "outputs": [
    {
     "name": "stdout",
     "output_type": "stream",
     "text": [
      "Is the following text 'spam'? Answer with 'yes' or 'no': 'You are a winner you have been specially selected to receive $1000 cash or a $2000 award.'\n",
      "\n",
      "The following text 'spam'? Answer with 'yes' or 'no': 'You are a winner\n"
     ]
    }
   ],
   "source": [
    "# 定义一个新的文本内容，该文本通常是一个询问某段特定文本是否为垃圾短信（'spam'）的表述，\n",
    "# 并要求以'yes'或'no'来回答。这里具体的文本内容是询问一段类似中奖通知的文本是否为垃圾短信。\n",
    "text_2 = (\n",
    "    \"Is the following text 'spam'? Answer with 'yes' or 'no':\"\n",
    "    \" 'You are a winner you have been specially\"\n",
    "    \" selected to receive $1000 cash or a $2000 award.'\"\n",
    ")\n",
    "\n",
    "# 调用generate_text_simple函数来生成基于text_2的新的文本标记（token）序列。\n",
    "\n",
    "# 传入以下参数：\n",
    "# - model：已配置好的模型对象，该模型将基于输入的text_2文本生成后续的文本标记。\n",
    "# - idx：通过text_to_token_ids函数将text_2文本转换为标记索引序列，并作为生成新标记的起始输入序列提供给模型。\n",
    "# - max_new_tokens：指定要生成的新标记的最大数量为23，即生成的后续文本大致由这23个新标记组成（具体长度可能会因遇到结束标记等情况提前结束生成）。\n",
    "# - context_size：从之前定义的BASE_CONFIG配置字典中获取上下文长度的值，用于在生成新标记时确定考虑的先前标记的数量，这与模型的输入要求和生成逻辑相关。\n",
    "token_ids = generate_text_simple(\n",
    "    model=model,\n",
    "    idx=text_to_token_ids(text_2, tokenizer),\n",
    "    max_new_tokens=23,\n",
    "    context_size=BASE_CONFIG[\"context_length\"]\n",
    ")\n",
    "\n",
    "# 将生成的标记索引序列通过token_ids_to_text函数转换回文本形式，并打印输出结果，以便查看基于text_2文本和模型生成的具体文本内容，\n",
    "# 也就是模型对于所询问的那段文本是否为垃圾短信的回答情况。\n",
    "print(token_ids_to_text(token_ids, tokenizer))"
   ]
  },
  {
   "cell_type": "markdown",
   "id": "1ce39ed0-2c77-410d-8392-dd15d4b22016",
   "metadata": {},
   "source": [
    "- As we can see, the model is not very good at following instructions\n",
    "- This is expected, since it has only been pretrained and not instruction-finetuned (instruction finetuning will be covered in the next chapter)"
   ]
  },
  {
   "cell_type": "markdown",
   "id": "4c9ae440-32f9-412f-96cf-fd52cc3e2522",
   "metadata": {
    "id": "4c9ae440-32f9-412f-96cf-fd52cc3e2522"
   },
   "source": [
    "## 6.5 Adding a classification head"
   ]
  },
  {
   "cell_type": "markdown",
   "id": "d6e9d66f-76b2-40fc-9ec5-3f972a8db9c0",
   "metadata": {},
   "source": [
    "<img src=\"https://sebastianraschka.com/images/LLMs-from-scratch-images/ch06_compressed/lm-head.webp\" width=500px>"
   ]
  },
  {
   "cell_type": "markdown",
   "id": "217bac05-78df-4412-bd80-612f8061c01d",
   "metadata": {},
   "source": [
    "- In this section, we are modifying the pretrained LLM to make it ready for classification finetuning\n",
    "- Let's take a look at the model architecture first"
   ]
  },
  {
   "cell_type": "code",
   "execution_count": 19,
   "id": "b23aff91-6bd0-48da-88f6-353657e6c981",
   "metadata": {
    "colab": {
     "base_uri": "https://localhost:8080/"
    },
    "id": "1d8f7a01-b7c0-48d4-b1e7-8c12cc7ad932",
    "outputId": "b6a5b9b5-a92f-498f-d7cb-b58dd99e4497"
   },
   "outputs": [
    {
     "name": "stdout",
     "output_type": "stream",
     "text": [
      "GPTModel(\n",
      "  (tok_emb): Embedding(50257, 768)\n",
      "  (pos_emb): Embedding(1024, 768)\n",
      "  (drop_emb): Dropout(p=0.0, inplace=False)\n",
      "  (trf_blocks): Sequential(\n",
      "    (0): TransformerBlock(\n",
      "      (att): MultiHeadAttention(\n",
      "        (W_query): Linear(in_features=768, out_features=768, bias=True)\n",
      "        (W_key): Linear(in_features=768, out_features=768, bias=True)\n",
      "        (W_value): Linear(in_features=768, out_features=768, bias=True)\n",
      "        (out_proj): Linear(in_features=768, out_features=768, bias=True)\n",
      "        (dropout): Dropout(p=0.0, inplace=False)\n",
      "      )\n",
      "      (ff): FeedForward(\n",
      "        (layers): Sequential(\n",
      "          (0): Linear(in_features=768, out_features=3072, bias=True)\n",
      "          (1): GELU()\n",
      "          (2): Linear(in_features=3072, out_features=768, bias=True)\n",
      "        )\n",
      "      )\n",
      "      (norm1): LayerNorm()\n",
      "      (norm2): LayerNorm()\n",
      "      (drop_resid): Dropout(p=0.0, inplace=False)\n",
      "    )\n",
      "    (1): TransformerBlock(\n",
      "      (att): MultiHeadAttention(\n",
      "        (W_query): Linear(in_features=768, out_features=768, bias=True)\n",
      "        (W_key): Linear(in_features=768, out_features=768, bias=True)\n",
      "        (W_value): Linear(in_features=768, out_features=768, bias=True)\n",
      "        (out_proj): Linear(in_features=768, out_features=768, bias=True)\n",
      "        (dropout): Dropout(p=0.0, inplace=False)\n",
      "      )\n",
      "      (ff): FeedForward(\n",
      "        (layers): Sequential(\n",
      "          (0): Linear(in_features=768, out_features=3072, bias=True)\n",
      "          (1): GELU()\n",
      "          (2): Linear(in_features=3072, out_features=768, bias=True)\n",
      "        )\n",
      "      )\n",
      "      (norm1): LayerNorm()\n",
      "      (norm2): LayerNorm()\n",
      "      (drop_resid): Dropout(p=0.0, inplace=False)\n",
      "    )\n",
      "    (2): TransformerBlock(\n",
      "      (att): MultiHeadAttention(\n",
      "        (W_query): Linear(in_features=768, out_features=768, bias=True)\n",
      "        (W_key): Linear(in_features=768, out_features=768, bias=True)\n",
      "        (W_value): Linear(in_features=768, out_features=768, bias=True)\n",
      "        (out_proj): Linear(in_features=768, out_features=768, bias=True)\n",
      "        (dropout): Dropout(p=0.0, inplace=False)\n",
      "      )\n",
      "      (ff): FeedForward(\n",
      "        (layers): Sequential(\n",
      "          (0): Linear(in_features=768, out_features=3072, bias=True)\n",
      "          (1): GELU()\n",
      "          (2): Linear(in_features=3072, out_features=768, bias=True)\n",
      "        )\n",
      "      )\n",
      "      (norm1): LayerNorm()\n",
      "      (norm2): LayerNorm()\n",
      "      (drop_resid): Dropout(p=0.0, inplace=False)\n",
      "    )\n",
      "    (3): TransformerBlock(\n",
      "      (att): MultiHeadAttention(\n",
      "        (W_query): Linear(in_features=768, out_features=768, bias=True)\n",
      "        (W_key): Linear(in_features=768, out_features=768, bias=True)\n",
      "        (W_value): Linear(in_features=768, out_features=768, bias=True)\n",
      "        (out_proj): Linear(in_features=768, out_features=768, bias=True)\n",
      "        (dropout): Dropout(p=0.0, inplace=False)\n",
      "      )\n",
      "      (ff): FeedForward(\n",
      "        (layers): Sequential(\n",
      "          (0): Linear(in_features=768, out_features=3072, bias=True)\n",
      "          (1): GELU()\n",
      "          (2): Linear(in_features=3072, out_features=768, bias=True)\n",
      "        )\n",
      "      )\n",
      "      (norm1): LayerNorm()\n",
      "      (norm2): LayerNorm()\n",
      "      (drop_resid): Dropout(p=0.0, inplace=False)\n",
      "    )\n",
      "    (4): TransformerBlock(\n",
      "      (att): MultiHeadAttention(\n",
      "        (W_query): Linear(in_features=768, out_features=768, bias=True)\n",
      "        (W_key): Linear(in_features=768, out_features=768, bias=True)\n",
      "        (W_value): Linear(in_features=768, out_features=768, bias=True)\n",
      "        (out_proj): Linear(in_features=768, out_features=768, bias=True)\n",
      "        (dropout): Dropout(p=0.0, inplace=False)\n",
      "      )\n",
      "      (ff): FeedForward(\n",
      "        (layers): Sequential(\n",
      "          (0): Linear(in_features=768, out_features=3072, bias=True)\n",
      "          (1): GELU()\n",
      "          (2): Linear(in_features=3072, out_features=768, bias=True)\n",
      "        )\n",
      "      )\n",
      "      (norm1): LayerNorm()\n",
      "      (norm2): LayerNorm()\n",
      "      (drop_resid): Dropout(p=0.0, inplace=False)\n",
      "    )\n",
      "    (5): TransformerBlock(\n",
      "      (att): MultiHeadAttention(\n",
      "        (W_query): Linear(in_features=768, out_features=768, bias=True)\n",
      "        (W_key): Linear(in_features=768, out_features=768, bias=True)\n",
      "        (W_value): Linear(in_features=768, out_features=768, bias=True)\n",
      "        (out_proj): Linear(in_features=768, out_features=768, bias=True)\n",
      "        (dropout): Dropout(p=0.0, inplace=False)\n",
      "      )\n",
      "      (ff): FeedForward(\n",
      "        (layers): Sequential(\n",
      "          (0): Linear(in_features=768, out_features=3072, bias=True)\n",
      "          (1): GELU()\n",
      "          (2): Linear(in_features=3072, out_features=768, bias=True)\n",
      "        )\n",
      "      )\n",
      "      (norm1): LayerNorm()\n",
      "      (norm2): LayerNorm()\n",
      "      (drop_resid): Dropout(p=0.0, inplace=False)\n",
      "    )\n",
      "    (6): TransformerBlock(\n",
      "      (att): MultiHeadAttention(\n",
      "        (W_query): Linear(in_features=768, out_features=768, bias=True)\n",
      "        (W_key): Linear(in_features=768, out_features=768, bias=True)\n",
      "        (W_value): Linear(in_features=768, out_features=768, bias=True)\n",
      "        (out_proj): Linear(in_features=768, out_features=768, bias=True)\n",
      "        (dropout): Dropout(p=0.0, inplace=False)\n",
      "      )\n",
      "      (ff): FeedForward(\n",
      "        (layers): Sequential(\n",
      "          (0): Linear(in_features=768, out_features=3072, bias=True)\n",
      "          (1): GELU()\n",
      "          (2): Linear(in_features=3072, out_features=768, bias=True)\n",
      "        )\n",
      "      )\n",
      "      (norm1): LayerNorm()\n",
      "      (norm2): LayerNorm()\n",
      "      (drop_resid): Dropout(p=0.0, inplace=False)\n",
      "    )\n",
      "    (7): TransformerBlock(\n",
      "      (att): MultiHeadAttention(\n",
      "        (W_query): Linear(in_features=768, out_features=768, bias=True)\n",
      "        (W_key): Linear(in_features=768, out_features=768, bias=True)\n",
      "        (W_value): Linear(in_features=768, out_features=768, bias=True)\n",
      "        (out_proj): Linear(in_features=768, out_features=768, bias=True)\n",
      "        (dropout): Dropout(p=0.0, inplace=False)\n",
      "      )\n",
      "      (ff): FeedForward(\n",
      "        (layers): Sequential(\n",
      "          (0): Linear(in_features=768, out_features=3072, bias=True)\n",
      "          (1): GELU()\n",
      "          (2): Linear(in_features=3072, out_features=768, bias=True)\n",
      "        )\n",
      "      )\n",
      "      (norm1): LayerNorm()\n",
      "      (norm2): LayerNorm()\n",
      "      (drop_resid): Dropout(p=0.0, inplace=False)\n",
      "    )\n",
      "    (8): TransformerBlock(\n",
      "      (att): MultiHeadAttention(\n",
      "        (W_query): Linear(in_features=768, out_features=768, bias=True)\n",
      "        (W_key): Linear(in_features=768, out_features=768, bias=True)\n",
      "        (W_value): Linear(in_features=768, out_features=768, bias=True)\n",
      "        (out_proj): Linear(in_features=768, out_features=768, bias=True)\n",
      "        (dropout): Dropout(p=0.0, inplace=False)\n",
      "      )\n",
      "      (ff): FeedForward(\n",
      "        (layers): Sequential(\n",
      "          (0): Linear(in_features=768, out_features=3072, bias=True)\n",
      "          (1): GELU()\n",
      "          (2): Linear(in_features=3072, out_features=768, bias=True)\n",
      "        )\n",
      "      )\n",
      "      (norm1): LayerNorm()\n",
      "      (norm2): LayerNorm()\n",
      "      (drop_resid): Dropout(p=0.0, inplace=False)\n",
      "    )\n",
      "    (9): TransformerBlock(\n",
      "      (att): MultiHeadAttention(\n",
      "        (W_query): Linear(in_features=768, out_features=768, bias=True)\n",
      "        (W_key): Linear(in_features=768, out_features=768, bias=True)\n",
      "        (W_value): Linear(in_features=768, out_features=768, bias=True)\n",
      "        (out_proj): Linear(in_features=768, out_features=768, bias=True)\n",
      "        (dropout): Dropout(p=0.0, inplace=False)\n",
      "      )\n",
      "      (ff): FeedForward(\n",
      "        (layers): Sequential(\n",
      "          (0): Linear(in_features=768, out_features=3072, bias=True)\n",
      "          (1): GELU()\n",
      "          (2): Linear(in_features=3072, out_features=768, bias=True)\n",
      "        )\n",
      "      )\n",
      "      (norm1): LayerNorm()\n",
      "      (norm2): LayerNorm()\n",
      "      (drop_resid): Dropout(p=0.0, inplace=False)\n",
      "    )\n",
      "    (10): TransformerBlock(\n",
      "      (att): MultiHeadAttention(\n",
      "        (W_query): Linear(in_features=768, out_features=768, bias=True)\n",
      "        (W_key): Linear(in_features=768, out_features=768, bias=True)\n",
      "        (W_value): Linear(in_features=768, out_features=768, bias=True)\n",
      "        (out_proj): Linear(in_features=768, out_features=768, bias=True)\n",
      "        (dropout): Dropout(p=0.0, inplace=False)\n",
      "      )\n",
      "      (ff): FeedForward(\n",
      "        (layers): Sequential(\n",
      "          (0): Linear(in_features=768, out_features=3072, bias=True)\n",
      "          (1): GELU()\n",
      "          (2): Linear(in_features=3072, out_features=768, bias=True)\n",
      "        )\n",
      "      )\n",
      "      (norm1): LayerNorm()\n",
      "      (norm2): LayerNorm()\n",
      "      (drop_resid): Dropout(p=0.0, inplace=False)\n",
      "    )\n",
      "    (11): TransformerBlock(\n",
      "      (att): MultiHeadAttention(\n",
      "        (W_query): Linear(in_features=768, out_features=768, bias=True)\n",
      "        (W_key): Linear(in_features=768, out_features=768, bias=True)\n",
      "        (W_value): Linear(in_features=768, out_features=768, bias=True)\n",
      "        (out_proj): Linear(in_features=768, out_features=768, bias=True)\n",
      "        (dropout): Dropout(p=0.0, inplace=False)\n",
      "      )\n",
      "      (ff): FeedForward(\n",
      "        (layers): Sequential(\n",
      "          (0): Linear(in_features=768, out_features=3072, bias=True)\n",
      "          (1): GELU()\n",
      "          (2): Linear(in_features=3072, out_features=768, bias=True)\n",
      "        )\n",
      "      )\n",
      "      (norm1): LayerNorm()\n",
      "      (norm2): LayerNorm()\n",
      "      (drop_resid): Dropout(p=0.0, inplace=False)\n",
      "    )\n",
      "  )\n",
      "  (final_norm): LayerNorm()\n",
      "  (out_head): Linear(in_features=768, out_features=50257, bias=False)\n",
      ")\n"
     ]
    }
   ],
   "source": [
    "print(model)"
   ]
  },
  {
   "cell_type": "markdown",
   "id": "3f640a76-dd00-4769-9bc8-1aed0cec330d",
   "metadata": {},
   "source": [
    "- Above, we can see the architecture we implemented in chapter 4 neatly laid out\n",
    "- The goal is to replace and finetune the output layer\n",
    "- To achieve this, we first freeze the model, meaning that we make all layers non-trainable"
   ]
  },
  {
   "cell_type": "code",
   "execution_count": 20,
   "id": "fkMWFl-0etea",
   "metadata": {
    "id": "fkMWFl-0etea"
   },
   "outputs": [],
   "source": [
    "for param in model.parameters():\n",
    "    param.requires_grad = False"
   ]
  },
  {
   "cell_type": "markdown",
   "id": "72155f83-87d9-476a-a978-a15aa2d44147",
   "metadata": {},
   "source": [
    "- Then, we replace the output layer (`model.out_head`), which originally maps the layer inputs to 50,257 dimensions (the size of the vocabulary)\n",
    "- Since we finetune the model for binary classification (predicting 2 classes, \"spam\" and \"not spam\"), we can replace the output layer as shown below, which will be trainable by default\n",
    "- Note that we use `BASE_CONFIG[\"emb_dim\"]` (which is equal to 768 in the `\"gpt2-small (124M)\"` model) to keep the code below more general"
   ]
  },
  {
   "cell_type": "code",
   "execution_count": 21,
   "id": "7e759fa0-0f69-41be-b576-17e5f20e04cb",
   "metadata": {},
   "outputs": [],
   "source": [
    "torch.manual_seed(123)\n",
    "# 定义分类任务的类别数量，这里设置为2，通常表示一个二分类任务，比如在判断短信是否为垃圾短信的场景中，就只有两种类别：是垃圾短信（'spam'）和不是垃圾短信（'ham'）。\n",
    "num_classes = 2\n",
    "# 使用torch.nn.Linear创建一个新的线性层，作为模型的输出头。\n",
    "# - in_features参数设置为BASE_CONFIG[\"emb_dim\"]，表示输入特征的维度，这里是从之前定义的BASE_CONFIG配置字典中获取嵌入维度（emb_dim）的值，\n",
    "#   该嵌入维度通常是模型在对输入文本进行处理后得到的特征向量的维度。\n",
    "# - out_features参数设置为num_classes，即2，表示输出的特征维度，也就是模型最终输出的结果应该对应到的类别数量，这里是为了适应二分类任务。\n",
    "model.out_head = torch.nn.Linear(in_features=BASE_CONFIG[\"emb_dim\"], out_features=num_classes)"
   ]
  },
  {
   "cell_type": "markdown",
   "id": "30be5475-ae77-4f97-8f3e-dec462b1339f",
   "metadata": {},
   "source": [
    "- Technically, it's sufficient to only train the output layer\n",
    "- However, as I found in [Finetuning Large Language Models](https://magazine.sebastianraschka.com/p/finetuning-large-language-models), experiments show that finetuning additional layers can noticeably improve the performance\n",
    "- So, we are also making the last transformer block and the final `LayerNorm` module connecting the last transformer block to the output layer trainable"
   ]
  },
  {
   "cell_type": "markdown",
   "id": "0be7c1eb-c46c-4065-8525-eea1b8c66d10",
   "metadata": {},
   "source": [
    "<img src=\"https://sebastianraschka.com/images/LLMs-from-scratch-images/ch06_compressed/trainable.webp\" width=500px>"
   ]
  },
  {
   "cell_type": "code",
   "execution_count": 22,
   "id": "2aedc120-5ee3-48f6-92f2-ad9304ebcdc7",
   "metadata": {
    "id": "2aedc120-5ee3-48f6-92f2-ad9304ebcdc7"
   },
   "outputs": [],
   "source": [
    "for param in model.trf_blocks[-1].parameters():\n",
    "    param.requires_grad = True\n",
    "\n",
    "for param in model.final_norm.parameters():\n",
    "    param.requires_grad = True"
   ]
  },
  {
   "cell_type": "markdown",
   "id": "f012b899-8284-4d3a-97c0-8a48eb33ba2e",
   "metadata": {},
   "source": [
    "- We can still use this model similar to before in previous chapters\n",
    "- For example, let's feed it some text input"
   ]
  },
  {
   "cell_type": "code",
   "execution_count": 23,
   "id": "f645c06a-7df6-451c-ad3f-eafb18224ebc",
   "metadata": {
    "colab": {
     "base_uri": "https://localhost:8080/"
    },
    "id": "f645c06a-7df6-451c-ad3f-eafb18224ebc",
    "outputId": "27e041b1-d731-48a1-cf60-f22d4565304e"
   },
   "outputs": [
    {
     "name": "stdout",
     "output_type": "stream",
     "text": [
      "Inputs: tensor([[5211,  345,  423,  640]])\n",
      "Inputs dimensions: torch.Size([1, 4])\n"
     ]
    }
   ],
   "source": [
    "inputs = tokenizer.encode(\"Do you have time\")\n",
    "inputs = torch.tensor(inputs).unsqueeze(0)\n",
    "print(\"Inputs:\", inputs)\n",
    "print(\"Inputs dimensions:\", inputs.shape) # shape: (batch_size, num_tokens)"
   ]
  },
  {
   "cell_type": "markdown",
   "id": "fbbf8481-772d-467b-851c-a62b86d0cb1b",
   "metadata": {},
   "source": [
    "- What's different compared to previous chapters is that it now has two output dimensions instead of 50,257"
   ]
  },
  {
   "cell_type": "code",
   "execution_count": 24,
   "id": "48dc84f1-85cc-4609-9cee-94ff539f00f4",
   "metadata": {
    "colab": {
     "base_uri": "https://localhost:8080/"
    },
    "id": "48dc84f1-85cc-4609-9cee-94ff539f00f4",
    "outputId": "9cae7448-253d-4776-973e-0af190b06354"
   },
   "outputs": [
    {
     "name": "stdout",
     "output_type": "stream",
     "text": [
      "Outputs:\n",
      " tensor([[[-1.5854,  0.9904],\n",
      "         [-3.7235,  7.4548],\n",
      "         [-2.2661,  6.6049],\n",
      "         [-3.5983,  3.9902]]])\n",
      "Outputs dimensions: torch.Size([1, 4, 2])\n"
     ]
    }
   ],
   "source": [
    "with torch.no_grad():\n",
    "    outputs = model(inputs)\n",
    "\n",
    "print(\"Outputs:\\n\", outputs)\n",
    "print(\"Outputs dimensions:\", outputs.shape) # shape: (batch_size, num_tokens, num_classes)"
   ]
  },
  {
   "cell_type": "markdown",
   "id": "75430a01-ef9c-426a-aca0-664689c4f461",
   "metadata": {},
   "source": [
    "- As discussed in previous chapters, for each input token, there's one output vector\n",
    "- Since we fed the model a text sample with 4 input tokens, the output consists of 4 2-dimensional output vectors above"
   ]
  },
  {
   "cell_type": "markdown",
   "id": "7df9144f-6817-4be4-8d4b-5d4dadfe4a9b",
   "metadata": {},
   "source": [
    "<img src=\"https://sebastianraschka.com/images/LLMs-from-scratch-images/ch06_compressed/input-and-output.webp\" width=500px>"
   ]
  },
  {
   "cell_type": "markdown",
   "id": "e3bb8616-c791-4f5c-bac0-5302f663e46a",
   "metadata": {},
   "source": [
    "- In chapter 3, we discussed the attention mechanism, which connects each input token to each other input token\n",
    "- In chapter 3, we then also introduced the causal attention mask that is used in GPT-like models; this causal mask lets a current token only attend to the current and previous token positions\n",
    "- Based on this causal attention mechanism, the 4th (last) token contains the most information among all tokens because it's the only token that includes information about all other tokens\n",
    "- Hence, we are particularly interested in this last token, which we will finetune for the spam classification task"
   ]
  },
  {
   "cell_type": "code",
   "execution_count": 25,
   "id": "49383a8c-41d5-4dab-98f1-238bca0c2ed7",
   "metadata": {
    "colab": {
     "base_uri": "https://localhost:8080/"
    },
    "id": "49383a8c-41d5-4dab-98f1-238bca0c2ed7",
    "outputId": "e79eb155-fa1f-46ed-ff8c-d828c3a3fabd"
   },
   "outputs": [
    {
     "name": "stdout",
     "output_type": "stream",
     "text": [
      "Last output token: tensor([[-3.5983,  3.9902]])\n"
     ]
    }
   ],
   "source": [
    "print(\"Last output token:\", outputs[:, -1, :])"
   ]
  },
  {
   "cell_type": "markdown",
   "id": "8df08ae0-e664-4670-b7c5-8a2280d9b41b",
   "metadata": {},
   "source": [
    "<img src=\"https://sebastianraschka.com/images/LLMs-from-scratch-images/ch06_compressed/attention-mask.webp\" width=200px>"
   ]
  },
  {
   "cell_type": "markdown",
   "id": "32aa4aef-e1e9-491b-9adf-5aa973e59b8c",
   "metadata": {},
   "source": [
    "## 6.6 Calculating the classification loss and accuracy"
   ]
  },
  {
   "cell_type": "markdown",
   "id": "669e1fd1-ace8-44b4-b438-185ed0ba8b33",
   "metadata": {},
   "source": [
    "<img src=\"https://sebastianraschka.com/images/LLMs-from-scratch-images/ch06_compressed/overview-3.webp?1\" width=500px>"
   ]
  },
  {
   "cell_type": "markdown",
   "id": "7a7df4ee-0a34-4a4d-896d-affbbf81e0b3",
   "metadata": {},
   "source": [
    "- Before explaining the loss calculation, let's have a brief look at how the model outputs are turned into class labels"
   ]
  },
  {
   "cell_type": "markdown",
   "id": "557996dd-4c6b-49c4-ab83-f60ef7e1d69e",
   "metadata": {},
   "source": [
    "<img src=\"https://sebastianraschka.com/images/LLMs-from-scratch-images/ch06_compressed/class-argmax.webp\" width=600px>"
   ]
  },
  {
   "cell_type": "code",
   "execution_count": 26,
   "id": "c77faab1-3461-4118-866a-6171f2b89aa0",
   "metadata": {},
   "outputs": [
    {
     "name": "stdout",
     "output_type": "stream",
     "text": [
      "Last output token: tensor([[-3.5983,  3.9902]])\n"
     ]
    }
   ],
   "source": [
    "print(\"Last output token:\", outputs[:, -1, :])"
   ]
  },
  {
   "cell_type": "markdown",
   "id": "7edd71fa-628a-4d00-b81d-6d8bcb2c341d",
   "metadata": {},
   "source": [
    "- Similar to chapter 5, we convert the outputs (logits) into probability scores via the `softmax` function and then obtain the index position of the largest probability value via the `argmax` function"
   ]
  },
  {
   "cell_type": "code",
   "execution_count": 27,
   "id": "b81efa92-9be1-4b9e-8790-ce1fc7b17f01",
   "metadata": {},
   "outputs": [
    {
     "name": "stdout",
     "output_type": "stream",
     "text": [
      "Class label: 1\n"
     ]
    }
   ],
   "source": [
    "probas = torch.softmax(outputs[:, -1, :], dim=-1)\n",
    "label = torch.argmax(probas)\n",
    "print(\"Class label:\", label.item())"
   ]
  },
  {
   "cell_type": "markdown",
   "id": "414a6f02-307e-4147-a416-14d115bf8179",
   "metadata": {},
   "source": [
    "- Note that the softmax function is optional here, as explained in chapter 5, because the largest outputs correspond to the largest probability scores"
   ]
  },
  {
   "cell_type": "code",
   "execution_count": 28,
   "id": "f9f9ad66-4969-4501-8239-3ccdb37e71a2",
   "metadata": {},
   "outputs": [
    {
     "name": "stdout",
     "output_type": "stream",
     "text": [
      "Class label: 1\n"
     ]
    }
   ],
   "source": [
    "logits = outputs[:, -1, :]\n",
    "label = torch.argmax(logits)\n",
    "print(\"Class label:\", label.item())"
   ]
  },
  {
   "cell_type": "markdown",
   "id": "dcb20d3a-cbba-4ab1-8584-d94e16589505",
   "metadata": {},
   "source": [
    "- We can apply this concept to calculate the so-called classification accuracy, which computes the percentage of correct predictions in a given dataset\n",
    "- To calculate the classification accuracy, we can apply the preceding `argmax`-based prediction code to all examples in a dataset and calculate the fraction of correct predictions as follows:"
   ]
  },
  {
   "cell_type": "code",
   "execution_count": 29,
   "id": "3ecf9572-aed0-4a21-9c3b-7f9f2aec5f23",
   "metadata": {},
   "outputs": [],
   "source": [
    "def calc_accuracy_loader(data_loader, model, device, num_batches=None):\n",
    "    \"\"\"\n",
    "    该函数用于计算在给定的数据加载器（data_loader）提供的数据上，模型（model）预测的准确率。\n",
    "    参数:\n",
    "    - data_loader: 一个PyTorch的数据加载器对象，用于按批次加载数据，每个批次包含输入数据和对应的目标数据。\n",
    "    - model: 已经训练好或者待评估的模型对象，用于对输入数据进行预测。\n",
    "    - device: 表示模型和数据将在其上进行操作的设备，如 'cuda'（GPU）或 'cpu'。\n",
    "    - num_batches: 可选参数，用于指定要评估的批次数量。如果为None，则会评估数据加载器中的所有批次；如果指定了具体值，则会评估指定数量的批次，且该值不能超过数据加载器中的总批次数量。\n",
    "    返回值:\n",
    "    - 返回一个浮点数，表示模型在指定数据上预测的准确率，即正确预测的样本数量除以总样本数量。\n",
    "    \"\"\"\n",
    "\n",
    "    # 将模型设置为评估模式，在这种模式下，模型的一些层（如Dropout层等）会按照评估时的行为进行设置，\n",
    "    # 通常是禁用一些在训练时用于防止过拟合的随机操作，以得到更稳定的输出结果。\n",
    "    model.eval()\n",
    "\n",
    "    # 初始化正确预测的样本数量和总样本数量为0\n",
    "    correct_predictions, num_examples = 0, 0\n",
    "\n",
    "    # 如果没有指定num_batches，就将其设置为数据加载器中的总批次数量，即评估所有批次的数据\n",
    "    if num_batches is None:\n",
    "        num_batches = len(data_loader)\n",
    "    else:\n",
    "        # 如果指定了num_batches，确保它不超过数据加载器中的总批次数量\n",
    "        num_batches = min(num_batches, len(data_loader))\n",
    "\n",
    "    # 遍历数据加载器中的批次数据\n",
    "    for i, (input_batch, target_batch) in enumerate(data_loader):\n",
    "        # 如果当前批次索引小于要评估的批次数量num_batches\n",
    "        if i < num_batches:\n",
    "            # 将输入批次和目标批次的数据都移动到指定的设备（如GPU或CPU）上，以便在该设备上进行后续的模型预测操作\n",
    "            input_batch, target_batch = input_batch.to(device), target_batch.to(device)\n",
    "\n",
    "            # 在不计算梯度的情况下进行模型预测，因为在评估准确率时不需要计算梯度来更新模型参数\n",
    "            with torch.no_grad():\n",
    "                # 使用模型对输入批次进行预测，得到预测结果的对数几率（logits）张量。\n",
    "                # 这里取最后一个输出标记的对数几率（logits），即[:, -1, :]，具体含义可能取决于模型的结构和任务要求，\n",
    "                # 例如在文本生成相关任务中，可能是关注最后生成的那个标记的预测情况。\n",
    "                logits = model(input_batch)[:, -1, :]\n",
    "\n",
    "            # 通过torch.argmax函数找到预测结果对数几率张量中每个样本在最后一个维度（dim=-1）上的最大值索引，\n",
    "            # 这些索引将作为预测的标签，对应着不同的类别。\n",
    "            predicted_labels = torch.argmax(logits, dim=-1)\n",
    "\n",
    "            # 更新总样本数量，将当前批次中预测标签的数量（即预测结果的张量形状在第0维度上的值）累加到总样本数量上\n",
    "            num_examples += predicted_labels.shape[0]\n",
    "\n",
    "            # 计算当前批次中正确预测的样本数量，通过比较预测标签和目标批次中的真实标签，\n",
    "            # 将相等的情况进行求和（.sum()）并转换为普通的数值（.item()），然后累加到正确预测的样本数量上\n",
    "            correct_predictions += (predicted_labels == target_batch).sum().item()\n",
    "        else:\n",
    "            # 如果当前批次索引大于等于要评估的批次数量num_batches，就跳出循环，不再继续评估后续批次的数据\n",
    "            break\n",
    "\n",
    "    # 返回模型在指定数据上预测的准确率，即正确预测的样本数量除以总样本数量\n",
    "    return correct_predictions / num_examples"
   ]
  },
  {
   "cell_type": "markdown",
   "id": "7165fe46-a284-410b-957f-7524877d1a1a",
   "metadata": {},
   "source": [
    "- Let's apply the function to calculate the classification accuracies for the different datasets:"
   ]
  },
  {
   "cell_type": "code",
   "execution_count": 30,
   "id": "390e5255-8427-488c-adef-e1c10ab4fb26",
   "metadata": {},
   "outputs": [
    {
     "name": "stdout",
     "output_type": "stream",
     "text": [
      "Training accuracy: 46.25%\n",
      "Validation accuracy: 45.00%\n",
      "Test accuracy: 48.75%\n"
     ]
    }
   ],
   "source": [
    "device = torch.device(\"cuda\" if torch.cuda.is_available() else \"cpu\")\n",
    "# 以下是一段关于在Apple Silicon芯片上运行代码的注释说明：\n",
    "# 注意：\n",
    "# 如果适用的话，取消注释下面这些行将允许代码在Apple Silicon芯片上运行，\n",
    "# 在Apple Silicon芯片上运行速度大约是在Apple CPU上运行速度的2倍（以M3 MacBook Air为例进行测量）。\n",
    "# 在编写这段代码时（指当前代码所在的这个项目或文档的编写时间），在PyTorch 2.4版本中，通过CPU和苹果的MPS（Metal Performance Shaders，苹果用于加速机器学习计算的技术）得到的结果是相同的。\n",
    "# 然而，在PyTorch的早期版本中，当使用MPS时可能会观察到不同的结果。\n",
    "# if torch.cuda.is_available():\n",
    "#     device = torch.device(\"cuda\")\n",
    "# elif torch.backends.mps.is_available():\n",
    "#     device = torch.device(\"mps\")\n",
    "# else:\n",
    "#     device = torch.device(\"cpu\")\n",
    "# print(f\"Running on {device} device.\")\n",
    "model.to(device)\n",
    "torch.manual_seed(123)\n",
    "train_accuracy = calc_accuracy_loader(train_loader, model, device, num_batches=10)\n",
    "val_accuracy = calc_accuracy_loader(val_loader, model, device, num_batches=10)\n",
    "test_accuracy = calc_accuracy_loader(test_loader, model, device, num_batches=10)\n",
    "print(f\"Training accuracy: {train_accuracy*100:.2f}%\")\n",
    "print(f\"Validation accuracy: {val_accuracy*100:.2f}%\")\n",
    "print(f\"Test accuracy: {test_accuracy*100:.2f}%\")"
   ]
  },
  {
   "cell_type": "markdown",
   "id": "30345e2a-afed-4d22-9486-f4010f90a871",
   "metadata": {},
   "source": [
    "- As we can see, the prediction accuracies are not very good, since we haven't finetuned the model, yet"
   ]
  },
  {
   "cell_type": "markdown",
   "id": "4f4a9d15-8fc7-48a2-8734-d92a2f265328",
   "metadata": {},
   "source": [
    "- Before we can start finetuning (/training), we first have to define the loss function we want to optimize during training\n",
    "- The goal is to maximize the spam classification accuracy of the model; however, classification accuracy is not a differentiable function\n",
    "- Hence, instead, we minimize the cross-entropy loss as a proxy for maximizing the classification accuracy (you can learn more about this topic in lecture 8 of my freely available [Introduction to Deep Learning](https://sebastianraschka.com/blog/2021/dl-course.html#l08-multinomial-logistic-regression--softmax-regression) class)\n",
    "\n",
    "- The `calc_loss_batch` function is the same here as in chapter 5, except that we are only interested in optimizing the last token `model(input_batch)[:, -1, :]` instead of all tokens `model(input_batch)`"
   ]
  },
  {
   "cell_type": "code",
   "execution_count": 31,
   "id": "2f1e9547-806c-41a9-8aba-3b2822baabe4",
   "metadata": {
    "id": "2f1e9547-806c-41a9-8aba-3b2822baabe4"
   },
   "outputs": [],
   "source": [
    "def calc_loss_batch(input_batch, target_batch, model, device):\n",
    "    input_batch, target_batch = input_batch.to(device), target_batch.to(device)\n",
    "    logits = model(input_batch)[:, -1, :]  # Logits of last output token\n",
    "    loss = torch.nn.functional.cross_entropy(logits, target_batch)\n",
    "    return loss"
   ]
  },
  {
   "cell_type": "markdown",
   "id": "a013aab9-f854-4866-ad55-5b8350adb50a",
   "metadata": {},
   "source": [
    "The `calc_loss_loader` is exactly the same as in chapter 5"
   ]
  },
  {
   "cell_type": "code",
   "execution_count": 32,
   "id": "b7b83e10-5720-45e7-ac5e-369417ca846b",
   "metadata": {},
   "outputs": [],
   "source": [
    "# Same as in chapter 5\n",
    "def calc_loss_loader(data_loader, model, device, num_batches=None):\n",
    "    total_loss = 0.\n",
    "    if len(data_loader) == 0:\n",
    "        return float(\"nan\")\n",
    "    elif num_batches is None:\n",
    "        num_batches = len(data_loader)\n",
    "    else:\n",
    "        # Reduce the number of batches to match the total number of batches in the data loader\n",
    "        # if num_batches exceeds the number of batches in the data loader\n",
    "        num_batches = min(num_batches, len(data_loader))\n",
    "    for i, (input_batch, target_batch) in enumerate(data_loader):\n",
    "        if i < num_batches:\n",
    "            loss = calc_loss_batch(input_batch, target_batch, model, device)\n",
    "            total_loss += loss.item()\n",
    "        else:\n",
    "            break\n",
    "    return total_loss / num_batches"
   ]
  },
  {
   "cell_type": "markdown",
   "id": "56826ecd-6e74-40e6-b772-d3541e585067",
   "metadata": {},
   "source": [
    "- Using the `calc_closs_loader`, we compute the initial training, validation, and test set losses before we start training"
   ]
  },
  {
   "cell_type": "code",
   "execution_count": 33,
   "id": "f6f00e53-5beb-4e64-b147-f26fd481c6ff",
   "metadata": {
    "colab": {
     "base_uri": "https://localhost:8080/"
    },
    "id": "f6f00e53-5beb-4e64-b147-f26fd481c6ff",
    "outputId": "49df8648-9e38-4314-854d-9faacd1b2e89"
   },
   "outputs": [
    {
     "name": "stdout",
     "output_type": "stream",
     "text": [
      "Training loss: 2.453\n",
      "Validation loss: 2.583\n",
      "Test loss: 2.322\n"
     ]
    }
   ],
   "source": [
    "with torch.no_grad(): # Disable gradient tracking for efficiency because we are not training, yet\n",
    "    train_loss = calc_loss_loader(train_loader, model, device, num_batches=5)\n",
    "    val_loss = calc_loss_loader(val_loader, model, device, num_batches=5)\n",
    "    test_loss = calc_loss_loader(test_loader, model, device, num_batches=5)\n",
    "\n",
    "print(f\"Training loss: {train_loss:.3f}\")\n",
    "print(f\"Validation loss: {val_loss:.3f}\")\n",
    "print(f\"Test loss: {test_loss:.3f}\")"
   ]
  },
  {
   "cell_type": "markdown",
   "id": "e04b980b-e583-4f62-84a0-4edafaf99d5d",
   "metadata": {},
   "source": [
    "- In the next section, we train the model to improve the loss values and consequently the classification accuracy"
   ]
  },
  {
   "cell_type": "markdown",
   "id": "456ae0fd-6261-42b4-ab6a-d24289953083",
   "metadata": {
    "id": "456ae0fd-6261-42b4-ab6a-d24289953083"
   },
   "source": [
    "## 6.7 Finetuning the model on supervised data"
   ]
  },
  {
   "cell_type": "markdown",
   "id": "6a9b099b-0829-4f72-8a2b-4363e3497026",
   "metadata": {},
   "source": [
    "- In this section, we define and use the training function to improve the classification accuracy of the model\n",
    "- The `train_classifier_simple` function below is practically the same as the `train_model_simple` function we used for pretraining the model in chapter 5\n",
    "- The only two differences are that we now \n",
    "  1. track the number of training examples seen (`examples_seen`) instead of the number of tokens seen\n",
    "  2. calculate the accuracy after each epoch instead of printing a sample text after each epoch"
   ]
  },
  {
   "cell_type": "markdown",
   "id": "979b6222-1dc2-4530-9d01-b6b04fe3de12",
   "metadata": {},
   "source": [
    "<img src=\"https://sebastianraschka.com/images/LLMs-from-scratch-images/ch06_compressed/training-loop.webp?1\" width=500px>"
   ]
  },
  {
   "cell_type": "code",
   "execution_count": 34,
   "id": "Csbr60to50FL",
   "metadata": {
    "id": "Csbr60to50FL"
   },
   "outputs": [],
   "source": [
    "# Overall the same as `train_model_simple` in chapter 5\n",
    "def train_classifier_simple(model, train_loader, val_loader, optimizer, device, num_epochs,\n",
    "                            eval_freq, eval_iter):\n",
    "    \"\"\"\n",
    "    该函数用于对分类模型进行简单的训练过程，包括在每个训练轮次（epoch）中对训练数据进行前向传播、计算损失、反向传播更新模型权重，\n",
    "    并且在指定的评估频率下对模型在训练集和验证集上的性能进行评估，记录训练过程中的损失值和准确率等信息。\n",
    "\n",
    "    参数:\n",
    "    - model: 要进行训练的分类模型对象，应该是继承自PyTorch的nn.Module类的模型，已经进行了必要的初始化设置，例如设置了输入输出维度等。\n",
    "    - train_loader: 用于加载训练数据的PyTorch数据加载器对象，按照设定的批次大小等参数将训练数据分批次提供给模型进行训练。\n",
    "    - val_loader: 用于加载验证数据的PyTorch数据加载器对象，用于在训练过程中定期评估模型在未见过的验证数据上的性能，以便监控模型是否过拟合等情况。\n",
    "    - optimizer: 优化器对象，例如常见的Adam、SGD等优化器，用于根据计算得到的损失梯度来更新模型的权重参数，以使得模型能够朝着损失减小的方向进行优化。\n",
    "    - device: 表示模型和数据将在其上进行操作的设备，如 'cuda'（GPU）或 'cpu'，确保模型和数据都被移动到该设备上进行高效的计算。\n",
    "    - num_epochs: 训练的轮次数，即整个训练数据集将被重复使用多少次进行模型训练。\n",
    "    - eval_freq: 评估频率，表示每隔多少个训练步骤（step）就对模型在训练集和验证集上的性能进行一次评估。\n",
    "    - eval_iter: 在每次评估时，用于指定从数据加载器中选取多少个批次的数据来进行评估，例如可以设置为从训练集和验证集中各选取固定数量的批次进行评估。\n",
    "\n",
    "    返回值:\n",
    "    - train_losses: 一个列表，记录了在每个评估点上模型在训练集上的损失值。\n",
    "    - val_losses: 一个列表，记录了在每个评估点上模型在验证集上的损失值。\n",
    "    - train_accs: 一个列表，记录了在每个训练轮次结束后模型在训练集上的准确率。\n",
    "    - val_accs: 一个列表，记录了在每个训练轮次结束后模型在验证集上的准确率。\n",
    "    - examples_seen: 一个整数，表示在整个训练过程中已经处理过的训练数据样本的总数（按照批次中的样本数量累加得到）。\n",
    "    \"\"\"\n",
    "    # Initialize lists to track losses and examples seen\n",
    "    # 初始化四个空列表，用于分别跟踪训练集上的损失值、验证集上的损失值、训练集上的准确率和验证集上的准确率。\n",
    "    train_losses, val_losses, train_accs, val_accs = [], [], [], []\n",
    "    # 初始化两个变量，用于跟踪已经处理过的训练数据样本数量和全局训练步骤数量。\n",
    "    # 初始时，examples_seen设置为0，表示还没有处理过任何训练数据样本；global_step设置为 -1，作为训练步骤的计数起点。\n",
    "    examples_seen, global_step = 0, -1\n",
    "    # Main training loop\n",
    "    # 主训练循环，将按照指定的训练轮次数（num_epochs）对整个训练数据集进行多次遍历训练。\n",
    "    for epoch in range(num_epochs):\n",
    "        # 将模型设置为训练模式，在这种模式下，模型的一些层（如Dropout层等）会按照训练时的行为进行设置，\n",
    "        # 启用梯度计算等相关训练机制，以便进行后续的模型训练操作。\n",
    "        model.train()\n",
    "        for input_batch, target_batch in train_loader:\n",
    "            # 在每个训练批次开始前，先使用优化器的zero_grad方法将上一个批次迭代计算得到的损失梯度清零。\n",
    "            # 这是因为在PyTorch中，梯度是累加的，如果不清零，上一个批次的梯度会影响到当前批次的梯度计算，导致结果错误。\n",
    "            optimizer.zero_grad()\n",
    "            # 使用calc_loss_batch函数计算当前批次输入数据（input_batch）和目标数据（target_batch）在模型（model）上的损失值。\n",
    "            loss = calc_loss_batch(input_batch, target_batch, model, device)\n",
    "            # 调用损失值的backward方法，根据计算得到的损失值计算模型中各个可训练参数的梯度，\n",
    "            # 这些梯度将用于后续优化器更新模型权重参数。\n",
    "            loss.backward()\n",
    "            # 使用优化器的step方法，根据刚刚计算得到的损失梯度来更新模型的权重参数，\n",
    "            # 使得模型能够朝着损失减小的方向进行优化。\n",
    "            optimizer.step()\n",
    "            # 更新已经处理过的训练数据样本数量，将当前批次中的样本数量（input_batch.shape[0]）累加到examples_seen变量上。\n",
    "            examples_seen += input_batch.shape[0]\n",
    "            # 更新全局训练步骤数量，每次训练批次迭代完成后，全局步骤数量加1。\n",
    "            global_step += 1\n",
    "            # Optional evaluation step\n",
    "            # 可选的评估步骤，根据设定的评估频率（eval_freq）来判断是否需要对模型在训练集和验证集上的性能进行评估。\n",
    "            if global_step % eval_freq == 0:\n",
    "                # 使用evaluate_model函数对模型在训练集和验证集上的性能进行评估，得到训练集和验证集上的损失值。\n",
    "                train_loss, val_loss = evaluate_model(\n",
    "                    341,\n",
    "                    train_loader,\n",
    "                    val_loader,\n",
    "                    device,\n",
    "                    eval_iter)\n",
    "                # 将得到的训练集上的损失值添加到train_losses列表中，用于后续记录和分析训练过程中的损失变化情况。\n",
    "                train_losses.append(train_loss)\n",
    "                # 将得到的验证集上的损失值添加到val_losses列表中，用于后续记录和分析模型在验证集上的损失变化情况。\n",
    "                val_losses.append(val_loss)\n",
    "                print(f\"Ep {epoch+1} (Step {global_step:06d}): \"\n",
    "                      f\"Train loss {train_loss:.3f}, Val loss {val_loss:.3了f}\")\n",
    "        # Calculate accuracy after each epoch\n",
    "        # 在每个训练轮次结束后，使用calc_accuracy_loader函数分别计算模型在训练集和验证集上的准确率。\n",
    "        train_accuracy = calc_accuracy_loader(train_loader, model, device, num_batches=eval_iter)\n",
    "        val_accuracy = calc_accuracy_loader(val_loader, model, device, num_batches=eval_iter)\n",
    "        print(f\"Training accuracy: {train_accuracy*100:.2f}% | \", end=\"\")\n",
    "        print(f\"Validation accuracy: {val_accuracy*100:.2f}%\")\n",
    "        # 将得到的训练集上的准确率添加到train_accs列表中，用于后续记录和分析训练过程中的准确率变化情况。\n",
    "        train_accs.append(train_accuracy)\n",
    "        # 将得到的验证集上的准确率添加到val_accs列表中，用于后续记录和分析模型在验证集上的准确率变化情况。\n",
    "        val_accs.append(val_accuracy)\n",
    "\n",
    "    return train_losses, val_losses, train_accs, val_accs, examples_seen"
   ]
  },
  {
   "cell_type": "markdown",
   "id": "9624cb30-3e3a-45be-b006-c00475b58ae8",
   "metadata": {},
   "source": [
    "- The `evaluate_model` function used in the `train_classifier_simple` is the same as the one we used in chapter 5"
   ]
  },
  {
   "cell_type": "code",
   "execution_count": 35,
   "id": "bcc7bc04-6aa6-4516-a147-460e2f466eab",
   "metadata": {},
   "outputs": [],
   "source": [
    "# Same as chapter 5\n",
    "def evaluate_model(model, train_loader, val_loader, device, eval_iter):\n",
    "    model.eval()\n",
    "    with torch.no_grad():\n",
    "        train_loss = calc_loss_loader(train_loader, model, device, num_batches=eval_iter)\n",
    "        val_loss = calc_loss_loader(val_loader, model, device, num_batches=eval_iter)\n",
    "    model.train()\n",
    "    return train_loss, val_loss"
   ]
  },
  {
   "cell_type": "markdown",
   "id": "e807bfe9-364d-46b2-9e25-3b000c3ef6f9",
   "metadata": {},
   "source": [
    "- The training takes about 5 minutes on a M3 MacBook Air laptop computer and less than half a minute on a V100 or A100 GPU"
   ]
  },
  {
   "cell_type": "code",
   "execution_count": 36,
   "id": "X7kU3aAj7vTJ",
   "metadata": {
    "colab": {
     "base_uri": "https://localhost:8080/"
    },
    "id": "X7kU3aAj7vTJ",
    "outputId": "504a033e-2bf8-41b5-a037-468309845513"
   },
   "outputs": [
    {
     "name": "stdout",
     "output_type": "stream",
     "text": [
      "Ep 1 (Step 000000): Train loss 2.153, Val loss 2.392\n",
      "Ep 1 (Step 000050): Train loss 0.617, Val loss 0.637\n",
      "Ep 1 (Step 000100): Train loss 0.523, Val loss 0.557\n",
      "Training accuracy: 70.00% | Validation accuracy: 72.50%\n",
      "Ep 2 (Step 000150): Train loss 0.561, Val loss 0.489\n",
      "Ep 2 (Step 000200): Train loss 0.419, Val loss 0.397\n",
      "Ep 2 (Step 000250): Train loss 0.409, Val loss 0.353\n",
      "Training accuracy: 82.50% | Validation accuracy: 85.00%\n",
      "Ep 3 (Step 000300): Train loss 0.333, Val loss 0.320\n",
      "Ep 3 (Step 000350): Train loss 0.340, Val loss 0.306\n",
      "Training accuracy: 90.00% | Validation accuracy: 90.00%\n",
      "Ep 4 (Step 000400): Train loss 0.136, Val loss 0.200\n",
      "Ep 4 (Step 000450): Train loss 0.153, Val loss 0.132\n",
      "Ep 4 (Step 000500): Train loss 0.222, Val loss 0.137\n",
      "Training accuracy: 100.00% | Validation accuracy: 97.50%\n",
      "Ep 5 (Step 000550): Train loss 0.207, Val loss 0.143\n",
      "Ep 5 (Step 000600): Train loss 0.083, Val loss 0.074\n",
      "Training accuracy: 100.00% | Validation accuracy: 97.50%\n",
      "Training completed in 5.38 minutes.\n"
     ]
    }
   ],
   "source": [
    "import time\n",
    "# 记录训练开始的时间，time.time()函数返回从1970年1月1日00:00:00 UTC到当前时刻的秒数，这里将这个时间戳记录下来作为训练开始时间。\n",
    "start_time = time.time()\n",
    "torch.manual_seed(123)\n",
    "# 创建一个AdamW优化器对象，用于在训练过程中根据损失函数的梯度来更新模型的参数，以使得模型能够朝着损失减小的方向进行优化。\n",
    "# 传入模型的可训练参数（model.parameters()），并设置学习率（lr）为5e-5，权重衰减（weight_decay）为0.1。\n",
    "# 学习率决定了每次更新参数时的步长大小，权重衰减用于防止模型过拟合，对模型的权重参数进行一定程度的正则化。\n",
    "optimizer = torch.optim.AdamW(model.parameters(), lr=5e-5, weight_decay=0.1)\n",
    "# 设置训练的轮次数为5，即整个训练数据集将被重复使用5次来对模型进行训练。\n",
    "num_epochs = 5\n",
    "# 调用train_classifier_simple函数对模型进行训练，传入模型、训练数据加载器、验证数据加载器、优化器、设备以及训练相关的参数。\n",
    "# - model：要进行训练的模型对象。\n",
    "# - train_loader：用于加载训练数据的加载器，按批次提供训练数据给模型。\n",
    "# - val_loader：用于加载验证数据的加载器，用于在训练过程中定期评估模型在未见过的验证数据上的性能。\n",
    "# - optimizer：刚才创建的AdamW优化器对象，用于更新模型参数。\n",
    "# - device：表示模型和数据将在其上进行操作的设备，如 'cuda'（GPU）或 'cpu'。\n",
    "# - num_epochs=num_epochs：指定训练的轮次数为刚才设置的5次。\n",
    "# - eval_freq=50：设置评估频率为每50个训练步骤就对模型在训练集和验证集上的性能进行一次评估。\n",
    "# - eval_iter=5：在每次评估时，从训练集和验证集中各选取5个批次的数据来进行评估。\n",
    "train_losses, val_losses, train_accs, val_accs, examples_seen = train_classifier_simple(\n",
    "    model, train_loader, val_loader, optimizer, device,\n",
    "    num_epochs=num_epochs, eval_freq=50, eval_iter=5,\n",
    ")\n",
    "# 记录训练结束的时间，同样是获取从1970年1月1日00:00:00 UTC到当前时刻的秒数作为训练结束时间。\n",
    "end_time = time.time()\n",
    "# 计算训练执行的时间，用结束时间减去开始时间得到总秒数，再除以60将其转换为分钟数，得到训练所花费的时间（以分钟为单位）。\n",
    "execution_time_minutes = (end_time - start_time) / 60\n",
    "# 打印出训练完成所花费的时间，将时间格式化为保留两位小数的形式进行输出，以便直观地查看训练过程所花费的时长。\n",
    "print(f\"Training completed in {execution_time_minutes:.2f} minutes.\")"
   ]
  },
  {
   "cell_type": "markdown",
   "id": "1261bf90-3ce7-4591-895a-044a05538f30",
   "metadata": {},
   "source": [
    "- Similar to chapter 5, we use matplotlib to plot the loss function for the training and validation set"
   ]
  },
  {
   "cell_type": "code",
   "execution_count": 37,
   "id": "cURgnDqdCeka",
   "metadata": {
    "id": "cURgnDqdCeka"
   },
   "outputs": [],
   "source": [
    "import matplotlib.pyplot as plt\n",
    "\n",
    "\n",
    "def plot_values(epochs_seen, examples_seen, train_values, val_values, label=\"loss\"):\n",
    "    \"\"\"\n",
    "    该函数用于绘制训练过程中模型在训练集和验证集上的特定指标（如损失值、准确率等）随训练轮次（epochs）以及处理的样本数量（examples seen）的变化情况，并将图形保存为PDF文件后展示出来。\n",
    "\n",
    "    参数:\n",
    "    - epochs_seen: 一个列表或数组，包含了训练过程中已经历的训练轮次的数值，用于在x轴上表示训练的进度（按轮次）。\n",
    "    - examples_seen: 一个列表或数组，包含了训练过程中已经处理过的训练数据样本的数量，用于在第二个x轴上表示训练的进度（按处理的样本数量）。\n",
    "    - train_values: 一个列表或数组，包含了模型在训练集上对应每个训练轮次或处理的样本数量的特定指标值（如损失值、准确率等），与epochs_seen和examples_seen的长度应该相同。\n",
    "    - val_values: 一个列表或数组，包含了模型在验证集上对应每个训练轮次或处理的样本数量的特定指标值（如损失值、准确率等），与epochs_seen和examples_seen的长度应该相同。\n",
    "    - label: 一个字符串，用于指定要绘制的特定指标的名称，默认值为\"loss\"，可根据实际情况修改为如\"accuracy\"等其他指标名称。\n",
    "\n",
    "    无返回值，但会生成并展示一个包含两个x轴（一个按训练轮次，一个按处理的样本数量）的图形，以及将图形保存为\"{label}-plot.pdf\"文件。\n",
    "    \"\"\"\n",
    "\n",
    "    # 创建一个新的图形对象和一个与之关联的坐标轴对象ax1，设置图形的大小为宽5英寸、高3英寸。\n",
    "    fig, ax1 = plt.subplots(figsize=(5, 3))\n",
    "\n",
    "    # 绘制训练集和验证集上的特定指标值随训练轮次的变化曲线\n",
    "\n",
    "    # 在坐标轴ax1上绘制训练集上的特定指标值随训练轮次的变化曲线，使用默认的线条样式。\n",
    "    # 将训练集上的指标值标记为\"Training {label}\"，其中{label}会根据传入的参数替换为具体的指标名称，如\"Training loss\"或\"Training accuracy\"等。\n",
    "    ax1.plot(epochs_seen, train_values, label=f\"Training {label}\")\n",
    "\n",
    "    # 在坐标轴ax1上绘制验证集上的特定指标值随训练轮次的变化曲线，使用虚线样式（linestyle=\"-.\")。\n",
    "    # 将验证集上的指标值标记为\"Validation {label}\"，同样{label}会根据传入的参数替换为具体的指标名称。\n",
    "    ax1.plot(epochs_seen, val_values, linestyle=\"-.\", label=f\"Validation {label}\")\n",
    "\n",
    "    # 设置坐标轴ax1的x轴标签为\"Epochs\"，表示该x轴表示训练轮次。\n",
    "    ax1.set_xlabel(\"Epochs\")\n",
    "\n",
    "    # 设置坐标轴ax1的y轴标签为将传入的label参数首字母大写后的形式，如传入\"loss\"则设置为\"Loss\"，传入\"accuracy\"则设置为\"Accuracy\"，表示该y轴表示特定指标的值。\n",
    "    ax1.set_ylabel(label.capitalize())\n",
    "\n",
    "    # 在图形中添加图例，用于显示不同曲线所代表的含义（训练集和验证集上的指标），图例的位置会根据图形布局自动调整。\n",
    "    ax1.legend()\n",
    "\n",
    "    # 创建一个与ax1共享y轴的第二个x轴ax2，用于在同一个图形中展示特定指标值随处理的样本数量的变化情况。\n",
    "    ax2 = ax1.twiny()\n",
    "\n",
    "    # 在坐标轴ax2上绘制一条透明度为0的曲线，这条曲线实际上是不可见的，其目的是为了让ax2的刻度与ax1的刻度在垂直方向上对齐，以便后续设置x轴标签等操作能准确对应到相应的样本数量位置。\n",
    "    ax2.plot(examples_seen, train_values, alpha=0)\n",
    "\n",
    "    # 设置坐标轴ax2的x轴标签为\"Examples seen\"，表示该x轴表示已经处理过的训练数据样本的数量。\n",
    "    ax2.set_xlabel(\"Examples seen\")\n",
    "\n",
    "    # 调整图形的布局，使得各个元素（坐标轴、标签、图例等）之间有合适的间距，以避免元素之间相互重叠或挤占空间。\n",
    "    fig.tight_layout()\n",
    "\n",
    "    # 将绘制好的图形保存为一个PDF文件，文件名为\"{label}-plot.pdf\"，其中{label}会根据传入的参数替换为具体的指标名称，如\"loss-plot.pdf\"或\"accuracy-plot.pdf\"等。\n",
    "    plt.savefig(f\"{label}-plot.pdf\")\n",
    "\n",
    "    # 展示绘制好的图形，在运行代码的环境中弹出图形窗口显示图形内容，以便直观地查看特定指标随训练轮次和处理的样本数量的变化情况。\n",
    "    plt.show()"
   ]
  },
  {
   "cell_type": "code",
   "execution_count": 38,
   "id": "OIqRt466DiGk",
   "metadata": {
    "colab": {
     "base_uri": "https://localhost:8080/",
     "height": 307
    },
    "id": "OIqRt466DiGk",
    "outputId": "b16987cf-0001-4652-ddaf-02f7cffc34db"
   },
   "outputs": [
    {
     "data": {
      "image/png": "[encoded data removed]",
      "text/plain": [
       "<Figure size 500x300 with 2 Axes>"
      ]
     },
     "metadata": {},
     "output_type": "display_data"
    }
   ],
   "source": [
    "epochs_tensor = torch.linspace(0, num_epochs, len(train_losses))\n",
    "examples_seen_tensor = torch.linspace(0, examples_seen, len(train_losses))\n",
    "\n",
    "plot_values(epochs_tensor, examples_seen_tensor, train_losses, val_losses)"
   ]
  },
  {
   "cell_type": "markdown",
   "id": "dbd28174-1836-44ba-b6c0-7e0be774fadc",
   "metadata": {},
   "source": [
    "- Above, based on the downward slope, we see that the model learns well\n",
    "- Furthermore, the fact that the training and validation loss are very close indicates that the model does not tend to overfit the training data\n",
    "- Similarly, we can plot the accuracy below"
   ]
  },
  {
   "cell_type": "code",
   "execution_count": 39,
   "id": "yz8BIsaF0TUo",
   "metadata": {
    "colab": {
     "base_uri": "https://localhost:8080/",
     "height": 307
    },
    "id": "yz8BIsaF0TUo",
    "outputId": "3a7ed967-1f2a-4c6d-f4a3-0cc8cc9d6c5f"
   },
   "outputs": [
    {
     "data": {
      "image/png": "[encoded data removed]",
      "text/plain": [
       "<Figure size 500x300 with 2 Axes>"
      ]
     },
     "metadata": {},
     "output_type": "display_data"
    }
   ],
   "source": [
    "import torch\n",
    "import matplotlib.pyplot as plt\n",
    "# 假设前面已经完成了模型的训练过程，并且得到了训练过程中的损失值列表 train_losses，以及处理过的样本数量 examples_seen，同时也设置好了训练的轮次数 num_epochs。\n",
    "# 使用torch.linspace函数创建一个一维张量，用于表示训练过程中经历的训练轮次的线性间隔值。\n",
    "# 起始值为0，表示从训练的第0轮开始；结束值为num_epochs，表示到设置的训练轮次数结束；元素数量为len(train_losses)，即与训练损失值列表的长度相同，这样每个损失值都能对应到一个具体的训练轮次。\n",
    "epochs_tensor = torch.linspace(0, num_epochs, len(train_losses))\n",
    "# 使用torch.linspace函数创建一个一维张量，用于表示训练过程中已经处理过的训练数据样本数量的线性间隔值。\n",
    "# 起始值为0，表示从处理0个样本开始；结束值为examples_seen，表示到已经处理过的总样本数量结束；元素数量为len(train_losses)，同样与训练损失值列表的长度相同，以便每个损失值也能对应到一个处理过的样本数量。\n",
    "examples_seen_tensor = torch.linspace(0, examples_seen, len(train_losses))\n",
    "# 调用之前定义的plot_values函数，传入创建好的表示训练轮次的张量、表示处理过的样本数量的张量、训练损失值列表以及验证损失值列表，\n",
    "# 该函数会根据传入的这些参数绘制出训练损失值和验证损失值随训练轮次以及处理的样本数量变化的图形，并进行相关的图形设置、保存和展示操作。\n",
    "plot_values(epochs_tensor, examples_seen_tensor, train_losses, val_losses)"
   ]
  },
  {
   "cell_type": "markdown",
   "id": "90aba699-21bc-42de-a69c-99f370bb0363",
   "metadata": {},
   "source": [
    "- Based on the accuracy plot above, we can see that the model achieves a relatively high training and validation accuracy after epochs 4 and 5\n",
    "- However, we have to keep in mind that we specified `eval_iter=5` in the training function earlier, which means that we only estimated the training and validation set performances\n",
    "- We can compute the training, validation, and test set performances over the complete dataset as follows below"
   ]
  },
  {
   "cell_type": "code",
   "execution_count": 40,
   "id": "UHWaJFrjY0zW",
   "metadata": {
    "colab": {
     "base_uri": "https://localhost:8080/"
    },
    "id": "UHWaJFrjY0zW",
    "outputId": "e111e6e6-b147-4159-eb9d-19d4e809ed34"
   },
   "outputs": [
    {
     "name": "stdout",
     "output_type": "stream",
     "text": [
      "Training accuracy: 97.21%\n",
      "Validation accuracy: 97.32%\n",
      "Test accuracy: 95.67%\n"
     ]
    }
   ],
   "source": [
    "train_accuracy = calc_accuracy_loader(train_loader, model, device)\n",
    "val_accuracy = calc_accuracy_loader(val_loader, model, device)\n",
    "test_accuracy = calc_accuracy_loader(test_loader, model, device)\n",
    "\n",
    "print(f\"Training accuracy: {train_accuracy*100:.2f}%\")\n",
    "print(f\"Validation accuracy: {val_accuracy*100:.2f}%\")\n",
    "print(f\"Test accuracy: {test_accuracy*100:.2f}%\")"
   ]
  },
  {
   "cell_type": "markdown",
   "id": "6882649f-dc7b-401f-84d2-024ff79c74a1",
   "metadata": {},
   "source": [
    "- We can see that the training and validation set performances are practically identical\n",
    "- However, based on the slightly lower test set performance, we can see that the model overfits the training data to a very small degree, as well as the validation data that has been used for tweaking some of the hyperparameters, such as the learning rate\n",
    "- This is normal, however, and this gap could potentially be further reduced by increasing the model's dropout rate (`drop_rate`) or the `weight_decay` in the optimizer setting"
   ]
  },
  {
   "cell_type": "markdown",
   "id": "a74d9ad7-3ec1-450e-8c9f-4fc46d3d5bb0",
   "metadata": {},
   "source": [
    "## 6.8 Using the LLM as a spam classifier"
   ]
  },
  {
   "cell_type": "markdown",
   "id": "72ebcfa2-479e-408b-9cf0-7421f6144855",
   "metadata": {},
   "source": [
    "<img src=\"https://sebastianraschka.com/images/LLMs-from-scratch-images/ch06_compressed/overview-4.webp\" width=500px>"
   ]
  },
  {
   "cell_type": "markdown",
   "id": "fd5408e6-83e4-4e5a-8503-c2fba6073f31",
   "metadata": {},
   "source": [
    "- Finally, let's use the finetuned GPT model in action\n",
    "- The `classify_review` function below implements the data preprocessing steps similar to the `SpamDataset` we implemented earlier\n",
    "- Then, the function returns the predicted integer class label from the model and returns the corresponding class name"
   ]
  },
  {
   "cell_type": "code",
   "execution_count": 41,
   "id": "aHdn6xvL-IW5",
   "metadata": {
    "id": "aHdn6xvL-IW5"
   },
   "outputs": [],
   "source": [
    "# 假设在此之前已经完成了模型的训练过程，并且已经正确定义和初始化了以下对象：\n",
    "# - train_loader：用于加载训练数据集的PyTorch数据加载器对象，它能够按批次提供训练数据给模型进行处理。\n",
    "# - val_loader：用于加载验证数据集的PyTorch数据加载器对象，用于在训练过程中对模型在未见过的验证数据上的性能进行评估。\n",
    "# - test_loader：用于加载测试数据集的PyTorch数据加载器对象，用于在模型训练完成后对模型在全新的测试数据上的性能进行评估。\n",
    "# - model：已经训练好的模型对象，该模型能够对输入数据进行预测并输出相应的结果。\n",
    "# - device：表示模型和数据将在其上进行操作的设备，如 'cuda'（GPU）或 'cpu'，确保模型和数据都已被移动到该设备上以便进行高效的计算。\n",
    "# 使用calc_accuracy_loader函数来计算模型在训练数据集上的准确率。\n",
    "# 该函数会遍历训练数据加载器提供的批次数据，对每个批次中的输入数据使用模型进行预测，然后将预测结果与真实标签进行比较，\n",
    "# 最终计算出模型在整个训练数据集上预测正确的样本数量占总样本数量的比例，即准确率。\n",
    "train_accuracy = calc_accuracy_loader(train_loader, model, device)\n",
    "# 使用calc_accuracy_loader函数来计算模型在验证数据集上的准确率。\n",
    "# 同样会遍历验证数据加载器提供的批次数据，进行预测并与真实标签比较，得出模型在验证数据集上预测正确的样本数量占总样本数量的比例。\n",
    "val_accuracy = calc_accuracy_loader(val_loader, model, device)\n",
    "# 使用calc_accuracy_loader函数来计算模型在测试数据集上的准确率。\n",
    "# 按照类似的方式，通过遍历测试数据加载器提供的批次数据，得到模型在测试数据集上预测正确的样本数量占总样本数量的比例。\n",
    "test_accuracy = calc_accuracy_loader(test_loader, model, device)\n",
    "# 打印出模型在训练数据集上的准确率，将准确率乘以100并格式化为保留两位小数的百分数形式进行输出，以便更直观地查看模型在训练数据上的性能表现。\n",
    "print(f\"Training accuracy: {train_accuracy*100:.2f}%\")\n",
    "# 打印出模型在验证数据集上的准确率，同样将准确率乘以100并格式化为保留两位小数的百分数形式进行输出，展示模型在验证数据上的性能表现。\n",
    "print(f\"Validation accuracy: {val_accuracy*100:.2f}%\")\n",
    "\n",
    "# 打印出模型在测试数据集上的准确率，也是将准确率乘以100并格式化为保留两位小数的百分数形式进行输出，呈现模型在测试数据上的性能表现。\n",
    "print(f\"Test accuracy: {test_accuracy*100:.2f}%\")"
   ]
  },
  {
   "cell_type": "markdown",
   "id": "f29682d8-a899-4d9b-b973-f8d5ec68172c",
   "metadata": {},
   "source": [
    "- Let's try it out on a few examples below"
   ]
  },
  {
   "cell_type": "code",
   "execution_count": 42,
   "id": "apU_pf51AWSV",
   "metadata": {
    "colab": {
     "base_uri": "https://localhost:8080/"
    },
    "id": "apU_pf51AWSV",
    "outputId": "d0fde0a5-e7a3-4dbe-d9c5-0567dbab7e62"
   },
   "outputs": [
    {
     "name": "stdout",
     "output_type": "stream",
     "text": [
      "spam\n"
     ]
    }
   ],
   "source": [
    "text_1 = (\n",
    "    \"You are a winner you have been specially\"\n",
    "    \" selected to receive $1000 cash or a $2000 award.\"\n",
    ")\n",
    "\n",
    "print(classify_review(\n",
    "    text_1, model, tokenizer, device, max_length=train_dataset.max_length\n",
    "))"
   ]
  },
  {
   "cell_type": "code",
   "execution_count": 43,
   "id": "1g5VTOo_Ajs5",
   "metadata": {
    "colab": {
     "base_uri": "https://localhost:8080/"
    },
    "id": "1g5VTOo_Ajs5",
    "outputId": "659b08eb-b6a9-4a8a-9af7-d94c757e93c2"
   },
   "outputs": [
    {
     "name": "stdout",
     "output_type": "stream",
     "text": [
      "not spam\n"
     ]
    }
   ],
   "source": [
    "text_2 = (\n",
    "    \"Hey, just wanted to check if we're still on\"\n",
    "    \" for dinner tonight? Let me know!\"\n",
    ")\n",
    "\n",
    "print(classify_review(\n",
    "    text_2, model, tokenizer, device, max_length=train_dataset.max_length\n",
    "))"
   ]
  },
  {
   "cell_type": "markdown",
   "id": "bf736e39-0d47-40c1-8d18-1f716cf7a81e",
   "metadata": {},
   "source": [
    "- Finally, let's save the model in case we want to reuse the model later without having to train it again"
   ]
  },
  {
   "cell_type": "code",
   "execution_count": 44,
   "id": "mYnX-gI1CfQY",
   "metadata": {
    "id": "mYnX-gI1CfQY"
   },
   "outputs": [],
   "source": [
    "torch.save(model.state_dict(), \"review_classifier.pth\")"
   ]
  },
  {
   "cell_type": "markdown",
   "id": "ba78cf7c-6b80-4f71-a50e-3ccc73839af6",
   "metadata": {},
   "source": [
    "- Then, in a new session, we could load the model as follows"
   ]
  },
  {
   "cell_type": "code",
   "execution_count": 45,
   "id": "cc4e68a5-d492-493b-87ef-45c475f353f5",
   "metadata": {},
   "outputs": [
    {
     "data": {
      "text/plain": [
       "<All keys matched successfully>"
      ]
     },
     "execution_count": 45,
     "metadata": {},
     "output_type": "execute_result"
    }
   ],
   "source": [
    "model_state_dict = torch.load(\"review_classifier.pth\", map_location=device, weights_only=True)\n",
    "model.load_state_dict(model_state_dict)"
   ]
  },
  {
   "cell_type": "markdown",
   "id": "5b70ac71-234f-4eeb-b33d-c62726d50cd4",
   "metadata": {
    "id": "5b70ac71-234f-4eeb-b33d-c62726d50cd4"
   },
   "source": [
    "## Summary and takeaways"
   ]
  },
  {
   "cell_type": "markdown",
   "id": "dafdc910-d616-47ab-aa85-f90c6e7ed80e",
   "metadata": {},
   "source": [
    "- See the [./gpt_class_finetune.py](./gpt_class_finetune.py) script, a self-contained script for classification finetuning\n",
    "- You can find the exercise solutions in [./exercise-solutions.ipynb](./exercise-solutions.ipynb)\n",
    "- In addition, interested readers can find an introduction to parameter-efficient training with low-rank adaptation (LoRA) in [appendix E](../../appendix-E)"
   ]
  }
 ],
 "metadata": {
  "accelerator": "GPU",
  "colab": {
   "gpuType": "V100",
   "provenance": []
  },
  "kernelspec": {
   "display_name": "Python 3 (ipykernel)",
   "language": "python",
   "name": "python3"
  },
  "language_info": {
   "codemirror_mode": {
    "name": "ipython",
    "version": 3
   },
   "file_extension": ".py",
   "mimetype": "text/x-python",
   "name": "python",
   "nbconvert_exporter": "python",
   "pygments_lexer": "ipython3",
   "version": "3.11.4"
  }
 },
 "nbformat": 4,
 "nbformat_minor": 5
}
