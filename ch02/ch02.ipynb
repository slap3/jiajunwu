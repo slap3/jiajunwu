{
 "cells": [
  {
   "cell_type": "markdown",
   "id": "d95f841a-63c9-41d4-aea1-496b3d2024dd",
   "metadata": {},
   "source": [
    "<table style=\"width:100%\">\n",
    "<tr>\n",
    "<td style=\"vertical-align:middle; text-align:left;\">\n",
    "<font size=\"2\">\n",
    "Supplementary code for the <a href=\"http://mng.bz/orYv\">Build a Large Language Model From Scratch</a> book by <a href=\"https://sebastianraschka.com\">Sebastian Raschka</a><br>\n",
    "<br>Code repository: <a href=\"https://github.com/rasbt/LLMs-from-scratch\">https://github.com/rasbt/LLMs-from-scratch</a>\n",
    "</font>\n",
    "</td>\n",
    "<td style=\"vertical-align:middle; text-align:left;\">\n",
    "<a href=\"http://mng.bz/orYv\"><img src=\"https://sebastianraschka.com/images/LLMs-from-scratch-images/cover-small.webp\" width=\"100px\"></a>\n",
    "</td>\n",
    "</tr>\n",
    "</table>\n"
   ]
  },
  {
   "cell_type": "markdown",
   "id": "25aa40e3-5109-433f-9153-f5770531fe94",
   "metadata": {},
   "source": [
    "# Chapter 2: Working with Text"
   ]
  },
  {
   "cell_type": "markdown",
   "id": "76d5d2c0-cba8-404e-9bf3-71a218cae3cf",
   "metadata": {},
   "source": [
    "Packages that are being used in this notebook:"
   ]
  },
  {
   "cell_type": "code",
   "execution_count": 1,
   "id": "4d1305cf-12d5-46fe-a2c9-36fb71c5b3d3",
   "metadata": {
    "ExecuteTime": {
     "end_time": "2024-11-10T09:05:45.225596800Z",
     "start_time": "2024-11-10T09:05:43.409126500Z"
    }
   },
   "outputs": [
    {
     "ename": "PackageNotFoundError",
     "evalue": "No package metadata was found for torch",
     "output_type": "error",
     "traceback": [
      "\u001B[1;31m---------------------------------------------------------------------------\u001B[0m",
      "\u001B[1;31mStopIteration\u001B[0m                             Traceback (most recent call last)",
      "File \u001B[1;32mD:\\anaconda3\\Lib\\importlib\\metadata\\__init__.py:397\u001B[0m, in \u001B[0;36mDistribution.from_name\u001B[1;34m(cls, name)\u001B[0m\n\u001B[0;32m    396\u001B[0m \u001B[38;5;28;01mtry\u001B[39;00m:\n\u001B[1;32m--> 397\u001B[0m     \u001B[38;5;28;01mreturn\u001B[39;00m \u001B[38;5;28mnext\u001B[39m(\u001B[38;5;28mcls\u001B[39m\u001B[38;5;241m.\u001B[39mdiscover(name\u001B[38;5;241m=\u001B[39mname))\n\u001B[0;32m    398\u001B[0m \u001B[38;5;28;01mexcept\u001B[39;00m \u001B[38;5;167;01mStopIteration\u001B[39;00m:\n",
      "\u001B[1;31mStopIteration\u001B[0m: ",
      "\nDuring handling of the above exception, another exception occurred:\n",
      "\u001B[1;31mPackageNotFoundError\u001B[0m                      Traceback (most recent call last)",
      "Cell \u001B[1;32mIn[1], line 2\u001B[0m\n\u001B[0;32m      1\u001B[0m \u001B[38;5;28;01mfrom\u001B[39;00m \u001B[38;5;21;01mimportlib\u001B[39;00m\u001B[38;5;21;01m.\u001B[39;00m\u001B[38;5;21;01mmetadata\u001B[39;00m \u001B[38;5;28;01mimport\u001B[39;00m version\n\u001B[1;32m----> 2\u001B[0m \u001B[38;5;28mprint\u001B[39m(\u001B[38;5;124m\"\u001B[39m\u001B[38;5;124mtorch version:\u001B[39m\u001B[38;5;124m\"\u001B[39m, version(\u001B[38;5;124m\"\u001B[39m\u001B[38;5;124mtorch\u001B[39m\u001B[38;5;124m\"\u001B[39m))\n\u001B[0;32m      3\u001B[0m \u001B[38;5;28mprint\u001B[39m(\u001B[38;5;124m\"\u001B[39m\u001B[38;5;124mtiktoken version:\u001B[39m\u001B[38;5;124m\"\u001B[39m, version(\u001B[38;5;124m\"\u001B[39m\u001B[38;5;124mtiktoken\u001B[39m\u001B[38;5;124m\"\u001B[39m))\n",
      "File \u001B[1;32mD:\\anaconda3\\Lib\\importlib\\metadata\\__init__.py:889\u001B[0m, in \u001B[0;36mversion\u001B[1;34m(distribution_name)\u001B[0m\n\u001B[0;32m    882\u001B[0m \u001B[38;5;28;01mdef\u001B[39;00m \u001B[38;5;21mversion\u001B[39m(distribution_name):\n\u001B[0;32m    883\u001B[0m \u001B[38;5;250m    \u001B[39m\u001B[38;5;124;03m\"\"\"Get the version string for the named package.\u001B[39;00m\n\u001B[0;32m    884\u001B[0m \n\u001B[0;32m    885\u001B[0m \u001B[38;5;124;03m    :param distribution_name: The name of the distribution package to query.\u001B[39;00m\n\u001B[0;32m    886\u001B[0m \u001B[38;5;124;03m    :return: The version string for the package as defined in the package's\u001B[39;00m\n\u001B[0;32m    887\u001B[0m \u001B[38;5;124;03m        \"Version\" metadata key.\u001B[39;00m\n\u001B[0;32m    888\u001B[0m \u001B[38;5;124;03m    \"\"\"\u001B[39;00m\n\u001B[1;32m--> 889\u001B[0m     \u001B[38;5;28;01mreturn\u001B[39;00m distribution(distribution_name)\u001B[38;5;241m.\u001B[39mversion\n",
      "File \u001B[1;32mD:\\anaconda3\\Lib\\importlib\\metadata\\__init__.py:862\u001B[0m, in \u001B[0;36mdistribution\u001B[1;34m(distribution_name)\u001B[0m\n\u001B[0;32m    856\u001B[0m \u001B[38;5;28;01mdef\u001B[39;00m \u001B[38;5;21mdistribution\u001B[39m(distribution_name):\n\u001B[0;32m    857\u001B[0m \u001B[38;5;250m    \u001B[39m\u001B[38;5;124;03m\"\"\"Get the ``Distribution`` instance for the named package.\u001B[39;00m\n\u001B[0;32m    858\u001B[0m \n\u001B[0;32m    859\u001B[0m \u001B[38;5;124;03m    :param distribution_name: The name of the distribution package as a string.\u001B[39;00m\n\u001B[0;32m    860\u001B[0m \u001B[38;5;124;03m    :return: A ``Distribution`` instance (or subclass thereof).\u001B[39;00m\n\u001B[0;32m    861\u001B[0m \u001B[38;5;124;03m    \"\"\"\u001B[39;00m\n\u001B[1;32m--> 862\u001B[0m     \u001B[38;5;28;01mreturn\u001B[39;00m Distribution\u001B[38;5;241m.\u001B[39mfrom_name(distribution_name)\n",
      "File \u001B[1;32mD:\\anaconda3\\Lib\\importlib\\metadata\\__init__.py:399\u001B[0m, in \u001B[0;36mDistribution.from_name\u001B[1;34m(cls, name)\u001B[0m\n\u001B[0;32m    397\u001B[0m     \u001B[38;5;28;01mreturn\u001B[39;00m \u001B[38;5;28mnext\u001B[39m(\u001B[38;5;28mcls\u001B[39m\u001B[38;5;241m.\u001B[39mdiscover(name\u001B[38;5;241m=\u001B[39mname))\n\u001B[0;32m    398\u001B[0m \u001B[38;5;28;01mexcept\u001B[39;00m \u001B[38;5;167;01mStopIteration\u001B[39;00m:\n\u001B[1;32m--> 399\u001B[0m     \u001B[38;5;28;01mraise\u001B[39;00m PackageNotFoundError(name)\n",
      "\u001B[1;31mPackageNotFoundError\u001B[0m: No package metadata was found for torch"
     ]
    }
   ],
   "source": [
    "from importlib.metadata import version\n",
    "# 从importlib.metadata模块中导入version函数。这个函数用于获取指定库的版本信息。\n",
    "print(\"torch version:\", version(\"torch\"))\n",
    "# 调用version函数获取\"torch\"库的版本，并将其打印出来。这里会输出类似 \"torch version: x.x.x\" 的信息，\n",
    "print(\"tiktoken version:\", version(\"tiktoken\"))\n",
    "# 同样调用version函数获取\"tiktoken\"库的版本，并将其打印出来。"
   ]
  },
  {
   "cell_type": "markdown",
   "id": "5a42fbfd-e3c2-43c2-bc12-f5f870a0b10a",
   "metadata": {},
   "source": [
    "- This chapter covers data preparation and sampling to get input data \"ready\" for the LLM"
   ]
  },
  {
   "cell_type": "code",
   "execution_count": null,
   "outputs": [],
   "source": [],
   "metadata": {
    "collapsed": false
   },
   "id": "c59f4a047058900f"
  },
  {
   "cell_type": "markdown",
   "id": "628b2922-594d-4ff9-bd82-04f1ebdf41f5",
   "metadata": {},
   "source": [
    "<img src=\"https://sebastianraschka.com/images/LLMs-from-scratch-images/ch02_compressed/01.webp?timestamp=1\" width=\"500px\">"
   ]
  },
  {
   "cell_type": "markdown",
   "id": "2417139b-2357-44d2-bd67-23f5d7f52ae7",
   "metadata": {},
   "source": [
    "## 2.1 Understanding word embeddings"
   ]
  },
  {
   "cell_type": "markdown",
   "id": "0b6816ae-e927-43a9-b4dd-e47a9b0e1cf6",
   "metadata": {},
   "source": [
    "- No code in this section"
   ]
  },
  {
   "cell_type": "markdown",
   "id": "4f69dab7-a433-427a-9e5b-b981062d6296",
   "metadata": {},
   "source": [
    "- There are many forms of embeddings; we focus on text embeddings in this book"
   ]
  },
  {
   "cell_type": "markdown",
   "id": "ba08d16f-f237-4166-bf89-0e9fe703e7b4",
   "metadata": {},
   "source": [
    "<img src=\"https://sebastianraschka.com/images/LLMs-from-scratch-images/ch02_compressed/02.webp\" width=\"500px\">"
   ]
  },
  {
   "cell_type": "markdown",
   "id": "288c4faf-b93a-4616-9276-7a4aa4b5e9ba",
   "metadata": {},
   "source": [
    "- LLMs work with embeddings in high-dimensional spaces (i.e., thousands of dimensions)\n",
    "- Since we can't visualize such high-dimensional spaces (we humans think in 1, 2, or 3 dimensions), the figure below illustrates a 2-dimensional embedding space"
   ]
  },
  {
   "cell_type": "markdown",
   "id": "d6b80160-1f10-4aad-a85e-9c79444de9e6",
   "metadata": {},
   "source": [
    "<img src=\"https://sebastianraschka.com/images/LLMs-from-scratch-images/ch02_compressed/03.webp\" width=\"300px\">"
   ]
  },
  {
   "cell_type": "markdown",
   "id": "eddbb984-8d23-40c5-bbfa-c3c379e7eec3",
   "metadata": {},
   "source": [
    "## 2.2 Tokenizing text"
   ]
  },
  {
   "cell_type": "markdown",
   "id": "f9c90731-7dc9-4cd3-8c4a-488e33b48e80",
   "metadata": {},
   "source": [
    "- In this section, we tokenize text, which means breaking text into smaller units, such as individual words and punctuation characters"
   ]
  },
  {
   "cell_type": "markdown",
   "source": [],
   "metadata": {
    "collapsed": false
   },
   "id": "9c3fd6abfebba3a9"
  },
  {
   "cell_type": "markdown",
   "id": "09872fdb-9d4e-40c4-949d-52a01a43ec4b",
   "metadata": {},
   "source": [
    "<img src=\"https://sebastianraschka.com/images/LLMs-from-scratch-images/ch02_compressed/04.webp\" width=\"300px\">"
   ]
  },
  {
   "cell_type": "markdown",
   "id": "8cceaa18-833d-46b6-b211-b20c53902805",
   "metadata": {},
   "source": [
    "- Load raw text we want to work with\n",
    "- [The Verdict by Edith Wharton](https://en.wikisource.org/wiki/The_Verdict) is a public domain short story"
   ]
  },
  {
   "cell_type": "code",
   "execution_count": 2,
   "id": "40f9d9b1-6d32-485a-825a-a95392a86d79",
   "metadata": {},
   "outputs": [],
   "source": [
    "import os\n",
    "import urllib.request\n",
    "# 检查当前目录下是否不存在名为\"the-verdict.txt\"的文件\n",
    "if not os.path.exists(\"the-verdict.txt\"):\n",
    "    # 定义要下载文件的URL地址\n",
    "    url = (\"https://raw.githubusercontent.com/rasbt/\"\n",
    "           \"LLMs-from-scratch/main/ch02/01_main-chapter-code/\"\n",
    "           \"the-verdict.txt\")\n",
    "    # 定义要保存下载文件的本地路径，这里是当前目录下的\"the-verdict.txt\"\n",
    "    file_path = \"the-verdict.txt\"\n",
    "    # 使用urllib.request库的urlretrieve函数从指定的URL下载文件，并保存到本地指定的路径\n",
    "    urllib.request.urlretrieve(url, file_path)"
   ]
  },
  {
   "cell_type": "markdown",
   "id": "56488f2c-a2b8-49f1-aaeb-461faad08dce",
   "metadata": {},
   "source": [
    "- (If you encounter an `ssl.SSLCertVerificationError` when executing the previous code cell, it might be due to using an outdated Python version; you can find [more information here on GitHub](https://github.com/rasbt/LLMs-from-scratch/pull/403))"
   ]
  },
  {
   "cell_type": "code",
   "execution_count": 3,
   "id": "8a769e87-470a-48b9-8bdb-12841b416198",
   "metadata": {},
   "outputs": [
    {
     "name": "stdout",
     "output_type": "stream",
     "text": [
      "Total number of character: 20479\n",
      "I HAD always thought Jack Gisburn rather a cheap genius--though a good fellow enough--so it was no \n"
     ]
    }
   ],
   "source": [
    "with open(\"the-verdict.txt\", \"r\", encoding=\"utf-8\") as f:\n",
    "    # 使用`with`语句打开名为\"the-verdict.txt\"的文件，以只读模式（\"r\"）打开，并指定编码为\"utf-8\"。\n",
    "    # `with`语句会自动处理文件的打开和关闭操作，确保在代码块执行完毕后正确关闭文件，避免资源泄露。\n",
    "    # 这里将打开的文件对象赋值给变量`f`，以便后续操作使用。\n",
    "    raw_text = f.read()\n",
    "# 打印出读取到的文本的总字符数。通过调用`len()`函数获取`raw_text`的长度，也就是字符的数量。\n",
    "print(\"Total number of character:\", len(raw_text))\n",
    "# 打印出读取到的文本的前99个字符。通过切片操作`raw_text[:99]`获取从文本开头到第99个字符（不包括第99个字符）的内容。\n",
    "print(raw_text[:99])"
   ]
  },
  {
   "cell_type": "markdown",
   "id": "9b971a46-ac03-4368-88ae-3f20279e8f4e",
   "metadata": {},
   "source": [
    "- The goal is to tokenize and embed this text for an LLM\n",
    "- Let's develop a simple tokenizer based on some simple sample text that we can then later apply to the text above\n",
    "- The following regular expression will split on whitespaces"
   ]
  },
  {
   "cell_type": "code",
   "execution_count": 4,
   "id": "737dd5b0-9dbb-4a97-9ae4-3482c8c04be7",
   "metadata": {},
   "outputs": [
    {
     "name": "stdout",
     "output_type": "stream",
     "text": [
      "['Hello,', ' ', 'world.', ' ', 'This,', ' ', 'is', ' ', 'a', ' ', 'test.']\n"
     ]
    }
   ],
   "source": [
    "import re\n",
    "# 定义一个字符串变量text，其中包含了一些文本内容，这里是\"Hello, world. This, is a test.\"\n",
    "text = \"Hello, world. This, is a test.\"\n",
    "# 使用re模块的split函数对text字符串进行分割操作。\n",
    "# 这里的正则表达式r'(\\s)'表示以空白字符（包括空格、制表符、换行符等）作为分割点。\n",
    "# 并且由于使用了括号将\\s括起来，所以分割时会保留分割点的字符，也就是空白字符会被保留在分割后的结果列表中。\n",
    "result = re.split(r'(\\s)', text)\n",
    "# 打印出分割后的结果列表。这个列表中包含了按照空白字符分割后的各个子字符串以及被保留的空白字符。\n",
    "print(result)"
   ]
  },
  {
   "cell_type": "markdown",
   "id": "a8c40c18-a9d5-4703-bf71-8261dbcc5ee3",
   "metadata": {},
   "source": [
    "- We don't only want to split on whitespaces but also commas and periods, so let's modify the regular expression to do that as well"
   ]
  },
  {
   "cell_type": "code",
   "execution_count": 5,
   "id": "ea02489d-01f9-4247-b7dd-a0d63f62ef07",
   "metadata": {},
   "outputs": [
    {
     "name": "stdout",
     "output_type": "stream",
     "text": [
      "['Hello', ',', '', ' ', 'world', '.', '', ' ', 'This', ',', '', ' ', 'is', ' ', 'a', ' ', 'test', '.', '']\n"
     ]
    }
   ],
   "source": [
    "import re\n",
    "text = \"Hello, world. This, is a test.\"\n",
    "# 使用re模块的split函数对text字符串进行分割操作。\n",
    "# 这里的正则表达式r'([,.]|\\s)'含义如下：\n",
    "# - '|' 是正则表达式中的或运算符，表示匹配其中任意一种情况。\n",
    "# - '([,.])' 表示匹配逗号或句号，并且由于使用了括号，会将匹配到的逗号或句号保留在分割后的结果中。\n",
    "# - '\\s' 表示匹配空白字符（包括空格、制表符、换行符等），同样也会将匹配到的空白字符保留在分割后的结果中。\n",
    "# 所以整体上这个正则表达式会以逗号、句号或者空白字符作为分割点对text字符串进行分割，并且保留这些分割点的字符。\n",
    "result = re.split(r'([,.]|\\s)', text)\n",
    "# 打印出分割后的结果列表。这个列表中将包含按照逗号、句号或者空白字符分割后的各个子字符串以及被保留的逗号、句号和空白字符。\n",
    "print(result)"
   ]
  },
  {
   "cell_type": "markdown",
   "id": "461d0c86-e3af-4f87-8fae-594a9ca9b6ad",
   "metadata": {},
   "source": [
    "- As we can see, this creates empty strings, let's remove them"
   ]
  },
  {
   "cell_type": "code",
   "execution_count": 6,
   "id": "4d8a6fb7-2e62-4a12-ad06-ccb04f25fed7",
   "metadata": {},
   "outputs": [
    {
     "name": "stdout",
     "output_type": "stream",
     "text": [
      "['Hello', ',', 'world', '.', 'This', ',', 'is', 'a', 'test', '.']\n"
     ]
    }
   ],
   "source": [
    "# Strip whitespace from each item and then filter out any empty strings.\n",
    "# 对于result列表中的每一个元素item，先使用strip()方法去除其两端的空白字符（包括空格、制表符、换行符等），\n",
    "# 然后通过if item.strip()条件进行过滤，只有当去除空白字符后item不为空字符串时，才会将其保留在新的列表中。\n",
    "result = [item for item in result if item.strip()]\n",
    "# 打印经过上述处理后的result列表，此时列表中的元素都已经去除了两端空白字符并且不存在空字符串了。\n",
    "print(result)"
   ]
  },
  {
   "cell_type": "markdown",
   "id": "250e8694-181e-496f-895d-7cb7d92b5562",
   "metadata": {},
   "source": [
    "- This looks pretty good, but let's also handle other types of punctuation, such as periods, question marks, and so on"
   ]
  },
  {
   "cell_type": "code",
   "execution_count": 7,
   "id": "ed3a9467-04b4-49d9-96c5-b8042bcf8374",
   "metadata": {},
   "outputs": [
    {
     "name": "stdout",
     "output_type": "stream",
     "text": [
      "['Hello', ',', 'world', '.', 'Is', 'this', '--', 'a', 'test', '?']\n"
     ]
    }
   ],
   "source": [
    "text = \"Hello, world. Is this-- a test?\"\n",
    "# - '([,.:;?_!\"()\\'])' 表示匹配逗号、句号、冒号、分号、问号、感叹号、双引号、单引号、左括号、右括号这些标点符号，\n",
    "#   并且由于使用了括号，会将匹配到的标点符号保留在分割后的结果中。\n",
    "# - '--' 表示匹配连续的两个减号，同样会将其保留在分割后的结果中。\n",
    "# - '\\s' 表示匹配空白字符（包括空格、制表符、换行符等），也会将匹配到的空白字符保留在分割后的结果中。\n",
    "# 所以整体上这个正则表达式会以列举的这些标点符号、连续两个减号或者空白字符作为分割点对text字符串进行分割，\n",
    "# 并且保留这些分割点的字符。\n",
    "result = re.split(r'([,.:;?_!\"()\\']|--|\\s)', text)\n",
    "# 以下这行代码使用了列表推导式来对刚才得到的result列表进行进一步处理。\n",
    "# 对于result列表中的每一个元素item，先使用strip()方法去除其两端的空白字符（包括空格、制表符、换行符等），\n",
    "# 然后通过if item.strip()条件进行过滤，只有当去除空白字符后item不为空字符串时，才会将其保留在新的列表中。\n",
    "result = [item.strip() for item in result if item.strip()]\n",
    "# 打印经过上述处理后的result列表，此时列表中的元素都已经去除了两端空白字符并且不存在空字符串了，\n",
    "# 并且这些元素是按照之前设定的标点符号、连续两个减号或空白字符分割原始文本得到的结果。\n",
    "print(result)"
   ]
  },
  {
   "cell_type": "markdown",
   "id": "5bbea70b-c030-45d9-b09d-4318164c0bb4",
   "metadata": {},
   "source": [
    "- This is pretty good, and we are now ready to apply this tokenization to the raw text"
   ]
  },
  {
   "cell_type": "markdown",
   "id": "6cbe9330-b587-4262-be9f-497a84ec0e8a",
   "metadata": {},
   "source": [
    "<img src=\"https://sebastianraschka.com/images/LLMs-from-scratch-images/ch02_compressed/05.webp\" width=\"350px\">"
   ]
  },
  {
   "cell_type": "code",
   "execution_count": 8,
   "id": "8c567caa-8ff5-49a8-a5cc-d365b0a78a99",
   "metadata": {},
   "outputs": [
    {
     "name": "stdout",
     "output_type": "stream",
     "text": [
      "['I', 'HAD', 'always', 'thought', 'Jack', 'Gisburn', 'rather', 'a', 'cheap', 'genius', '--', 'though', 'a', 'good', 'fellow', 'enough', '--', 'so', 'it', 'was', 'no', 'great', 'surprise', 'to', 'me', 'to', 'hear', 'that', ',', 'in']\n"
     ]
    }
   ],
   "source": [
    "# 使用re模块的split函数对raw_text字符串进行分割操作。\n",
    "# 正则表达式r'([,.:;?_!\"()\\']|--|\\s)'的含义如下：\n",
    "# - '|' 是正则表达式中的“或”运算符，表示匹配其中任意一种情况。\n",
    "# - '([,.:;?_!\"()\\'])' 表示匹配逗号、句号、冒号、分号、问号、感叹号、双引号、单引号、左括号、右括号这些标点符号，\n",
    "#   并且由于使用了括号，会将匹配到的标点符号保留在分割后的结果中。\n",
    "# - '--' 表示匹配连续的两个减号，同样会将其保留在分割后的结果中。\n",
    "# - '\\s' 表示匹配空白字符（包括空格、制表符、换行符等），也会将匹配到的空白字符保留在分割后的结果中。\n",
    "# 所以整体上这个正则表达式会以列举的这些标点符号、连续两个减号或者空白字符作为分割点对raw_text字符串进行分割，\n",
    "# 并且保留这些分割点的字符。\n",
    "preprocessed = re.split(r'([,.:;?_!\"()\\']|--|\\s)', raw_text)\n",
    "# 以下这行代码使用了列表推导式来对刚才得到的preprocessed列表进行进一步处理。\n",
    "# 对于preprocessed列表中的每一个元素item，先使用strip()方法去除其两端的空白字符（包括空格、制表符、换行符等），\n",
    "# 然后通过if item.strip()条件进行过滤，只有当去除空白字符后item不为空字符串时，才会将其保留在新的列表中。\n",
    "preprocessed = [item.strip() for item in preprocessed if item.strip()]\n",
    "# 打印经过上述处理后的preprocessed列表的前30个元素。\n",
    "print(preprocessed[:30])"
   ]
  },
  {
   "cell_type": "markdown",
   "id": "e2a19e1a-5105-4ddb-812a-b7d3117eab95",
   "metadata": {},
   "source": [
    "- Let's calculate the total number of tokens"
   ]
  },
  {
   "cell_type": "code",
   "execution_count": 9,
   "id": "35db7b5e-510b-4c45-995f-f5ad64a8e19c",
   "metadata": {},
   "outputs": [
    {
     "name": "stdout",
     "output_type": "stream",
     "text": [
      "4690\n"
     ]
    }
   ],
   "source": [
    "print(len(preprocessed))"
   ]
  },
  {
   "cell_type": "markdown",
   "id": "0b5ce8fe-3a07-4f2a-90f1-a0321ce3a231",
   "metadata": {},
   "source": [
    "## 2.3 Converting tokens into token IDs"
   ]
  },
  {
   "cell_type": "markdown",
   "id": "a5204973-f414-4c0d-87b0-cfec1f06e6ff",
   "metadata": {},
   "source": [
    "- Next, we convert the text tokens into token IDs that we can process via embedding layers later"
   ]
  },
  {
   "cell_type": "markdown",
   "id": "177b041d-f739-43b8-bd81-0443ae3a7f8d",
   "metadata": {},
   "source": [
    "<img src=\"https://sebastianraschka.com/images/LLMs-from-scratch-images/ch02_compressed/06.webp\" width=\"500px\">"
   ]
  },
  {
   "cell_type": "markdown",
   "id": "b5973794-7002-4202-8b12-0900cd779720",
   "metadata": {},
   "source": [
    "- From these tokens, we can now build a vocabulary that consists of all the unique tokens"
   ]
  },
  {
   "cell_type": "code",
   "execution_count": 10,
   "id": "7fdf0533-5ab6-42a5-83fa-a3b045de6396",
   "metadata": {},
   "outputs": [
    {
     "name": "stdout",
     "output_type": "stream",
     "text": [
      "1130\n"
     ]
    }
   ],
   "source": [
    "# set()函数会将preprocessed列表中的元素转换为集合，集合的特点是元素具有唯一性，即会自动去除重复的元素。\n",
    "# 所以这里通过set(preprocessed)就得到了一个包含preprocessed中所有不重复元素的集合。\n",
    "# 然后再使用sorted()函数对这个集合进行排序，排序后的结果是一个按照某种顺序（比如字母顺序等）排列的列表，\n",
    "# 其中包含了preprocessed中所有不重复的元素，将其赋值给all_words变量。\n",
    "all_words = sorted(set(preprocessed))\n",
    "# 计算词汇表的大小，也就是all_words这个列表的长度。\n",
    "# 由于all_words列表包含了经过处理后的文本中所有不重复的单词（或其他文本单元），\n",
    "# 所以其长度就代表了词汇表中不同单词（或文本单元）的数量，将其赋值给vocab_size变量。\n",
    "vocab_size = len(all_words)\n",
    "# 打印出词汇表的大小，即显示出经过前面的处理后，文本中不同单词（或文本单元）的数量。\n",
    "print(vocab_size)"
   ]
  },
  {
   "cell_type": "markdown",
   "source": [],
   "metadata": {
    "collapsed": false
   },
   "id": "ccd714c8b58f93c9"
  },
  {
   "cell_type": "code",
   "execution_count": 11,
   "id": "77d00d96-881f-4691-bb03-84fec2a75a26",
   "metadata": {},
   "outputs": [],
   "source": [
    "# 使用字典推导式来创建一个名为vocab的字典。\n",
    "# 在这个字典推导式中：\n",
    "# - enumerate(all_words) 会对all_words列表进行枚举操作。\n",
    "#   枚举操作会返回一个包含索引（从0开始）和对应元素的元组序列。\n",
    "#   例如，如果all_words = ['apple', 'banana', 'cherry']，那么enumerate(all_words)会返回[(0, 'apple'), (1, 'banana'), (2, 'cherry')]。\n",
    "# - token:integer 表示字典的键值对形式，这里将枚举得到的元组中的元素（即all_words中的单词，作为token）作为键，\n",
    "#   而将枚举得到的元组中的索引（作为integer）作为值。\n",
    "# 所以整体上这行代码创建了一个字典vocab，其中键是all_words列表中的各个单词（或其他文本单元），\n",
    "# 值是这些单词（或其他文本单元）在all_words列表中的索引位置。\n",
    "vocab = {token:integer for integer,token in enumerate(all_words)}"
   ]
  },
  {
   "cell_type": "markdown",
   "id": "75bd1f81-3a8f-4dd9-9dd6-e75f32dacbe3",
   "metadata": {},
   "source": [
    "- Below are the first 50 entries in this vocabulary:"
   ]
  },
  {
   "cell_type": "code",
   "execution_count": 12,
   "id": "e1c5de4a-aa4e-4aec-b532-10bb364039d6",
   "metadata": {},
   "outputs": [
    {
     "name": "stdout",
     "output_type": "stream",
     "text": [
      "('!', 0)\n",
      "('\"', 1)\n",
      "(\"'\", 2)\n",
      "('(', 3)\n",
      "(')', 4)\n",
      "(',', 5)\n",
      "('--', 6)\n",
      "('.', 7)\n",
      "(':', 8)\n",
      "(';', 9)\n",
      "('?', 10)\n",
      "('A', 11)\n",
      "('Ah', 12)\n",
      "('Among', 13)\n",
      "('And', 14)\n",
      "('Are', 15)\n",
      "('Arrt', 16)\n",
      "('As', 17)\n",
      "('At', 18)\n",
      "('Be', 19)\n",
      "('Begin', 20)\n",
      "('Burlington', 21)\n",
      "('But', 22)\n",
      "('By', 23)\n",
      "('Carlo', 24)\n",
      "('Chicago', 25)\n",
      "('Claude', 26)\n",
      "('Come', 27)\n",
      "('Croft', 28)\n",
      "('Destroyed', 29)\n",
      "('Devonshire', 30)\n",
      "('Don', 31)\n",
      "('Dubarry', 32)\n",
      "('Emperors', 33)\n",
      "('Florence', 34)\n",
      "('For', 35)\n",
      "('Gallery', 36)\n",
      "('Gideon', 37)\n",
      "('Gisburn', 38)\n",
      "('Gisburns', 39)\n",
      "('Grafton', 40)\n",
      "('Greek', 41)\n",
      "('Grindle', 42)\n",
      "('Grindles', 43)\n",
      "('HAD', 44)\n",
      "('Had', 45)\n",
      "('Hang', 46)\n",
      "('Has', 47)\n",
      "('He', 48)\n",
      "('Her', 49)\n",
      "('Hermia', 50)\n"
     ]
    }
   ],
   "source": [
    "for i, item in enumerate(vocab.items()):\n",
    "    print(item)\n",
    "    if i >= 50:\n",
    "        break"
   ]
  },
  {
   "cell_type": "markdown",
   "id": "3b1dc314-351b-476a-9459-0ec9ddc29b19",
   "metadata": {},
   "source": [
    "- Below, we illustrate the tokenization of a short sample text using a small vocabulary:"
   ]
  },
  {
   "cell_type": "markdown",
   "id": "67407a9f-0202-4e7c-9ed7-1b3154191ebc",
   "metadata": {},
   "source": [
    "<img src=\"https://sebastianraschka.com/images/LLMs-from-scratch-images/ch02_compressed/07.webp?123\" width=\"500px\">"
   ]
  },
  {
   "cell_type": "markdown",
   "id": "4e569647-2589-4c9d-9a5c-aef1c88a0a9a",
   "metadata": {},
   "source": [
    "- Putting it now all together into a tokenizer class"
   ]
  },
  {
   "cell_type": "code",
   "execution_count": 13,
   "id": "f531bf46-7c25-4ef8-bff8-0d27518676d5",
   "metadata": {},
   "outputs": [],
   "source": [
    "class SimpleTokenizerV1:\n",
    "    # 定义一个名为SimpleTokenizerV1的类，用于实现简单的文本编码和解码功能。\n",
    "    def __init__(self, vocab):\n",
    "        # 类的初始化方法，接收一个词汇表（vocab）作为参数。\n",
    "        self.str_to_int = vocab\n",
    "        # 将传入的词汇表（vocab）赋值给实例变量str_to_int，这个字典用于将字符串（单词等文本单元）映射为整数索引。\n",
    "        self.int_to_str = {i:s for s,i in vocab.items()}\n",
    "        # 通过字典推导式创建一个新的字典int_to_str，它是将词汇表（vocab）中的键值对进行反转得到的。\n",
    "        # 即原来词汇表中以字符串为键、整数为值，现在这个字典以整数为键、字符串为值，用于将整数索引映射回字符串。\n",
    "    def encode(self, text):\n",
    "        # 定义一个名为encode的方法，用于对输入的文本进行编码操作。\n",
    "        preprocessed = re.split(r'([,.:;?_!\"()\\']|--|\\s)', text)\n",
    "        # 使用re模块的split函数对输入的文本（text）进行分割操作。\n",
    "        # 正则表达式r'([,.:;?_!\"()\\']|--|\\s)'会以逗号、句号、冒号、分号、问号、感叹号、双引号、单引号、左括号、右括号、连续两个减号或者空白字符作为分割点对文本进行分割，\n",
    "        # 并且保留这些分割点的字符。\n",
    "        preprocessed = [\n",
    "            item.strip() for item in preprocessed if item.strip()\n",
    "        ]\n",
    "        # 使用列表推导式对分割后的结果进行处理。\n",
    "        # 对于分割后的每个元素（item），先使用strip()方法去除其两端的空白字符（包括空格、制表符、换行符等），\n",
    "        # 然后通过if item.strip()条件进行过滤，只有当去除空白字符后item不为空字符串时，才会将其保留在新的列表中。\n",
    "        ids = [self.str_to_int[s] for s in preprocessed]\n",
    "        # 通过列表推导式将经过处理后的每个文本单元（preprocessed中的元素），根据str_to_int字典将其映射为对应的整数索引，\n",
    "        # 并将这些整数索引组成一个列表（ids）。\n",
    "        return ids\n",
    "        # 返回编码后的整数索引列表（ids）。\n",
    "    def decode(self, ids):\n",
    "        # 定义一个名为decode的方法，用于对输入的整数索引列表进行解码操作。\n",
    "        text = \" \".join([self.int_to_str[i] for i in ids])\n",
    "        # 通过列表推导式将输入的整数索引列表（ids）中的每个整数（i），根据int_to_str字典将其映射回对应的字符串，\n",
    "        # 然后使用\" \".join()方法将这些字符串连接起来，中间用空格分隔，得到一个初步解码后的文本（text）。\n",
    "        # Replace spaces before the specified punctuations\n",
    "        text = re.sub(r'\\s+([,.?!\"()\\'])', r'\\1', text)\n",
    "        # 使用re模块的sub函数对初步解码后的文本（text）进行替换操作。\n",
    "        # 正则表达式r'\\s+([,.?!\"()\\'])'会匹配一个或多个空白字符（\\s+）后面跟着逗号、句号、问号、感叹号、双引号、单引号、左括号、右括号这些标点符号（[,.?!\"()\\']）的情况。\n",
    "        # 然后将匹配到的内容替换为括号内捕获的标点符号（r'\\1'，这里的\\1表示引用前面正则表达式中捕获组所捕获的内容，即标点符号），\n",
    "        # 目的是去除标点符号前面多余的空格。\n",
    "\n",
    "        return text\n",
    "        # 返回经过处理后的解码文本（text）。"
   ]
  },
  {
   "cell_type": "markdown",
   "id": "dee7a1e5-b54f-4ca1-87ef-3d663c4ee1e7",
   "metadata": {},
   "source": [
    "- The `encode` function turns text into token IDs\n",
    "- The `decode` function turns token IDs back into text"
   ]
  },
  {
   "cell_type": "markdown",
   "id": "cc21d347-ec03-4823-b3d4-9d686e495617",
   "metadata": {},
   "source": [
    "<img src=\"https://sebastianraschka.com/images/LLMs-from-scratch-images/ch02_compressed/08.webp?123\" width=\"500px\">"
   ]
  },
  {
   "cell_type": "markdown",
   "id": "c2950a94-6b0d-474e-8ed0-66d0c3c1a95c",
   "metadata": {},
   "source": [
    "- We can use the tokenizer to encode (that is, tokenize) texts into integers\n",
    "- These integers can then be embedded (later) as input of/for the LLM"
   ]
  },
  {
   "cell_type": "code",
   "execution_count": 14,
   "id": "647364ec-7995-4654-9b4a-7607ccf5f1e4",
   "metadata": {},
   "outputs": [
    {
     "name": "stdout",
     "output_type": "stream",
     "text": [
      "[1, 56, 2, 850, 988, 602, 533, 746, 5, 1126, 596, 5, 1, 67, 7, 38, 851, 1108, 754, 793, 7]\n"
     ]
    }
   ],
   "source": [
    "tokenizer = SimpleTokenizerV1(vocab)\n",
    "# 创建一个SimpleTokenizerV1类的实例tokenizer，传入之前定义好的词汇表vocab作为参数。\n",
    "# 这样就初始化好了一个可以对文本进行编码和解码操作的tokenizer对象。\n",
    "text = \"\"\"\"It's the last he painted, you know,\" \n",
    "           Mrs. Gisburn said with pardonable pride.\"\"\"\n",
    "ids = tokenizer.encode(text)\n",
    "# 调用tokenizer对象的encode方法对text文本进行编码操作。\n",
    "# 这个方法会按照SimpleTokenizerV1类中定义的编码逻辑，先对文本进行预处理（如分割、清理等），\n",
    "# 然后根据词汇表vocab将文本中的每个单词或文本单元映射为对应的整数索引，最后返回这些整数索引组成的列表ids。\n",
    "print(ids)\n",
    "# 打印出经过编码后得到的整数索引列表ids，通过查看这个列表可以了解文本在经过特定编码规则处理后，\n",
    "# 每个文本单元所对应的整数表示形式。"
   ]
  },
  {
   "cell_type": "markdown",
   "id": "3201706e-a487-4b60-b99d-5765865f29a0",
   "metadata": {},
   "source": [
    "- We can decode the integers back into text"
   ]
  },
  {
   "cell_type": "code",
   "execution_count": 15,
   "id": "01d8c8fb-432d-4a49-b332-99f23b233746",
   "metadata": {},
   "outputs": [
    {
     "data": {
      "text/plain": [
       "'\" It\\' s the last he painted, you know,\" Mrs. Gisburn said with pardonable pride.'"
      ]
     },
     "execution_count": 15,
     "metadata": {},
     "output_type": "execute_result"
    }
   ],
   "source": [
    "tokenizer.decode(ids)\n",
    "#解码"
   ]
  },
  {
   "cell_type": "code",
   "execution_count": 16,
   "id": "54f6aa8b-9827-412e-9035-e827296ab0fe",
   "metadata": {},
   "outputs": [
    {
     "data": {
      "text/plain": [
       "'\" It\\' s the last he painted, you know,\" Mrs. Gisburn said with pardonable pride.'"
      ]
     },
     "execution_count": 16,
     "metadata": {},
     "output_type": "execute_result"
    }
   ],
   "source": [
    "tokenizer.decode(tokenizer.encode(text))\n",
    "#先编码后解码"
   ]
  },
  {
   "cell_type": "markdown",
   "id": "4b821ef8-4d53-43b6-a2b2-aef808c343c7",
   "metadata": {},
   "source": [
    "## 2.4 Adding special context tokens"
   ]
  },
  {
   "cell_type": "markdown",
   "id": "863d6d15-a3e2-44e0-b384-bb37f17cf443",
   "metadata": {},
   "source": [
    "- It's useful to add some \"special\" tokens for unknown words and to denote the end of a text"
   ]
  },
  {
   "cell_type": "markdown",
   "id": "aa7fc96c-e1fd-44fb-b7f5-229d7c7922a4",
   "metadata": {},
   "source": [
    "<img src=\"https://sebastianraschka.com/images/LLMs-from-scratch-images/ch02_compressed/09.webp?123\" width=\"500px\">"
   ]
  },
  {
   "cell_type": "markdown",
   "id": "9d709d57-2486-4152-b7f9-d3e4bd8634cd",
   "metadata": {},
   "source": [
    "- Some tokenizers use special tokens to help the LLM with additional context\n",
    "- Some of these special tokens are\n",
    "  - `[BOS]` (beginning of sequence) marks the beginning of text\n",
    "  - `[EOS]` (end of sequence) marks where the text ends (this is usually used to concatenate multiple unrelated texts, e.g., two different Wikipedia articles or two different books, and so on)\n",
    "  - `[PAD]` (padding) if we train LLMs with a batch size greater than 1 (we may include multiple texts with different lengths; with the padding token we pad the shorter texts to the longest length so that all texts have an equal length)\n",
    "- `[UNK]` to represent words that are not included in the vocabulary\n",
    "\n",
    "- Note that GPT-2 does not need any of these tokens mentioned above but only uses an `<|endoftext|>` token to reduce complexity\n",
    "- The `<|endoftext|>` is analogous to the `[EOS]` token mentioned above\n",
    "- GPT also uses the `<|endoftext|>` for padding (since we typically use a mask when training on batched inputs, we would not attend padded tokens anyways, so it does not matter what these tokens are)\n",
    "- GPT-2 does not use an `<UNK>` token for out-of-vocabulary words; instead, GPT-2 uses a byte-pair encoding (BPE) tokenizer, which breaks down words into subword units which we will discuss in a later section\n",
    "\n"
   ]
  },
  {
   "cell_type": "markdown",
   "id": "a336b43b-7173-49e7-bd80-527ad4efb271",
   "metadata": {},
   "source": [
    "- We use the `<|endoftext|>` tokens between two independent sources of text:"
   ]
  },
  {
   "cell_type": "markdown",
   "id": "52442951-752c-4855-9752-b121a17fef55",
   "metadata": {},
   "source": [
    "<img src=\"https://sebastianraschka.com/images/LLMs-from-scratch-images/ch02_compressed/10.webp\" width=\"500px\">"
   ]
  },
  {
   "cell_type": "markdown",
   "id": "c661a397-da06-4a86-ac27-072dbe7cb172",
   "metadata": {},
   "source": [
    "- Let's see what happens if we tokenize the following text:"
   ]
  },
  {
   "cell_type": "code",
   "execution_count": 17,
   "id": "d5767eff-440c-4de1-9289-f789349d6b85",
   "metadata": {},
   "outputs": [
    {
     "ename": "KeyError",
     "evalue": "'Hello'",
     "output_type": "error",
     "traceback": [
      "\u001B[0;31m---------------------------------------------------------------------------\u001B[0m",
      "\u001B[0;31mKeyError\u001B[0m                                  Traceback (most recent call last)",
      "Cell \u001B[0;32mIn[17], line 5\u001B[0m\n\u001B[1;32m      1\u001B[0m tokenizer \u001B[38;5;241m=\u001B[39m SimpleTokenizerV1(vocab)\n\u001B[1;32m      3\u001B[0m text \u001B[38;5;241m=\u001B[39m \u001B[38;5;124m\"\u001B[39m\u001B[38;5;124mHello, do you like tea. Is this-- a test?\u001B[39m\u001B[38;5;124m\"\u001B[39m\n\u001B[0;32m----> 5\u001B[0m tokenizer\u001B[38;5;241m.\u001B[39mencode(text)\n",
      "Cell \u001B[0;32mIn[13], line 12\u001B[0m, in \u001B[0;36mSimpleTokenizerV1.encode\u001B[0;34m(self, text)\u001B[0m\n\u001B[1;32m      7\u001B[0m preprocessed \u001B[38;5;241m=\u001B[39m re\u001B[38;5;241m.\u001B[39msplit(\u001B[38;5;124mr\u001B[39m\u001B[38;5;124m'\u001B[39m\u001B[38;5;124m([,.:;?_!\u001B[39m\u001B[38;5;124m\"\u001B[39m\u001B[38;5;124m()\u001B[39m\u001B[38;5;130;01m\\'\u001B[39;00m\u001B[38;5;124m]|--|\u001B[39m\u001B[38;5;124m\\\u001B[39m\u001B[38;5;124ms)\u001B[39m\u001B[38;5;124m'\u001B[39m, text)\n\u001B[1;32m      9\u001B[0m preprocessed \u001B[38;5;241m=\u001B[39m [\n\u001B[1;32m     10\u001B[0m     item\u001B[38;5;241m.\u001B[39mstrip() \u001B[38;5;28;01mfor\u001B[39;00m item \u001B[38;5;129;01min\u001B[39;00m preprocessed \u001B[38;5;28;01mif\u001B[39;00m item\u001B[38;5;241m.\u001B[39mstrip()\n\u001B[1;32m     11\u001B[0m ]\n\u001B[0;32m---> 12\u001B[0m ids \u001B[38;5;241m=\u001B[39m [\u001B[38;5;28mself\u001B[39m\u001B[38;5;241m.\u001B[39mstr_to_int[s] \u001B[38;5;28;01mfor\u001B[39;00m s \u001B[38;5;129;01min\u001B[39;00m preprocessed]\n\u001B[1;32m     13\u001B[0m \u001B[38;5;28;01mreturn\u001B[39;00m ids\n",
      "Cell \u001B[0;32mIn[13], line 12\u001B[0m, in \u001B[0;36m<listcomp>\u001B[0;34m(.0)\u001B[0m\n\u001B[1;32m      7\u001B[0m preprocessed \u001B[38;5;241m=\u001B[39m re\u001B[38;5;241m.\u001B[39msplit(\u001B[38;5;124mr\u001B[39m\u001B[38;5;124m'\u001B[39m\u001B[38;5;124m([,.:;?_!\u001B[39m\u001B[38;5;124m\"\u001B[39m\u001B[38;5;124m()\u001B[39m\u001B[38;5;130;01m\\'\u001B[39;00m\u001B[38;5;124m]|--|\u001B[39m\u001B[38;5;124m\\\u001B[39m\u001B[38;5;124ms)\u001B[39m\u001B[38;5;124m'\u001B[39m, text)\n\u001B[1;32m      9\u001B[0m preprocessed \u001B[38;5;241m=\u001B[39m [\n\u001B[1;32m     10\u001B[0m     item\u001B[38;5;241m.\u001B[39mstrip() \u001B[38;5;28;01mfor\u001B[39;00m item \u001B[38;5;129;01min\u001B[39;00m preprocessed \u001B[38;5;28;01mif\u001B[39;00m item\u001B[38;5;241m.\u001B[39mstrip()\n\u001B[1;32m     11\u001B[0m ]\n\u001B[0;32m---> 12\u001B[0m ids \u001B[38;5;241m=\u001B[39m [\u001B[38;5;28mself\u001B[39m\u001B[38;5;241m.\u001B[39mstr_to_int[s] \u001B[38;5;28;01mfor\u001B[39;00m s \u001B[38;5;129;01min\u001B[39;00m preprocessed]\n\u001B[1;32m     13\u001B[0m \u001B[38;5;28;01mreturn\u001B[39;00m ids\n",
      "\u001B[0;31mKeyError\u001B[0m: 'Hello'"
     ]
    }
   ],
   "source": [
    "tokenizer = SimpleTokenizerV1(vocab)\n",
    "\n",
    "text = \"Hello, do you like tea. Is this-- a test?\"\n",
    "\n",
    "tokenizer.encode(text)"
   ]
  },
  {
   "cell_type": "markdown",
   "id": "dc53ee0c-fe2b-4cd8-a946-5471f7651acf",
   "metadata": {},
   "source": [
    "- The above produces an error because the word \"Hello\" is not contained in the vocabulary\n",
    "- To deal with such cases, we can add special tokens like `\"<|unk|>\"` to the vocabulary to represent unknown words\n",
    "- Since we are already extending the vocabulary, let's add another token called `\"<|endoftext|>\"` which is used in GPT-2 training to denote the end of a text (and it's also used between concatenated text, like if our training datasets consists of multiple articles, books, etc.)"
   ]
  },
  {
   "cell_type": "code",
   "execution_count": 18,
   "id": "ce9df29c-6c5b-43f1-8c1a-c7f7b79db78f",
   "metadata": {},
   "outputs": [],
   "source": [
    "all_tokens = sorted(list(set(preprocessed)))\n",
    "# 向all_tokens列表中添加两个特殊的标记：\"<|endoftext|>\"和\"<|unk|>\"。\n",
    "# \"<|endoftext|>\"通常用于表示文本的结束位置，在很多文本处理任务中，比如生成文本时，用于标识一段文本生成完毕。\n",
    "# \"<|unk|>\"通常用于表示未知的单词或文本单元，当在处理文本过程中遇到不在词汇表中的单词时，就可以用\"<|unk|>\"来标记。\n",
    "all_tokens.extend([\"<|endoftext|>\", \"<|unk|>\"])\n",
    "# - enumerate(all_tokens)会对all_tokens列表进行枚举操作。\n",
    "#   枚举操作会返回一个包含索引（从0开始）和对应元素的元组序列。\n",
    "#   例如，如果all_tokens = ['apple', 'banana', 'cherry']，那么enumerate(all_tokens)会返回[(0, 'apple'), (1, 'banana'), (2, 'cherry')]。\n",
    "# - token:integer表示字典的键值对形式，这里将枚举得到的元组中的元素（即all_tokens中的单词或标记，作为token）作为键，\n",
    "#   而将枚举得到的元组中的索引（作为integer）作为值。\n",
    "# 所以整体上这行代码创建了一个字典vocab，其中键是all_tokens列表中的各个单词（或标记），\n",
    "# 值是这些单词（或标记）在all_tokens列表中的索引位置。\n",
    "vocab = {token:integer for integer,token in enumerate(all_tokens)}"
   ]
  },
  {
   "cell_type": "code",
   "execution_count": 19,
   "id": "57c3143b-e860-4d3b-a22a-de22b547a6a9",
   "metadata": {},
   "outputs": [
    {
     "data": {
      "text/plain": [
       "1132"
      ]
     },
     "execution_count": 19,
     "metadata": {},
     "output_type": "execute_result"
    }
   ],
   "source": [
    "len(vocab.items())"
   ]
  },
  {
   "cell_type": "code",
   "execution_count": 20,
   "id": "50e51bb1-ae05-4aa8-a9ff-455b65ed1959",
   "metadata": {},
   "outputs": [
    {
     "name": "stdout",
     "output_type": "stream",
     "text": [
      "('younger', 1127)\n",
      "('your', 1128)\n",
      "('yourself', 1129)\n",
      "('<|endoftext|>', 1130)\n",
      "('<|unk|>', 1131)\n"
     ]
    }
   ],
   "source": [
    "for i, item in enumerate(list(vocab.items())[-5:]):\n",
    "    print(item)"
   ]
  },
  {
   "cell_type": "markdown",
   "id": "a1daa2b0-6e75-412b-ab53-1f6fb7b4d453",
   "metadata": {},
   "source": [
    "- We also need to adjust the tokenizer accordingly so that it knows when and how to use the new `<unk>` token"
   ]
  },
  {
   "cell_type": "code",
   "execution_count": 21,
   "id": "948861c5-3f30-4712-a234-725f20d26f68",
   "metadata": {},
   "outputs": [],
   "source": [
    "class SimpleTokenizerV2:\n",
    "    # 定义一个名为SimpleTokenizerV2的类，用于实现文本的编码和解码功能。\n",
    "    def __init__(self, vocab):\n",
    "        # 类的初始化方法，接收一个词汇表（vocab）作为参数。\n",
    "        self.str_to_int = vocab\n",
    "        # 将传入的词汇表（vocab）赋值给实例变量str_to_int，这个字典用于将字符串（单词等文本单元）映射为整数索引。\n",
    "        # 方便在编码过程中将文本单元转换为对应的整数表示。\n",
    "        self.int_to_str = { i:s for s,i in vocab.items()}\n",
    "        # 通过字典推导式创建一个新的字典int_to_str，它是将词汇表（vocab）中的键值对进行反转得到的。\n",
    "        # 即原来词汇表中以字符串为键、整数为值，现在这个字典以整数为键、字符串为值。\n",
    "        # 用于在解码过程中将整数索引转换回对应的字符串表示。\n",
    "    def encode(self, text):\n",
    "        # 定义一个名为encode的方法，用于对输入的文本进行编码操作，将文本转换为对应的整数索引列表。\n",
    "        preprocessed = re.split(r'([,.:;?_!\"()\\']|--|\\s)', text)\n",
    "        # 使用re模块的split函数对输入的文本（text）进行分割操作。\n",
    "        # 正则表达式r'([,.:;?_!\"()\\']|--|\\s)'会以逗号、句号、冒号、分号、问号、感叹号、双引号、单引号、左括号、右括号、\n",
    "        # 连续两个减号或者空白字符作为分割点对文本进行分割，并且保留这些分割点的字符。\n",
    "        preprocessed = [item.strip() for item in preprocessed if item.strip()]\n",
    "        # 使用列表推导式对分割后的结果进行处理。\n",
    "        # 对于分割后的每个元素（item），先使用strip()方法去除其两端的空白字符（包括空格、制表符、换行符等），\n",
    "        # 然后通过if item.strip()条件进行过滤，只有当去除空白字符后item不为空字符串时，才会将其保留在新的列表中。\n",
    "        preprocessed = [\n",
    "            item if item in self.str_to_int\n",
    "            else \"<|unk|>\" for item in preprocessed\n",
    "        ]\n",
    "        # 再次使用列表推导式对经过上一步处理后的preprocessed列表进行处理。\n",
    "        # 对于列表中的每个元素item，如果item在self.str_to_int字典中有对应的映射（即词汇表中存在该单词或文本单元），\n",
    "        # 则保持item不变；如果item不在词汇表中，就将其替换为特殊标记\"<|unk|>\"，用于表示未知的单词或文本单元。\n",
    "        ids = [self.str_to_int[s] for s in preprocessed]\n",
    "        # 通过列表推导式将经过上述处理后的每个文本单元（preprocessed中的元素），根据str_to_int字典将其映射为对应的整数索引，\n",
    "        # 并将这些整数索引组成一个列表（ids）。\n",
    "        return ids\n",
    "        # 返回编码后的整数索引列表（ids）。\n",
    "    def decode(self, ids):\n",
    "        # 定义一个名为decode的方法，用于对输入的整数索引列表进行解码操作，将整数索引列表转换回原始文本形式。\n",
    "        text = \" \".join([self.int_to_str[i] for i in ids])\n",
    "        # 通过列表推导式将输入的整数索引列表（ids）中的每个整数（i），根据int_to_str字典将其映射回对应的字符串，\n",
    "        # 然后使用\" \".join()方法将这些字符串连接起来，中间用空格分隔，得到一个初步解码后的文本（text）。\n",
    "        # Replace spaces before the specified punctuations\n",
    "        text = re.sub(r'\\s+([,.:;?!\"()\\'])', r'\\1', text)\n",
    "        # 使用re模块的sub函数对初步解码后的文本（text）进行替换操作。\n",
    "        # 正则表达式r'\\s+([,.:;?!\"()\\'])'会匹配一个或多个空白字符（\\s+）后面跟着逗号、句号、问号、感叹号、双引号、单引号、左括号、右括号这些标点符号（[,.:;?!\"()\\'])的情况。\n",
    "        # 然后将匹配到的内容替换为括号内捕获的标点符号（r'\\1'，这里的\\1表示引用前面正则表达式中捕获组所捕获的内容，即标点符号），\n",
    "        # 目的是去除标点符号前面多余的空格。\n",
    "        return text\n",
    "        # 返回经过处理后的解码文本（text）。"
   ]
  },
  {
   "cell_type": "markdown",
   "id": "aa728dd1-9d35-4ac7-938f-d411d73083f6",
   "metadata": {},
   "source": [
    "Let's try to tokenize text with the modified tokenizer:"
   ]
  },
  {
   "cell_type": "code",
   "execution_count": 22,
   "id": "4133c502-18ac-4412-9f43-01caf4efa3dc",
   "metadata": {},
   "outputs": [
    {
     "name": "stdout",
     "output_type": "stream",
     "text": [
      "Hello, do you like tea? <|endoftext|> In the sunlit terraces of the palace.\n"
     ]
    }
   ],
   "source": [
    "tokenizer = SimpleTokenizerV2(vocab)\n",
    "# 创建一个SimpleTokenizerV2类的实例tokenizer，传入之前定义好的词汇表vocab作为参数。\n",
    "# 这样就初始化好了一个可以对文本进行编码和解码操作的tokenizer对象，它将按照SimpleTokenizerV2类中的逻辑来处理文本。\n",
    "text1 = \"Hello, do you like tea?\"\n",
    "# 定义一个字符串变量text1，包含了一段询问是否喜欢茶的简单文本内容。\n",
    "text2 = \"In the sunlit terraces of the palace.\"\n",
    "# 定义另一个字符串变量text2，描述了在宫殿阳光照耀的露台的场景的文本内容。\n",
    "text = \" <|endoftext|> \".join((text1, text2))\n",
    "# 使用字符串的join方法将text1和text2这两个字符串连接起来，中间用\" <|endoftext|> \"作为分隔符。\n",
    "# 这里的\" <|endoftext|> \"是一个特殊的标记，通常用于表示一段文本的结束位置，在这个例子中用于分隔两段不同的文本内容。\n",
    "print(text)\n",
    "# 打印出连接后的文本text，通过查看这个输出可以看到两段文本按照设定的分隔符连接在一起的结果。"
   ]
  },
  {
   "cell_type": "code",
   "execution_count": 23,
   "id": "7ed395fe-dc1b-4ed2-b85b-457cc35aab60",
   "metadata": {},
   "outputs": [
    {
     "data": {
      "text/plain": [
       "[1131, 5, 355, 1126, 628, 975, 10, 1130, 55, 988, 956, 984, 722, 988, 1131, 7]"
      ]
     },
     "execution_count": 23,
     "metadata": {},
     "output_type": "execute_result"
    }
   ],
   "source": [
    "tokenizer.encode(text)"
   ]
  },
  {
   "cell_type": "code",
   "execution_count": 24,
   "id": "059367f9-7a60-4c0d-8a00-7c4c766d0ebc",
   "metadata": {},
   "outputs": [
    {
     "data": {
      "text/plain": [
       "'<|unk|>, do you like tea? <|endoftext|> In the sunlit terraces of the <|unk|>.'"
      ]
     },
     "execution_count": 24,
     "metadata": {},
     "output_type": "execute_result"
    }
   ],
   "source": [
    "tokenizer.decode(tokenizer.encode(text))"
   ]
  },
  {
   "cell_type": "markdown",
   "id": "5c4ba34b-170f-4e71-939b-77aabb776f14",
   "metadata": {},
   "source": [
    "## 2.5 BytePair encoding"
   ]
  },
  {
   "cell_type": "markdown",
   "id": "2309494c-79cf-4a2d-bc28-a94d602f050e",
   "metadata": {},
   "source": [
    "- GPT-2 used BytePair encoding (BPE) as its tokenizer\n",
    "- it allows the model to break down words that aren't in its predefined vocabulary into smaller subword units or even individual characters, enabling it to handle out-of-vocabulary words\n",
    "- For instance, if GPT-2's vocabulary doesn't have the word \"unfamiliarword,\" it might tokenize it as [\"unfam\", \"iliar\", \"word\"] or some other subword breakdown, depending on its trained BPE merges\n",
    "- The original BPE tokenizer can be found here: [https://github.com/openai/gpt-2/blob/master/src/encoder.py](https://github.com/openai/gpt-2/blob/master/src/encoder.py)\n",
    "- In this chapter, we are using the BPE tokenizer from OpenAI's open-source [tiktoken](https://github.com/openai/tiktoken) library, which implements its core algorithms in Rust to improve computational performance\n",
    "- I created a notebook in the [./bytepair_encoder](../02_bonus_bytepair-encoder) that compares these two implementations side-by-side (tiktoken was about 5x faster on the sample text)"
   ]
  },
  {
   "cell_type": "code",
   "execution_count": 25,
   "id": "ede1d41f-934b-4bf4-8184-54394a257a94",
   "metadata": {},
   "outputs": [],
   "source": [
    "# pip install tiktoken"
   ]
  },
  {
   "cell_type": "code",
   "execution_count": 26,
   "id": "48967a77-7d17-42bf-9e92-fc619d63a59e",
   "metadata": {},
   "outputs": [
    {
     "name": "stdout",
     "output_type": "stream",
     "text": [
      "tiktoken version: 0.7.0\n"
     ]
    }
   ],
   "source": [
    "import importlib\n",
    "import tiktoken\n",
    "\n",
    "print(\"tiktoken version:\", importlib.metadata.version(\"tiktoken\"))"
   ]
  },
  {
   "cell_type": "code",
   "execution_count": 27,
   "id": "6ad3312f-a5f7-4efc-9d7d-8ea09d7b5128",
   "metadata": {},
   "outputs": [],
   "source": [
    "tokenizer = tiktoken.get_encoding(\"gpt2\")\n",
    "# 调用tiktoken库中的get_encoding函数，并传入参数\"gpt2\"。\n",
    "# tiktoken是一个用于处理文本分词和编码的库，在OpenAI相关的应用以及很多自然语言处理任务中较为常用。\n",
    "# get_encoding函数的作用是根据传入的编码名称（这里是\"gpt2\"）来获取对应的文本编码方式的tokenizer对象。\n",
    "# 这个tokenizer对象可以用于将文本按照特定的规则进行分词处理，并将每个词（token）转换为对应的编码表示形式，以便后续在模型中进行处理，\n",
    "# 例如输入到基于GPT架构的语言模型等相关任务中。\n",
    "# 将获取到的tokenizer对象赋值给变量tokenizer，以便后续使用该tokenizer对文本进行操作。"
   ]
  },
  {
   "cell_type": "code",
   "execution_count": 28,
   "id": "5ff2cd85-7cfb-4325-b390-219938589428",
   "metadata": {},
   "outputs": [
    {
     "name": "stdout",
     "output_type": "stream",
     "text": [
      "[15496, 11, 466, 345, 588, 8887, 30, 220, 50256, 554, 262, 4252, 18250, 8812, 2114, 1659, 617, 34680, 27271, 13]\n"
     ]
    }
   ],
   "source": [
    "text = (\n",
    "    \"Hello, do you like tea? <|endoftext|> In the sunlit terraces\"\n",
    "     \"of someunknownPlace.\"\n",
    ")\n",
    "integers = tokenizer.encode(text, allowed_special={\"<|endoftext|>\"})\n",
    "# 调用之前获取到的tokenizer对象（假设已经通过如tiktoken.get_encoding(\"gpt2\")等方式获取）的encode方法对text文本进行编码操作。\n",
    "# encode方法会将输入的文本按照tokenizer所基于的编码规则（这里是基于\"gpt2\"编码方式相关的规则）进行分词处理，\n",
    "# 并将每个分词（token）转换为对应的整数编码表示形式。\n",
    "# 这里传入了allowed_special={\"<|endoftext|>\"}参数，它表示允许在编码过程中把特殊标记 \"<|endoftext|>\" 当作特殊情况进行处理，\n",
    "# 通常是确保这个特殊标记能被正确编码而不被当作普通文本处理。\n",
    "print(integers)\n",
    "# 打印出经过编码后得到的整数列表integers，通过查看这个列表可以了解文本在经过特定编码规则处理后，\n",
    "# 每个分词（token）所对应的整数表示形式，这些整数编码可以用于后续在相关的自然语言处理模型或任务中进行输入等操作。"
   ]
  },
  {
   "cell_type": "code",
   "execution_count": 29,
   "id": "d26a48bb-f82e-41a8-a955-a1c9cf9d50ab",
   "metadata": {},
   "outputs": [
    {
     "name": "stdout",
     "output_type": "stream",
     "text": [
      "Hello, do you like tea? <|endoftext|> In the sunlit terracesof someunknownPlace.\n"
     ]
    }
   ],
   "source": [
    "strings = tokenizer.decode(integers)\n",
    "\n",
    "print(strings)"
   ]
  },
  {
   "cell_type": "markdown",
   "id": "e8c2e7b4-6a22-42aa-8e4d-901f06378d4a",
   "metadata": {},
   "source": [
    "- BPE tokenizers break down unknown words into subwords and individual characters:"
   ]
  },
  {
   "cell_type": "markdown",
   "id": "c082d41f-33d7-4827-97d8-993d5a84bb3c",
   "metadata": {},
   "source": [
    "<img src=\"https://sebastianraschka.com/images/LLMs-from-scratch-images/ch02_compressed/11.webp\" width=\"300px\">"
   ]
  },
  {
   "cell_type": "markdown",
   "id": "abbd7c0d-70f8-4386-a114-907e96c950b0",
   "metadata": {},
   "source": [
    "## 2.6 Data sampling with a sliding window"
   ]
  },
  {
   "cell_type": "markdown",
   "id": "509d9826-6384-462e-aa8a-a7c73cd6aad0",
   "metadata": {},
   "source": [
    "- We train LLMs to generate one word at a time, so we want to prepare the training data accordingly where the next word in a sequence represents the target to predict:"
   ]
  },
  {
   "cell_type": "markdown",
   "id": "39fb44f4-0c43-4a6a-9c2f-9cf31452354c",
   "metadata": {},
   "source": [
    "<img src=\"https://sebastianraschka.com/images/LLMs-from-scratch-images/ch02_compressed/12.webp\" width=\"400px\">"
   ]
  },
  {
   "cell_type": "code",
   "execution_count": 30,
   "id": "848d5ade-fd1f-46c3-9e31-1426e315c71b",
   "metadata": {},
   "outputs": [
    {
     "name": "stdout",
     "output_type": "stream",
     "text": [
      "5145\n"
     ]
    }
   ],
   "source": [
    "with open(\"the-verdict.txt\", \"r\", encoding=\"utf-8\") as f:\n",
    "    raw_text = f.read()\n",
    "\n",
    "enc_text = tokenizer.encode(raw_text)\n",
    "print(len(enc_text))"
   ]
  },
  {
   "cell_type": "markdown",
   "id": "cebd0657-5543-43ca-8011-2ae6bd0a5810",
   "metadata": {},
   "source": [
    "- For each text chunk, we want the inputs and targets\n",
    "- Since we want the model to predict the next word, the targets are the inputs shifted by one position to the right"
   ]
  },
  {
   "cell_type": "code",
   "execution_count": 31,
   "id": "e84424a7-646d-45b6-99e3-80d15fb761f2",
   "metadata": {},
   "outputs": [],
   "source": [
    "enc_sample = enc_text[50:]\n",
    "# 从enc_text这个序列（可能是列表、字符串、数组等可切片的数据结构，具体要看enc_text的定义）中进行切片操作。\n",
    "# 这里的切片操作 [50:] 表示选取从索引为50的元素开始一直到序列末尾的所有元素。\n",
    "# 将切片得到的部分赋值给新的变量enc_sample，以便后续对这部分数据进行单独的处理或分析等操作。"
   ]
  },
  {
   "cell_type": "code",
   "execution_count": 32,
   "id": "dfbff852-a92f-48c8-a46d-143a0f109f40",
   "metadata": {},
   "outputs": [
    {
     "name": "stdout",
     "output_type": "stream",
     "text": [
      "x: [290, 4920, 2241, 287]\n",
      "y:      [4920, 2241, 287, 257]\n"
     ]
    }
   ],
   "source": [
    "context_size = 4\n",
    "# 定义一个变量context_size，并赋值为4。\n",
    "x = enc_sample[:context_size]\n",
    "# 从enc_sample序列中选取一部分作为x。\n",
    "# 这里的切片操作[:context_size]表示选取从enc_sample序列开头到索引为context_size - 1（因为切片是左闭右开区间）的元素，\n",
    "# 也就是选取enc_sample序列的前context_size个元素作为x。\n",
    "y = enc_sample[1:context_size + 1]\n",
    "# 同样从enc_sample序列中选取一部分作为y。\n",
    "# 这里的切片操作[1:context_size + 1]表示选取从enc_sample序列索引为1的元素开始，到索引为context_size（因为是左闭右开区间，所以实际选取到索引为context_size的元素）的元素，\n",
    "# 也就是选取enc_sample序列中从第二个元素开始到第context_size + 1个元素作为y。\n",
    "print(f\"x: {x}\")\n",
    "# 使用f-string格式化字符串的方式打印出变量x的值，在输出中会显示\"x: \"以及x的值，方便查看x所代表的序列片段内容。\n",
    "print(f\"y:      {y}\")\n",
    "# 同样使用f-string格式化字符串的方式打印出变量y的值，在输出中会显示\"y: \"以及y的值，并且前面有一些空格用于格式上的区分，方便查看y所代表的序列片段内容。"
   ]
  },
  {
   "cell_type": "markdown",
   "id": "815014ef-62f7-4476-a6ad-66e20e42b7c3",
   "metadata": {},
   "source": [
    "- One by one, the prediction would look like as follows:"
   ]
  },
  {
   "cell_type": "code",
   "execution_count": 33,
   "id": "d97b031e-ed55-409d-95f2-aeb38c6fe366",
   "metadata": {},
   "outputs": [
    {
     "name": "stdout",
     "output_type": "stream",
     "text": [
      "[290] ----> 4920\n",
      "[290, 4920] ----> 2241\n",
      "[290, 4920, 2241] ----> 287\n",
      "[290, 4920, 2241, 287] ----> 257\n"
     ]
    }
   ],
   "source": [
    "for i in range(1, context_size + 1):\n",
    "    context = enc_sample[:i]\n",
    "    # 这里的切片操作[:i]表示选取从enc_sample序列开头到索引为i - 1（因为切片是左闭右开区间）的元素，\n",
    "    # 也就是随着循环i的变化，会依次选取enc_sample序列的前1个、前2个、前3个……直到前context_size个元素作为不同长度的上下文。\n",
    "    desired = enc_sample[i]\n",
    "    # 从enc_sample序列中选取索引为i的元素作为期望输出（desired）。\n",
    "    # 结合上面选取上下文的操作，这里可以理解为对于每一个选定的上下文长度，选取该上下文之后紧接着的那个元素作为期望输出，\n",
    "    print(context, \"---->\", desired)\n",
    "    # 打印出当前选定的上下文（context）以及对应的期望输出（desired），中间用\"---->\"进行分隔，方便查看和对比不同上下文长度下的情况。"
   ]
  },
  {
   "cell_type": "code",
   "execution_count": 34,
   "id": "f57bd746-dcbf-4433-8e24-ee213a8c34a1",
   "metadata": {},
   "outputs": [
    {
     "name": "stdout",
     "output_type": "stream",
     "text": [
      " and ---->  established\n",
      " and established ---->  himself\n",
      " and established himself ---->  in\n",
      " and established himself in ---->  a\n"
     ]
    }
   ],
   "source": [
    "for i in range(1, context_size+1):\n",
    "    context = enc_sample[:i]\n",
    "    desired = enc_sample[i]\n",
    "\n",
    "    print(tokenizer.decode(context), \"---->\", tokenizer.decode([desired]))"
   ]
  },
  {
   "cell_type": "markdown",
   "id": "210d2dd9-fc20-4927-8d3d-1466cf41aae1",
   "metadata": {},
   "source": [
    "- We will take care of the next-word prediction in a later chapter after we covered the attention mechanism\n",
    "- For now, we implement a simple data loader that iterates over the input dataset and returns the inputs and targets shifted by one"
   ]
  },
  {
   "cell_type": "markdown",
   "id": "a1a1b47a-f646-49d1-bc70-fddf2c840796",
   "metadata": {},
   "source": [
    "- Install and import PyTorch (see Appendix A for installation tips)"
   ]
  },
  {
   "cell_type": "code",
   "execution_count": 4,
   "id": "e1770134-e7f3-4725-a679-e04c3be48cac",
   "metadata": {
    "ExecuteTime": {
     "end_time": "2024-10-28T16:27:56.725051800Z",
     "start_time": "2024-10-28T16:27:56.682160700Z"
    }
   },
   "outputs": [
    {
     "ename": "ModuleNotFoundError",
     "evalue": "No module named 'torch'",
     "output_type": "error",
     "traceback": [
      "\u001B[1;31m---------------------------------------------------------------------------\u001B[0m",
      "\u001B[1;31mModuleNotFoundError\u001B[0m                       Traceback (most recent call last)",
      "Cell \u001B[1;32mIn[4], line 1\u001B[0m\n\u001B[1;32m----> 1\u001B[0m \u001B[38;5;28;01mimport\u001B[39;00m \u001B[38;5;21;01mtorch\u001B[39;00m\n\u001B[0;32m      2\u001B[0m \u001B[38;5;28mprint\u001B[39m(\u001B[38;5;124m\"\u001B[39m\u001B[38;5;124mPyTorch version:\u001B[39m\u001B[38;5;124m\"\u001B[39m, torch\u001B[38;5;241m.\u001B[39m__version__)\n",
      "\u001B[1;31mModuleNotFoundError\u001B[0m: No module named 'torch'"
     ]
    }
   ],
   "source": [
    "import torch\n",
    "print(\"PyTorch version:\", torch.__version__)"
   ]
  },
  {
   "cell_type": "markdown",
   "id": "0c9a3d50-885b-49bc-b791-9f5cc8bc7b7c",
   "metadata": {},
   "source": [
    "- We use a sliding window approach, changing the position by +1:\n",
    "\n",
    "<img src=\"https://sebastianraschka.com/images/LLMs-from-scratch-images/ch02_compressed/13.webp?123\" width=\"500px\">"
   ]
  },
  {
   "cell_type": "markdown",
   "id": "92ac652d-7b38-4843-9fbd-494cdc8ec12c",
   "metadata": {},
   "source": [
    "- Create dataset and dataloader that extract chunks from the input text dataset"
   ]
  },
  {
   "cell_type": "markdown",
   "source": [],
   "metadata": {
    "collapsed": false
   },
   "id": "a4d1aa59efd8ed9c"
  },
  {
   "cell_type": "code",
   "execution_count": 36,
   "id": "74b41073-4c9f-46e2-a1bd-d38e4122b375",
   "metadata": {},
   "outputs": [],
   "source": [
    "from torch.utils.data import Dataset, DataLoader\n",
    "# 从torch.utils.data模块中导入Dataset和DataLoader类。\n",
    "# Dataset是PyTorch中用于表示数据集的抽象基类，继承它并实现特定方法可定义自己的数据集。\n",
    "# DataLoader用于加载数据集，能方便地对数据集进行批量加载、打乱顺序等操作，便于在模型训练等过程中使用。\n",
    "class GPTDatasetV1(Dataset):\n",
    "    # 定义名为GPTDatasetV1的类，继承自Dataset类，用于创建适合GPT（Generative Pretrained Transformer）模型训练的数据集。\n",
    "    def __init__(self, txt, tokenizer, max_length, stride):\n",
    "        # 类的初始化方法，接收以下参数：\n",
    "        # - txt：要处理的原始文本内容。\n",
    "        # - tokenizer：用于对文本进行编码的分词器对象，可将文本转换为对应的编码表示形式（如将单词转换为整数编码等）。\n",
    "        # - max_length：每个数据样本的最大长度，即把原始文本划分成固定长度片段时的长度限制。\n",
    "        # - stride：滑动窗口的步长，用于在对原始文本进行划分时控制相邻片段之间的重叠程度。\n",
    "        self.input_ids = []\n",
    "        # 初始化一个空列表self.input_ids，用于存储划分后的输入数据的编码表示形式，这些编码将作为模型的输入。\n",
    "        self.target_ids = []\n",
    "        # 初始化一个空列表self.target_ids，用于存储划分后的目标数据的编码表示形式，这些编码将作为模型训练时要预测的目标。\n",
    "        # Tokenize the entire text\n",
    "        token_ids = tokenizer.encode(txt, allowed_special={\"<|endoftext|>\"})\n",
    "        # 使用传入的tokenizer对象对整个原始文本txt进行编码操作。\n",
    "        # 通过调用tokenizer的encode方法，将原始文本按tokenizer的编码规则转换为对应的编码序列（如整数编码序列）。\n",
    "        # 传入allowed_special={\"<|endoftext|>\"}参数，确保特殊标记 \"<|endoftext|>\" 能被正确编码处理，不被当作普通文本对待。\n",
    "        # Use a sliding window to chunk the book into overlapping sequences of max_length\n",
    "        for i in range(0, len(token_ids) - max_length, stride):\n",
    "            # 开启一个循环，通过滑动窗口方式对编码后的文本序列token_ids进行划分操作。\n",
    "            # 循环变量i从0开始，每次增加stride步长，直到满足len(token_ids) - max_length条件（确保能划分出完整长度为max_length的片段）。\n",
    "            input_chunk = token_ids[i:i + max_length]\n",
    "            # 从编码后的文本序列token_ids中选取一段作为输入数据的编码表示形式。\n",
    "            # 通过切片操作i:i + max_length选取从索引为i到索引为i + max_length - 1的元素，得到长度为max_length的片段，作为输入数据。\n",
    "            target_chunk = token_ids[i + 1: i + max_length + 1]\n",
    "            # 从编码后的文本序列token_ids中选取一段作为目标数据的编码表示形式。\n",
    "            # 通过切片操作i + 1: i + max_length + 1选取从索引为i + 1到索引为i + max_length的元素，得到长度为max_length的片段，作为目标数据。\n",
    "            # 注意目标数据的选取是相对于输入数据向后偏移了1个元素，因在训练模型时，通常基于当前输入预测下一个元素。\n",
    "            self.input_ids.append(torch.tensor(input_chunk))\n",
    "            # 将输入数据的编码表示形式转换为PyTorch的张量（tensor）形式，并添加到self.input_ids列表中。\n",
    "            # 这样self.input_ids列表中就存储了一系列划分好的输入数据的张量表示。\n",
    "            self.target_ids.append(torch.tensor(target_chunk))\n",
    "            # 将目标数据的编码表示形式转换为PyTorch的张量（tensor）形式，并添加到self.target_ids列表中。\n",
    "            # 这样self.target_ids列表中就存储了一系列划分好的目标数据的张量表示。\n",
    "    def __len__(self):\n",
    "        return len(self.input_ids)\n",
    "        # 重写Dataset类的__len__方法，用于返回数据集的长度，即self.input_ids列表的长度。\n",
    "        # 因self.input_ids列表存储了所有划分好的输入数据的张量表示，其长度代表数据集的样本数量。\n",
    "    def __getitem__(self, idx):\n",
    "        return self.input_ids[idx], self.target_ids[idx]\n",
    "        # 重写Dataset类的__getitem__方法，用于根据给定的索引idx获取数据集中的一个样本。\n",
    "        # 返回一个元组，包含对应索引的输入数据的张量表示（self.input_ids[idx]）和目标数据的张量表示（self.target_ids[idx]）。\n",
    "        # 这样在使用DataLoader加载数据集时，可通过索引方便地获取每个样本的数据。"
   ]
  },
  {
   "cell_type": "code",
   "execution_count": 37,
   "id": "5eb30ebe-97b3-43c5-9ff1-a97d621b3c4e",
   "metadata": {},
   "outputs": [],
   "source": [
    "def create_dataloader_v1(txt, batch_size=4, max_length=256, \n",
    "                         stride=128, shuffle=True, drop_last=True,\n",
    "                         num_workers=0):\n",
    "    # 定义一个名为create_dataloader_v1的函数，用于创建适合GPT模型训练的数据加载器（DataLoader）。\n",
    "    # 该函数接收以下参数：\n",
    "    # - txt：要处理的原始文本内容，将基于此文本创建数据集并加载数据。\n",
    "    # - batch_size：每个批次的大小，即每次从数据集中取出多少个样本进行处理，默认为4。\n",
    "    # - max_length：每个数据样本的最大长度，用于将原始文本划分成固定长度片段，默认为256。\n",
    "    # - stride：滑动窗口的步长，控制在划分原始文本时相邻片段之间的重叠程度，默认为128。\n",
    "    # - shuffle：是否打乱数据集的顺序，默认为True，打乱顺序有助于提高模型训练的效果。\n",
    "    # - drop_last：是否丢弃最后一个不完整的批次，默认为True，如果最后一个批次的样本数量不足batch_size，则丢弃。\n",
    "    # - num_workers：用于数据加载的工作线程数量，默认为0，表示在主线程中加载数据。\n",
    "    # Initialize the tokenizer\n",
    "    tokenizer = tiktoken.get_encoding(\"gpt2\")\n",
    "    # 初始化分词器（tokenizer）。\n",
    "    # 通过调用tiktoken库的get_encoding函数，并传入参数\"gpt2\"，获取基于\"gpt2\"编码方式的分词器对象。\n",
    "    # 这个分词器将用于对原始文本进行编码，把文本转换为适合模型处理的编码表示形式。\n",
    "    # Create dataset\n",
    "    dataset = GPTDatasetV1(txt, tokenizer, max_length, stride)\n",
    "    # 创建数据集对象。\n",
    "    # 调用GPTDatasetV1类的构造函数，传入原始文本txt、刚初始化的分词器tokenizer、设定的每个数据样本的最大长度max_length以及滑动窗口的步长stride。\n",
    "    # GPTDatasetV1类会对原始文本进行编码、划分等操作，将其转化为适合GPT模型训练的数据集格式。\n",
    "    # Create dataloader\n",
    "    dataloader = DataLoader(\n",
    "        dataset,\n",
    "        batch_size=batch_size,\n",
    "        shuffle=shuffle,\n",
    "        drop_last=drop_last,\n",
    "        num_workers=num_workers\n",
    "    )\n",
    "    # 创建数据加载器（DataLoader）对象。\n",
    "    # 将前面创建的数据集对象dataset传入DataLoader的构造函数，同时设置以下参数：\n",
    "    # - batch_size：指定每个批次的大小，与传入函数的batch_size参数值相同。\n",
    "    # - shuffle：是否打乱数据集顺序，与传入函数的shuffle参数值相同。\n",
    "    # - drop_last：是否丢弃最后一个不完整的批次，与传入函数的drop_last参数值相同。\n",
    "    # - num_workers：用于数据加载的工作线程数量，与传入函数的num_workers参数值相同。\n",
    "    # 数据加载器会根据这些设置，方便地对数据集进行批量加载、打乱顺序（如果设置为True）等操作，以便于在GPT模型训练等过程中使用。\n",
    "    return dataloader\n",
    "    # 返回创建好的数据加载器对象dataloader，以便在其他地方（如模型训练代码中）使用该数据加载器来获取数据进行训练等操作。"
   ]
  },
  {
   "cell_type": "markdown",
   "id": "42dd68ef-59f7-45ff-ba44-e311c899ddcd",
   "metadata": {},
   "source": [
    "- Let's test the dataloader with a batch size of 1 for an LLM with a context size of 4:"
   ]
  },
  {
   "cell_type": "code",
   "execution_count": 38,
   "id": "df31d96c-6bfd-4564-a956-6192242d7579",
   "metadata": {},
   "outputs": [],
   "source": [
    "with open(\"the-verdict.txt\", \"r\", encoding=\"utf-8\") as f:\n",
    "    raw_text = f.read()"
   ]
  },
  {
   "cell_type": "code",
   "execution_count": 39,
   "id": "9226d00c-ad9a-4949-a6e4-9afccfc7214f",
   "metadata": {},
   "outputs": [
    {
     "name": "stdout",
     "output_type": "stream",
     "text": [
      "[tensor([[  40,  367, 2885, 1464]]), tensor([[ 367, 2885, 1464, 1807]])]\n"
     ]
    }
   ],
   "source": [
    "dataloader = create_dataloader_v1(\n",
    "    raw_text, batch_size=1, max_length=4, stride=1, shuffle=False\n",
    ")\n",
    "# 调用create_dataloader_v1函数来创建一个数据加载器（dataloader）对象。\n",
    "# 传入原始文本raw_text作为要处理的数据内容。\n",
    "# 同时设置了以下参数：\n",
    "# - batch_size=1：表示每个批次只包含1个样本，这样每次从数据集中获取数据时就是逐个样本进行的。\n",
    "# - max_length=4：每个数据样本的最大长度设置为4，即数据集中划分出的每个片段长度最多为4个编码单位（例如可能是4个单词经过编码后的形式）。\n",
    "# - stride=1：滑动窗口的步长设置为1，意味着在对原始文本进行划分成片段时，相邻片段之间的重叠部分只有1个编码单位。\n",
    "# - shuffle=False：不打乱数据集中样本的顺序，按照原始文本在经过划分等操作后的顺序来获取数据。\n",
    "data_iter = iter(dataloader)\n",
    "# 通过调用iter函数将创建好的数据加载器dataloader转换为一个迭代器（data_iter）。\n",
    "# 这样就可以使用迭代器的方式来逐个获取数据加载器中的批次数据。\n",
    "first_batch = next(data_iter)\n",
    "# 使用next函数从迭代器data_iter中获取下一个批次的数据，由于前面设置batch_size=1，所以这里获取到的就是第一个且唯一的一个样本数据。\n",
    "# 将获取到的第一个批次的数据赋值给first_batch变量，以便后续对其进行查看、分析等操作。\n",
    "print(first_batch)\n",
    "# 打印出获取到的第一个批次的数据first_batch，通过查看输出可以了解数据在经过前面一系列处理（如文本编码、划分、组成批次等）后呈现出的具体形式，\n",
    "# 通常会是一个包含输入数据编码和目标数据编码的元组形式（具体取决于create_dataloader_v1函数内部创建数据集时的设置）。"
   ]
  },
  {
   "cell_type": "code",
   "execution_count": 40,
   "id": "10deb4bc-4de1-4d20-921e-4b1c7a0e1a6d",
   "metadata": {},
   "outputs": [
    {
     "name": "stdout",
     "output_type": "stream",
     "text": [
      "[tensor([[ 367, 2885, 1464, 1807]]), tensor([[2885, 1464, 1807, 3619]])]\n"
     ]
    }
   ],
   "source": [
    "second_batch = next(data_iter)\n",
    "# 再次使用next函数从已经创建好的迭代器data_iter中获取下一个批次的数据。\n",
    "print(second_batch)\n",
    "# 打印出获取到的第二个批次的数据second_batch。\n",
    "# 通过查看输出可以了解数据在经过前面一系列处理（如文本编码、划分、组成批次等）后呈现出的具体形式，"
   ]
  },
  {
   "cell_type": "markdown",
   "id": "b006212f-de45-468d-bdee-5806216d1679",
   "metadata": {},
   "source": [
    "- An example using stride equal to the context length (here: 4) as shown below:"
   ]
  },
  {
   "cell_type": "markdown",
   "id": "9cb467e0-bdcd-4dda-b9b0-a738c5d33ac3",
   "metadata": {},
   "source": [
    "<img src=\"https://sebastianraschka.com/images/LLMs-from-scratch-images/ch02_compressed/14.webp\" width=\"500px\">"
   ]
  },
  {
   "cell_type": "markdown",
   "id": "b1ae6d45-f26e-4b83-9c7b-cff55ffa7d16",
   "metadata": {},
   "source": [
    "- We can also create batched outputs\n",
    "- Note that we increase the stride here so that we don't have overlaps between the batches, since more overlap could lead to increased overfitting"
   ]
  },
  {
   "cell_type": "code",
   "execution_count": 41,
   "id": "1916e7a6-f03d-4f09-91a6-d0bdbac5a58c",
   "metadata": {},
   "outputs": [
    {
     "name": "stdout",
     "output_type": "stream",
     "text": [
      "Inputs:\n",
      " tensor([[   40,   367,  2885,  1464],\n",
      "        [ 1807,  3619,   402,   271],\n",
      "        [10899,  2138,   257,  7026],\n",
      "        [15632,   438,  2016,   257],\n",
      "        [  922,  5891,  1576,   438],\n",
      "        [  568,   340,   373,   645],\n",
      "        [ 1049,  5975,   284,   502],\n",
      "        [  284,  3285,   326,    11]])\n",
      "\n",
      "Targets:\n",
      " tensor([[  367,  2885,  1464,  1807],\n",
      "        [ 3619,   402,   271, 10899],\n",
      "        [ 2138,   257,  7026, 15632],\n",
      "        [  438,  2016,   257,   922],\n",
      "        [ 5891,  1576,   438,   568],\n",
      "        [  340,   373,   645,  1049],\n",
      "        [ 5975,   284,   502,   284],\n",
      "        [ 3285,   326,    11,   287]])\n"
     ]
    }
   ],
   "source": [
    "dataloader = create_dataloader_v1(raw_text, batch_size=8, max_length=4, stride=4, shuffle=False)\n",
    "# 调用create_dataloader_v1函数来创建一个数据加载器（dataloader）对象。\n",
    "# 传入原始文本raw_text作为要处理的数据内容。\n",
    "# 同时设置了以下参数：\n",
    "# - batch_size = 8：表示每个批次将包含8个样本，这样每次从数据集中获取数据时会一次性获取8个经过处理的样本数据。\n",
    "# - max_length = 4：每个数据样本的最大长度设置为4，即数据集中划分出的每个片段长度最多为4个编码单位（例如可能是4个单词经过编码后的形式）。\n",
    "# - stride = 4：滑动窗口的步长设置为4，意味着在对原始文本进行划分成片段时，相邻片段之间的重叠部分为4个编码单位，这里步长与最大长度相同，可能会导致划分出的片段之间没有重叠或者有特殊的重叠情况，具体取决于原始文本的长度和编码方式等因素。\n",
    "# - shuffle = False：不打乱数据集中样本的顺序，按照原始文本在经过划分等操作后的顺序来获取数据。\n",
    "data_iter = iter(dataloader)\n",
    "inputs, targets = next(data_iter)\n",
    "# 使用next函数从迭代器data_iter中获取下一个批次的数据。\n",
    "# 由于前面设置batch_size = 8，所以这里获取到的就是一个包含8个样本数据的批次，并且将这个批次中的输入数据部分赋值给inputs变量，目标数据部分赋值给targets变量。\n",
    "# 具体来说，inputs和targets的格式和内容取决于create_dataloader_v1函数内部创建数据集时的设置，通常inputs是用于模型输入的编码数据，targets是模型要预测的目标编码数据。\n",
    "print(\"Inputs:\\n\", inputs)\n",
    "# 打印出获取到的批次数据中的输入数据部分inputs。\n",
    "# 在输出中会先显示\"Inputs:\\n\"作为提示，然后显示inputs的具体内容，以便查看输入数据在经过前面一系列处理（如文本编码、划分、组成批次等）后呈现出的具体形式。\n",
    "print(\"\\nTargets:\\n\", targets)\n",
    "# 打印出获取到的批次数据中的目标数据部分targets。\n",
    "# 在输出中会先显示\"\\nTargets:\\n\"作为提示，然后显示targets的具体内容，以便查看目标数据在经过前面一系列处理（如文本编码、划分、组成批次等）后呈现出的具体形式。"
   ]
  },
  {
   "cell_type": "markdown",
   "id": "2cd2fcda-2fda-4aa8-8bc8-de1e496f9db1",
   "metadata": {},
   "source": [
    "## 2.7 Creating token embeddings"
   ]
  },
  {
   "cell_type": "markdown",
   "id": "1a301068-6ab2-44ff-a915-1ba11688274f",
   "metadata": {},
   "source": [
    "- The data is already almost ready for an LLM\n",
    "- But lastly let us embed the tokens in a continuous vector representation using an embedding layer\n",
    "- Usually, these embedding layers are part of the LLM itself and are updated (trained) during model training"
   ]
  },
  {
   "cell_type": "markdown",
   "id": "e85089aa-8671-4e5f-a2b3-ef252004ee4c",
   "metadata": {},
   "source": [
    "<img src=\"https://sebastianraschka.com/images/LLMs-from-scratch-images/ch02_compressed/15.webp\" width=\"400px\">"
   ]
  },
  {
   "cell_type": "markdown",
   "id": "44e014ca-1fc5-4b90-b6fa-c2097bb92c0b",
   "metadata": {},
   "source": [
    "- Suppose we have the following four input examples with input ids 2, 3, 5, and 1 (after tokenization):"
   ]
  },
  {
   "cell_type": "code",
   "execution_count": null,
   "outputs": [],
   "source": [],
   "metadata": {
    "collapsed": false
   },
   "id": "644f465fbceaf2f2"
  },
  {
   "cell_type": "code",
   "execution_count": 42,
   "id": "15a6304c-9474-4470-b85d-3991a49fa653",
   "metadata": {},
   "outputs": [],
   "source": [
    "input_ids = torch.tensor([2, 3, 5, 1])"
   ]
  },
  {
   "cell_type": "markdown",
   "id": "14da6344-2c71-4837-858d-dd120005ba05",
   "metadata": {},
   "source": [
    "- For the sake of simplicity, suppose we have a small vocabulary of only 6 words and we want to create embeddings of size 3:"
   ]
  },
  {
   "cell_type": "code",
   "execution_count": 43,
   "id": "93cb2cee-9aa6-4bb8-8977-c65661d16eda",
   "metadata": {},
   "outputs": [],
   "source": [
    "vocab_size = 6\n",
    "# 定义一个变量vocab_size，并赋值为6，表示词汇表的大小为6，即总共包含6个不同的词汇（或其他可编码的文本单元等）。\n",
    "output_dim = 3\n",
    "# 定义一个变量output_dim，并赋值为3，表示输出的维度为3，这个输出维度通常与后续要进行的某种操作（比如经过神经网络层后的输出维度等）相关。\n",
    "torch.manual_seed(123)\n",
    "# 使用torch库的manual_seed函数设置随机种子为123。\n",
    "# 设置随机种子的目的是为了在进行涉及随机操作（如神经网络的初始化等可能涉及随机因素的情况）时，能够复现相同的随机结果。\n",
    "# 也就是说，只要使用相同的随机种子，每次运行代码时在涉及随机的部分都会产生相同的结果，方便调试和对比不同运行情况。\n",
    "embedding_layer = torch.nn.Embedding(vocab_size, output_dim)\n",
    "# 创建一个嵌入层（Embedding Layer）对象embedding_layer。\n",
    "# 这里使用torch.nn模块中的Embedding类来创建嵌入层。\n",
    "# 传入的参数vocab_size表示词汇表的大小，即要嵌入的词汇数量；output_dim表示嵌入后的输出维度，即每个词汇经过嵌入层处理后将被映射到一个output_dim维的向量空间中。\n",
    "# 嵌入层的作用通常是将离散的词汇（或其他可编码的文本单元等）转换为连续的向量表示，以便在后续的神经网络处理中更好地进行运算和分析等操作。"
   ]
  },
  {
   "cell_type": "markdown",
   "id": "4ff241f6-78eb-4e4a-a55f-5b2b6196d5b0",
   "metadata": {},
   "source": [
    "- This would result in a 6x3 weight matrix:"
   ]
  },
  {
   "cell_type": "code",
   "execution_count": 44,
   "id": "a686eb61-e737-4351-8f1c-222913d47468",
   "metadata": {},
   "outputs": [
    {
     "name": "stdout",
     "output_type": "stream",
     "text": [
      "Parameter containing:\n",
      "tensor([[ 0.3374, -0.1778, -0.1690],\n",
      "        [ 0.9178,  1.5810,  1.3010],\n",
      "        [ 1.2753, -0.2010, -0.1606],\n",
      "        [-0.4015,  0.9666, -1.1481],\n",
      "        [-1.1589,  0.3255, -0.6315],\n",
      "        [-2.8400, -0.7849, -1.4096]], requires_grad=True)\n"
     ]
    }
   ],
   "source": [
    "print(embedding_layer.weight)"
   ]
  },
  {
   "cell_type": "markdown",
   "id": "26fcf4f5-0801-4eb4-bb90-acce87935ac7",
   "metadata": {},
   "source": [
    "- For those who are familiar with one-hot encoding, the embedding layer approach above is essentially just a more efficient way of implementing one-hot encoding followed by matrix multiplication in a fully-connected layer, which is described in the supplementary code in [./embedding_vs_matmul](../03_bonus_embedding-vs-matmul)\n",
    "- Because the embedding layer is just a more efficient implementation that is equivalent to the one-hot encoding and matrix-multiplication approach it can be seen as a neural network layer that can be optimized via backpropagation"
   ]
  },
  {
   "cell_type": "markdown",
   "id": "4b0d58c3-83c0-4205-aca2-9c48b19fd4a7",
   "metadata": {},
   "source": [
    "- To convert a token with id 3 into a 3-dimensional vector, we do the following:"
   ]
  },
  {
   "cell_type": "code",
   "execution_count": 45,
   "id": "e43600ba-f287-4746-8ddf-d0f71a9023ca",
   "metadata": {},
   "outputs": [
    {
     "name": "stdout",
     "output_type": "stream",
     "text": [
      "tensor([[-0.4015,  0.9666, -1.1481]], grad_fn=<EmbeddingBackward0>)\n"
     ]
    }
   ],
   "source": [
    "print(embedding_layer(torch.tensor([3])))"
   ]
  },
  {
   "cell_type": "markdown",
   "id": "a7bbf625-4f36-491d-87b4-3969efb784b0",
   "metadata": {},
   "source": [
    "- Note that the above is the 4th row in the `embedding_layer` weight matrix\n",
    "- To embed all four `input_ids` values above, we do"
   ]
  },
  {
   "cell_type": "code",
   "execution_count": 46,
   "id": "50280ead-0363-44c8-8c35-bb885d92c8b7",
   "metadata": {},
   "outputs": [
    {
     "name": "stdout",
     "output_type": "stream",
     "text": [
      "tensor([[ 1.2753, -0.2010, -0.1606],\n",
      "        [-0.4015,  0.9666, -1.1481],\n",
      "        [-2.8400, -0.7849, -1.4096],\n",
      "        [ 0.9178,  1.5810,  1.3010]], grad_fn=<EmbeddingBackward0>)\n"
     ]
    }
   ],
   "source": [
    "print(embedding_layer(input_ids))\n",
    "# 调用之前创建的嵌入层对象embedding_layer，并将input_ids作为参数传入。\n",
    "# input_ids应该是一个包含词汇索引的张量\n",
    "# 嵌入层embedding_layer会根据传入的这些词汇索引，将每个索引对应的词汇转换为之前定义好的output_dim维的向量表示。\n",
    "# 然后将经过嵌入层处理后得到的结果（即所有词汇对应的向量表示组成的张量）打印出来，以便查看词汇经过嵌入层转换后的向量形式以及维度等信息。"
   ]
  },
  {
   "cell_type": "markdown",
   "id": "be97ced4-bd13-42b7-866a-4d699a17e155",
   "metadata": {},
   "source": [
    "- An embedding layer is essentially a look-up operation:"
   ]
  },
  {
   "cell_type": "markdown",
   "id": "f33c2741-bf1b-4c60-b7fd-61409d556646",
   "metadata": {},
   "source": [
    "<img src=\"https://sebastianraschka.com/images/LLMs-from-scratch-images/ch02_compressed/16.webp?123\" width=\"500px\">"
   ]
  },
  {
   "cell_type": "markdown",
   "id": "08218d9f-aa1a-4afb-a105-72ff96a54e73",
   "metadata": {},
   "source": [
    "- **You may be interested in the bonus content comparing embedding layers with regular linear layers: [../03_bonus_embedding-vs-matmul](../03_bonus_embedding-vs-matmul)**"
   ]
  },
  {
   "cell_type": "markdown",
   "id": "c393d270-b950-4bc8-99ea-97d74f2ea0f6",
   "metadata": {},
   "source": [
    "## 2.8 Encoding word positions"
   ]
  },
  {
   "cell_type": "markdown",
   "id": "24940068-1099-4698-bdc0-e798515e2902",
   "metadata": {},
   "source": [
    "- Embedding layer convert IDs into identical vector representations regardless of where they are located in the input sequence:"
   ]
  },
  {
   "cell_type": "markdown",
   "id": "9e0b14a2-f3f3-490e-b513-f262dbcf94fa",
   "metadata": {},
   "source": [
    "<img src=\"https://sebastianraschka.com/images/LLMs-from-scratch-images/ch02_compressed/17.webp\" width=\"400px\">"
   ]
  },
  {
   "cell_type": "markdown",
   "id": "92a7d7fe-38a5-46e6-8db6-b688887b0430",
   "metadata": {},
   "source": [
    "- Positional embeddings are combined with the token embedding vector to form the input embeddings for a large language model:"
   ]
  },
  {
   "cell_type": "markdown",
   "id": "48de37db-d54d-45c4-ab3e-88c0783ad2e4",
   "metadata": {},
   "source": [
    "<img src=\"https://sebastianraschka.com/images/LLMs-from-scratch-images/ch02_compressed/18.webp\" width=\"500px\">"
   ]
  },
  {
   "cell_type": "markdown",
   "id": "7f187f87-c1f8-4c2e-8050-350bbb972f55",
   "metadata": {},
   "source": [
    "- The BytePair encoder has a vocabulary size of 50,257:\n",
    "- Suppose we want to encode the input tokens into a 256-dimensional vector representation:"
   ]
  },
  {
   "cell_type": "code",
   "execution_count": 47,
   "id": "0b9e344d-03a6-4f2c-b723-67b6a20c5041",
   "metadata": {},
   "outputs": [],
   "source": [
    "vocab_size = 50257\n",
    "# 定义一个变量vocab_size，并赋值为50257，表示词汇表的大小为50257，即总共包含50257个不同的词汇（或其他可编码的文本单元等）。\n",
    "output_dim = 256\n",
    "# 定义一个变量output_dim，并赋值为256，表示输出的维度为256，这个输出维度通常与后续要进行的某种操作（比如经过神经网络层后的输出维度等）相关。\n",
    "# 在这里，它表示每个词汇经过嵌入层处理后将被映射到一个256维的向量空间中，通过将词汇转换为高维向量，可以更好地捕捉词汇的语义等信息，以便在后续的神经网络处理中进行更有效的运算和分析等操作。\n",
    "token_embedding_layer = torch.nn.Embedding(vocab_size, output_dim)\n",
    "# 创建一个嵌入层（Embedding Layer）对象token_embedding_layer。\n",
    "# 这里使用torch.nn模块中的Embedding类来创建嵌入层。\n",
    "# 传入的参数vocab_size表示词汇表的大小，即要嵌入的词汇数量；output_dim表示嵌入后的输出维度，即每个词汇经过嵌入层处理后将被映射到一个output_dim维的向量空间中。\n",
    "# 嵌入层的作用通常是将离散的词汇（或其他可编码的文本单元等）转换为连续的向量表示，以便在后续的神经网络处理中更好地进行运算和分析等操作。\n",
    "# 在这个例子中，它会将词汇表中的50257个词汇（或文本单元）分别转换为256维的向量，为后续的自然语言处理相关任务（如文本生成、语义理解等）做好数据准备。"
   ]
  },
  {
   "cell_type": "markdown",
   "id": "a2654722-24e4-4b0d-a43c-436a461eb70b",
   "metadata": {},
   "source": [
    "- If we sample data from the dataloader, we embed the tokens in each batch into a 256-dimensional vector\n",
    "- If we have a batch size of 8 with 4 tokens each, this results in a 8 x 4 x 256 tensor:"
   ]
  },
  {
   "cell_type": "code",
   "execution_count": 48,
   "id": "ad56a263-3d2e-4d91-98bf-d0b68d3c7fc3",
   "metadata": {},
   "outputs": [],
   "source": [
    "max_length = 4\n",
    "# 定义一个变量max_length，并赋值为4，这个变量将用于指定数据样本的最大长度以及滑动窗口的步长。\n",
    "dataloader = create_dataloader_v1(\n",
    "    raw_text, batch_size=8, max_length=max_length,\n",
    "    stride=max_length, shuffle=False\n",
    ")\n",
    "# 调用create_dataloader_v1函数来创建一个数据加载器（dataloader）对象。\n",
    "# 传入原始文本raw_text作为要处理的数据内容。\n",
    "# 同时设置了以下参数：\n",
    "# - batch_size = 8：表示每个批次将包含8个样本，这样每次从数据集中获取数据时会一次性获取8个经过处理的样本数据。\n",
    "# - max_length = max_length：这里将数据样本的最大长度设置为前面定义的max_length变量的值，即4。意味着数据集中划分出的每个片段长度最多为4个编码单位（例如可能是4个单词经过编码后的形式）。\n",
    "# - stride = max_length：将滑动窗口的步长也设置为前面定义的max_length变量的值，即4。这意味着在对原始文本进行划分成片段时，相邻片段之间的重叠部分为4个编码单位，由于步长与最大长度相同，可能会导致划分出的片段之间没有重叠或者有特殊的重叠情况，具体取决于原始文本的长度和编码方式等因素。\n",
    "# - shuffle = False：不打乱数据集中样本的顺序，按照原始文本在经过划分等操作后的顺序来获取数据。\n",
    "data_iter = iter(dataloader)\n",
    "inputs, targets = next(data_iter)\n",
    "# 使用next函数从迭代器data_iter中获取下一个批次的数据。\n",
    "# 由于前面设置batch_size = 8，所以这里获取到的就是一个包含8个样本数据的批次，并且将这个批次中的输入数据部分赋值给inputs变量，目标数据部分赋值给targets变量。\n",
    "# 具体来说，inputs和targets的格式和内容取决于create_dataloader_v1函数内部创建数据集时的设置，通常inputs是用于模型输入的编码数据，targets是模型要预测的目标编码数据。"
   ]
  },
  {
   "cell_type": "code",
   "execution_count": 49,
   "id": "84416b60-3707-4370-bcbc-da0b62f2b64d",
   "metadata": {},
   "outputs": [
    {
     "name": "stdout",
     "output_type": "stream",
     "text": [
      "Token IDs:\n",
      " tensor([[   40,   367,  2885,  1464],\n",
      "        [ 1807,  3619,   402,   271],\n",
      "        [10899,  2138,   257,  7026],\n",
      "        [15632,   438,  2016,   257],\n",
      "        [  922,  5891,  1576,   438],\n",
      "        [  568,   340,   373,   645],\n",
      "        [ 1049,  5975,   284,   502],\n",
      "        [  284,  3285,   326,    11]])\n",
      "\n",
      "Inputs shape:\n",
      " torch.Size([8, 4])\n"
     ]
    }
   ],
   "source": [
    "print(\"Token IDs:\\n\", inputs)\n",
    "# 打印出输入数据的信息，先输出提示字符串 \"Token IDs:\\n\"，用于明确输出内容是关于输入数据的编码标识（token IDs）。\n",
    "# 然后输出变量inputs的值，这里的inputs应该是经过前面一系列处理（如文本编码、数据加载器获取批次数据等操作）得到的输入数据，\n",
    "print(\"\\nInputs shape:\\n\", inputs.shape)\n",
    "# 打印出输入数据的形状信息，先输出提示字符串 \"\\nInputs shape:\\n\"，用于明确接下来输出的是输入数据的形状。\n",
    "# 然后输出变量inputs的形状属性（shape），通过查看形状信息可以了解输入数据在不同维度上的规模情况，比如批次大小、序列长度等维度的具体数值，"
   ]
  },
  {
   "cell_type": "code",
   "execution_count": 50,
   "id": "7766ec38-30d0-4128-8c31-f49f063c43d1",
   "metadata": {},
   "outputs": [
    {
     "name": "stdout",
     "output_type": "stream",
     "text": [
      "torch.Size([8, 4, 256])\n"
     ]
    }
   ],
   "source": [
    "token_embeddings = token_embedding_layer(inputs)\n",
    "# 调用之前创建的token_embedding_layer（这是一个torch.nn.Embedding类型的嵌入层对象），并将inputs作为参数传入。\n",
    "# 嵌入层token_embedding_layer会根据传入的这些词汇索引，将每个索引对应的词汇转换为之前定义好的output_dim维的向量表示。\n",
    "print(token_embeddings.shape)\n",
    "# 打印出token_embeddings的形状信息。\n",
    "# 例如，如果inputs的形状是 [batch_size, sequence_length]（batch_size表示批次大小，sequence_length表示序列长度），"
   ]
  },
  {
   "cell_type": "markdown",
   "id": "fe2ae164-6f19-4e32-b9e5-76950fcf1c9f",
   "metadata": {},
   "source": [
    "- GPT-2 uses absolute position embeddings, so we just create another embedding layer:"
   ]
  },
  {
   "cell_type": "code",
   "execution_count": 51,
   "id": "cc048e20-7ac8-417e-81f5-8fe6f9a4fe07",
   "metadata": {},
   "outputs": [],
   "source": [
    "context_length = max_length\n",
    "# 将之前定义的max_length的值赋给context_length变量。\n",
    "# 这里的context_length通常用于表示上下文的长度，它与后续要创建的位置嵌入层（pos_embedding_layer）相关，\n",
    "pos_embedding_layer = torch.nn.Embedding(context_length, output_dim)\n",
    "# 创建一个位置嵌入层（pos_embedding_layer）对象。\n",
    "# 使用torch.nn模块中的Embedding类来创建，它与之前创建词汇嵌入层（token_embedding_layer）的方式类似。\n",
    "# 传入的参数context_length表示要嵌入的位置数量，即根据上下文长度来确定需要生成多少种不同的位置嵌入向量。\n",
    "# output_dim表示嵌入后的输出维度，即每个位置经过嵌入层处理后将被映射到一个output_dim维的向量空间中。\n",
    "# 位置嵌入层的作用是为序列中的每个位置赋予一个特定的向量表示，以便模型能够捕捉到序列中不同位置的信息，"
   ]
  },
  {
   "cell_type": "code",
   "execution_count": 52,
   "id": "c369a1e7-d566-4b53-b398-d6adafb44105",
   "metadata": {},
   "outputs": [
    {
     "name": "stdout",
     "output_type": "stream",
     "text": [
      "torch.Size([4, 256])\n"
     ]
    }
   ],
   "source": [
    "pos_embeddings = pos_embedding_layer(torch.arange(max_length))\n",
    "# 调用之前创建的位置嵌入层对象pos_embedding_layer，并将torch.arange(max_length)作为参数传入。\n",
    "# torch.arange(max_length)会生成一个从0到max_length - 1的一维张量，这个张量表示了一系列连续的位置索引。\n",
    "# 位置嵌入层pos_embedding_layer会根据传入的这些位置索引，为每个索引对应的位置生成一个output_dim维的向量表示。\n",
    "# 然后将经过位置嵌入层处理后得到的所有位置对应的向量表示组成的张量赋值给pos_embeddings变量，以便后续对这些向量进行进一步的处理或分析等操作。\n",
    "print(pos_embeddings.shape)\n",
    "# 打印出pos_embeddings的形状信息。\n",
    "# pos_embeddings是经过位置嵌入层处理后得到的结果，通过查看其形状可以了解到经过位置嵌入处理后的数据在不同维度上的规模情况。\n",
    "# 由于传入pos_embedding_layer的是一个长度为max_length的一维张量（torch.arange(max_length)），并且位置嵌入层的output_dim为之前定义的某个值，\n",
    "# 所以pos_embeddings的形状应该为 [max_length, output_dim]"
   ]
  },
  {
   "cell_type": "markdown",
   "id": "870e9d9f-2935-461a-9518-6d1386b976d6",
   "metadata": {},
   "source": [
    "- To create the input embeddings used in an LLM, we simply add the token and the positional embeddings:"
   ]
  },
  {
   "cell_type": "code",
   "execution_count": 53,
   "id": "b22fab89-526e-43c8-9035-5b7018e34288",
   "metadata": {},
   "outputs": [
    {
     "name": "stdout",
     "output_type": "stream",
     "text": [
      "torch.Size([8, 4, 256])\n"
     ]
    }
   ],
   "source": [
    "input_embeddings = token_embeddings + pos_embeddings\n",
    "# 将之前得到的token_embeddings（词汇嵌入向量组成的张量，经过token_embedding_layer对输入数据处理得到）\n",
    "# 和pos_embeddings（位置嵌入向量组成的张量，经过pos_embedding_layer对位置索引处理得到）进行对应元素相加操作。\n",
    "print(input_embeddings.shape)\n",
    "# 打印出input_embeddings的形状信息。\n",
    "# 由于input_embeddings是由token_embeddings和pos_embeddings相加得到的，而token_embeddings的形状通常是由输入数据的批次大小、序列长度和输出维度决定（例如[batch_size, sequence_length, output_dim]），\n",
    "# pos_embeddings的形状是由上下文长度和输出维度决定，\n",
    "# 在进行对应元素相加时，要求两者形状在除了最后一个维度（即输出维度）之外的其他维度上要匹配，所以相加后input_embeddings的形状应该和token_embeddings的形状相同。"
   ]
  },
  {
   "cell_type": "markdown",
   "id": "1fbda581-6f9b-476f-8ea7-d244e6a4eaec",
   "metadata": {},
   "source": [
    "- In the initial phase of the input processing workflow, the input text is segmented into separate tokens\n",
    "- Following this segmentation, these tokens are transformed into token IDs based on a predefined vocabulary:"
   ]
  },
  {
   "cell_type": "markdown",
   "id": "d1bb0f7e-460d-44db-b366-096adcd84fff",
   "metadata": {},
   "source": [
    "<img src=\"https://sebastianraschka.com/images/LLMs-from-scratch-images/ch02_compressed/19.webp\" width=\"400px\">"
   ]
  },
  {
   "cell_type": "markdown",
   "id": "63230f2e-258f-4497-9e2e-8deee4530364",
   "metadata": {},
   "source": [
    "# Summary and takeaways"
   ]
  },
  {
   "cell_type": "markdown",
   "id": "8b3293a6-45a5-47cd-aa00-b23e3ca0a73f",
   "metadata": {},
   "source": [
    "See the [./dataloader.ipynb](./dataloader.ipynb) code notebook, which is a concise version of the data loader that we implemented in this chapter and will need for training the GPT model in upcoming chapters.\n",
    "\n",
    "See [./exercise-solutions.ipynb](./exercise-solutions.ipynb) for the exercise solutions."
   ]
  }
 ],
 "metadata": {
  "kernelspec": {
   "display_name": "Python 3 (ipykernel)",
   "language": "python",
   "name": "python3"
  },
  "language_info": {
   "codemirror_mode": {
    "name": "ipython",
    "version": 3
   },
   "file_extension": ".py",
   "mimetype": "text/x-python",
   "name": "python",
   "nbconvert_exporter": "python",
   "pygments_lexer": "ipython3",
   "version": "3.11.4"
  }
 },
 "nbformat": 4,
 "nbformat_minor": 5
}
