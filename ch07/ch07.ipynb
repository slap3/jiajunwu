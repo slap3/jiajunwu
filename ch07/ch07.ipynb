{
 "cells": [
  {
   "cell_type": "markdown",
   "id": "12e91914-5f51-43fa-b65b-625e73b4d17b",
   "metadata": {
    "id": "12e91914-5f51-43fa-b65b-625e73b4d17b"
   },
   "source": [
    "<table style=\"width:100%\">\n",
    "<tr>\n",
    "<td style=\"vertical-align:middle; text-align:left;\">\n",
    "<font size=\"2\">\n",
    "Supplementary code for the <a href=\"http://mng.bz/orYv\">Build a Large Language Model From Scratch</a> book by <a href=\"https://sebastianraschka.com\">Sebastian Raschka</a><br>\n",
    "<br>Code repository: <a href=\"https://github.com/rasbt/LLMs-from-scratch\">https://github.com/rasbt/LLMs-from-scratch</a>\n",
    "</font>\n",
    "</td>\n",
    "<td style=\"vertical-align:middle; text-align:left;\">\n",
    "<a href=\"http://mng.bz/orYv\"><img src=\"https://sebastianraschka.com/images/LLMs-from-scratch-images/cover-small.webp?1\" width=\"100px\"></a>\n",
    "</td>\n",
    "</tr>\n",
    "</table>"
   ]
  },
  {
   "cell_type": "markdown",
   "id": "c2520ec3-722f-4f44-bdd1-885b13e7afbf",
   "metadata": {
    "id": "c2520ec3-722f-4f44-bdd1-885b13e7afbf"
   },
   "source": [
    "# Chapter 7: Finetuning To Follow Instructions"
   ]
  },
  {
   "cell_type": "code",
   "execution_count": 1,
   "id": "4e19327b-6c02-4881-ad02-9b6d3ec0b1b4",
   "metadata": {
    "colab": {
     "base_uri": "https://localhost:8080/"
    },
    "id": "4e19327b-6c02-4881-ad02-9b6d3ec0b1b4",
    "outputId": "9d937b84-d8f8-4ce9-cc3c-211188f49a10"
   },
   "outputs": [
    {
     "name": "stdout",
     "output_type": "stream",
     "text": [
      "matplotlib version: 3.7.1\n",
      "tiktoken version: 0.7.0\n",
      "torch version: 2.4.0\n",
      "tqdm version: 4.66.4\n",
      "tensorflow version: 2.15.0\n"
     ]
    }
   ],
   "source": [
    "from importlib.metadata import version\n",
    "\n",
    "pkgs = [\n",
    "    \"matplotlib\",  # Plotting library\n",
    "    \"tiktoken\",    # Tokenizer\n",
    "    \"torch\",       # Deep learning library\n",
    "    \"tqdm\",        # Progress bar\n",
    "    \"tensorflow\",  # For OpenAI's pretrained weights\n",
    "]\n",
    "for p in pkgs:\n",
    "    print(f\"{p} version: {version(p)}\")"
   ]
  },
  {
   "cell_type": "markdown",
   "id": "264fca98-2f9a-4193-b435-2abfa3b4142f",
   "metadata": {
    "id": "264fca98-2f9a-4193-b435-2abfa3b4142f"
   },
   "source": [
    "<img src=\"https://sebastianraschka.com/images/LLMs-from-scratch-images/ch07_compressed/overview.webp?1\" width=500px>"
   ]
  },
  {
   "cell_type": "markdown",
   "id": "8bbc68e9-75b3-41f1-ac2c-e071c3cd0813",
   "metadata": {
    "id": "8bbc68e9-75b3-41f1-ac2c-e071c3cd0813"
   },
   "source": [
    "## 7.1 Introduction to instruction finetuning"
   ]
  },
  {
   "cell_type": "markdown",
   "id": "53dba24a-6805-496c-9a7f-c75e2d3527ab",
   "metadata": {
    "id": "53dba24a-6805-496c-9a7f-c75e2d3527ab"
   },
   "source": [
    "- In chapter 5, we saw that pretraining an LLM involves a training procedure where it learns to generate one word at a time\n",
    "- Hence, a pretrained LLM is good at text completion, but it is not good at following instructions\n",
    "- In this chapter, we teach the LLM to follow instructions better"
   ]
  },
  {
   "cell_type": "markdown",
   "id": "18dc0535-0904-44ed-beaf-9b678292ef35",
   "metadata": {
    "id": "18dc0535-0904-44ed-beaf-9b678292ef35"
   },
   "source": [
    "<img src=\"https://sebastianraschka.com/images/LLMs-from-scratch-images/ch07_compressed/instruction-following.webp\" width=500px>"
   ]
  },
  {
   "cell_type": "markdown",
   "id": "b4698b23-12e0-4bd7-a140-ccb3dd71d4e8",
   "metadata": {
    "id": "b4698b23-12e0-4bd7-a140-ccb3dd71d4e8"
   },
   "source": [
    "- The topics covered in this chapter are summarized in the figure below\n",
    "\n",
    "<img src=\"https://sebastianraschka.com/images/LLMs-from-scratch-images/ch07_compressed/chapter-overview-1.webp?1\" width=500px>"
   ]
  },
  {
   "cell_type": "markdown",
   "id": "5384f0cf-ef3c-4436-a5fa-59bd25649f86",
   "metadata": {
    "id": "5384f0cf-ef3c-4436-a5fa-59bd25649f86"
   },
   "source": [
    "## 7.2 Preparing a dataset for supervised instruction finetuning"
   ]
  },
  {
   "cell_type": "markdown",
   "id": "f8b34ff8-619f-4e89-bd03-ce513269760d",
   "metadata": {
    "id": "f8b34ff8-619f-4e89-bd03-ce513269760d"
   },
   "source": [
    "- We will work with an instruction dataset I prepared for this chapter"
   ]
  },
  {
   "cell_type": "code",
   "execution_count": 2,
   "id": "0G3axLw6kY1N",
   "metadata": {
    "colab": {
     "base_uri": "https://localhost:8080/"
    },
    "id": "0G3axLw6kY1N",
    "outputId": "a5f70eb8-6248-4834-e7ae-6105e94e5afa"
   },
   "outputs": [
    {
     "name": "stdout",
     "output_type": "stream",
     "text": [
      "Number of entries: 1100\n"
     ]
    }
   ],
   "source": [
    "import json\n",
    "import os\n",
    "import urllib\n",
    "\n",
    "\n",
    "def download_and_load_file(file_path, url):\n",
    "    \"\"\"\n",
    "    此函数用于从指定的URL下载文件（如果本地不存在该文件），然后将文件内容读取并解析为JSON格式的数据并返回。\n",
    "\n",
    "    参数:\n",
    "    - file_path: 本地文件路径，指定要保存或读取文件的位置。\n",
    "    - url: 要下载文件的URL地址，用于获取远程文件的资源。\n",
    "\n",
    "    返回值:\n",
    "    - 返回解析后的JSON数据，如果文件不存在则先下载再解析，如果文件已存在则直接读取并解析。\n",
    "    \"\"\"\n",
    "\n",
    "    # 判断本地指定的文件路径是否存在该文件\n",
    "    if not os.path.exists(file_path):\n",
    "        # 如果文件不存在，通过urllib.request.urlopen函数打开指定URL的资源连接\n",
    "        with urllib.request.urlopen(url) as response:\n",
    "            # 读取URL资源的内容，并将其从字节流解码为UTF-8编码的字符串格式，得到文本数据\n",
    "            text_data = response.read().decode(\"utf-8\")\n",
    "        # 以写入模式打开本地指定的文件路径，设置编码为UTF-8\n",
    "        with open(file_path, \"w\", encoding=\"utf-8\") as file:\n",
    "            # 将从URL读取并解码后的文本数据写入到本地文件中\n",
    "            file.write(text_data)\n",
    "    else:\n",
    "        # 如果文件已经存在，以读取模式打开本地文件，编码为UTF-8\n",
    "        with open(file_path, \"r\", encoding=\"utf-8\") as file:\n",
    "            text_data = file.read()\n",
    "\n",
    "    # 再次以读取模式打开本地文件（无论是刚刚下载写入的还是原本就存在的），编码为UTF-8\n",
    "    with open(file_path, \"r\", encoding=\"utf-8\") as file:\n",
    "        # 使用json.load函数将文件内容解析为JSON格式的数据\n",
    "        data = json.load(file)\n",
    "\n",
    "    return data\n",
    "\n",
    "\n",
    "file_path = \"instruction-data.json\"\n",
    "url = (\n",
    "    \"https://raw.githubusercontent.com/rasbt/LLMs-from-scratch\"\n",
    "    \"/main/ch07/01_main-chapter-code/instruction-data.json\"\n",
    ")\n",
    "\n",
    "# 调用download_and_load_file函数，传入指定的文件路径和URL，获取解析后的JSON数据并赋值给变量data\n",
    "data = download_and_load_file(file_path, url)\n",
    "# 打印出获取到的JSON数据的条目数量，即数据中元素的个数\n",
    "print(\"Number of entries:\", len(data))"
   ]
  },
  {
   "cell_type": "markdown",
   "id": "d7af8176-4255-4e92-8c7d-998771733eb8",
   "metadata": {
    "id": "d7af8176-4255-4e92-8c7d-998771733eb8"
   },
   "source": [
    "- Each item in the `data` list we loaded from the JSON file above is a dictionary in the following form"
   ]
  },
  {
   "cell_type": "code",
   "execution_count": 3,
   "id": "-LiuBMsHkzQV",
   "metadata": {
    "colab": {
     "base_uri": "https://localhost:8080/"
    },
    "id": "-LiuBMsHkzQV",
    "outputId": "cc742019-b8d7-40f9-b21a-6a5ddf821377"
   },
   "outputs": [
    {
     "name": "stdout",
     "output_type": "stream",
     "text": [
      "Example entry:\n",
      " {'instruction': 'Identify the correct spelling of the following word.', 'input': 'Ocassion', 'output': \"The correct spelling is 'Occasion.'\"}\n"
     ]
    }
   ],
   "source": [
    "print(\"Example entry:\\n\", data[50])"
   ]
  },
  {
   "cell_type": "markdown",
   "id": "c5a32b34-485a-4816-a77a-da14f9fe6e46",
   "metadata": {
    "id": "c5a32b34-485a-4816-a77a-da14f9fe6e46"
   },
   "source": [
    "- Note that the `'input'` field can be empty:"
   ]
  },
  {
   "cell_type": "code",
   "execution_count": 4,
   "id": "uFInFxDDk2Je",
   "metadata": {
    "colab": {
     "base_uri": "https://localhost:8080/"
    },
    "id": "uFInFxDDk2Je",
    "outputId": "70241295-a9ec-4b7d-caf5-ab6f267e3271"
   },
   "outputs": [
    {
     "name": "stdout",
     "output_type": "stream",
     "text": [
      "Another example entry:\n",
      " {'instruction': \"What is an antonym of 'complicated'?\", 'input': '', 'output': \"An antonym of 'complicated' is 'simple'.\"}\n"
     ]
    }
   ],
   "source": [
    "print(\"Another example entry:\\n\", data[999])"
   ]
  },
  {
   "cell_type": "markdown",
   "id": "f034799a-6575-45fd-98c9-9d1012d0fd58",
   "metadata": {
    "id": "f034799a-6575-45fd-98c9-9d1012d0fd58"
   },
   "source": [
    "- Instruction finetuning is often referred to as \"supervised instruction finetuning\" because it involves training a model on a dataset where the input-output pairs are explicitly provided\n",
    "- There are different ways to format the entries as inputs to the LLM; the figure below illustrates two example formats that were used for training the Alpaca (https://crfm.stanford.edu/2023/03/13/alpaca.html) and Phi-3 (https://arxiv.org/abs/2404.14219) LLMs, respectively"
   ]
  },
  {
   "cell_type": "markdown",
   "id": "dffa4f70-44d4-4be4-89a9-2159f4885b10",
   "metadata": {
    "id": "dffa4f70-44d4-4be4-89a9-2159f4885b10"
   },
   "source": [
    "<img src=\"https://sebastianraschka.com/images/LLMs-from-scratch-images/ch07_compressed/prompt-style.webp?1\" width=500px>"
   ]
  },
  {
   "cell_type": "markdown",
   "id": "dd79a74e-befb-491c-be49-f777a6a5b6a6",
   "metadata": {
    "id": "dd79a74e-befb-491c-be49-f777a6a5b6a6"
   },
   "source": [
    "- In this chapter, we use Alpaca-style prompt formatting, which was the original prompt template for instruction finetuning\n",
    "- Below, we format the input that we will pass as input to the LLM"
   ]
  },
  {
   "cell_type": "code",
   "execution_count": 5,
   "id": "Jhk37nnJnkBh",
   "metadata": {
    "id": "Jhk37nnJnkBh"
   },
   "outputs": [],
   "source": [
    "def format_input(entry):\n",
    "    \"\"\"\n",
    "    该函数用于格式化输入数据，将输入数据中的指令（instruction）部分和可选的输入（input）部分按照特定的格式拼接成一个字符串。\n",
    "    参数:\n",
    "    - entry: 一个字典类型的数据，通常包含 'instruction' 和 'input' 等键值对，其中 'instruction' 键对应的值是描述任务的指令内容，'input' 键对应的值是与指令相关的具体输入内容（可能为空）。\n",
    "    返回值:\n",
    "    - 返回一个格式化后的字符串，按照特定格式拼接了指令内容和输入内容（如果有）。\n",
    "    \"\"\"\n",
    "    # 首先处理指令文本部分，将指令内容按照指定的格式进行拼接。\n",
    "    # 拼接的格式是先给出一段固定的描述性文字，说明下面是一个描述任务的指令，然后换行并添加 \"### Instruction:\\n\" 作为指令部分的标题，\n",
    "    # 接着跟上从输入数据entry中获取的指令内容（entry['instruction']）。\n",
    "    instruction_text = (\n",
    "        f\"Below is an instruction that describes a task. \"\n",
    "        f\"Write a response that appropriately completes the request.\"\n",
    "        f\"\\n\\n### Instruction:\\n{entry['instruction']}\"\n",
    "    )\n",
    "    # 接着处理输入文本部分，如果输入数据entry中的 'input' 键对应的值不为空，\n",
    "    # 则按照指定格式进行拼接，即先换行并添加 \"### Input:\\n\" 作为输入部分的标题，然后跟上从输入数据entry中获取的输入内容（entry['input']）。\n",
    "    # 如果 'input' 键对应的值为空，则将输入文本部分设置为空字符串。\n",
    "    input_text = f\"\\n\\n### Input:\\n{entry['input']}\" if entry[\"input\"] else \"\"\n",
    "    # 最后将格式化好的指令文本和输入文本（如果有）拼接在一起，并返回拼接后的结果。\n",
    "    return instruction_text + input_text"
   ]
  },
  {
   "cell_type": "markdown",
   "id": "011e78b4-e89a-4653-a2ee-7b2739ca04d6",
   "metadata": {
    "id": "011e78b4-e89a-4653-a2ee-7b2739ca04d6"
   },
   "source": [
    "- A formatted response with input field looks like as shown below"
   ]
  },
  {
   "cell_type": "code",
   "execution_count": 6,
   "id": "F9UQRfjzo4Js",
   "metadata": {
    "colab": {
     "base_uri": "https://localhost:8080/"
    },
    "id": "F9UQRfjzo4Js",
    "outputId": "13ec7abf-ad94-4e26-860d-6a39a344f31f"
   },
   "outputs": [
    {
     "name": "stdout",
     "output_type": "stream",
     "text": [
      "Below is an instruction that describes a task. Write a response that appropriately completes the request.\n",
      "\n",
      "### Instruction:\n",
      "Identify the correct spelling of the following word.\n",
      "\n",
      "### Input:\n",
      "Ocassion\n",
      "\n",
      "### Response:\n",
      "The correct spelling is 'Occasion.'\n"
     ]
    }
   ],
   "source": [
    "# 调用format_input函数对数据中的第51个元素（索引为50）进行格式化输入操作。\n",
    "# 该函数会根据传入的字典元素（这里是data[50]）中的'instruction'和'input'键值对信息，按照特定格式拼接成一个文本字符串，\n",
    "# 作为后续提供给模型的输入内容。\n",
    "model_input = format_input(data[50])\n",
    "# 根据数据中的第51个元素（索引为50）的'output'键值对信息，按照特定格式拼接出期望的响应内容。\n",
    "# 先换行并添加 \"### Response:\\n\" 作为响应部分的标题，然后跟上从数据中获取的输出内容（data[50]['output']）。\n",
    "desired_response = f\"\\n\\n### Response:\\n{data[50]['output']}\"\n",
    "# 将格式化后的模型输入内容和期望的响应内容拼接在一起，并打印输出结果。\n",
    "# 这样可以直观地查看对于特定任务（由data[50]描述）的输入内容以及期望的响应内容，便于后续与模型实际生成的结果进行对比等操作。\n",
    "print(model_input + desired_response)"
   ]
  },
  {
   "cell_type": "markdown",
   "id": "4dc93ddf-431c-49c0-96f2-fb3a79c4d94c",
   "metadata": {
    "id": "4dc93ddf-431c-49c0-96f2-fb3a79c4d94c"
   },
   "source": [
    "- Below is a formatted response without an input field"
   ]
  },
  {
   "cell_type": "code",
   "execution_count": 7,
   "id": "a3891fa9-f738-41cd-946c-80ef9a99c346",
   "metadata": {
    "colab": {
     "base_uri": "https://localhost:8080/"
    },
    "id": "a3891fa9-f738-41cd-946c-80ef9a99c346",
    "outputId": "d6be5713-1293-4a70-c8c8-a86ea8e95817"
   },
   "outputs": [
    {
     "name": "stdout",
     "output_type": "stream",
     "text": [
      "Below is an instruction that describes a task. Write a response that appropriately completes the request.\n",
      "\n",
      "### Instruction:\n",
      "What is an antonym of 'complicated'?\n",
      "\n",
      "### Response:\n",
      "An antonym of 'complicated' is 'simple'.\n"
     ]
    }
   ],
   "source": [
    "model_input = format_input(data[999])\n",
    "desired_response = f\"\\n\\n### Response:\\n{data[999]['output']}\"\n",
    "\n",
    "print(model_input + desired_response)"
   ]
  },
  {
   "cell_type": "markdown",
   "id": "4aa8afd5-2a21-49a5-90c3-6a03865a4771",
   "metadata": {
    "id": "4aa8afd5-2a21-49a5-90c3-6a03865a4771"
   },
   "source": [
    "- Lastly, before we prepare the PyTorch data loaders in the next section, we divide the dataset into a training, validation, and test set"
   ]
  },
  {
   "cell_type": "code",
   "execution_count": 8,
   "id": "aFZVopbIlNfx",
   "metadata": {
    "id": "aFZVopbIlNfx"
   },
   "outputs": [],
   "source": [
    "# 假设 'data' 是已有的数据集，其包含多个数据元素，比如与特定任务相关的数据记录。\n",
    "# 计算训练集应占比例及截止索引\n",
    "# 用数据集总长度乘0.85得训练集大致样本数，转整数确定截止索引，取前85%数据作训练集。\n",
    "train_portion = int(len(data) * 0.85)  \n",
    "# 计算测试集应占比例及起始索引\n",
    "# 总长度乘0.1得测试集大致样本数，转整数确定起始索引，从训练集后取10%数据作测试集。\n",
    "test_portion = int(len(data) * 0.1)  \n",
    "# 计算验证集应占比例及起始索引\n",
    "# 用总长度减去训练集、测试集样本数，得验证集起始索引，取剩余约5%数据作验证集。\n",
    "val_portion = len(data) - train_portion - test_portion  \n",
    "# 根据计算的索引划分数据集\n",
    "# 取开头到'train_portion'索引的数据作训练集，用于训练模型。\n",
    "train_data = data[:train_portion]\n",
    "# 取'train_portion'到'train_portion + test_portion'索引的数据作测试集，用于测试模型性能。\n",
    "test_data = data[train_portion:train_portion + test_portion]\n",
    "# 取'train_portion + test_portion'索引到末尾的数据作验证集，用于训练中验证模型。\n",
    "val_data = data[train_portion + test_portion:]"
   ]
  },
  {
   "cell_type": "code",
   "execution_count": 9,
   "id": "-zf6oht6bIUQ",
   "metadata": {
    "colab": {
     "base_uri": "https://localhost:8080/"
    },
    "id": "-zf6oht6bIUQ",
    "outputId": "bb5fe8e5-1ce5-4fca-a430-76ecf42e99ef"
   },
   "outputs": [
    {
     "name": "stdout",
     "output_type": "stream",
     "text": [
      "Training set length: 935\n",
      "Validation set length: 55\n",
      "Test set length: 110\n"
     ]
    }
   ],
   "source": [
    "print(\"Training set length:\", len(train_data))\n",
    "print(\"Validation set length:\", len(val_data))\n",
    "print(\"Test set length:\", len(test_data))"
   ]
  },
  {
   "cell_type": "markdown",
   "id": "fcaaf606-f913-4445-8301-632ae10d387d",
   "metadata": {
    "id": "fcaaf606-f913-4445-8301-632ae10d387d"
   },
   "source": [
    "## 7.3 Organizing data into training batches"
   ]
  },
  {
   "cell_type": "markdown",
   "id": "233f63bd-9755-4d07-8884-5e2e5345cf27",
   "metadata": {
    "id": "233f63bd-9755-4d07-8884-5e2e5345cf27"
   },
   "source": [
    "<img src=\"https://sebastianraschka.com/images/LLMs-from-scratch-images/ch07_compressed/chapter-overview-2.webp?1\" width=500px>"
   ]
  },
  {
   "cell_type": "markdown",
   "id": "c149fc1a-7757-4ec8-80cb-e2a3fb007a2c",
   "metadata": {
    "id": "c149fc1a-7757-4ec8-80cb-e2a3fb007a2c"
   },
   "source": [
    "- We tackle this dataset batching in several steps, as summarized in the figure below\n",
    "\n",
    "<img src=\"https://sebastianraschka.com/images/LLMs-from-scratch-images/ch07_compressed/detailed-batching.webp?1\" width=500px>"
   ]
  },
  {
   "cell_type": "markdown",
   "id": "b9af423f-aad9-4b3c-bea5-153021c04862",
   "metadata": {
    "id": "b9af423f-aad9-4b3c-bea5-153021c04862"
   },
   "source": [
    "- First, we implement an `InstructionDataset` class that pre-tokenizes all inputs in the dataset, similar to the `SpamDataset` in chapter 6\n",
    "\n",
    "<img src=\"https://sebastianraschka.com/images/LLMs-from-scratch-images/ch07_compressed/pretokenizing.webp\" width=500px>"
   ]
  },
  {
   "cell_type": "code",
   "execution_count": 10,
   "id": "adc29dc4-f1c7-4c71-937b-95119d6239bb",
   "metadata": {
    "id": "adc29dc4-f1c7-4c71-937b-95119d6239bb"
   },
   "outputs": [],
   "source": [
    "import torch\n",
    "from torch.utils.data import Dataset\n",
    "class InstructionDataset(Dataset):\n",
    "    \"\"\"\n",
    "    InstructionDataset类是一个自定义的数据集类，继承自PyTorch的Dataset类。\n",
    "    它的主要作用是将给定的数据按照特定格式进行处理和编码，以便能够作为模型的输入数据使用，并且可以与PyTorch的数据加载器（DataLoader）等工具配合使用。\n",
    "    \"\"\"\n",
    "    def __init__(self, data, tokenizer):\n",
    "        \"\"\"\n",
    "        类的初始化方法，用于设置数据集的相关属性和对数据进行预处理。\n",
    "        参数:\n",
    "        - data: 包含任务相关信息的数据集，通常是一个列表，其中每个元素是一个字典，字典中包含了如'instruction'、'input'、'output'等键值对，用于描述不同的任务指令、输入内容和输出内容等。\n",
    "        - tokenizer: 分词器对象，用于对文本进行分词和编码操作，将文本转换为模型可处理的编码形式。\n",
    "        \"\"\"\n",
    "        # 将传入的数据集赋值给self.data属性，以便在类的其他方法中可以访问和使用该数据集。\n",
    "        self.data = data\n",
    "        # 初始化一个空列表，用于存储经过预处理和编码后的文本数据。\n",
    "        self.encoded_texts = []\n",
    "        # 遍历数据集中的每个元素，对每个元素进行以下处理：\n",
    "        for entry in data:\n",
    "            # 首先调用format_input函数，根据元素中的'instruction'和'input'键值对信息，按照特定格式拼接出包含指令和输入内容的文本字符串。\n",
    "            instruction_plus_input = format_input(entry)\n",
    "            # 根据元素中的'output'键值对信息，按照特定格式拼接出包含输出内容的文本字符串，作为响应文本。\n",
    "            response_text = f\"\\n\\n### Response:\\n{entry['output']}\"\n",
    "            # 将包含指令和输入内容的文本字符串与包含输出内容的文本字符串拼接在一起，得到完整的文本内容。\n",
    "            full_text = instruction_plus_input + response_text\n",
    "            # 使用分词器的encode方法对完整的文本内容进行编码操作，将文本转换为模型可处理的编码形式，并将编码后的结果添加到self.encoded_texts列表中。\n",
    "            self.encoded_texts.append(\n",
    "                tokenizer.encode(full_text)\n",
    "            )\n",
    "    def __getitem__(self, index):\n",
    "        \"\"\"\n",
    "        根据给定的索引获取数据集中的单个数据样本。\n",
    "        参数:\n",
    "        - index: 要获取的数据样本的索引。\n",
    "\n",
    "        返回值:\n",
    "        - 返回编码后的文本数据样本，即self.encoded_texts列表中对应索引位置的元素，该元素是经过分词器编码后的文本编码形式，可作为模型的输入数据。\n",
    "        \"\"\"\n",
    "        return self.encoded_texts[index]\n",
    "\n",
    "    def __len__(self):\n",
    "        \"\"\"\n",
    "        返回数据集的大小，即数据集中包含的数据样本数量。\n",
    "\n",
    "        返回值:\n",
    "        - 返回一个整数，表示数据集的大小，其值等于self.data中包含的元素数量，也就是任务相关信息的数量。\n",
    "        \"\"\"\n",
    "        return len(self.data)"
   ]
  },
  {
   "cell_type": "markdown",
   "id": "384f0e69-4b22-41c0-a25d-f077527eddd1",
   "metadata": {
    "id": "384f0e69-4b22-41c0-a25d-f077527eddd1"
   },
   "source": [
    "- Similar to chapter 6, we want to collect multiple training examples in a batch to accelerate training; this requires padding all inputs to a similar length\n",
    "- Also similar to the previous chapter, we use the `<|endoftext|>` token as a padding token"
   ]
  },
  {
   "cell_type": "code",
   "execution_count": 11,
   "id": "ff24fe1a-5746-461c-ad3d-b6d84a1a7c96",
   "metadata": {
    "colab": {
     "base_uri": "https://localhost:8080/"
    },
    "id": "ff24fe1a-5746-461c-ad3d-b6d84a1a7c96",
    "outputId": "4d63f8b8-b4ad-45d9-9e93-c9dd8c2b7706"
   },
   "outputs": [
    {
     "name": "stdout",
     "output_type": "stream",
     "text": [
      "[50256]\n"
     ]
    }
   ],
   "source": [
    "import tiktoken\n",
    "tokenizer = tiktoken.get_encoding(\"gpt2\")\n",
    "\n",
    "print(tokenizer.encode(\"<|endoftext|>\", allowed_special={\"<|endoftext|>\"}))"
   ]
  },
  {
   "cell_type": "markdown",
   "id": "9e5bd7bc-f347-4cf8-a0c2-94cb8799e427",
   "metadata": {
    "id": "9e5bd7bc-f347-4cf8-a0c2-94cb8799e427"
   },
   "source": [
    "- In chapter 6, we padded all examples in a dataset to the same length\n",
    "  - Here, we take a more sophisticated approach and develop a custom \"collate\" function that we can pass to the data loader\n",
    "  - This custom collate function pads the training examples in each batch to have the same length (but different batches can have different lengths)"
   ]
  },
  {
   "cell_type": "markdown",
   "id": "65c4d943-4aa8-4a44-874e-05bc6831fbd3",
   "metadata": {
    "id": "65c4d943-4aa8-4a44-874e-05bc6831fbd3"
   },
   "source": [
    "<img src=\"https://sebastianraschka.com/images/LLMs-from-scratch-images/ch07_compressed/padding.webp\" width=500px>"
   ]
  },
  {
   "cell_type": "code",
   "execution_count": 12,
   "id": "eb4c77dd-c956-4a1b-897b-b466909f18ca",
   "metadata": {
    "id": "eb4c77dd-c956-4a1b-897b-b466909f18ca"
   },
   "outputs": [],
   "source": [
    "def custom_collate_draft_1(\n",
    "    batch,\n",
    "    pad_token_id=50256,\n",
    "    device=\"cpu\"\n",
    "):\n",
    "    \"\"\"\n",
    "    该函数用于对一批数据进行自定义的整理操作，主要包括找到批次中最长序列，对序列进行填充使其长度一致，并将整理好的数据转换为张量后移动到指定设备上。\n",
    "    参数:\n",
    "    - batch: 一批数据，通常是一个包含多个数据项的列表，每个数据项可能是一个序列（如编码后的文本序列等）。\n",
    "    - pad_token_id: 用于填充的标记（token）的ID，默认为50256，当序列长度不足时用此ID进行填充。\n",
    "    - device: 目标设备，默认为\"cpu\"，表示将整理好的数据移动到该设备上进行后续操作，也可以是\"cuda\"等GPU设备。\n",
    "    返回值:\n",
    "    - 返回一个整理好并移动到指定设备上的张量，包含了批次中经过填充和处理后的所有数据项。\n",
    "    \"\"\"\n",
    "    # 找到批次中最长序列的长度，然后再加1，这额外的1是为了后续添加一个填充标记（在下面代码中会添加一个<|endoftext|>标记后再填充）。\n",
    "    batch_max_length = max(len(item)+1 for item in batch)\n",
    "    # 初始化一个空列表，用于存储处理后的每个数据项的张量形式。\n",
    "    inputs_lst = []\n",
    "    for item in batch:\n",
    "        # 对批次中的每个数据项进行拷贝，以便在不影响原始数据的情况下进行处理。\n",
    "        new_item = item.copy()\n",
    "        # 在数据项末尾添加一个<|endoftext|>标记（这里用pad_token_id表示），模拟文本结束的情况。\n",
    "        new_item += [pad_token_id]\n",
    "        # 将数据项填充到批次最长长度batch_max_length，不足的部分用pad_token_id填充。\n",
    "        padded = (\n",
    "            new_item + [pad_token_id] *\n",
    "            (batch_max_length - len(new_item))\n",
    "        )\n",
    "        # 通过取切片padded[:-1]，去掉由于batch_max_length加1而额外添加的那个填充标记（这个额外填充标记在后续代码可能有用，但这里先去掉它以得到合适的输入张量）。\n",
    "        inputs = torch.tensor(padded[:-1])\n",
    "        inputs_lst.append(inputs)\n",
    "    # 将处理好的每个数据项的张量列表转换为一个张量，并将其移动到指定设备上，以便后续在该设备上进行相关操作。\n",
    "    inputs_tensor = torch.stack(inputs_lst).to(device)\n",
    "    return inputs_tensor"
   ]
  },
  {
   "cell_type": "code",
   "execution_count": 13,
   "id": "8fb02373-59b3-4f3a-b1d1-8181a2432645",
   "metadata": {
    "colab": {
     "base_uri": "https://localhost:8080/"
    },
    "id": "8fb02373-59b3-4f3a-b1d1-8181a2432645",
    "outputId": "8705ca9a-e999-4f70-9db8-1ad084eba7bb"
   },
   "outputs": [
    {
     "name": "stdout",
     "output_type": "stream",
     "text": [
      "tensor([[    0,     1,     2,     3,     4],\n",
      "        [    5,     6, 50256, 50256, 50256],\n",
      "        [    7,     8,     9, 50256, 50256]])\n"
     ]
    }
   ],
   "source": [
    "inputs_1 = [0, 1, 2, 3, 4]\n",
    "inputs_2 = [5, 6]\n",
    "inputs_3 = [7, 8, 9]\n",
    "\n",
    "batch = (\n",
    "    inputs_1,\n",
    "    inputs_2,\n",
    "    inputs_3\n",
    ")\n",
    "\n",
    "print(custom_collate_draft_1(batch))"
   ]
  },
  {
   "cell_type": "markdown",
   "id": "c46832ab-39b7-45f8-b330-ac9adfa10d1b",
   "metadata": {
    "id": "c46832ab-39b7-45f8-b330-ac9adfa10d1b"
   },
   "source": [
    "<img src=\"https://sebastianraschka.com/images/LLMs-from-scratch-images/ch07_compressed/batching-step-4.webp?1\" width=500px>"
   ]
  },
  {
   "cell_type": "markdown",
   "id": "17769a19-b961-4213-92ef-34f441b2d1d6",
   "metadata": {
    "id": "17769a19-b961-4213-92ef-34f441b2d1d6"
   },
   "source": [
    "- Above, we only returned the inputs to the LLM; however, for LLM training, we also need the target values\n",
    "- Similar to pretraining an LLM, the targets are the inputs shifted by 1 position to the right, so the LLM learns to predict the next token"
   ]
  },
  {
   "cell_type": "markdown",
   "id": "0386b6fe-3455-4e70-becd-a5a4681ba2ef",
   "metadata": {
    "id": "0386b6fe-3455-4e70-becd-a5a4681ba2ef"
   },
   "source": [
    "<img src=\"https://sebastianraschka.com/images/LLMs-from-scratch-images/ch07_compressed/inputs-targets.webp?1\" width=400px>"
   ]
  },
  {
   "cell_type": "code",
   "execution_count": 14,
   "id": "74af192e-757c-4c0a-bdf9-b7eb25bf6ebc",
   "metadata": {
    "id": "74af192e-757c-4c0a-bdf9-b7eb25bf6ebc"
   },
   "outputs": [],
   "source": [
    "def custom_collate_draft_2(\n",
    "    batch,\n",
    "    pad_token_id=50256,\n",
    "    device=\"cpu\"\n",
    "):\n",
    "    \"\"\"\n",
    "    该函数用于对输入的一批数据进行自定义的整理和划分操作，以便为模型提供合适的输入张量和目标张量。\n",
    "\n",
    "    参数:\n",
    "    - batch: 一批数据，通常是一个包含多个数据项的列表，每个数据项可能是一个序列（如编码后的文本序列等）。\n",
    "    - pad_token_id: 用于填充的标记（token）的ID，默认为50256，当序列长度不足时用此ID进行填充。\n",
    "    - device: 目标设备，默认为\"cpu\"，表示将整理好的数据移动到该设备上进行后续操作，也可以是\"cuda\"等GPU设备。\n",
    "    返回值:\n",
    "    - 返回两个张量，分别是经过整理和处理后的输入张量（inputs_tensor）和目标张量（targets_tensor），用于后续提供给模型进行相关操作，如训练等。\n",
    "    \"\"\"\n",
    "    # 找到批次中最长序列的长度，然后再加1，这额外的1是为了后续添加一个填充标记（在下面代码中会添加一个<|endoftext|>标记后再填充）。\n",
    "    batch_max_length = max(len(item)+1 for item in batch)\n",
    "    # 初始化两个空列表，分别用于存储处理后的输入张量和目标张量的各个元素。\n",
    "    inputs_lst, targets_lst = [], []\n",
    "    for item in batch:\n",
    "        # 对批次中的每个数据项进行拷贝，以便在不影响原始数据的情况下进行处理。\n",
    "        new_item = item.copy()\n",
    "        # 在数据项末尾添加一个<|endoftext|>标记（这里用pad_token_id表示），模拟文本结束的情况。\n",
    "        new_item += [pad_token_id]\n",
    "        # 将数据项填充到批次最长长度batch_max_length，不足的部分用pad_token_id填充。\n",
    "        padded = (\n",
    "            new_item + [pad_token_id] *\n",
    "            (batch_max_length - len(new_item))\n",
    "        )\n",
    "        # 对于输入张量，通过取切片padded[:-1]，去掉由于batch_max_length加1而额外添加的那个填充标记，得到合适的输入张量。\n",
    "        inputs = torch.tensor(padded[:-1])\n",
    "        # 对于目标张量，通过取切片padded[1:]，将序列整体向右移动一位，即去掉第一个标记作为输入的对应目标，得到目标张量。\n",
    "        targets = torch.tensor(padded[1:])\n",
    "        inputs_lst.append(inputs)\n",
    "        targets_lst.append(targets)\n",
    "    # 将处理好的输入张量列表转换为一个张量，并将其移动到指定设备上，以便后续在该设备上进行相关操作。\n",
    "    inputs_tensor = torch.stack(inputs_lst).to(device)\n",
    "    # 将处理好的目标张量列表转换为一个张量，并将其移动到指定设备上，以便后续在该设备上进行相关操作。\n",
    "    targets_tensor = torch.stack(targets_lst).to(device)\n",
    "    return inputs_tensor, targets_tensor"
   ]
  },
  {
   "cell_type": "code",
   "execution_count": 15,
   "id": "6eb2bce3-28a7-4f39-9d4b-5e972d69066c",
   "metadata": {
    "colab": {
     "base_uri": "https://localhost:8080/"
    },
    "id": "6eb2bce3-28a7-4f39-9d4b-5e972d69066c",
    "outputId": "b9ceae14-13c2-49f7-f4a4-b503f3db3009"
   },
   "outputs": [
    {
     "name": "stdout",
     "output_type": "stream",
     "text": [
      "tensor([[    0,     1,     2,     3,     4],\n",
      "        [    5,     6, 50256, 50256, 50256],\n",
      "        [    7,     8,     9, 50256, 50256]])\n",
      "tensor([[    1,     2,     3,     4, 50256],\n",
      "        [    6, 50256, 50256, 50256, 50256],\n",
      "        [    8,     9, 50256, 50256, 50256]])\n"
     ]
    }
   ],
   "source": [
    "inputs, targets = custom_collate_draft_2(batch)\n",
    "print(inputs)\n",
    "print(targets)"
   ]
  },
  {
   "cell_type": "markdown",
   "id": "3bf85703-a0e0-42aa-8f29-cbc28dbf4e15",
   "metadata": {
    "id": "3bf85703-a0e0-42aa-8f29-cbc28dbf4e15"
   },
   "source": [
    "- Next, we introduce an `ignore_index` value to replace all padding token IDs with a new value; the purpose of this `ignore_index` is that we can ignore padding values in the loss function (more on that later)\n",
    "\n",
    "<img src=\"https://sebastianraschka.com/images/LLMs-from-scratch-images/ch07_compressed/batching-step-5.webp?1\" width=500px>\n",
    "\n",
    "- Concretely, this means that we replace the token IDs corresponding to `50256` with `-100` as illustrated below"
   ]
  },
  {
   "cell_type": "markdown",
   "id": "bd4bed33-956e-4b3f-a09c-586d8203109a",
   "metadata": {
    "id": "bd4bed33-956e-4b3f-a09c-586d8203109a"
   },
   "source": [
    "<img src=\"https://sebastianraschka.com/images/LLMs-from-scratch-images/ch07_compressed/ignore-index.webp?1\" width=500px>"
   ]
  },
  {
   "cell_type": "markdown",
   "id": "5346513e-c3f4-44fe-af22-4ebd36497728",
   "metadata": {
    "id": "5346513e-c3f4-44fe-af22-4ebd36497728"
   },
   "source": [
    "- (In addition, we also introduce the `allowed_max_length` in case we want to limit the length of the samples; this will be useful if you plan to work with your own datasets that are longer than the 1024 token context size supported by the GPT-2 model)"
   ]
  },
  {
   "cell_type": "code",
   "execution_count": 16,
   "id": "41ec6e2d-9eb2-4124-913e-d2af39be4cf2",
   "metadata": {
    "id": "41ec6e2d-9eb2-4124-913e-d2af39be4cf2"
   },
   "outputs": [],
   "source": [
    "def custom_collate_fn(\n",
    "    batch,\n",
    "    pad_token_id=50256,\n",
    "    ignore_index=-100,\n",
    "    allowed_max_length=None,\n",
    "    device=\"cpu\"\n",
    "):\n",
    "    \"\"\"\n",
    "    此函数用于对输入的一批数据进行自定义的整理和预处理操作，以便为后续的模型训练或其他相关操作提供合适的输入张量和目标张量。\n",
    "\n",
    "    参数:\n",
    "    - batch: 一批数据，通常是一个包含多个数据项的列表，每个数据项可能是一个序列（如编码后的文本序列等）。\n",
    "    - pad_token_id: 用于填充的标记（token）的ID，默认为50256，当序列长度不足时用此ID进行填充。\n",
    "    - ignore_index: 一个特定的值，用于在处理目标张量时，将某些不需要参与计算的标记替换为此值，默认为 -100。\n",
    "    - allowed_max_length: 可选参数，用于指定允许的最大序列长度，如果不为None，则会对输入和目标张量进行截断操作，使其长度不超过此值。\n",
    "    - device: 目标设备，默认为 \"cpu\"，表示将整理好的数据移动到该设备上进行后续操作，也可以是 \"cuda\" 等GPU设备。\n",
    "\n",
    "    返回值:\n",
    "    - 返回两个张量，分别是经过整理和处理后的输入张量（inputs_tensor）和目标张量（targets_tensor），可用于后续提供给模型进行训练、评估等操作。\n",
    "    \"\"\"\n",
    "    # 找到批次中最长序列的长度，然后再加1。\n",
    "    # 加1的目的是为了后续能添加一个填充标记（在下面代码中会添加一个<|endoftext|>标记后再填充）。\n",
    "    batch_max_length = max(len(item)+1 for item in batch)\n",
    "    # 初始化两个空列表，分别用于存储处理后的输入张量和目标张量的各个元素。\n",
    "    inputs_lst, targets_lst = [], []\n",
    "    for item in batch:\n",
    "        # 对批次中的每个数据项进行拷贝，以便在不影响原始数据的情况下进行处理。\n",
    "        new_item = item.copy()\n",
    "        # 在数据项末尾添加一个<|endoftext|>标记（这里用pad_token_id表示），模拟文本结束的情况。\n",
    "        new_item += [pad_token_id]\n",
    "        # 将数据项填充到批次最长长度batch_max_length，不足的部分用pad_token_id填充。\n",
    "        padded = (\n",
    "            new_item + [pad_token_id] *\n",
    "            (batch_max_length - len(new_item))\n",
    "        )\n",
    "        # 对于输入张量，通过取切片padded[:-1]，去掉由于batch_max_length加1而额外添加的那个填充标记，得到合适的输入张量。\n",
    "        inputs = torch.tensor(padded[:-1])\n",
    "\n",
    "        # 对于目标张量，通过取切片padded[1:]，将序列整体向右移动一位，即去掉第一个标记作为输入的对应目标，得到目标张量。\n",
    "        targets = torch.tensor(padded[1:])\n",
    "\n",
    "        # 新添加的功能：将目标张量中除了第一个填充标记之外的所有填充标记替换为ignore_index。\n",
    "        # 首先创建一个掩码，用于标识目标张量中哪些元素等于pad_token_id（即填充标记）。\n",
    "        mask = targets == pad_token_id\n",
    "        # 找到掩码中值为True的元素的索引，返回一个张量，然后通过squeeze方法将维度为1的维度压缩掉（如果有的话），得到一维的索引张量。\n",
    "        indices = torch.nonzero(mask).squeeze()\n",
    "        # 如果找到的填充标记索引数量大于1（即除了第一个填充标记外还有其他填充标记），\n",
    "        # 则将除了第一个填充标记之外的所有填充标记对应的目标张量中的元素替换为ignore_index。\n",
    "        if indices.numel() > 1:\n",
    "            targets[indices[1:]] = ignore_index\n",
    "        # 新添加的功能：如果设置了allowed_max_length（即允许的最大序列长度）不为None，\n",
    "        # 则对输入和目标张量进行截断操作，使其长度不超过allowed_max_length。\n",
    "        if allowed_max_length is not None:\n",
    "            inputs = inputs[:allowed_max_length]\n",
    "            targets = targets[:allowed_max_length]\n",
    "        inputs_lst.append(inputs)\n",
    "        targets_lst.append(targets)\n",
    "    # 将处理好的输入张量列表转换为一个张量，并将其移动到指定设备上，以便后续在该设备上进行相关操作。\n",
    "    inputs_tensor = torch.stack(inputs_lst).to(device)\n",
    "\n",
    "    # 将处理好的目标张量列表转换为一个张量，并将其移动到指定设备上，以便后续在该设备上进行相关操作。\n",
    "    targets_tensor = torch.stack(targets_lst).to(device)\n",
    "\n",
    "    return inputs_tensor, targets_tensor"
   ]
  },
  {
   "cell_type": "code",
   "execution_count": 17,
   "id": "cdf5eec4-9ebe-4be0-9fca-9a47bee88fdc",
   "metadata": {
    "colab": {
     "base_uri": "https://localhost:8080/"
    },
    "id": "cdf5eec4-9ebe-4be0-9fca-9a47bee88fdc",
    "outputId": "a5501547-239d-431d-fb04-da7fa2ffad79"
   },
   "outputs": [
    {
     "name": "stdout",
     "output_type": "stream",
     "text": [
      "tensor([[    0,     1,     2,     3,     4],\n",
      "        [    5,     6, 50256, 50256, 50256],\n",
      "        [    7,     8,     9, 50256, 50256]])\n",
      "tensor([[    1,     2,     3,     4, 50256],\n",
      "        [    6, 50256,  -100,  -100,  -100],\n",
      "        [    8,     9, 50256,  -100,  -100]])\n"
     ]
    }
   ],
   "source": [
    "inputs, targets = custom_collate_fn(batch)\n",
    "print(inputs)\n",
    "print(targets)"
   ]
  },
  {
   "cell_type": "markdown",
   "id": "26727c90-0d42-43b3-af21-0a66ad4fbbc7",
   "metadata": {
    "id": "26727c90-0d42-43b3-af21-0a66ad4fbbc7"
   },
   "source": [
    "- Let's see what this replacement by -100 accomplishes\n",
    "- For illustration purposes, let's assume we have a small classification task with 2 class labels, 0 and 1, similar to chapter 6\n",
    "- If we have the following logits values (outputs of the last layer of the model), we calculate the following loss"
   ]
  },
  {
   "cell_type": "code",
   "execution_count": 18,
   "id": "W2jvh-OP9MFV",
   "metadata": {
    "colab": {
     "base_uri": "https://localhost:8080/"
    },
    "id": "W2jvh-OP9MFV",
    "outputId": "b5cd858e-7c58-4a21-c5a7-e72768bd301c"
   },
   "outputs": [
    {
     "name": "stdout",
     "output_type": "stream",
     "text": [
      "tensor(1.1269)\n"
     ]
    }
   ],
   "source": [
    "logits_1 = torch.tensor(\n",
    "    [[-1.0, 1.0],  # 1st training example\n",
    "     [-0.5, 1.5]]  # 2nd training example\n",
    ")\n",
    "targets_1 = torch.tensor([0, 1])\n",
    "loss_1 = torch.nn.functional.cross_entropy(logits_1, targets_1)\n",
    "print(loss_1)"
   ]
  },
  {
   "cell_type": "markdown",
   "id": "5edd3244-8886-4505-92e9-367d28529e1e",
   "metadata": {
    "id": "5edd3244-8886-4505-92e9-367d28529e1e"
   },
   "source": [
    "- Now, adding one more training example will, as expected, influence the loss"
   ]
  },
  {
   "cell_type": "code",
   "execution_count": 19,
   "id": "nvVMuil89v9N",
   "metadata": {
    "colab": {
     "base_uri": "https://localhost:8080/"
    },
    "id": "nvVMuil89v9N",
    "outputId": "e4a07b99-a23c-4404-ccdb-5f93c39f3b09"
   },
   "outputs": [
    {
     "name": "stdout",
     "output_type": "stream",
     "text": [
      "tensor(0.7936)\n"
     ]
    }
   ],
   "source": [
    "import torch.nn.functional as F\n",
    "# 创建一个二维张量logits_1，用于表示模型对两个训练样本的预测结果（以对数几率的形式）。\n",
    "logits_1 = torch.tensor(\n",
    "    [[-1.0, 1.0],  # 1st training example\n",
    "     [-0.5, 1.5]]  # 2nd training example\n",
    ")\n",
    "# 创建一个一维张量targets_1，用于表示两个训练样本的真实类别标签。\n",
    "# 这里的0和1分别对应着前面logits_1中每个样本预测的两个类别中的其中一个，\n",
    "targets_1 = torch.tensor([0, 1])\n",
    "# 使用PyTorch的nn.functional模块中的cross_entropy函数来计算交叉熵损失。\n",
    "# 交叉熵损失常用于衡量模型预测结果与真实标签之间的差异，在分类问题中是一种常用的损失函数。\n",
    "# 传入模型的预测对数几率值（logits_1）和真实类别标签（targets_1）作为参数，\n",
    "# 函数会根据这两个参数计算出模型在这两个训练样本上的交叉熵损失值。\n",
    "loss_1 = torch.nn.functional.cross_entropy(logits_1, targets_1)\n",
    "\n",
    "# 打印出计算得到的交叉熵损失值，以便查看模型在这两个训练样本上的预测结果与真实标签之间的差异程度。\n",
    "# 损失值越小，说明模型的预测结果越接近真实标签，模型的性能相对越好。\n",
    "print(loss_1)"
   ]
  },
  {
   "cell_type": "markdown",
   "id": "54dca331-40e0-468b-b690-189fe156ba8f",
   "metadata": {
    "id": "54dca331-40e0-468b-b690-189fe156ba8f"
   },
   "source": [
    "- Let's see what happens if we replace the class label of one of the examples with -100"
   ]
  },
  {
   "cell_type": "code",
   "execution_count": 20,
   "id": "RTyB1vah9p56",
   "metadata": {
    "colab": {
     "base_uri": "https://localhost:8080/"
    },
    "id": "RTyB1vah9p56",
    "outputId": "28c16387-1d9c-48a7-eda7-aa270864683d"
   },
   "outputs": [
    {
     "name": "stdout",
     "output_type": "stream",
     "text": [
      "tensor(1.1269)\n",
      "loss_1 == loss_3: tensor(True)\n"
     ]
    }
   ],
   "source": [
    "targets_3 = torch.tensor([0, 1, -100])\n",
    "\n",
    "loss_3 = torch.nn.functional.cross_entropy(logits_2, targets_3)\n",
    "print(loss_3)\n",
    "print(\"loss_1 == loss_3:\", loss_1 == loss_3)"
   ]
  },
  {
   "cell_type": "markdown",
   "id": "cef09d21-b652-4760-abea-4f76920e6a25",
   "metadata": {
    "id": "cef09d21-b652-4760-abea-4f76920e6a25"
   },
   "source": [
    "- As we can see, the resulting loss on these 3 training examples is the same as the loss we calculated from the 2 training examples, which means that the cross-entropy loss function ignored the training example with the -100 label\n",
    "- By default, PyTorch has the `cross_entropy(..., ignore_index=-100)` setting to ignore examples corresponding to the label -100\n",
    "- Using this -100 `ignore_index`, we can ignore the additional end-of-text (padding) tokens in the batches that we used to pad the training examples to equal length\n",
    "- However, we don't want to ignore the first instance of the end-of-text (padding) token (50256) because it can help signal to the LLM when the response is complete"
   ]
  },
  {
   "cell_type": "markdown",
   "id": "6a4e9c5f-7c49-4321-9f1b-a50468a84524",
   "metadata": {
    "id": "6a4e9c5f-7c49-4321-9f1b-a50468a84524"
   },
   "source": [
    "- In practice, it is also common to mask out the target token IDs that correspond to the instruction, as illustrated in the figure below (this is a recommended reader exercise after completing the chapter)"
   ]
  },
  {
   "cell_type": "markdown",
   "id": "fab8f0ed-80e8-4fd9-bf84-e5d0e0bc0a39",
   "metadata": {
    "id": "fab8f0ed-80e8-4fd9-bf84-e5d0e0bc0a39"
   },
   "source": [
    "<img src=\"https://sebastianraschka.com/images/LLMs-from-scratch-images/ch07_compressed/mask-instructions.webp?1\" width=600px>"
   ]
  },
  {
   "cell_type": "markdown",
   "id": "bccaf048-ec95-498c-9155-d5b3ccba6c96",
   "metadata": {
    "id": "bccaf048-ec95-498c-9155-d5b3ccba6c96"
   },
   "source": [
    "## 7.4 Creating data loaders for an instruction dataset"
   ]
  },
  {
   "cell_type": "markdown",
   "id": "e6b8e656-3af3-4db6-8dde-d8c216a12f50",
   "metadata": {
    "id": "e6b8e656-3af3-4db6-8dde-d8c216a12f50"
   },
   "source": [
    "- In this section, we use the `InstructionDataset` class and `custom_collate_fn` function to instantiate the training, validation, and test data loaders"
   ]
  },
  {
   "cell_type": "markdown",
   "id": "9fffe390-b226-4d5c-983f-9f4da773cb82",
   "metadata": {
    "id": "9fffe390-b226-4d5c-983f-9f4da773cb82"
   },
   "source": [
    "<img src=\"https://sebastianraschka.com/images/LLMs-from-scratch-images/ch07_compressed/chapter-overview-3.webp?1\" width=500px>"
   ]
  },
  {
   "cell_type": "markdown",
   "id": "932677e9-9317-42e8-b461-7b0269518f97",
   "metadata": {
    "id": "932677e9-9317-42e8-b461-7b0269518f97"
   },
   "source": [
    "- Another additional detail of the previous `custom_collate_fn` function is that we now directly move the data to the target device (e.g., GPU) instead of doing it in the main training loop, which improves efficiency because it can be carried out as a background process when we use the `custom_collate_fn` as part of the data loader\n",
    "- Using the `partial` function from Python's `functools` standard library, we create a new function with the `device` argument of the original function pre-filled"
   ]
  },
  {
   "cell_type": "code",
   "execution_count": 21,
   "id": "etpqqWh8phKc",
   "metadata": {
    "colab": {
     "base_uri": "https://localhost:8080/"
    },
    "id": "etpqqWh8phKc",
    "outputId": "925faf3a-6df4-4ad0-f276-f328493619c3"
   },
   "outputs": [
    {
     "name": "stdout",
     "output_type": "stream",
     "text": [
      "Device: cuda\n"
     ]
    }
   ],
   "source": [
    "device = torch.device(\"cuda\" if torch.cuda.is_available() else \"cpu\")\n",
    "\n",
    "# Note:\n",
    "# Uncommenting the following lines will allow the code to run on Apple Silicon chips, if applicable,\n",
    "# which is much faster than on an Apple CPU (as measured on an M3 MacBook Air).\n",
    "# However, the resulting loss values may be slightly different.\n",
    "\n",
    "#if torch.cuda.is_available():\n",
    "#    device = torch.device(\"cuda\")\n",
    "#elif torch.backends.mps.is_available():\n",
    "#    device = torch.device(\"mps\")\n",
    "#else:\n",
    "#    device = torch.device(\"cpu\")\n",
    "\n",
    "print(\"Device:\", device)"
   ]
  },
  {
   "cell_type": "code",
   "execution_count": 22,
   "id": "4e47fb30-c2c6-4e6d-a64c-76cc65be4a2c",
   "metadata": {
    "id": "4e47fb30-c2c6-4e6d-a64c-76cc65be4a2c"
   },
   "outputs": [],
   "source": [
    "from functools import partial\n",
    "\n",
    "customized_collate_fn = partial(\n",
    "    custom_collate_fn,\n",
    "    device=device,\n",
    "    allowed_max_length=1024\n",
    ")"
   ]
  },
  {
   "cell_type": "markdown",
   "id": "8ff42c29-8b81-45e5-ae8d-b97cd1cf447a",
   "metadata": {
    "id": "8ff42c29-8b81-45e5-ae8d-b97cd1cf447a"
   },
   "source": [
    "- Next, we instantiate the data loaders similar to previous chapters, except that we now provide our own collate function for the batching process"
   ]
  },
  {
   "cell_type": "code",
   "execution_count": 23,
   "id": "BtWkgir6Hlpe",
   "metadata": {
    "id": "BtWkgir6Hlpe"
   },
   "outputs": [],
   "source": [
    "from torch.utils.data import DataLoader\n",
    "# 设置用于数据加载的工作进程数量为0。在数据加载过程中，可以使用多个工作进程来并行加载数据，以提高数据加载的效率。\n",
    "# 这里设置为0表示不使用多进程加载数据，而是在主线程中顺序加载数据，通常在一些简单的场景或者调试时可能会这样设置。\n",
    "num_workers = 0\n",
    "# 设置每个批次的数据量大小为8。即每次从数据集中取出8个数据样本组成一个批次，这些批次将被提供给模型进行处理，\n",
    "# 比如在训练模型时，模型会对每个批次的数据进行一次前向传播和反向传播等操作。\n",
    "batch_size = 8\n",
    "torch.manual_seed(123)\n",
    "# 创建一个InstructionDataset类型的训练数据集对象。InstructionDataset是一个自定义的数据集类（假设前面已经定义好），\n",
    "# 它接受两个参数：train_data和tokenizer。train_data应该是已经划分好的用于训练的数据集部分（例如通过前面的代码按照一定比例从原始数据集中划分出来的），\n",
    "# tokenizer是一个分词器对象，用于对数据集中的文本数据进行分词和编码等操作，使得数据能够以合适的形式提供给模型。\n",
    "train_dataset = InstructionDataset(train_data, tokenizer)\n",
    "# 创建一个DataLoader对象，用于加载训练数据集train_dataset中的数据。DataLoader是PyTorch中用于方便地加载数据的工具类，\n",
    "# 它可以按照设定的参数将数据集分成批次、进行数据的打乱、多进程加载等操作。\n",
    "# 传入训练数据集对象train_dataset，指定要加载的数据来源。\n",
    "train_loader = DataLoader(\n",
    "    train_dataset,\n",
    "    # 设置每个批次的数据量大小为前面定义的batch_size，即每次加载8个数据样本组成一个批次。\n",
    "    batch_size=batch_size,\n",
    "    # 指定一个自定义的整理函数customized_collate_fn（假设前面已经定义好），用于对每个批次的数据进行整理和预处理操作，\n",
    "    # 比如对数据进行填充、生成合适的输入张量和目标张量等，使得数据能够以合适的形式提供给模型。\n",
    "    collate_fn=customized_collate_fn,\n",
    "    # 设置为True，表示在每次迭代加载数据时，对数据集进行随机打乱操作，这样可以使得模型在每次训练批次中看到的数据顺序不同，\n",
    "    # 有助于提高模型的泛化能力，避免模型过度依赖数据的特定顺序。\n",
    "    shuffle=True,\n",
    "    # 设置为True，表示如果最后一个批次的数据量不足batch_size时，丢弃这个不完整的批次。\n",
    "    # 这样可以保证每个批次的数据量都是固定的batch_size，便于模型进行统一的处理。\n",
    "    drop_last=True,\n",
    "    # 设置用于数据加载的工作进程数量为前面定义的num_workers，这里是0，表示不使用多进程加载数据，在主线程中顺序加载数据。\n",
    "    num_workers=num_workers\n",
    ")"
   ]
  },
  {
   "cell_type": "code",
   "execution_count": 24,
   "id": "1d097dc8-ad34-4f05-b435-e4147965f532",
   "metadata": {
    "id": "1d097dc8-ad34-4f05-b435-e4147965f532"
   },
   "outputs": [],
   "source": [
    "val_dataset = InstructionDataset(val_data, tokenizer)\n",
    "# 创建验证数据加载器对象\n",
    "# 使用PyTorch的DataLoader类来创建验证数据加载器val_loader，用于加载验证数据集val_dataset中的数据。\n",
    "val_loader = DataLoader(\n",
    "    val_dataset,\n",
    "    # 设置每个批次的数据量大小为之前定义好的batch_size，这里同样是每次取8个数据样本组成一个批次，以便后续提供给模型进行验证时以批次为单位进行处理。\n",
    "    batch_size=batch_size,\n",
    "    # 指定使用之前定义好的自定义整理函数customized_collate_fn对每个批次的数据进行整理和预处理操作。\n",
    "    # 该函数会对数据进行诸如填充、生成合适的输入张量和目标张量等操作，使得数据能够以合适的形式提供给模型进行验证。\n",
    "    collate_fn=customized_collate_fn,\n",
    "    # 设置为False，表示在加载验证数据时不需要对数据集进行随机打乱操作。\n",
    "    # 因为验证集主要是用于在模型训练过程中评估模型在未见过的数据上的性能，通常希望保持数据的原始顺序来进行准确的评估。\n",
    "    shuffle=False,\n",
    "    # 设置为False，表示如果最后一个批次的数据量不足batch_size时，不丢弃这个不完整的批次。\n",
    "    # 与训练集不同，验证集通常不需要严格保证每个批次的数据量都是固定的batch_size，保留所有数据以便全面评估模型性能。\n",
    "    drop_last=False,\n",
    "    # 设置用于数据加载的工作进程数量为之前定义好的num_workers，这里同样是按照之前设定的值（比如之前设为0）来确定是否使用多进程加载数据以及使用多少个工作进程。\n",
    "    num_workers=num_workers\n",
    ")\n",
    "test_dataset = InstructionDataset(test_data, tokenizer)\n",
    "# 创建测试数据加载器对象\n",
    "# 使用DataLoader类来创建测试数据加载器test_loader，用于加载测试数据集test_dataset中的数据。\n",
    "test_loader = DataLoader(\n",
    "    test_dataset,\n",
    "    # 设置每个批次的数据量大小为batch_size，即每次取8个数据样本组成一个批次，以便后续提供给模型进行测试时以批次为单位进行处理。\n",
    "    batch_size=batch_size,\n",
    "    # 指定使用customized_collate_fn函数对每个批次的数据进行整理和预处理操作，使得数据能够以合适的形式提供给模型进行测试。\n",
    "    collate_fn=customized_collate_fn,\n",
    "    # 设置为False，表示在加载测试数据时不需要对数据集进行随机打乱操作。\n",
    "    # 因为测试集主要是用于在模型训练完成后评估模型在全新的未见过的数据上的性能，保持数据的原始顺序有助于准确评估模型的泛化能力。\n",
    "    shuffle=False,\n",
    "    # 设置为False，表示如果最后一个批次的数据量不足batch_size时，不丢弃这个不完整的批次。\n",
    "    # 测试集同样通常不需要严格保证每个批次的数据量都是固定的batch_size，保留所有数据以便全面评估模型性能。\n",
    "    drop_last=False,\n",
    "    # 设置用于数据加载的工作进程数量为num_workers，按照之前设定的值来确定是否使用多进程加载数据以及使用多少个工作进程。\n",
    "    num_workers=num_workers\n",
    ")"
   ]
  },
  {
   "cell_type": "markdown",
   "id": "3f67c147-b1a2-4a95-9807-e2d0de0324c0",
   "metadata": {
    "id": "3f67c147-b1a2-4a95-9807-e2d0de0324c0"
   },
   "source": [
    "- Let's see what the dimensions of the resulting input and target batches look like"
   ]
  },
  {
   "cell_type": "code",
   "execution_count": 25,
   "id": "GGs1AI3vHpnX",
   "metadata": {
    "colab": {
     "base_uri": "https://localhost:8080/"
    },
    "id": "GGs1AI3vHpnX",
    "outputId": "53a9695d-87cb-4d7c-8b43-1561dfa68ba0"
   },
   "outputs": [
    {
     "name": "stdout",
     "output_type": "stream",
     "text": [
      "Train loader:\n",
      "torch.Size([8, 61]) torch.Size([8, 61])\n",
      "torch.Size([8, 76]) torch.Size([8, 76])\n",
      "torch.Size([8, 73]) torch.Size([8, 73])\n",
      "torch.Size([8, 68]) torch.Size([8, 68])\n",
      "torch.Size([8, 65]) torch.Size([8, 65])\n",
      "torch.Size([8, 72]) torch.Size([8, 72])\n",
      "torch.Size([8, 80]) torch.Size([8, 80])\n",
      "torch.Size([8, 67]) torch.Size([8, 67])\n",
      "torch.Size([8, 62]) torch.Size([8, 62])\n",
      "torch.Size([8, 75]) torch.Size([8, 75])\n",
      "torch.Size([8, 62]) torch.Size([8, 62])\n",
      "torch.Size([8, 68]) torch.Size([8, 68])\n",
      "torch.Size([8, 67]) torch.Size([8, 67])\n",
      "torch.Size([8, 77]) torch.Size([8, 77])\n",
      "torch.Size([8, 69]) torch.Size([8, 69])\n",
      "torch.Size([8, 79]) torch.Size([8, 79])\n",
      "torch.Size([8, 71]) torch.Size([8, 71])\n",
      "torch.Size([8, 66]) torch.Size([8, 66])\n",
      "torch.Size([8, 83]) torch.Size([8, 83])\n",
      "torch.Size([8, 68]) torch.Size([8, 68])\n",
      "torch.Size([8, 80]) torch.Size([8, 80])\n",
      "torch.Size([8, 71]) torch.Size([8, 71])\n",
      "torch.Size([8, 69]) torch.Size([8, 69])\n",
      "torch.Size([8, 65]) torch.Size([8, 65])\n",
      "torch.Size([8, 68]) torch.Size([8, 68])\n",
      "torch.Size([8, 60]) torch.Size([8, 60])\n",
      "torch.Size([8, 59]) torch.Size([8, 59])\n",
      "torch.Size([8, 69]) torch.Size([8, 69])\n",
      "torch.Size([8, 63]) torch.Size([8, 63])\n",
      "torch.Size([8, 65]) torch.Size([8, 65])\n",
      "torch.Size([8, 76]) torch.Size([8, 76])\n",
      "torch.Size([8, 66]) torch.Size([8, 66])\n",
      "torch.Size([8, 71]) torch.Size([8, 71])\n",
      "torch.Size([8, 91]) torch.Size([8, 91])\n",
      "torch.Size([8, 65]) torch.Size([8, 65])\n",
      "torch.Size([8, 64]) torch.Size([8, 64])\n",
      "torch.Size([8, 67]) torch.Size([8, 67])\n",
      "torch.Size([8, 66]) torch.Size([8, 66])\n",
      "torch.Size([8, 64]) torch.Size([8, 64])\n",
      "torch.Size([8, 65]) torch.Size([8, 65])\n",
      "torch.Size([8, 75]) torch.Size([8, 75])\n",
      "torch.Size([8, 89]) torch.Size([8, 89])\n",
      "torch.Size([8, 59]) torch.Size([8, 59])\n",
      "torch.Size([8, 88]) torch.Size([8, 88])\n",
      "torch.Size([8, 83]) torch.Size([8, 83])\n",
      "torch.Size([8, 83]) torch.Size([8, 83])\n",
      "torch.Size([8, 70]) torch.Size([8, 70])\n",
      "torch.Size([8, 65]) torch.Size([8, 65])\n",
      "torch.Size([8, 74]) torch.Size([8, 74])\n",
      "torch.Size([8, 76]) torch.Size([8, 76])\n",
      "torch.Size([8, 67]) torch.Size([8, 67])\n",
      "torch.Size([8, 75]) torch.Size([8, 75])\n",
      "torch.Size([8, 83]) torch.Size([8, 83])\n",
      "torch.Size([8, 69]) torch.Size([8, 69])\n",
      "torch.Size([8, 67]) torch.Size([8, 67])\n",
      "torch.Size([8, 60]) torch.Size([8, 60])\n",
      "torch.Size([8, 60]) torch.Size([8, 60])\n",
      "torch.Size([8, 66]) torch.Size([8, 66])\n",
      "torch.Size([8, 80]) torch.Size([8, 80])\n",
      "torch.Size([8, 71]) torch.Size([8, 71])\n",
      "torch.Size([8, 61]) torch.Size([8, 61])\n",
      "torch.Size([8, 58]) torch.Size([8, 58])\n",
      "torch.Size([8, 71]) torch.Size([8, 71])\n",
      "torch.Size([8, 67]) torch.Size([8, 67])\n",
      "torch.Size([8, 68]) torch.Size([8, 68])\n",
      "torch.Size([8, 63]) torch.Size([8, 63])\n",
      "torch.Size([8, 87]) torch.Size([8, 87])\n",
      "torch.Size([8, 68]) torch.Size([8, 68])\n",
      "torch.Size([8, 64]) torch.Size([8, 64])\n",
      "torch.Size([8, 68]) torch.Size([8, 68])\n",
      "torch.Size([8, 71]) torch.Size([8, 71])\n",
      "torch.Size([8, 68]) torch.Size([8, 68])\n",
      "torch.Size([8, 71]) torch.Size([8, 71])\n",
      "torch.Size([8, 61]) torch.Size([8, 61])\n",
      "torch.Size([8, 65]) torch.Size([8, 65])\n",
      "torch.Size([8, 67]) torch.Size([8, 67])\n",
      "torch.Size([8, 65]) torch.Size([8, 65])\n",
      "torch.Size([8, 64]) torch.Size([8, 64])\n",
      "torch.Size([8, 60]) torch.Size([8, 60])\n",
      "torch.Size([8, 72]) torch.Size([8, 72])\n",
      "torch.Size([8, 64]) torch.Size([8, 64])\n",
      "torch.Size([8, 70]) torch.Size([8, 70])\n",
      "torch.Size([8, 57]) torch.Size([8, 57])\n",
      "torch.Size([8, 72]) torch.Size([8, 72])\n",
      "torch.Size([8, 64]) torch.Size([8, 64])\n",
      "torch.Size([8, 68]) torch.Size([8, 68])\n",
      "torch.Size([8, 62]) torch.Size([8, 62])\n",
      "torch.Size([8, 74]) torch.Size([8, 74])\n",
      "torch.Size([8, 80]) torch.Size([8, 80])\n",
      "torch.Size([8, 68]) torch.Size([8, 68])\n",
      "torch.Size([8, 70]) torch.Size([8, 70])\n",
      "torch.Size([8, 91]) torch.Size([8, 91])\n",
      "torch.Size([8, 61]) torch.Size([8, 61])\n",
      "torch.Size([8, 66]) torch.Size([8, 66])\n",
      "torch.Size([8, 80]) torch.Size([8, 80])\n",
      "torch.Size([8, 81]) torch.Size([8, 81])\n",
      "torch.Size([8, 74]) torch.Size([8, 74])\n",
      "torch.Size([8, 82]) torch.Size([8, 82])\n",
      "torch.Size([8, 63]) torch.Size([8, 63])\n",
      "torch.Size([8, 83]) torch.Size([8, 83])\n",
      "torch.Size([8, 68]) torch.Size([8, 68])\n",
      "torch.Size([8, 67]) torch.Size([8, 67])\n",
      "torch.Size([8, 77]) torch.Size([8, 77])\n",
      "torch.Size([8, 91]) torch.Size([8, 91])\n",
      "torch.Size([8, 64]) torch.Size([8, 64])\n",
      "torch.Size([8, 61]) torch.Size([8, 61])\n",
      "torch.Size([8, 75]) torch.Size([8, 75])\n",
      "torch.Size([8, 64]) torch.Size([8, 64])\n",
      "torch.Size([8, 66]) torch.Size([8, 66])\n",
      "torch.Size([8, 78]) torch.Size([8, 78])\n",
      "torch.Size([8, 66]) torch.Size([8, 66])\n",
      "torch.Size([8, 64]) torch.Size([8, 64])\n",
      "torch.Size([8, 83]) torch.Size([8, 83])\n",
      "torch.Size([8, 66]) torch.Size([8, 66])\n",
      "torch.Size([8, 74]) torch.Size([8, 74])\n",
      "torch.Size([8, 69]) torch.Size([8, 69])\n"
     ]
    }
   ],
   "source": [
    "print(\"Train loader:\")\n",
    "for inputs, targets in train_loader:\n",
    "    print(inputs.shape, targets.shape)"
   ]
  },
  {
   "cell_type": "markdown",
   "id": "0c8e8dd7-d46a-4cc3-8a7e-c1d31e1b4657",
   "metadata": {
    "id": "0c8e8dd7-d46a-4cc3-8a7e-c1d31e1b4657"
   },
   "source": [
    "- As we can see based on the output above, all batches have a batch size of 8 but a different length, as expected\n",
    "- Let's also double-check that the inputs contain the `<|endoftext|>` padding tokens corresponding to token ID 50256 by printing the contents of the first training example in the `inputs` batch"
   ]
  },
  {
   "cell_type": "code",
   "execution_count": 26,
   "id": "21b8fd02-014f-4481-9b71-5bfee8f9dfcd",
   "metadata": {
    "colab": {
     "base_uri": "https://localhost:8080/"
    },
    "id": "21b8fd02-014f-4481-9b71-5bfee8f9dfcd",
    "outputId": "ce919ecd-5ded-453c-a312-10cf55c13da7"
   },
   "outputs": [
    {
     "name": "stdout",
     "output_type": "stream",
     "text": [
      "tensor([21106,   318,   281, 12064,   326,  8477,   257,  4876,    13, 19430,\n",
      "          257,  2882,   326, 20431, 32543,   262,  2581,    13,   198,   198,\n",
      "        21017, 46486,    25,   198, 30003,  6525,   262,  6827,  1262,   257,\n",
      "          985,   576,    13,   198,   198, 21017, 23412,    25,   198,   464,\n",
      "         5156,   318,   845, 13779,    13,   198,   198, 21017, 18261,    25,\n",
      "          198,   464,  5156,   318,   355, 13779,   355,   257,  4936,    13,\n",
      "        50256, 50256, 50256, 50256, 50256, 50256, 50256, 50256, 50256],\n",
      "       device='cuda:0')\n"
     ]
    }
   ],
   "source": [
    "print(inputs[0])"
   ]
  },
  {
   "cell_type": "markdown",
   "id": "5f1f3647-8971-4006-89e0-6a2a1ec1d360",
   "metadata": {
    "id": "5f1f3647-8971-4006-89e0-6a2a1ec1d360"
   },
   "source": [
    "- Similarly, we visually double-check that the targets contain the -100 placeholder tokens"
   ]
  },
  {
   "cell_type": "code",
   "execution_count": 27,
   "id": "51649ab4-1a7e-4a9e-92c5-950a24fde211",
   "metadata": {
    "colab": {
     "base_uri": "https://localhost:8080/"
    },
    "id": "51649ab4-1a7e-4a9e-92c5-950a24fde211",
    "outputId": "fdf486f3-e99d-4891-9814-afc9e4991020"
   },
   "outputs": [
    {
     "name": "stdout",
     "output_type": "stream",
     "text": [
      "tensor([  318,   281, 12064,   326,  8477,   257,  4876,    13, 19430,   257,\n",
      "         2882,   326, 20431, 32543,   262,  2581,    13,   198,   198, 21017,\n",
      "        46486,    25,   198, 30003,  6525,   262,  6827,  1262,   257,   985,\n",
      "          576,    13,   198,   198, 21017, 23412,    25,   198,   464,  5156,\n",
      "          318,   845, 13779,    13,   198,   198, 21017, 18261,    25,   198,\n",
      "          464,  5156,   318,   355, 13779,   355,   257,  4936,    13, 50256,\n",
      "         -100,  -100,  -100,  -100,  -100,  -100,  -100,  -100,  -100],\n",
      "       device='cuda:0')\n"
     ]
    }
   ],
   "source": [
    "print(targets[0])"
   ]
  },
  {
   "cell_type": "markdown",
   "id": "d6aad445-8f19-4238-b9bf-db80767fb91a",
   "metadata": {
    "id": "d6aad445-8f19-4238-b9bf-db80767fb91a"
   },
   "source": [
    "## 7.5 Loading a pretrained LLM"
   ]
  },
  {
   "cell_type": "markdown",
   "id": "5a5c07d1-4fc9-4846-94cf-b11a085a667b",
   "metadata": {
    "id": "5a5c07d1-4fc9-4846-94cf-b11a085a667b"
   },
   "source": [
    "- In this section, we load a pretrained GPT model using the same code that we used in section 5.5 of chapter 5 and section 6.4 in chapter 6"
   ]
  },
  {
   "cell_type": "markdown",
   "id": "8d1b438f-88af-413f-96a9-f059c6c55fc4",
   "metadata": {
    "id": "8d1b438f-88af-413f-96a9-f059c6c55fc4"
   },
   "source": [
    "<img src=\"https://sebastianraschka.com/images/LLMs-from-scratch-images/ch07_compressed/chapter-overview-4.webp?1\" width=500px>"
   ]
  },
  {
   "cell_type": "markdown",
   "id": "8c68eda7-e02e-4caa-846b-ca6dbd396ca2",
   "metadata": {
    "id": "8c68eda7-e02e-4caa-846b-ca6dbd396ca2"
   },
   "source": [
    "- However, instead of loading the smallest 124 million parameter model, we load the medium version with 355 million parameters since the 124 million model is too small for achieving qualitatively reasonable results via instruction finetuning"
   ]
  },
  {
   "cell_type": "code",
   "execution_count": 28,
   "id": "0d249d67-5eba-414e-9bd2-972ebf01329d",
   "metadata": {
    "colab": {
     "base_uri": "https://localhost:8080/"
    },
    "id": "0d249d67-5eba-414e-9bd2-972ebf01329d",
    "outputId": "3f08f5e1-ca7c-406d-e2ae-1b5fcafad3f2"
   },
   "outputs": [
    {
     "name": "stderr",
     "output_type": "stream",
     "text": [
      "2024-07-25 02:22:49.969483: I tensorflow/core/util/port.cc:113] oneDNN custom operations are on. You may see slightly different numerical results due to floating-point round-off errors from different computation orders. To turn them off, set the environment variable `TF_ENABLE_ONEDNN_OPTS=0`.\n",
      "2024-07-25 02:22:50.023103: E external/local_xla/xla/stream_executor/cuda/cuda_dnn.cc:9261] Unable to register cuDNN factory: Attempting to register factory for plugin cuDNN when one has already been registered\n",
      "2024-07-25 02:22:50.023136: E external/local_xla/xla/stream_executor/cuda/cuda_fft.cc:607] Unable to register cuFFT factory: Attempting to register factory for plugin cuFFT when one has already been registered\n",
      "2024-07-25 02:22:50.024611: E external/local_xla/xla/stream_executor/cuda/cuda_blas.cc:1515] Unable to register cuBLAS factory: Attempting to register factory for plugin cuBLAS when one has already been registered\n",
      "2024-07-25 02:22:50.033304: I tensorflow/core/platform/cpu_feature_guard.cc:182] This TensorFlow binary is optimized to use available CPU instructions in performance-critical operations.\n",
      "To enable the following instructions: AVX2 AVX512F AVX512_VNNI FMA, in other operations, rebuild TensorFlow with the appropriate compiler flags.\n",
      "2024-07-25 02:22:51.282247: W tensorflow/compiler/tf2tensorrt/utils/py_utils.cc:38] TF-TRT Warning: Could not find TensorRT\n",
      "checkpoint: 100%|██████████| 77.0/77.0 [00:00<00:00, 169kiB/s]\n",
      "encoder.json: 100%|██████████| 1.04M/1.04M [00:00<00:00, 2.43MiB/s]\n",
      "hparams.json: 100%|██████████| 91.0/91.0 [00:00<00:00, 168kiB/s]\n",
      "model.ckpt.data-00000-of-00001: 100%|██████████| 1.42G/1.42G [00:56<00:00, 25.0MiB/s]\n",
      "model.ckpt.index: 100%|██████████| 10.4k/10.4k [00:00<00:00, 16.5MiB/s]\n",
      "model.ckpt.meta: 100%|██████████| 927k/927k [00:00<00:00, 1.96MiB/s]\n",
      "vocab.bpe: 100%|██████████| 456k/456k [00:00<00:00, 1.53MiB/s]\n"
     ]
    }
   ],
   "source": [
    "# 从gpt_download模块中导入download_and_load_gpt2函数，该函数可能用于下载和加载GPT相关模型及其参数等操作。\n",
    "from gpt_download import download_and_load_gpt2\n",
    "# 从previous_chapters模块中导入GPTModel类和load_weights_into_gpt函数，\n",
    "# GPTModel类可能用于定义GPT模型的结构，load_weights_into_gpt函数可能用于将加载的参数加载到GPT模型中。\n",
    "from previous_chapters import GPTModel, load_weights_into_gpt\n",
    "\n",
    "# 定义一个基础配置字典BASE_CONFIG，用于设置GPT模型的一些通用参数。\n",
    "BASE_CONFIG = {\n",
    "    # 词汇表大小，这里设置为50257，表示模型能够识别和处理的不同词汇的数量。\n",
    "    \"vocab_size\": 50257,  \n",
    "    # 上下文长度，即模型在处理文本时能够考虑的文本序列的最大长度，这里设置为1024个 tokens（例如单词、字符等文本单元）。\n",
    "    \"context_length\": 1024,  \n",
    "    #  dropout率，用于在训练过程中随机丢弃一些神经元的连接，以防止模型过拟合，这里设置为0.0，表示不进行丢弃操作（在某些情况下可能需要根据实际情况调整）。\n",
    "    \"drop_rate\": 0.0,  \n",
    "    # 查询-键-值（Query-Key-Value）偏差，设置为True表示在模型的某些注意力机制相关的计算中包含偏差项（具体取决于GPT模型的实现细节）。\n",
    "    \"qkv_bias\": True  \n",
    "}\n",
    "\n",
    "# 定义一个字典model_configs，用于存储不同规模的GPT2模型的特定配置参数。\n",
    "model_configs = {\n",
    "    # \"gpt2-small (124M)\"模型的配置参数，其中emb_dim表示嵌入维度为768，n_layers表示模型层数为12，n_heads表示注意力头的数量为12。\n",
    "    \"gpt2-small (124M)\": {\"emb_dim\": 768, \"n_layers\": 12, \"n_heads\": 12},\n",
    "    # \"gpt2-medium (355M)\"模型的配置参数，嵌入维度为1024，层数为24，注意力头数量为16。\n",
    "    \"gpt2-medium (355M)\": {\"emb_dim\": 1024, \"n_layers\": 24, \"n_heads\": 16},\n",
    "    # \"gpt2-large (774M)\"模型的配置参数，嵌入维度为1280，层数为36，注意力头数量为20。\n",
    "    \"gpt2-large (774M)\": {\"emb_dim\": 1280, \"n_layers\": 36, \"n_heads\": 20},\n",
    "    # \"gpt2-xl (1558M)\"模型的配置参数，嵌入维度为1600，层数为48，注意力头数量为25。\n",
    "    \"gpt2-xl (1558M)\" : {\"emb_dim\": 1600, \"n_layers\": 48, \"n_heads\": 25},\n",
    "}\n",
    "# 选择要使用的模型，这里选择了\"gpt2-medium (355M)\"模型，后续将基于此模型进行相关的操作，如加载、配置等。\n",
    "CHOOSE_MODEL = \"gpt2-medium (355M)\"\n",
    "# 将选择的模型的特定配置参数更新到基础配置字典BASE_CONFIG中，这样BASE_CONFIG就包含了所选模型的完整配置信息。\n",
    "BASE_CONFIG.update(model_configs[CHOOSE_MODEL])\n",
    "# 从选择的模型名称中提取出模型的大小信息，例如从\"gpt2-medium (355M)\"中提取出\"355M\"，以便后续在下载和加载模型等操作中使用。\n",
    "model_size = CHOOSE_MODEL.split(\" \")[-1].lstrip(\"(\").rstrip(\")\")\n",
    "# 调用download_and_load_gpt2函数，传入提取出的模型大小信息和指定的模型存储目录\"gpt2\"，\n",
    "# 该函数可能会根据传入的参数下载相应的GPT2模型，并加载相关的设置和参数，返回设置信息和参数信息。\n",
    "settings, params = download_and_load_gpt2(\n",
    "    model_size=model_size,\n",
    "    models_dir=\"gpt2\"\n",
    ")\n",
    "# 使用更新后的BASE_CONFIG配置信息创建一个GPTModel类的实例，即创建一个GPT模型对象，该对象具有所选模型的特定结构和参数设置。\n",
    "model = GPTModel(BASE_CONFIG)\n",
    "# 调用load_weights_into_gpt函数，将下载和加载得到的参数params加载到创建好的GPT模型model中，使模型具有合适的权重参数，以便进行后续的评估或其他操作。\n",
    "load_weights_into_gpt(model, params)\n",
    "# 将模型设置为评估模式，在这种模式下，模型的一些层（如Dropout层等）会按照评估时的行为进行设置，\n",
    "# 例如Dropout层在评估时通常不会进行随机丢弃操作，以便能够得到稳定的输出结果，用于对模型进行评估等操作。\n",
    "model.eval();"
   ]
  },
  {
   "cell_type": "markdown",
   "id": "dbf3afed-bc8e-4d3a-ad9d-eb6f57bb7af5",
   "metadata": {
    "id": "dbf3afed-bc8e-4d3a-ad9d-eb6f57bb7af5"
   },
   "source": [
    "- Before we start finetuning the model in the next section, let's see how it performs on one of the validation tasks"
   ]
  },
  {
   "cell_type": "code",
   "execution_count": 29,
   "id": "7bd32b7c-5b44-4d25-a09f-46836802ca74",
   "metadata": {
    "colab": {
     "base_uri": "https://localhost:8080/"
    },
    "id": "7bd32b7c-5b44-4d25-a09f-46836802ca74",
    "outputId": "30d4fbd9-7d22-4545-cfc5-c5749cc0bd93"
   },
   "outputs": [
    {
     "name": "stdout",
     "output_type": "stream",
     "text": [
      "Below is an instruction that describes a task. Write a response that appropriately completes the request.\n",
      "\n",
      "### Instruction:\n",
      "Convert the active sentence to passive: 'The chef cooks the meal every day.'\n"
     ]
    }
   ],
   "source": [
    "torch.manual_seed(123)\n",
    "\n",
    "input_text = format_input(val_data[0])\n",
    "print(input_text)"
   ]
  },
  {
   "cell_type": "code",
   "execution_count": 30,
   "id": "2e3e68e0-2627-4c65-b4e7-1e0667e4f6fa",
   "metadata": {
    "id": "2e3e68e0-2627-4c65-b4e7-1e0667e4f6fa"
   },
   "outputs": [],
   "source": [
    "# 从previous_chapters模块中导入三个函数：generate、text_to_token_ids和token_ids_to_text。\n",
    "from previous_chapters import (\n",
    "    generate,\n",
    "    text_to_token_ids,\n",
    "    token_ids_to_text\n",
    ")\n",
    "# 调用generate函数来生成新的文本token IDs。\n",
    "# 传入模型对象model，该模型应该是已经经过前面的步骤（如创建、加载权重等操作）准备好的模型，能够基于输入进行文本生成等操作。\n",
    "model=model,\n",
    "# 使用text_to_token_ids函数将输入文本input_text转换为token IDs。\n",
    "# 这里的tokenizer应该是之前定义好的用于对文本进行分词和编码的分词器对象，它能够将输入文本按照一定的规则转换为模型可处理的token IDs形式。\n",
    "idx=text_to_token_ids(input_text, tokenizer),\n",
    "# 设置要生成的新的token数量上限为35个。也就是说，生成函数generate将会基于输入的token IDs生成最多35个新的token IDs，用于后续生成新的文本内容。\n",
    "max_new_tokens=35,\n",
    "# 设置上下文大小为BASE_CONFIG字典中\"context_length\"键对应的值。\n",
    "# 这个上下文大小表示模型在生成文本时能够考虑的之前的文本序列的长度范围，它决定了模型在生成新文本时可以参考的历史信息的多少。\n",
    "context_size=BASE_CONFIG[\"context_length\"],\n",
    "\n",
    "# 设置结束标记（End-of-Sequence）的ID为50256。当生成的token IDs中出现这个ID时，可能表示生成过程应该结束，具体取决于generate函数的实现细节。\n",
    "eos_id=50256,\n",
    ")\n",
    "token_ids = generate(\n",
    "    model=model,\n",
    "    idx=text_to_token_ids(input_text, tokenizer),\n",
    "    max_new_tokens=35,\n",
    "    context_size=BASE_CONFIG[\"context_length\"],\n",
    "    eos_id=50256,\n",
    ")\n",
    "\n",
    "# 调用token_ids_to_text函数，将生成的token IDs转换为可阅读的文本形式。\n",
    "# 传入生成的token IDs以及之前使用的分词器tokenizer，函数会根据分词器的规则将token IDs还原为对应的文本内容。\n",
    "generated_text = token_ids_to_text(token_ids, tokenizer)"
   ]
  },
  {
   "cell_type": "markdown",
   "id": "36e2fda5-f796-4954-8f72-1dd1123e3344",
   "metadata": {
    "id": "36e2fda5-f796-4954-8f72-1dd1123e3344"
   },
   "source": [
    "- Note that the `generate` function we used in previous chapters returns the combined input and output text, which was convenient in the previous section for creating legible text\n",
    "- To isolate the response, we can subtract the length of the instruction from the start of the `generated_text`"
   ]
  },
  {
   "cell_type": "code",
   "execution_count": 31,
   "id": "ba4a55bf-a245-48d8-beda-2838a58fb5ba",
   "metadata": {
    "colab": {
     "base_uri": "https://localhost:8080/"
    },
    "id": "ba4a55bf-a245-48d8-beda-2838a58fb5ba",
    "outputId": "b46de9b3-98f0-45e4-a9ae-86870c3244a1"
   },
   "outputs": [
    {
     "name": "stdout",
     "output_type": "stream",
     "text": [
      "The chef cooks the meal every day.\n",
      "\n",
      "### Instruction:\n",
      "\n",
      "Convert the active sentence to passive: 'The chef cooks the\n"
     ]
    }
   ],
   "source": [
    "# 从生成的文本generated_text中提取出在输入文本input_text之后的部分内容。\n",
    "response_text = generated_text[len(input_text):]\n",
    "# 对提取出来的响应部分文本进行处理，将其中的\"### Response:\"字符串替换为空字符串。\n",
    "response_text = response_text.replace(\"### Response:\", \"\")\n",
    "# 对处理后的文本进行去除首尾空白字符的操作。\n",
    "# 在前面的替换操作等过程中可能会引入一些额外的空白字符，通过strip()函数可以将这些首尾的空白字符去除，\n",
    "# 使得最终得到的响应文本更加整洁、规范，方便后续查看和使用。\n",
    "response_text = response_text.strip()\n",
    "# 打印出最终处理好的响应文本内容，以便查看模型基于输入文本生成的具体响应结果。\n",
    "print(response_text)"
   ]
  },
  {
   "cell_type": "markdown",
   "id": "d44080b2-a4c5-4520-a797-549519f66a3e",
   "metadata": {
    "id": "d44080b2-a4c5-4520-a797-549519f66a3e"
   },
   "source": [
    "- As we can see, the model is not capable of following the instructions, yet; it creates a \"Response\" section but it simply repeats the original input sentence as well as the instruction"
   ]
  },
  {
   "cell_type": "markdown",
   "id": "70d27b9d-a942-4cf5-b797-848c5f01e723",
   "metadata": {
    "id": "70d27b9d-a942-4cf5-b797-848c5f01e723"
   },
   "source": [
    "## 7.6 Finetuning the LLM on instruction data"
   ]
  },
  {
   "cell_type": "markdown",
   "id": "314b2a39-88b4-44d8-8c85-1c5b0cd6cc4a",
   "metadata": {
    "id": "314b2a39-88b4-44d8-8c85-1c5b0cd6cc4a"
   },
   "source": [
    "- In this section, we finetune the model\n",
    "\n",
    "<img src=\"https://sebastianraschka.com/images/LLMs-from-scratch-images/ch07_compressed/chapter-overview-5.webp?1\" width=500px>\n",
    "\n",
    "- Note that we can reuse all the loss calculation and training functions that we used in previous chapters"
   ]
  },
  {
   "cell_type": "code",
   "execution_count": 32,
   "id": "65444865-df87-4d98-9faf-875e1c4be860",
   "metadata": {
    "id": "65444865-df87-4d98-9faf-875e1c4be860"
   },
   "outputs": [],
   "source": [
    "from previous_chapters import (\n",
    "    calc_loss_loader,\n",
    "    train_model_simple\n",
    ")"
   ]
  },
  {
   "cell_type": "markdown",
   "id": "00083059-aa41-4d37-8a17-1c72d1b1ca00",
   "metadata": {
    "id": "00083059-aa41-4d37-8a17-1c72d1b1ca00"
   },
   "source": [
    "- Let's calculate the initial training and validation set loss before we start training (as in previous chapters, the goal is to minimize the loss)"
   ]
  },
  {
   "cell_type": "code",
   "execution_count": 33,
   "id": "d99fc6f8-63b2-43da-adbb-a7b6b92c8dd5",
   "metadata": {
    "colab": {
     "base_uri": "https://localhost:8080/"
    },
    "id": "d99fc6f8-63b2-43da-adbb-a7b6b92c8dd5",
    "outputId": "36fdf03b-6fa6-46c3-c77d-ecc99e886265"
   },
   "outputs": [
    {
     "name": "stdout",
     "output_type": "stream",
     "text": [
      "Training loss: 3.82590970993042\n",
      "Validation loss: 3.761933755874634\n"
     ]
    }
   ],
   "source": [
    "model.to(device)\n",
    "torch.manual_seed(123)\n",
    "# 使用torch.no_grad()上下文管理器，在这个上下文环境中，所有的计算都不会进行梯度计算。\n",
    "# 这通常用于在模型评估阶段，因为在评估模型性能（如计算损失值）时，我们不需要计算梯度来更新模型的参数，\n",
    "with torch.no_grad():\n",
    "    # 调用calc_loss_loader函数来计算模型在训练数据集上的损失值。\n",
    "    # 传入训练数据加载器（train_loader），它负责按批次提供训练数据给模型；传入模型对象（model），用于对数据进行预测并计算损失；\n",
    "    # 传入指定的设备（device），确保计算在正确的设备上进行；还传入了num_batches=5，表示只计算前5个批次的数据的损失值，\n",
    "    # 可能是为了快速得到一个大致的损失情况或者在调试阶段进行初步的评估，具体取决于实际需求。\n",
    "    train_loss = calc_loss_loader(train_loader, model, device, num_batches=5)\n",
    "    # 同样调用calc_loss_loader函数来计算模型在验证数据集上的损失值。\n",
    "    # 传入验证数据加载器（val_loader）、模型对象（model）、指定设备（device）以及num_batches=5，计算前5个批次的验证数据的损失值，\n",
    "    # 用于评估模型在未见过的验证数据上的性能表现，与训练损失值对比可以帮助判断模型是否存在过拟合等情况。\n",
    "    val_loss = calc_loss_loader(val_loader, model, device, num_batches=5)\n",
    "# 打印出模型在训练数据集上的损失值，以便查看模型在训练数据上的性能表现情况，损失值越小通常表示模型对训练数据的拟合程度越好。\n",
    "print(\"Training loss:\", train_loss)\n",
    "# 打印出模型在验证数据集上的损失值，通过与训练损失值对比等分析，可以了解模型在未见过的验证数据上的性能，\n",
    "# 若验证损失值远大于训练损失值，可能提示模型存在过拟合现象；若两者较为接近，则说明模型的泛化能力可能较好。\n",
    "print(\"Validation loss:\", val_loss)"
   ]
  },
  {
   "cell_type": "markdown",
   "id": "12a6da8f-15b3-42b0-a136-619b7a35c3e9",
   "metadata": {
    "id": "12a6da8f-15b3-42b0-a136-619b7a35c3e9"
   },
   "source": [
    "- Note that the training is a bit more expensive than in previous chapters since we are using a larger model (355 million instead of 124 million parameters)\n",
    "- The runtimes for various devices are shown for reference below (running this notebook on a compatible GPU device requires no changes to the code)"
   ]
  },
  {
   "cell_type": "markdown",
   "id": "db4b57fb-e689-4550-931c-6d34a932487c",
   "metadata": {
    "id": "db4b57fb-e689-4550-931c-6d34a932487c"
   },
   "source": [
    "<div style=\"text-align: left;\">\n",
    "    \n",
    "| Model              | Device                | Runtime for 2 Epochs |\n",
    "|--------------------|-----------------------|----------------------|\n",
    "| gpt2-medium (355M) | CPU (M3 MacBook Air)  | 15.78 minutes        |\n",
    "| gpt2-medium (355M) | GPU (M3 MacBook Air)  | 10.77 minutes        |\n",
    "| gpt2-medium (355M) | GPU (L4)              | 1.83 minutes         |\n",
    "| gpt2-medium (355M) | GPU (A100)            | 0.86 minutes         |\n",
    "| gpt2-small (124M)  | CPU (M3 MacBook Air)  | 5.74 minutes         |\n",
    "| gpt2-small (124M)  | GPU (M3 MacBook Air)  | 3.73 minutes         |\n",
    "| gpt2-small (124M)  | GPU (L4)              | 0.69 minutes         |\n",
    "| gpt2-small (124M)  | GPU (A100)            | 0.39 minutes         |\n",
    "\n",
    "</div>\n",
    "\n",
    "- I ran this notebook using the `\"gpt2-medium (355M)\"` model"
   ]
  },
  {
   "cell_type": "code",
   "execution_count": 34,
   "id": "78bcf83a-1fff-4540-97c1-765c4016d5e3",
   "metadata": {
    "colab": {
     "base_uri": "https://localhost:8080/"
    },
    "id": "78bcf83a-1fff-4540-97c1-765c4016d5e3",
    "outputId": "cea0618c-56ca-418a-c972-bcc060362727"
   },
   "outputs": [
    {
     "name": "stdout",
     "output_type": "stream",
     "text": [
      "Ep 1 (Step 000000): Train loss 2.637, Val loss 2.626\n",
      "Ep 1 (Step 000005): Train loss 1.174, Val loss 1.102\n",
      "Ep 1 (Step 000010): Train loss 0.872, Val loss 0.944\n",
      "Ep 1 (Step 000015): Train loss 0.857, Val loss 0.906\n",
      "Ep 1 (Step 000020): Train loss 0.776, Val loss 0.881\n",
      "Ep 1 (Step 000025): Train loss 0.754, Val loss 0.859\n",
      "Ep 1 (Step 000030): Train loss 0.799, Val loss 0.836\n",
      "Ep 1 (Step 000035): Train loss 0.714, Val loss 0.808\n",
      "Ep 1 (Step 000040): Train loss 0.672, Val loss 0.806\n",
      "Ep 1 (Step 000045): Train loss 0.633, Val loss 0.789\n",
      "Ep 1 (Step 000050): Train loss 0.663, Val loss 0.783\n",
      "Ep 1 (Step 000055): Train loss 0.760, Val loss 0.763\n",
      "Ep 1 (Step 000060): Train loss 0.719, Val loss 0.743\n",
      "Ep 1 (Step 000065): Train loss 0.653, Val loss 0.735\n",
      "Ep 1 (Step 000070): Train loss 0.532, Val loss 0.729\n",
      "Ep 1 (Step 000075): Train loss 0.569, Val loss 0.728\n",
      "Ep 1 (Step 000080): Train loss 0.605, Val loss 0.725\n",
      "Ep 1 (Step 000085): Train loss 0.509, Val loss 0.709\n",
      "Ep 1 (Step 000090): Train loss 0.562, Val loss 0.691\n",
      "Ep 1 (Step 000095): Train loss 0.500, Val loss 0.681\n",
      "Ep 1 (Step 000100): Train loss 0.503, Val loss 0.677\n",
      "Ep 1 (Step 000105): Train loss 0.564, Val loss 0.670\n",
      "Ep 1 (Step 000110): Train loss 0.555, Val loss 0.666\n",
      "Ep 1 (Step 000115): Train loss 0.508, Val loss 0.664\n",
      "Below is an instruction that describes a task. Write a response that appropriately completes the request.  ### Instruction: Convert the active sentence to passive: 'The chef cooks the meal every day.'  ### Response: The meal is prepared every day by the chef.<|endoftext|>The following is an instruction that describes a task. Write a response that appropriately completes the request.  ### Instruction: Convert the active sentence to passive:\n",
      "Ep 2 (Step 000120): Train loss 0.435, Val loss 0.672\n",
      "Ep 2 (Step 000125): Train loss 0.451, Val loss 0.687\n",
      "Ep 2 (Step 000130): Train loss 0.447, Val loss 0.683\n",
      "Ep 2 (Step 000135): Train loss 0.405, Val loss 0.682\n",
      "Ep 2 (Step 000140): Train loss 0.409, Val loss 0.681\n",
      "Ep 2 (Step 000145): Train loss 0.369, Val loss 0.680\n",
      "Ep 2 (Step 000150): Train loss 0.382, Val loss 0.675\n",
      "Ep 2 (Step 000155): Train loss 0.413, Val loss 0.675\n",
      "Ep 2 (Step 000160): Train loss 0.415, Val loss 0.683\n",
      "Ep 2 (Step 000165): Train loss 0.379, Val loss 0.686\n",
      "Ep 2 (Step 000170): Train loss 0.323, Val loss 0.681\n",
      "Ep 2 (Step 000175): Train loss 0.337, Val loss 0.669\n",
      "Ep 2 (Step 000180): Train loss 0.392, Val loss 0.656\n",
      "Ep 2 (Step 000185): Train loss 0.415, Val loss 0.657\n",
      "Ep 2 (Step 000190): Train loss 0.340, Val loss 0.648\n",
      "Ep 2 (Step 000195): Train loss 0.330, Val loss 0.634\n",
      "Ep 2 (Step 000200): Train loss 0.310, Val loss 0.634\n",
      "Ep 2 (Step 000205): Train loss 0.352, Val loss 0.630\n",
      "Ep 2 (Step 000210): Train loss 0.367, Val loss 0.630\n",
      "Ep 2 (Step 000215): Train loss 0.394, Val loss 0.635\n",
      "Ep 2 (Step 000220): Train loss 0.299, Val loss 0.648\n",
      "Ep 2 (Step 000225): Train loss 0.346, Val loss 0.661\n",
      "Ep 2 (Step 000230): Train loss 0.292, Val loss 0.659\n",
      "Below is an instruction that describes a task. Write a response that appropriately completes the request.  ### Instruction: Convert the active sentence to passive: 'The chef cooks the meal every day.'  ### Response: The meal is cooked every day by the chef.<|endoftext|>The following is an instruction that describes a task. Write a response that appropriately completes the request.  ### Instruction: What is the capital of the United Kingdom\n",
      "Training completed in 1.84 minutes.\n"
     ]
    }
   ],
   "source": [
    "import time\n",
    "\n",
    "# 获取当前时间，作为训练开始的时间记录，后续用于计算训练过程所花费的时间。\n",
    "start_time = time.time()\n",
    "# 设置随机种子为123。这一步很重要，因为在后续的模型训练过程中，可能涉及到数据加载顺序、模型初始化等一些随机操作，\n",
    "# 设置相同的随机种子可以保证每次运行程序都能得到相同的随机结果，便于调试和重现实验结果。\n",
    "torch.manual_seed(123)\n",
    "# 创建一个优化器对象optimizer，这里使用的是AdamW优化器，它是一种常用的基于随机梯度下降的优化算法的变种，常用于深度学习模型的训练。\n",
    "# 传入模型的可训练参数model.parameters()，表示要优化的对象是模型的所有可训练参数；\n",
    "# 同时设置学习率lr为0.00005，学习率决定了每次更新模型参数时的步长大小，较小的学习率通常意味着更新更加谨慎，可能需要更多的训练迭代次数；\n",
    "# 设置权重衰减weight_decay为0.1，权重衰减用于防止模型过拟合，它会在每次更新参数时对参数的大小进行一定程度的惩罚，使得模型参数不会变得过大。\n",
    "optimizer = torch.optim.AdamW(model.parameters(), lr=0.00005, weight_decay=0.1)\n",
    "# 设置训练的轮数为2。训练轮数表示整个训练数据集被完整遍历的次数，一般来说，更多的训练轮数可能会使模型更好地拟合数据，但也可能导致过拟合，需要根据具体情况进行调整。\n",
    "num_epochs = 2\n",
    "# 调用train_model_simple函数来进行模型的训练操作。\n",
    "# 该函数会在训练过程中返回训练损失值列表train_losses、验证损失值列表val_losses以及处理过的令牌数量tokens_seen（具体含义取决于函数内部实现）。\n",
    "train_losses, val_losses, tokens_seen = train_model_simple(\n",
    "    model, train_loader, val_loader, optimizer, device,\n",
    "    num_epochs=num_epochs, eval_freq=5, eval_iter=5,\n",
    "    start_context=format_input(val_data[0]), tokenizer=tokenizer\n",
    ")\n",
    "# 获取当前时间，作为训练结束的时间记录。\n",
    "end_time = time.time()\n",
    "# 计算训练过程所花费的时间，将结束时间减去开始时间得到总秒数，再除以60将其转换为分钟数，得到执行时间的分钟表示形式。\n",
    "execution_time_minutes = (end_time - start_time) / 60\n",
    "# 打印出训练完成所花费的时间，格式化为保留两位小数的分钟数形式，以便直观地查看训练过程的耗时情况。\n",
    "print(f\"Training completed in {execution_time_minutes:.2f} minutes.\")"
   ]
  },
  {
   "cell_type": "markdown",
   "id": "Ise3wGjlB-iq",
   "metadata": {
    "id": "Ise3wGjlB-iq"
   },
   "source": [
    "- As we can see based on the outputs above, the model trains well, as we can tell based on the decreasing training loss and validation loss values\n",
    "- Furthermore, based on the response text printed after each epoch, we can see that the model correctly follows the instruction to convert the input sentence `'The chef cooks the meal every day.'` into passive voice `'The meal is cooked every day by the chef.'` (We will properly format and evaluate the responses in a later section)\n",
    "- Finally, let's take a look at the training and validation loss curves"
   ]
  },
  {
   "cell_type": "code",
   "execution_count": 35,
   "id": "4acd368b-1403-4807-a218-9102e35bfdbb",
   "metadata": {
    "colab": {
     "base_uri": "https://localhost:8080/",
     "height": 308
    },
    "id": "4acd368b-1403-4807-a218-9102e35bfdbb",
    "outputId": "680da58a-9bd7-402d-ac95-470a4a29a6c4"
   },
   "outputs": [
    {
     "data": {
      "image/png": "[encoded data removed]",
      "text/plain": [
       "<Figure size 500x300 with 2 Axes>"
      ]
     },
     "metadata": {},
     "output_type": "display_data"
    }
   ],
   "source": [
    "from previous_chapters import plot_losses\n",
    "\n",
    "epochs_tensor = torch.linspace(0, num_epochs, len(train_losses))\n",
    "plot_losses(epochs_tensor, tokens_seen, train_losses, val_losses)"
   ]
  },
  {
   "cell_type": "markdown",
   "id": "6777e0c4-d82c-46d8-84fb-1376c4f8bae0",
   "metadata": {
    "id": "6777e0c4-d82c-46d8-84fb-1376c4f8bae0"
   },
   "source": [
    "- As we can see, the loss decreases sharply at the beginning of the first epoch, which means the model starts learning quickly\n",
    "- We can see that slight overfitting sets in at around 1 training epoch"
   ]
  },
  {
   "cell_type": "markdown",
   "id": "87b79a47-13f9-4d1f-87b1-3339bafaf2a3",
   "metadata": {
    "id": "87b79a47-13f9-4d1f-87b1-3339bafaf2a3"
   },
   "source": [
    "## 7.7 Extracting and saving responses"
   ]
  },
  {
   "cell_type": "markdown",
   "id": "5a25cc88-1758-4dd0-b8bf-c044cbf2dd49",
   "metadata": {
    "id": "5a25cc88-1758-4dd0-b8bf-c044cbf2dd49"
   },
   "source": [
    "<img src=\"https://sebastianraschka.com/images/LLMs-from-scratch-images/ch07_compressed/chapter-overview-6.webp?1\" width=500px>"
   ]
  },
  {
   "cell_type": "markdown",
   "id": "17510e9d-7727-4d58-ba9a-d82ec23c1427",
   "metadata": {
    "id": "17510e9d-7727-4d58-ba9a-d82ec23c1427"
   },
   "source": [
    "- In this section, we save the test set responses for scoring in the next section\n",
    "- We also save a copy of the model for future use\n",
    "- But first, let's take a brief look at the responses generated by the finetuned model"
   ]
  },
  {
   "cell_type": "code",
   "execution_count": 36,
   "id": "VQ2NZMbfucAc",
   "metadata": {
    "colab": {
     "base_uri": "https://localhost:8080/"
    },
    "id": "VQ2NZMbfucAc",
    "outputId": "8416b4ac-1993-4628-dea6-7789cdc8926c"
   },
   "outputs": [
    {
     "name": "stdout",
     "output_type": "stream",
     "text": [
      "Below is an instruction that describes a task. Write a response that appropriately completes the request.\n",
      "\n",
      "### Instruction:\n",
      "Rewrite the sentence using a simile.\n",
      "\n",
      "### Input:\n",
      "The car is very fast.\n",
      "\n",
      "Correct response:\n",
      ">> The car is as fast as lightning.\n",
      "\n",
      "Model response:\n",
      ">> The car is as fast as a bullet.\n",
      "-------------------------------------\n",
      "Below is an instruction that describes a task. Write a response that appropriately completes the request.\n",
      "\n",
      "### Instruction:\n",
      "What type of cloud is typically associated with thunderstorms?\n",
      "\n",
      "Correct response:\n",
      ">> The type of cloud typically associated with thunderstorms is cumulonimbus.\n",
      "\n",
      "Model response:\n",
      ">> The type of cloud associated with thunderstorms is a cumulus cloud.\n",
      "-------------------------------------\n",
      "Below is an instruction that describes a task. Write a response that appropriately completes the request.\n",
      "\n",
      "### Instruction:\n",
      "Name the author of 'Pride and Prejudice'.\n",
      "\n",
      "Correct response:\n",
      ">> Jane Austen.\n",
      "\n",
      "Model response:\n",
      ">> The author of 'Pride and Prejudice' is Jane Austen.\n",
      "-------------------------------------\n"
     ]
    }
   ],
   "source": [
    "import torch\n",
    "# 设置随机种子为123。这一步操作很重要，因为在后续的代码执行过程中，例如数据处理、模型生成等环节可能涉及到一些随机操作（如随机初始化等），\n",
    "# 设置相同的随机种子可以保证每次运行程序都能得到相同的随机结果，便于调试和重现实验结果。\n",
    "torch.manual_seed(123)\n",
    "# 遍历测试数据中的前三个数据条目（通过切片test_data[:3]获取）。\n",
    "# 对于每个数据条目，将执行以下一系列操作来生成模型的响应并与正确响应进行对比展示。\n",
    "for entry in test_data[:3]:\n",
    "    # 调用format_input函数对当前数据条目entry进行格式化处理，得到适合作为模型输入的文本格式。\n",
    "    # 该函数可能会根据数据条目中的指令（instruction）和输入（input）等信息按照特定的格式拼接成一个完整的输入文本。\n",
    "    input_text = format_input(entry)\n",
    "    # 调用generate函数来生成新的文本token IDs。\n",
    "    # 传入模型对象model，该模型应该是已经经过训练等操作，可以基于输入进行文本生成的模型。\n",
    "    model=model,\n",
    "    # 使用text_to_token_ids函数将格式化后的输入文本input_text转换为token IDs，并将其移动到指定的设备（device）上。\n",
    "    # 这里的tokenizer是之前定义好的用于对文本进行分词和编码的分词器对象，它能够将输入文本按照一定的规则转换为模型可处理的token IDs形式，\n",
    "    # 然后通过.to(device)将生成的token IDs张量移动到指定设备上，以便在该设备上进行后续的生成操作。\n",
    "    idx=text_to_token_ids(input_text, tokenizer).to(device),\n",
    "    # 设置要生成的新的token数量上限为256个。也就是说，生成函数generate将会基于输入的token IDs生成最多256个新的token IDs，用于后续生成新的文本内容。\n",
    "    max_new_tokens=256,\n",
    "    # 设置上下文大小为BASE_CONFIG字典中\"context_length\"键对应的值。\n",
    "    # 这个上下文大小表示模型在生成文本时能够考虑的之前的文本序列的长度范围，它决定了模型在生成新文本时可以参考的历史信息的多少。\n",
    "    context_size=BASE_CONFIG[\"context_length\"],\n",
    "    # 设置结束标记（End-of-Sequence）的ID为50256。当生成的token IDs中出现这个ID时，可能表示生成过程应该结束，具体取决于generate函数的实现细节。\n",
    "    eos_id=50256\n",
    "    )\n",
    "    token_ids = generate(\n",
    "        model=model,\n",
    "        idx=text_to_token_ids(input_text, tokenizer).to(device),\n",
    "        max_new_tokens=256,\n",
    "        context_size=BASE_CONFIG[\"context_length\"],\n",
    "        eos_id=50256\n",
    "    )\n",
    "    # 调用token_ids_to_text函数，将生成的token IDs转换为可阅读的文本形式。\n",
    "    # 传入生成的token IDs以及之前使用的分词器tokenizer，函数会根据分词器的规则将token IDs还原为对应的文本内容。\n",
    "    generated_text = token_ids_to_text(token_ids, tokenizer)\n",
    "\n",
    "    # 从生成的文本generated_text中提取出在输入文本input_text之后的部分内容，作为模型生成的响应部分。\n",
    "    # 这样做的目的是为了获取到模型基于输入文本生成的新内容，而去除掉输入文本本身的部分，因为我们主要关心的是模型生成的响应部分，而不是输入部分。\n",
    "    response_text = (\n",
    "        generated_text[len(input_text):]\n",
    "       .replace(\"### Response:\", \"\")\n",
    "       .strip()\n",
    "    )\n",
    "    # 打印出格式化后的输入文本，以便查看作为模型输入的具体内容。\n",
    "    print(input_text)\n",
    "    # 打印出正确的响应内容，即从当前数据条目entry的'output'键获取的内容，作为与模型生成的响应进行对比的标准。\n",
    "    print(f\"\\nCorrect response:\\n>> {entry['output']}\")\n",
    "    # 打印出模型生成的响应内容，经过去除首尾空白字符等处理后的文本内容，以便与正确响应进行对比查看模型的生成效果。\n",
    "    print(f\"\\nModel response:\\n>> {response_text.strip()}\")\n",
    "    # 打印一条分隔线，用于在每个数据条目的输入、正确响应和模型响应展示之间进行分隔，使输出结果更加清晰易读。\n",
    "    print(\"-------------------------------------\")"
   ]
  },
  {
   "cell_type": "markdown",
   "id": "49ab64c1-586f-4939-8def-23feeb1b3599",
   "metadata": {
    "id": "49ab64c1-586f-4939-8def-23feeb1b3599"
   },
   "source": [
    "- As we can see based on the test set instructions, given responses, and the model's responses, the model performs relatively well\n",
    "- The answers to the first and last instructions are clearly correct\n",
    "- The second answer is close; the model answers with \"cumulus cloud\" instead of \"cumulonimbus\" (however, note that cumulus clouds can develop into cumulonimbus clouds, which are capable of producing thunderstorms)\n",
    "- Most importantly, we can see that model evaluation is not as straightforward as in the previous chapter, where we just had to calculate the percentage of correct spam/non-spam class labels to obtain the classification accuracy\n",
    "- In practice, instruction-finetuned LLMs such as chatbots are evaluated via multiple approaches\n",
    "  - short-answer and multiple choice benchmarks such as MMLU (\"Measuring Massive Multitask Language Understanding\", [https://arxiv.org/abs/2009.03300](https://arxiv.org/abs/2009.03300)), which test the knowledge of a model\n",
    "  - human preference comparison to other LLMs, such as LMSYS chatbot arena ([https://arena.lmsys.org](https://arena.lmsys.org))\n",
    "  - automated conversational benchmarks, where another LLM like GPT-4 is used to evaluate the responses, such as AlpacaEval ([https://tatsu-lab.github.io/alpaca_eval/](https://tatsu-lab.github.io/alpaca_eval/))\n",
    "\n",
    "- In the next section, we will use an approach similar to AlpacaEval and use another LLM to evaluate the responses of our model; however, we will use our own test set instead of using a publicly available benchmark dataset\n",
    "- For this, we add the model response to the `test_data` dictionary and save it as a `\"instruction-data-with-response.json\"` file for record-keeping so that we can load and analyze it in separate Python sessions if needed"
   ]
  },
  {
   "cell_type": "code",
   "execution_count": 37,
   "id": "-PNGKzY4snKP",
   "metadata": {
    "colab": {
     "base_uri": "https://localhost:8080/"
    },
    "id": "-PNGKzY4snKP",
    "outputId": "0453dfb3-51cd-49e2-9e63-f65b606c3478"
   },
   "outputs": [
    {
     "name": "stderr",
     "output_type": "stream",
     "text": [
      "100%|██████████| 110/110 [01:11<00:00,  1.54it/s]\n"
     ]
    }
   ],
   "source": [
    "from tqdm import tqdm\n",
    "\n",
    "# 使用tqdm库来创建一个进度条，用于显示循环处理测试数据的进度情况。\n",
    "# enumerate函数用于同时获取测试数据中每个元素的索引和元素本身，tqdm会根据总数据量（通过total=len(test_data)指定）来显示进度条的完成情况。\n",
    "for i, entry in tqdm(enumerate(test_data), total=len(test_data)):\n",
    "\n",
    "    # 调用format_input函数对当前数据条目entry进行格式化处理，得到适合作为模型输入的文本格式。\n",
    "    # 该函数可能会根据数据条目中的指令（instruction）和输入（input）等信息按照特定的格式拼接成一个完整的输入文本。\n",
    "    input_text = format_input(entry)\n",
    "    # 调用generate函数来生成新的文本token IDs。\n",
    "    # 传入模型对象model，该模型应该是已经经过训练等操作，可以基于输入进行文本生成的模型。\n",
    "    model=model,\n",
    "    # 使用text_to_token_ids函数将格式化后的输入文本input_text转换为token IDs，并将其移动到指定的设备（device）上。\n",
    "    # 这里的tokenizer是之前定义好的用于对文本进行分词和编码的分词器对象，它能够将输入文本按照一定的规则转换为模型可处理的token IDs形式，\n",
    "    # 然后通过.to(device)将生成的token IDs张量移动到指定设备上，以便在该设备上进行后续的生成操作。\n",
    "    idx=text_to_token_ids(input_text, tokenizer).to(device),\n",
    "\n",
    "    # 设置要生成的新的token数量上限为256个。也就是说，生成函数generate将会基于输入的token IDs生成最多256个新的token IDs，用于后续生成新的文本内容。\n",
    "    max_new_tokens=256,\n",
    "\n",
    "    # 设置上下文大小为BASE_CONFIG字典中\"context_length\"键对应的值。\n",
    "    # 这个上下文大小表示模型在生成文本时能够考虑的之前的工作序列的长度范围，它决定了模型在生成新文本时可以参考的历史信息的多少。\n",
    "    context_size=BASE_CONFIG[\"context_length\"],\n",
    "    # 设置结束标记（End-of-Sequence）的ID为50256。当生成的token IDs中出现这个ID时，可能表示生成过程应该结束，具体取决于generate函数的实现细节。\n",
    "    eos_id=50256\n",
    "    )\n",
    "    token_ids = generate(\n",
    "        model=model,\n",
    "        idx=text_to_token_ids(input_text, tokenizer).to(device),\n",
    "        max_new_tokens=256,\n",
    "        context_size=BASE_CONFIG[\"context_length\"],\n",
    "        eos_id=50256\n",
    "    )\n",
    "    # 调用token_ids_to_text函数，将生成的token IDs转换为可阅读的文本形式。\n",
    "    # 传入生成的token IDs以及之前使用的分词器tokenizer，函数会根据分词器的规则将token IDs还原为对应的文本内容。\n",
    "    generated_text = token_ids_to_text(token_ids, tokenizer)\n",
    "    # 从生成的文本generated_text中提取出在输入文本input_text之后的部分内容，作为模型生成的响应部分。\n",
    "    # 这样做的目的是为了获取到模型基于输入文本生成的新内容，而去除掉输入文本本身的部分，因为我们主要关心的是模型生成的响应部分，而不是输入部分。\n",
    "    response_text = generated_text[len(input_text):].replace(\"### Response:\", \"\").strip()\n",
    "    # 将模型生成的响应内容response_text添加到当前测试数据条目test_data[i]的'model_response'键下，以便后续可以保存整个测试数据及对应的模型响应信息。\n",
    "    test_data[i][\"model_response\"] = response_text\n",
    "# 打开一个名为\"instruction-data-with-response.json\"的文件，以写入模式（\"w\"）打开，如果文件不存在则会创建它。\n",
    "with open(\"instruction-data-with-response.json\", \"w\") as file:\n",
    "    # 使用json.dump函数将更新后的测试数据test_data保存到打开的文件中。\n",
    "    # 设置indent=4参数，这会使保存的JSON数据以缩进格式进行输出，也就是进行\"漂亮打印\"，使JSON文件的内容更易读，便于查看和后续处理。\n",
    "    json.dump(test_data, file, indent=4)  "
   ]
  },
  {
   "cell_type": "markdown",
   "id": "228d6fa7-d162-44c3-bef1-4013c027b155",
   "metadata": {
    "id": "228d6fa7-d162-44c3-bef1-4013c027b155"
   },
   "source": [
    "- Let's double-check one of the entries to see whether the responses have been added to the `test_data` dictionary correctly"
   ]
  },
  {
   "cell_type": "code",
   "execution_count": 38,
   "id": "u-AvCCMTnPSE",
   "metadata": {
    "colab": {
     "base_uri": "https://localhost:8080/"
    },
    "id": "u-AvCCMTnPSE",
    "outputId": "ce3b2545-8990-4446-e44c-a945e0049c06"
   },
   "outputs": [
    {
     "name": "stdout",
     "output_type": "stream",
     "text": [
      "{'instruction': 'Rewrite the sentence using a simile.', 'input': 'The car is very fast.', 'output': 'The car is as fast as lightning.', 'model_response': 'The car is as fast as a bullet.'}\n"
     ]
    }
   ],
   "source": [
    "print(test_data[0])"
   ]
  },
  {
   "cell_type": "markdown",
   "id": "c1b2f3f6-8569-405a-9db6-d47cba65608a",
   "metadata": {
    "id": "c1b2f3f6-8569-405a-9db6-d47cba65608a"
   },
   "source": [
    "- Finally, we also save the model in case we want to reuse it in the future"
   ]
  },
  {
   "cell_type": "code",
   "execution_count": 39,
   "id": "8cBU0iHmVfOI",
   "metadata": {
    "colab": {
     "base_uri": "https://localhost:8080/"
    },
    "id": "8cBU0iHmVfOI",
    "outputId": "d6e7f226-9310-43f5-f31f-adc3a893a8e9",
    "scrolled": true
   },
   "outputs": [
    {
     "name": "stdout",
     "output_type": "stream",
     "text": [
      "Model saved as gpt2-medium355M-sft.pth\n"
     ]
    }
   ],
   "source": [
    "import re\n",
    "\n",
    "\n",
    "file_name = f\"{re.sub(r'[ ()]', '', CHOOSE_MODEL) }-sft.pth\"\n",
    "torch.save(model.state_dict(), file_name)\n",
    "print(f\"Model saved as {file_name}\")\n",
    "\n",
    "# Load model via\n",
    "# model.load_state_dict(torch.load(\"gpt2-medium355M-sft.pth\"))"
   ]
  },
  {
   "cell_type": "markdown",
   "id": "obgoGI89dgPm",
   "metadata": {
    "id": "obgoGI89dgPm"
   },
   "source": [
    "## 7.8 Evaluating the finetuned LLM"
   ]
  },
  {
   "cell_type": "markdown",
   "id": "805b9d30-7336-499f-abb5-4a21be3129f5",
   "metadata": {
    "id": "805b9d30-7336-499f-abb5-4a21be3129f5"
   },
   "source": [
    "<img src=\"https://sebastianraschka.com/images/LLMs-from-scratch-images/ch07_compressed/chapter-overview-7.webp?1\" width=500px>"
   ]
  },
  {
   "cell_type": "markdown",
   "id": "68d2b9d3-b6ff-4533-a89d-7b66079b4fd1",
   "metadata": {
    "id": "68d2b9d3-b6ff-4533-a89d-7b66079b4fd1"
   },
   "source": [
    "- In this section, we automate the response evaluation of the finetuned LLM using another, larger LLM\n",
    "- In particular, we use an instruction-finetuned 8-billion-parameter Llama 3 model by Meta AI that can be run locally via ollama ([https://ollama.com](https://ollama.com))\n",
    "- (Alternatively, if you prefer using a more capable LLM like GPT-4 via the OpenAI API, please see the [llm-instruction-eval-openai.ipynb](../03_model-evaluation/llm-instruction-eval-openai.ipynb) notebook)"
   ]
  },
  {
   "cell_type": "markdown",
   "id": "ea427a30-36ba-44e3-bb1f-eb0d7008d6e9",
   "metadata": {
    "id": "ea427a30-36ba-44e3-bb1f-eb0d7008d6e9"
   },
   "source": [
    "- Ollama is an application to run LLMs efficiently\n",
    "- It is a wrapper around llama.cpp ([https://github.com/ggerganov/llama.cpp](https://github.com/ggerganov/llama.cpp)), which implements LLMs in pure C/C++ to maximize efficiency\n",
    "- Note that it is a tool for using LLMs to generate text (inference), not training or finetuning LLMs\n",
    "- Before running the code below, install ollama by visiting [https://ollama.com](https://ollama.com) and following the instructions (for instance, clicking on the \"Download\" button and downloading the ollama application for your operating system)"
   ]
  },
  {
   "cell_type": "markdown",
   "id": "747a2fc7-282d-47ec-a987-ed0a23ed6822",
   "metadata": {
    "id": "747a2fc7-282d-47ec-a987-ed0a23ed6822"
   },
   "source": [
    "- For macOS and Windows users, click on the ollama application you downloaded; if it prompts you to install the command line usage, say \"yes\"\n",
    "- Linux users can use the installation command provided on the ollama website\n",
    "\n",
    "- In general, before we can use ollama from the command line, we have to either start the ollama application or run `ollama serve` in a separate terminal\n",
    "\n",
    "<img src=\"https://sebastianraschka.com/images/LLMs-from-scratch-images/ch07_compressed/ollama-run.webp?1\" width=700px>\n",
    "\n",
    "\n",
    "- With the ollama application or `ollama serve` running in a different terminal, on the command line, execute the following command to try out the 8-billion-parameter Llama 3 model (the model, which takes up 4.7 GB of storage space, will be automatically downloaded the first time you execute this command)\n",
    "\n",
    "```bash\n",
    "# 8B model\n",
    "ollama run llama3\n",
    "```\n",
    "\n",
    "\n",
    "The output looks like as follows\n",
    "\n",
    "```\n",
    "$ ollama run llama3\n",
    "pulling manifest\n",
    "pulling 6a0746a1ec1a... 100% ▕████████████████▏ 4.7 GB\n",
    "pulling 4fa551d4f938... 100% ▕████████████████▏  12 KB\n",
    "pulling 8ab4849b038c... 100% ▕████████████████▏  254 B\n",
    "pulling 577073ffcc6c... 100% ▕████████████████▏  110 B\n",
    "pulling 3f8eb4da87fa... 100% ▕████████████████▏  485 B\n",
    "verifying sha256 digest\n",
    "writing manifest\n",
    "removing any unused layers\n",
    "success\n",
    "```\n",
    "\n",
    "- Note that `llama3` refers to the instruction finetuned 8-billion-parameter Llama 3 model\n",
    "\n",
    "- Using ollama with the `\"llama3\"` model (a 8B parameter model) requires 16 GB of RAM; if this is not supported by your machine, you can try the smaller model, such as the 3.8B parameter phi-3 model by setting `model = \"phi-3\"`, which only requires 8 GB of RAM\n",
    "\n",
    "- Alternatively, you can also use the larger 70-billion-parameter Llama 3 model, if your machine supports it, by replacing `llama3` with `llama3:70b`\n",
    "\n",
    "- After the download has been completed, you will see a command line prompt that allows you to chat with the model\n",
    "\n",
    "- Try a prompt like \"What do llamas eat?\", which should return an output similar to the following\n",
    "\n",
    "```\n",
    ">>> What do llamas eat?\n",
    "Llamas are ruminant animals, which means they have a four-chambered\n",
    "stomach and eat plants that are high in fiber. In the wild, llamas\n",
    "typically feed on:\n",
    "1. Grasses: They love to graze on various types of grasses, including tall\n",
    "grasses, wheat, oats, and barley.\n",
    "```"
   ]
  },
  {
   "cell_type": "markdown",
   "id": "7b7b341c-ba0e-40bb-a52c-cb328bbd1fe4",
   "metadata": {
    "id": "7b7b341c-ba0e-40bb-a52c-cb328bbd1fe4"
   },
   "source": [
    "- You can end this session using the input `/bye`"
   ]
  },
  {
   "cell_type": "markdown",
   "id": "faaf3e02-8ca0-4edf-be23-60625a5b14e3",
   "metadata": {
    "id": "faaf3e02-8ca0-4edf-be23-60625a5b14e3"
   },
   "source": [
    "- The following code checks whether the ollama session is running correctly before proceeding to use ollama to evaluate the test set responses we generated in the previous section"
   ]
  },
  {
   "cell_type": "code",
   "execution_count": 1,
   "id": "026e8570-071e-48a2-aa38-64d7be35f288",
   "metadata": {
    "colab": {
     "base_uri": "https://localhost:8080/",
     "height": 193
    },
    "id": "026e8570-071e-48a2-aa38-64d7be35f288",
    "outputId": "e30d3533-e1f5-4aa9-b24f-33273fc7b30e"
   },
   "outputs": [
    {
     "name": "stdout",
     "output_type": "stream",
     "text": [
      "Ollama running: True\n"
     ]
    }
   ],
   "source": [
    "import psutil\n",
    "\n",
    "# 定义一个函数check_if_running，用于检查指定名称的进程是否正在运行。\n",
    "def check_if_running(process_name):\n",
    "    \"\"\"\n",
    "    该函数用于检查指定名称的进程是否在系统中正在运行。\n",
    "    参数:\n",
    "    - process_name: 要检查的进程名称的字符串。\n",
    "    返回值:\n",
    "    - 如果找到指定名称的进程正在运行，则返回True；否则返回False。\n",
    "    \"\"\"\n",
    "    # 初始化一个变量running为False，表示默认情况下进程未在运行。\n",
    "    running = False\n",
    "    # 使用psutil库的process_iter方法来迭代系统中当前正在运行的所有进程。\n",
    "    # 传入参数[\"name\"]表示只获取每个进程的名称信息，这样可以提高遍历效率，避免获取不必要的进程详细信息。\n",
    "    for proc in psutil.process_iter([\"name\"]):\n",
    "        # 检查当前遍历到的进程的名称（通过proc.info[\"name\"]获取）中是否包含要查找的进程名称process_name。\n",
    "        if process_name in proc.info[\"name\"]:\n",
    "            # 如果包含，则说明找到了指定名称的进程正在运行，将running变量设置为True。\n",
    "            running = True\n",
    "            # 一旦找到目标进程，就不需要再继续遍历其他进程了，使用break语句跳出循环。\n",
    "            break\n",
    "    # 返回最终的结果，即表示指定进程是否正在运行的布尔值。\n",
    "    return running\n",
    "# 调用check_if_running函数来检查名为\"ollama\"的进程是否正在运行，并将结果存储在ollama_running变量中。\n",
    "ollama_running = check_if_running(\"ollama\")\n",
    "# 如果ollama_running为False，即表示名为\"ollama\"的进程未在运行，那么抛出一个运行时错误（RuntimeError）。\n",
    "# 错误信息提示用户需要先启动ollama进程，然后才能继续后续的操作。\n",
    "if not ollama_running:\n",
    "    raise RuntimeError(\"Ollama not running. Launch ollama before proceeding.\")\n",
    "# 再次调用check_if_running函数来检查名为\"ollama\"的进程是否正在运行，并打印出检查结果。\n",
    "# 这里主要是为了在确认进程启动要求满足（如果前面没有抛出错误）后，再次确认进程的运行状态并展示给用户。\n",
    "print(\"Ollama running:\", check_if_running(\"ollama\"))"
   ]
  },
  {
   "cell_type": "code",
   "execution_count": 2,
   "id": "723c9b00-e3cd-4092-83c3-6e48b5cf65b0",
   "metadata": {
    "id": "723c9b00-e3cd-4092-83c3-6e48b5cf65b0"
   },
   "outputs": [],
   "source": [
    "# 这段代码所在的单元格是可选的，它的作用是允许你重新启动笔记本（notebook），\n",
    "# 并且只运行第7.7节的内容，而无需重新运行之前的任何代码。\n",
    "import json\n",
    "from tqdm import tqdm\n",
    "# 指定要读取的JSON文件的路径，这个文件应该包含了之前处理过并保存下来的测试数据，\n",
    "# 其中可能包含了如指令（instruction）、输入（input）等相关信息，以及可能已经生成的模型响应等内容。\n",
    "file_path = \"instruction-data-with-response.json\"\n",
    "\n",
    "# 使用Python的内置函数open以只读模式（\"r\"）打开指定路径的文件，\n",
    "# 并将文件对象赋值给变量file，后续将通过这个文件对象来读取文件中的数据。\n",
    "with open(file_path, \"r\") as file:\n",
    "    # 使用json模块的load函数从打开的文件中读取JSON数据，并将其转换为Python对象（在这里应该是一个字典或列表等数据结构），\n",
    "    # 然后将读取到的数据赋值给test_data变量，以便后续对这些测试数据进行处理和操作。\n",
    "    test_data = json.load(file)\n",
    "# 定义一个函数format_input，用于对输入数据条目中的指令和输入部分进行格式化处理，\n",
    "# 生成一个适合作为模型输入的文本格式。\n",
    "def format_input(entry):\n",
    "    \"\"\"\n",
    "    该函数用于对给定的数据条目进行格式化处理，将其中的指令和输入部分按照特定格式拼接成一个完整的文本，\n",
    "    以便作为模型的输入内容。\n",
    "    参数:\n",
    "    - entry: 一个包含指令（instruction）和输入（input）等信息的字典数据条目。\n",
    "\n",
    "    返回值:\n",
    "    - 返回一个按照特定格式拼接好的文本字符串，可作为模型的输入内容。\n",
    "    \"\"\"\n",
    "    # 首先拼接指令部分的文本内容。\n",
    "    # 这里构建了一个字符串，说明下面是一个描述任务的指令，然后添加实际的指令内容，\n",
    "    # 并使用\"\\n\\n### Instruction:\\n\"作为指令部分的标题格式，将实际指令内容包裹在其中，使其格式更加清晰。\n",
    "    instruction_text = (\n",
    "        f\"Below is an instruction that describes a task. \"\n",
    "        f\"Write a response that appropriately completes the request.\"\n",
    "        f\"\\n\\n### Instruction:\\n{entry['instruction']}\"\n",
    "    )\n",
    "\n",
    "    # 接着处理输入部分的文本内容。\n",
    "    # 如果数据条目中的输入部分（entry[\"input\"]）不为空字符串，那么按照特定格式拼接输入内容，\n",
    "    # 使用\"\\n\\n### Input:\\n\"作为输入部分的标题格式，将实际输入内容包裹在其中；\n",
    "    # 如果输入部分为空字符串，那么就将input_text设置为空字符串，表示没有额外的输入内容。\n",
    "    input_text = f\"\\n\\n### Input:\\n{entry['input']}\" if entry[\"input\"] else \"\"\n",
    "\n",
    "    # 最后将格式化好的指令文本和输入文本拼接在一起，返回拼接后的完整文本内容，\n",
    "    # 这个完整文本将作为适合模型输入的格式提供给后续的模型处理等操作。\n",
    "    return instruction_text + input_text"
   ]
  },
  {
   "cell_type": "markdown",
   "id": "b3464705-d026-4594-977f-fb357e51c3a9",
   "metadata": {
    "id": "b3464705-d026-4594-977f-fb357e51c3a9"
   },
   "source": [
    "- Now, an alternative way to the `ollama run` command we used earlier to interact with the model is via its REST API in Python via the following function\n",
    "- Before you run the next cells in this notebook, make sure that ollama is still running (the previous code cells should print `\"Ollama running: True\"`)\n",
    "- Next, run the following code cell to query the model"
   ]
  },
  {
   "cell_type": "code",
   "execution_count": 3,
   "id": "e3ae0e10-2b28-42ce-8ea2-d9366a58088f",
   "metadata": {
    "id": "e3ae0e10-2b28-42ce-8ea2-d9366a58088f"
   },
   "outputs": [
    {
     "name": "stdout",
     "output_type": "stream",
     "text": [
      "Llamas are herbivores, which means they primarily feed on plant-based foods. Their diet typically consists of:\n",
      "\n",
      "1. Grasses: Llamas love to graze on various types of grasses, including tall grasses, short grasses, and even weeds.\n",
      "2. Hay: High-quality hay, such as alfalfa or timothy hay, is a staple in a llama's diet. They enjoy the sweet taste and texture of fresh hay.\n",
      "3. Grains: Llamas may receive grains like oats, barley, or corn as part of their daily ration. However, it's essential to provide these grains in moderation, as they can be high in calories.\n",
      "4. Fruits and vegetables: Llamas enjoy a variety of fruits and veggies, such as apples, carrots, sweet potatoes, and leafy greens like kale or spinach.\n",
      "5. Minerals: Llamas require access to mineral supplements, which help maintain their overall health and well-being.\n",
      "\n",
      "In the wild, llamas might also eat:\n",
      "\n",
      "1. Leaves: They'll munch on leaves from trees and shrubs, including plants like willow, alder, and birch.\n",
      "2. Bark: In some cases, llamas may eat the bark of certain trees, like aspen or cottonwood.\n",
      "3. Mosses and lichens: These non-vascular plants can be a tasty snack for llamas.\n",
      "\n",
      "In captivity, llama owners typically provide a balanced diet that includes a mix of hay, grains, and fruits/vegetables. It's essential to consult with a veterinarian or experienced llama breeder to determine the best feeding plan for your llama.\n"
     ]
    }
   ],
   "source": [
    "import urllib.request\n",
    "import json\n",
    "\n",
    "# 定义一个函数query_model，用于向指定的模型发送查询请求并获取响应内容。\n",
    "def query_model(\n",
    "    prompt,\n",
    "    model=\"llama3\",\n",
    "    url=\"http://localhost:11434/api/chat\"\n",
    "):\n",
    "    \"\"\"\n",
    "    该函数用于向指定的模型发送包含提示信息的查询请求，并获取模型返回的响应内容。\n",
    "\n",
    "    参数:\n",
    "    - prompt: 要发送给模型的提示文本，即用户输入的问题或指令等内容。\n",
    "    - model: 要查询的模型名称，默认为\"llama3\"，可根据实际情况进行修改。\n",
    "    - url: 发送请求的目标URL地址，默认为\"http://localhost:11434/api/chat\"，指向模型的API接口地址，可根据模型部署的实际情况调整。\n",
    "\n",
    "    返回值:\n",
    "    - 返回从模型获取到的响应内容，以字符串形式呈现。\n",
    "    \"\"\"\n",
    "    # 创建一个字典作为数据负载（payload），用于构建要发送给模型的请求数据。\n",
    "    data = {\n",
    "        # 指定要查询的模型名称。\n",
    "        \"model\": model,\n",
    "        # 设置消息列表，其中包含一条用户发送的消息。\n",
    "        # 消息的角色为\"user\"，表示是用户发出的内容，内容就是传入的提示文本prompt。\n",
    "        \"messages\": [\n",
    "            {\"role\": \"user\", \"content\": prompt}\n",
    "        ],\n",
    "        \"options\": {\n",
    "            # 以下设置是为了获取确定性的响应，即在相同的输入条件下能得到相同的输出结果。\n",
    "\n",
    "            # 设置随机种子为123，这样在模型生成响应的过程中，如果涉及到随机因素，会基于这个种子产生固定的随机序列，从而得到确定的响应。\n",
    "            \"seed\": 123,\n",
    "            # 设置温度参数为0，温度参数控制着模型生成响应时的随机性。\n",
    "            # 当温度为0时，模型会选择概率最高的输出作为响应，生成的结果相对比较确定，随机性较低。\n",
    "            \"temperature\": 0,\n",
    "            # 设置上下文长度为2048，表示模型在生成响应时能够考虑的之前的文本序列的最大长度为2048个单位（如字符、单词等）。\n",
    "            \"num_ctx\": 2048\n",
    "        }\n",
    "    }\n",
    "    # 将字典形式的数据转换为JSON格式的字符串，并将其编码为字节流，以便通过网络请求发送给模型。\n",
    "    payload = json.dumps(data).encode(\"utf-8\")\n",
    "\n",
    "    # 创建一个urllib.request.Request对象，用于构建发送给模型的HTTP请求。\n",
    "    request = urllib.request.Request(\n",
    "        url,\n",
    "        data=payload,\n",
    "        method=\"POST\"\n",
    "    )\n",
    "    request.add_header(\"Content-Type\", \"application/json\")\n",
    "    # 发送请求并捕获响应内容。\n",
    "    # 初始化一个空字符串，用于存储从模型获取到的响应数据。\n",
    "    response_data = \"\"\n",
    "    with urllib.request.urlopen(request) as response:\n",
    "        # 循环读取响应内容，每次读取一行并进行解码处理，直到读取到空行为止，表示响应内容读取完毕。\n",
    "        while True:\n",
    "            line = response.readline().decode(\"utf-8\")\n",
    "            if not line:\n",
    "                break\n",
    "            response_json = json.loads(line)\n",
    "            response_data += response_json[\"message\"][\"content\"]\n",
    "    return response_data\n",
    "# 指定要查询的模型名称为\"llama3\"。\n",
    "model = \"llama3\"\n",
    "# 调用query_model函数，向指定模型发送查询请求，询问\"What do Llamas eat?\"，并获取模型的响应结果。\n",
    "result = query_model(\"What do Llamas eat?\", model)\n",
    "# 打印出模型返回的响应内容，以便查看模型对该问题的回答。\n",
    "print(result)"
   ]
  },
  {
   "cell_type": "markdown",
   "id": "207ae28f-0f8c-4fda-aeef-e7e3046249cc",
   "metadata": {
    "id": "207ae28f-0f8c-4fda-aeef-e7e3046249cc"
   },
   "source": [
    "- Now, using the `query_model` function we defined above, we can evaluate the responses of our finetuned model; let's try it out on the first 3 test set responses we looked at in a previous section"
   ]
  },
  {
   "cell_type": "code",
   "execution_count": 4,
   "id": "86b839d4-064d-4178-b2d7-01691b452e5e",
   "metadata": {
    "id": "86b839d4-064d-4178-b2d7-01691b452e5e"
   },
   "outputs": [
    {
     "name": "stdout",
     "output_type": "stream",
     "text": [
      "\n",
      "Dataset response:\n",
      ">> The car is as fast as lightning.\n",
      "\n",
      "Model response:\n",
      ">> The car is as fast as a bullet.\n",
      "\n",
      "Score:\n",
      ">> I'd rate the model response \"The car is as fast as a bullet.\" an 85 out of 100.\n",
      "\n",
      "Here's why:\n",
      "\n",
      "* The response uses a simile correctly, comparing the speed of the car to something else (in this case, a bullet).\n",
      "* The comparison is relevant and makes sense, as bullets are known for their high velocity.\n",
      "* The phrase \"as fast as\" is used correctly to introduce the simile.\n",
      "\n",
      "The only reason I wouldn't give it a perfect score is that some people might find the comparison slightly less vivid or evocative than others. For example, comparing something to lightning (as in the original response) can be more dramatic and attention-grabbing. However, \"as fast as a bullet\" is still a strong and effective simile that effectively conveys the idea of the car's speed.\n",
      "\n",
      "Overall, I think the model did a great job!\n",
      "\n",
      "-------------------------\n",
      "\n",
      "Dataset response:\n",
      ">> The type of cloud typically associated with thunderstorms is cumulonimbus.\n",
      "\n",
      "Model response:\n",
      ">> The type of cloud associated with thunderstorms is a cumulus cloud.\n",
      "\n",
      "Score:\n",
      ">> I'd score this model response as 40 out of 100.\n",
      "\n",
      "Here's why:\n",
      "\n",
      "* The model correctly identifies that thunderstorms are related to clouds (correctly identifying the type of phenomenon).\n",
      "* However, it incorrectly specifies the type of cloud associated with thunderstorms. Cumulus clouds are not typically associated with thunderstorms; cumulonimbus clouds are.\n",
      "* The response lacks precision and accuracy in its description.\n",
      "\n",
      "Overall, while the model attempts to address the instruction, it provides an incorrect answer, which is a significant error.\n",
      "\n",
      "-------------------------\n",
      "\n",
      "Dataset response:\n",
      ">> Jane Austen.\n",
      "\n",
      "Model response:\n",
      ">> The author of 'Pride and Prejudice' is Jane Austen.\n",
      "\n",
      "Score:\n",
      ">> I'd rate my own response as 95 out of 100. Here's why:\n",
      "\n",
      "* The response accurately answers the question by naming the author of 'Pride and Prejudice' as Jane Austen.\n",
      "* The response is concise and clear, making it easy to understand.\n",
      "* There are no grammatical errors or ambiguities that could lead to confusion.\n",
      "\n",
      "The only reason I wouldn't give myself a perfect score is that the response is slightly redundant - it's not necessary to rephrase the question in the answer. A more concise response would be simply \"Jane Austen.\"\n",
      "\n",
      "-------------------------\n"
     ]
    }
   ],
   "source": [
    "# 遍历测试数据中的前三个数据条目（通过切片test_data[:3]获取）。\n",
    "for entry in test_data[:3]:\n",
    "    # 构建一个提示文本prompt，用于向模型发送查询请求，让模型根据给定的输入、正确输出以及模型自身生成的响应来进行评分。\n",
    "    # 提示文本的内容是要求模型在0到100的范围内，对模型响应进行评分，其中100表示最佳分数。\n",
    "    # 这里通过格式化字符串的方式，将当前数据条目经过format_input函数处理后的输入内容、正确输出以及模型生成的响应都包含在提示文本中。\n",
    "    prompt = (\n",
    "        f\"Given the input `{format_input(entry)}` \"\n",
    "        f\"and correct output `{entry['output']}`, \"\n",
    "        f\"score the model response `{entry['model_response']}`\"\n",
    "        f\" on a scale from 0 to 100, where 100 is the best score. \"\n",
    "    )\n",
    "    # 打印出当前数据条目的正确输出内容，作为参考信息展示给用户，方便用户对比模型的评分结果与实际的正确输出。\n",
    "    print(\"\\nDataset response:\")\n",
    "    print(\">>\", entry['output'])\n",
    "    # 打印出当前数据条目的模型生成的响应内容，同样作为参考信息展示给用户，以便用户了解模型针对该输入所生成的具体响应情况。\n",
    "    print(\"\\nModel response:\")\n",
    "    print(\">>\", entry[\"model_response\"])\n",
    "    # 打印出提示信息，表示接下来要展示的是模型对该模型响应的评分结果。\n",
    "    print(\"\\nScore:\")\n",
    "    # 调用query_model函数，向模型发送构建好的提示文本prompt，获取模型返回的评分结果，并将其打印出来展示给用户。\n",
    "    print(\">>\", query_model(prompt))\n",
    "    # 打印一条分隔线，用于在每个数据条目的相关信息（正确输出、模型响应、评分结果）展示之间进行分隔，使输出结果更加清晰易读。\n",
    "    print(\"\\n-------------------------\")"
   ]
  },
  {
   "cell_type": "markdown",
   "id": "b114fd65-9cfb-45f6-ab74-8331da136bf3",
   "metadata": {
    "id": "b114fd65-9cfb-45f6-ab74-8331da136bf3"
   },
   "source": [
    "- As we can see, the Llama 3 model provides a reasonable evaluation and also gives partial points if a model is not entirely correct, as we can see based on the \"cumulus cloud\" answer\n",
    "- Note that the previous prompt returns very verbose evaluations; we can tweak the prompt to generate integer responses in the range between 0 and 100 (where 100 is best) to calculate an average score for our model\n",
    "- The evaluation of the 110 entries in the test set takes about 1 minute on an M3 MacBook Air laptop"
   ]
  },
  {
   "cell_type": "code",
   "execution_count": 5,
   "id": "9d7bca69-97c4-47a5-9aa0-32f116fa37eb",
   "metadata": {
    "id": "9d7bca69-97c4-47a5-9aa0-32f116fa37eb"
   },
   "outputs": [
    {
     "name": "stderr",
     "output_type": "stream",
     "text": [
      "Scoring entries: 100%|████████████████████████| 110/110 [01:10<00:00,  1.57it/s]"
     ]
    },
    {
     "name": "stdout",
     "output_type": "stream",
     "text": [
      "Number of scores: 110 of 110\n",
      "Average score: 50.32\n"
     ]
    },
    {
     "name": "stderr",
     "output_type": "stream",
     "text": [
      "\n"
     ]
    }
   ],
   "source": [
    "import tqdm\n",
    "# 定义一个函数generate_model_scores，用于根据给定的JSON数据和指定的键，让模型对每个数据条目的模型响应进行评分，并返回所有评分结果的列表。\n",
    "def generate_model_scores(json_data, json_key, model=\"llama3\"):\n",
    "    \"\"\"\n",
    "    该函数用于遍历给定的JSON数据中的每个条目，让指定模型对每个条目的模型响应进行评分，\n",
    "    并将评分结果（转换为整数类型）收集到一个列表中返回。\n",
    "    参数:\n",
    "    - json_data: 包含多个数据条目的JSON数据，通常是一个字典或列表的形式，每个条目可能包含输入、输出、模型响应等信息。\n",
    "    - json_key: 用于在每个数据条目中获取模型响应的键名，通过该键可以从数据条目中提取出要让模型进行评分的模型响应内容。\n",
    "    - model: 要用于评分的模型名称，默认为\"llama3\"，可根据实际情况进行调整。\n",
    "    返回值:\n",
    "    - 返回一个包含所有数据条目的模型响应评分结果的整数列表。\n",
    "    \"\"\"\n",
    "    scores = []\n",
    "    # 使用tqdm库来为遍历json_data的循环添加进度条显示，方便查看处理进度，\n",
    "    # desc=\"Scoring entries\"用于设置进度条的描述信息，显示当前正在进行的是对数据条目的评分操作。\n",
    "    for entry in tqdm(json_data, desc=\"Scoring entries\"):\n",
    "        # 构建一个提示文本prompt，用于向模型发送查询请求，让模型根据给定的输入、正确输出以及当前条目的模型响应来进行评分。\n",
    "\n",
    "        # 提示文本要求模型在0到100的范围内对模型响应进行评分，其中100表示最佳分数，并且要求模型只返回整数形式的评分结果。\n",
    "        # 通过格式化字符串的方式，将当前数据条目经过format_input函数处理后的输入内容、正确输出以及通过json_key获取到的模型响应都包含在提示文本中。\n",
    "        prompt = (\n",
    "            f\"Given the input `{format_input(entry)}` \"\n",
    "            f\"and correct output `{entry['output']}`, \"\n",
    "            f\"score the model response `{entry[json_key]}`\"\n",
    "            f\" on a scale from 0 to 100, where 100 is the best  score. \"\n",
    "            f\"Respond with the integer number only.\"\n",
    "        )\n",
    "        # 调用query_model函数，向指定模型发送构建好的提示文本prompt，获取模型返回的评分结果。\n",
    "        score = query_model(prompt, model)\n",
    "        try:\n",
    "            # 尝试将模型返回的评分结果转换为整数类型，并将其添加到scores列表中，用于收集所有条目的评分结果。\n",
    "            scores.append(int(score))\n",
    "        except ValueError:\n",
    "            # 如果在转换过程中出现值错误（例如模型返回的不是有效的整数形式的评分结果），\n",
    "            # 则打印出无法转换的评分结果信息，并使用continue语句跳过当前循环，继续处理下一个数据条目。\n",
    "            print(f\"Could not convert score: {score}\")\n",
    "            continue\n",
    "    return scores\n",
    "# 调用generate_model_scores函数，传入测试数据test_data和用于获取模型响应的键名\"model_response\"，\n",
    "# 让模型对测试数据中每个条目的模型响应进行评分，并将评分结果存储在scores变量中。\n",
    "scores = generate_model_scores(test_data, \"model_response\")\n",
    "\n",
    "# 打印出获取到的评分结果的数量信息，展示已成功评分的条目数量与测试数据总条目数量的对比情况。\n",
    "print(f\"Number of scores: {len(scores)} of {len(test_data)}\")\n",
    "\n",
    "# 计算并打印出评分结果的平均值，保留两位小数，以便直观了解模型响应在所有测试数据上的平均得分情况。\n",
    "print(f\"Average score: {sum(scores)/len(scores):.2f}\\n\")"
   ]
  },
  {
   "cell_type": "markdown",
   "id": "407f08d5-9ada-4301-9ebc-f0533c76d3f2",
   "metadata": {
    "id": "407f08d5-9ada-4301-9ebc-f0533c76d3f2"
   },
   "source": [
    "- Our model achieves an average score of above 50, which we can use as a reference point to compare the model to other models or to try out other training settings that may improve the model\n",
    "- Note that ollama is not fully deterministic across operating systems (as of this writing), so the numbers you are getting might slightly differ from the ones shown above"
   ]
  },
  {
   "cell_type": "markdown",
   "id": "6408768b-2784-44f1-b48e-aed0c1eb9b94",
   "metadata": {
    "id": "6408768b-2784-44f1-b48e-aed0c1eb9b94"
   },
   "source": [
    "- For reference, the original\n",
    "  - Llama 3 8B base model achieves a score of 58.51\n",
    "  - Llama 3 8B instruct model achieves a score of 82.65"
   ]
  },
  {
   "cell_type": "markdown",
   "id": "412d7325-284a-446c-92a1-5aa8acc52dee",
   "metadata": {
    "id": "412d7325-284a-446c-92a1-5aa8acc52dee"
   },
   "source": [
    "## 7.9 Conclusions"
   ]
  },
  {
   "cell_type": "markdown",
   "id": "tIbNMluCDjVM",
   "metadata": {
    "id": "tIbNMluCDjVM"
   },
   "source": [
    "### 7.9.1 What's next\n",
    "\n",
    "- This marks the final chapter of this book\n",
    "- We covered the major steps of the LLM development cycle: implementing an LLM architecture, pretraining an LLM, and finetuning it\n",
    "\n",
    "<img src=\"https://sebastianraschka.com/images/LLMs-from-scratch-images/ch07_compressed/final-overview.webp?1\" width=500px>\n",
    "\n",
    "- An optional step that is sometimes followed after instruction finetuning, as described in this chapter, is preference finetuning\n",
    "- Preference finetuning process can be particularly useful for customizing a model to better align with specific user preferences; see the [../04_preference-tuning-with-dpo](../04_preference-tuning-with-dpo) folder if you are interested in this\n",
    "\n",
    "- This GitHub repository also contains a large selection of additional bonus material you may enjoy; for more information, please see the [Bonus Material](https://github.com/rasbt/LLMs-from-scratch?tab=readme-ov-file#bonus-material) section on this repository's README page\n",
    "\n",
    "### 7.9.2 Staying up to date in a fast-moving field\n",
    "\n",
    "- No code in this section\n",
    "\n",
    "### 7.9.3 Final words\n",
    "\n",
    "- I hope you enjoyed this journey of implementing an LLM from the ground up and coding the pretraining and finetuning functions\n",
    "- In my opinion, implementing an LLM from scratch is the best way to understand how LLMs work; I hope you gained a better understanding through this approach\n",
    "- While this book serves educational purposes, you may be interested in using different and more powerful LLMs for real-world applications\n",
    "  - For this, you may consider popular tools such as axolotl ([https://github.com/OpenAccess-AI-Collective/axolotl](https://github.com/OpenAccess-AI-Collective/axolotl)) or LitGPT ([https://github.com/Lightning-AI/litgpt](https://github.com/Lightning-AI/litgpt)), which I help developing"
   ]
  },
  {
   "cell_type": "markdown",
   "id": "f9853e7f-a81a-4806-9728-be1690807185",
   "metadata": {
    "id": "f9853e7f-a81a-4806-9728-be1690807185"
   },
   "source": [
    "## Summary and takeaways\n",
    "\n",
    "- See the [./gpt_instruction_finetuning.py](./gpt_instruction_finetuning.py) script, a self-contained script for classification finetuning\n",
    "- [./ollama_evaluate.py](./ollama_evaluate.py) is a standalone script based on section 7.8 that evaluates a JSON file containing \"output\" and \"response\" keys via Ollama and Llama 3\n",
    "- The [./load-finetuned-model.ipynb](./load-finetuned-model.ipynb) notebook illustrates how to load the finetuned model in a new session\n",
    "- You can find the exercise solutions in [./exercise-solutions.ipynb](./exercise-solutions.ipynb)"
   ]
  }
 ],
 "metadata": {
  "accelerator": "GPU",
  "colab": {
   "gpuType": "A100",
   "provenance": []
  },
  "kernelspec": {
   "display_name": "Python 3 (ipykernel)",
   "language": "python",
   "name": "python3"
  },
  "language_info": {
   "codemirror_mode": {
    "name": "ipython",
    "version": 3
   },
   "file_extension": ".py",
   "mimetype": "text/x-python",
   "name": "python",
   "nbconvert_exporter": "python",
   "pygments_lexer": "ipython3",
   "version": "3.11.4"
  }
 },
 "nbformat": 4,
 "nbformat_minor": 5
}
